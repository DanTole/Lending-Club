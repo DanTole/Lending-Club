{
 "cells": [
  {
   "cell_type": "code",
   "execution_count": 326,
   "metadata": {},
   "outputs": [],
   "source": [
    "import pandas as pd\n",
    "import numpy as np\n",
    "import datetime\n",
    "import time\n",
    "from matplotlib import pyplot\n"
   ]
  },
  {
   "cell_type": "code",
   "execution_count": 275,
   "metadata": {},
   "outputs": [],
   "source": [
    "from sklearn.model_selection import GridSearchCV\n",
    "from sklearn import linear_model\n",
    "from sklearn.ensemble import RandomForestRegressor\n",
    "from sklearn.metrics import accuracy_score, classification_report, roc_auc_score, roc_curve, brier_score_loss, mean_squared_error, r2_score"
   ]
  },
  {
   "cell_type": "code",
   "execution_count": 174,
   "metadata": {},
   "outputs": [],
   "source": [
    "#read in the pre-processed training and test set from Dmitri's notebook\n",
    "X_train = pd.read_csv(\"data/X_train_random_1592271085.csv\")\n",
    "Y_train = pd.read_csv(\"data/Y_train_random_1592271085.csv\")\n",
    "X_test = pd.read_csv(\"data/X_test_random_1592271085.csv\")\n",
    "Y_test = pd.read_csv(\"data/Y_test_random_1592271085.csv\")"
   ]
  },
  {
   "cell_type": "code",
   "execution_count": 175,
   "metadata": {},
   "outputs": [],
   "source": [
    "assert((X_train.shape[0] == Y_train.shape[0]) & (X_test.shape[0] == Y_test.shape[0]))"
   ]
  },
  {
   "cell_type": "code",
   "execution_count": 176,
   "metadata": {},
   "outputs": [
    {
     "name": "stdout",
     "output_type": "stream",
     "text": [
      "Dim of X_train: (1076080, 87)\n",
      "Dim of Y_train: (1076080, 2)\n",
      "\n",
      "\n",
      "Dim of X_test: (269020, 87)\n",
      "Dim of Y_test: (269020, 2)\n"
     ]
    }
   ],
   "source": [
    "print(f'Dim of X_train: {X_train.shape}')\n",
    "print(f'Dim of Y_train: {Y_train.shape}')\n",
    "print(\"\\n\")\n",
    "print(f'Dim of X_test: {X_test.shape}')\n",
    "print(f'Dim of Y_test: {Y_test.shape}')"
   ]
  },
  {
   "cell_type": "code",
   "execution_count": 177,
   "metadata": {},
   "outputs": [
    {
     "name": "stdout",
     "output_type": "stream",
     "text": [
      "Train-test split: [0.8,0.2]\n"
     ]
    }
   ],
   "source": [
    "print(f'Train-test split: [{X_train.shape[0]/(X_train.shape[0] + X_test.shape[0])},\\\n",
    "{X_test.shape[0]/(X_train.shape[0] + X_test.shape[0])}]')"
   ]
  },
  {
   "cell_type": "code",
   "execution_count": 178,
   "metadata": {},
   "outputs": [
    {
     "data": {
      "text/plain": [
       "Index(['id', 'application_type', 'grade', 'sub_grade', 'term',\n",
       "       'initial_list_status', 'emp_length', 'verification_status', '_has_desc',\n",
       "       'loan_amnt', 'int_rate', 'installment', 'annual_inc', 'fico_range_low',\n",
       "       'delinq_2yrs', 'dti', 'open_acc', 'pub_rec', 'revol_bal', 'revol_util',\n",
       "       '_credit_hist', 'purpose_credit_card', 'purpose_debt_consolidation',\n",
       "       'purpose_educational', 'purpose_home_improvement', 'purpose_house',\n",
       "       'purpose_major_purchase', 'purpose_medical', 'purpose_moving',\n",
       "       'purpose_other', 'purpose_renewable_energy', 'purpose_small_business',\n",
       "       'purpose_vacation', 'purpose_wedding', 'addr_state_AL', 'addr_state_AR',\n",
       "       'addr_state_AZ', 'addr_state_CA', 'addr_state_CO', 'addr_state_CT',\n",
       "       'addr_state_DC', 'addr_state_DE', 'addr_state_FL', 'addr_state_GA',\n",
       "       'addr_state_HI', 'addr_state_IA', 'addr_state_ID', 'addr_state_IL',\n",
       "       'addr_state_IN', 'addr_state_KS', 'addr_state_KY', 'addr_state_LA',\n",
       "       'addr_state_MA', 'addr_state_MD', 'addr_state_ME', 'addr_state_MI',\n",
       "       'addr_state_MN', 'addr_state_MO', 'addr_state_MS', 'addr_state_MT',\n",
       "       'addr_state_NC', 'addr_state_ND', 'addr_state_NE', 'addr_state_NH',\n",
       "       'addr_state_NJ', 'addr_state_NM', 'addr_state_NV', 'addr_state_NY',\n",
       "       'addr_state_OH', 'addr_state_OK', 'addr_state_OR', 'addr_state_PA',\n",
       "       'addr_state_RI', 'addr_state_SC', 'addr_state_SD', 'addr_state_TN',\n",
       "       'addr_state_TX', 'addr_state_UT', 'addr_state_VA', 'addr_state_VT',\n",
       "       'addr_state_WA', 'addr_state_WI', 'addr_state_WV', 'addr_state_WY',\n",
       "       'home_ownership_OTHER', 'home_ownership_OWN', 'home_ownership_RENT'],\n",
       "      dtype='object')"
      ]
     },
     "execution_count": 178,
     "metadata": {},
     "output_type": "execute_result"
    }
   ],
   "source": [
    "X_train.columns"
   ]
  },
  {
   "cell_type": "code",
   "execution_count": 184,
   "metadata": {},
   "outputs": [
    {
     "data": {
      "text/html": [
       "<div>\n",
       "<style scoped>\n",
       "    .dataframe tbody tr th:only-of-type {\n",
       "        vertical-align: middle;\n",
       "    }\n",
       "\n",
       "    .dataframe tbody tr th {\n",
       "        vertical-align: top;\n",
       "    }\n",
       "\n",
       "    .dataframe thead th {\n",
       "        text-align: right;\n",
       "    }\n",
       "</style>\n",
       "<table border=\"1\" class=\"dataframe\">\n",
       "  <thead>\n",
       "    <tr style=\"text-align: right;\">\n",
       "      <th></th>\n",
       "      <th>id</th>\n",
       "      <th>application_type</th>\n",
       "      <th>grade</th>\n",
       "      <th>sub_grade</th>\n",
       "      <th>term</th>\n",
       "      <th>initial_list_status</th>\n",
       "      <th>emp_length</th>\n",
       "      <th>verification_status</th>\n",
       "      <th>_has_desc</th>\n",
       "      <th>loan_amnt</th>\n",
       "      <th>...</th>\n",
       "      <th>addr_state_UT</th>\n",
       "      <th>addr_state_VA</th>\n",
       "      <th>addr_state_VT</th>\n",
       "      <th>addr_state_WA</th>\n",
       "      <th>addr_state_WI</th>\n",
       "      <th>addr_state_WV</th>\n",
       "      <th>addr_state_WY</th>\n",
       "      <th>home_ownership_OTHER</th>\n",
       "      <th>home_ownership_OWN</th>\n",
       "      <th>home_ownership_RENT</th>\n",
       "    </tr>\n",
       "  </thead>\n",
       "  <tbody>\n",
       "    <tr>\n",
       "      <th>0</th>\n",
       "      <td>69863328</td>\n",
       "      <td>0</td>\n",
       "      <td>3</td>\n",
       "      <td>12</td>\n",
       "      <td>1</td>\n",
       "      <td>0</td>\n",
       "      <td>10</td>\n",
       "      <td>0</td>\n",
       "      <td>0</td>\n",
       "      <td>21200.0</td>\n",
       "      <td>...</td>\n",
       "      <td>0</td>\n",
       "      <td>0</td>\n",
       "      <td>0</td>\n",
       "      <td>0</td>\n",
       "      <td>0</td>\n",
       "      <td>0</td>\n",
       "      <td>0</td>\n",
       "      <td>0</td>\n",
       "      <td>0</td>\n",
       "      <td>0</td>\n",
       "    </tr>\n",
       "    <tr>\n",
       "      <th>1</th>\n",
       "      <td>65875191</td>\n",
       "      <td>0</td>\n",
       "      <td>3</td>\n",
       "      <td>14</td>\n",
       "      <td>0</td>\n",
       "      <td>0</td>\n",
       "      <td>9</td>\n",
       "      <td>2</td>\n",
       "      <td>0</td>\n",
       "      <td>6000.0</td>\n",
       "      <td>...</td>\n",
       "      <td>0</td>\n",
       "      <td>0</td>\n",
       "      <td>0</td>\n",
       "      <td>1</td>\n",
       "      <td>0</td>\n",
       "      <td>0</td>\n",
       "      <td>0</td>\n",
       "      <td>0</td>\n",
       "      <td>0</td>\n",
       "      <td>0</td>\n",
       "    </tr>\n",
       "  </tbody>\n",
       "</table>\n",
       "<p>2 rows × 87 columns</p>\n",
       "</div>"
      ],
      "text/plain": [
       "         id  application_type  grade  sub_grade  term  initial_list_status  \\\n",
       "0  69863328                 0      3         12     1                    0   \n",
       "1  65875191                 0      3         14     0                    0   \n",
       "\n",
       "   emp_length  verification_status  _has_desc  loan_amnt         ...           \\\n",
       "0          10                    0          0    21200.0         ...            \n",
       "1           9                    2          0     6000.0         ...            \n",
       "\n",
       "   addr_state_UT  addr_state_VA  addr_state_VT  addr_state_WA  addr_state_WI  \\\n",
       "0              0              0              0              0              0   \n",
       "1              0              0              0              1              0   \n",
       "\n",
       "   addr_state_WV  addr_state_WY  home_ownership_OTHER  home_ownership_OWN  \\\n",
       "0              0              0                     0                   0   \n",
       "1              0              0                     0                   0   \n",
       "\n",
       "   home_ownership_RENT  \n",
       "0                    0  \n",
       "1                    0  \n",
       "\n",
       "[2 rows x 87 columns]"
      ]
     },
     "execution_count": 184,
     "metadata": {},
     "output_type": "execute_result"
    }
   ],
   "source": [
    "X_train.head(2)"
   ]
  },
  {
   "cell_type": "code",
   "execution_count": 187,
   "metadata": {},
   "outputs": [
    {
     "data": {
      "text/plain": [
       "1.0"
      ]
     },
     "execution_count": 187,
     "metadata": {},
     "output_type": "execute_result"
    }
   ],
   "source": [
    "np.mean(Y_train.id == X_train.id)"
   ]
  },
  {
   "cell_type": "code",
   "execution_count": 188,
   "metadata": {},
   "outputs": [
    {
     "data": {
      "text/plain": [
       "1.0"
      ]
     },
     "execution_count": 188,
     "metadata": {},
     "output_type": "execute_result"
    }
   ],
   "source": [
    "np.mean(Y_test.id == X_test.id)"
   ]
  },
  {
   "cell_type": "code",
   "execution_count": 115,
   "metadata": {},
   "outputs": [
    {
     "name": "stderr",
     "output_type": "stream",
     "text": [
      "/Users/rknatuahene/anaconda3/lib/python3.7/site-packages/IPython/core/interactiveshell.py:3020: DtypeWarning: Columns (0,19,49,59,118,129,130,131,134,135,136,139,145,146,147) have mixed types. Specify dtype option on import or set low_memory=False.\n",
      "  interactivity=interactivity, compiler=compiler, result=result)\n"
     ]
    }
   ],
   "source": [
    "##we need to get fields needed for return calculations.\n",
    "LC_df = pd.read_csv(\"data/accepted_2007_to_2018Q4.csv\")"
   ]
  },
  {
   "cell_type": "code",
   "execution_count": 116,
   "metadata": {},
   "outputs": [],
   "source": [
    "ret_df = LC_df[[\"id\", \"issue_d\",\"last_pymnt_d\", \"total_pymnt\", \"term\", \"funded_amnt\", \"recoveries\"]].copy()"
   ]
  },
  {
   "cell_type": "code",
   "execution_count": 117,
   "metadata": {},
   "outputs": [],
   "source": [
    "del LC_df ##free me some space\n"
   ]
  },
  {
   "cell_type": "code",
   "execution_count": 118,
   "metadata": {},
   "outputs": [
    {
     "data": {
      "text/plain": [
       " 36 months    1609754\n",
       " 60 months     650914\n",
       "NaN                33\n",
       "Name: term, dtype: int64"
      ]
     },
     "execution_count": 118,
     "metadata": {},
     "output_type": "execute_result"
    }
   ],
   "source": [
    "ret_df.term.value_counts(dropna=False)"
   ]
  },
  {
   "cell_type": "code",
   "execution_count": 119,
   "metadata": {},
   "outputs": [],
   "source": [
    "ret_df.dropna(subset=[\"id\", \"issue_d\",\"last_pymnt_d\", \"total_pymnt\", \"term\", \"funded_amnt\"], inplace=True)"
   ]
  },
  {
   "cell_type": "code",
   "execution_count": 120,
   "metadata": {},
   "outputs": [
    {
     "data": {
      "text/plain": [
       "36    1607966\n",
       "60     650275\n",
       "Name: term, dtype: int64"
      ]
     },
     "execution_count": 120,
     "metadata": {},
     "output_type": "execute_result"
    }
   ],
   "source": [
    "#convert term field to integer months\n",
    "ret_df['term'] = ret_df['term'].apply(lambda t: np.int8(t.split()[0]))\n",
    "ret_df.term.value_counts()\n"
   ]
  },
  {
   "cell_type": "code",
   "execution_count": 121,
   "metadata": {},
   "outputs": [
    {
     "data": {
      "text/html": [
       "<div>\n",
       "<style scoped>\n",
       "    .dataframe tbody tr th:only-of-type {\n",
       "        vertical-align: middle;\n",
       "    }\n",
       "\n",
       "    .dataframe tbody tr th {\n",
       "        vertical-align: top;\n",
       "    }\n",
       "\n",
       "    .dataframe thead th {\n",
       "        text-align: right;\n",
       "    }\n",
       "</style>\n",
       "<table border=\"1\" class=\"dataframe\">\n",
       "  <thead>\n",
       "    <tr style=\"text-align: right;\">\n",
       "      <th></th>\n",
       "      <th>count</th>\n",
       "      <th>mean</th>\n",
       "      <th>std</th>\n",
       "      <th>min</th>\n",
       "      <th>25%</th>\n",
       "      <th>50%</th>\n",
       "      <th>75%</th>\n",
       "      <th>max</th>\n",
       "    </tr>\n",
       "  </thead>\n",
       "  <tbody>\n",
       "    <tr>\n",
       "      <th>total_pymnt</th>\n",
       "      <td>2258241.0</td>\n",
       "      <td>12094.073850</td>\n",
       "      <td>9900.144164</td>\n",
       "      <td>10.0</td>\n",
       "      <td>4560.85</td>\n",
       "      <td>9343.69</td>\n",
       "      <td>16951.677553</td>\n",
       "      <td>63296.877917</td>\n",
       "    </tr>\n",
       "    <tr>\n",
       "      <th>funded_amnt</th>\n",
       "      <td>2258241.0</td>\n",
       "      <td>15041.772723</td>\n",
       "      <td>9186.916012</td>\n",
       "      <td>500.0</td>\n",
       "      <td>8000.00</td>\n",
       "      <td>12875.00</td>\n",
       "      <td>20000.000000</td>\n",
       "      <td>40000.000000</td>\n",
       "    </tr>\n",
       "    <tr>\n",
       "      <th>recoveries</th>\n",
       "      <td>2258241.0</td>\n",
       "      <td>142.565584</td>\n",
       "      <td>743.233625</td>\n",
       "      <td>0.0</td>\n",
       "      <td>0.00</td>\n",
       "      <td>0.00</td>\n",
       "      <td>0.000000</td>\n",
       "      <td>39859.550000</td>\n",
       "    </tr>\n",
       "  </tbody>\n",
       "</table>\n",
       "</div>"
      ],
      "text/plain": [
       "                 count          mean          std    min      25%       50%  \\\n",
       "total_pymnt  2258241.0  12094.073850  9900.144164   10.0  4560.85   9343.69   \n",
       "funded_amnt  2258241.0  15041.772723  9186.916012  500.0  8000.00  12875.00   \n",
       "recoveries   2258241.0    142.565584   743.233625    0.0     0.00      0.00   \n",
       "\n",
       "                      75%           max  \n",
       "total_pymnt  16951.677553  63296.877917  \n",
       "funded_amnt  20000.000000  40000.000000  \n",
       "recoveries       0.000000  39859.550000  "
      ]
     },
     "execution_count": 121,
     "metadata": {},
     "output_type": "execute_result"
    }
   ],
   "source": [
    "ret_df[[\"total_pymnt\", \"funded_amnt\", \"recoveries\"]].describe().T"
   ]
  },
  {
   "cell_type": "code",
   "execution_count": 122,
   "metadata": {},
   "outputs": [],
   "source": [
    "#convert issue_d and last_pymnt_d into datetime\n",
    "ret_df['issue_d'] = ret_df['issue_d'].apply(lambda dt: datetime.datetime.strptime( dt, \"%b-%Y\").date())\n",
    "ret_df['last_pymnt_d'] = ret_df['last_pymnt_d'].apply(lambda dt: datetime.datetime.strptime( dt, \"%b-%Y\").date())"
   ]
  },
  {
   "cell_type": "code",
   "execution_count": 123,
   "metadata": {},
   "outputs": [],
   "source": [
    "#calculate the realized term of the loan in months. \n",
    "ret_df['realized_loan_term_mths'] = round((ret_df['last_pymnt_d'] - ret_df['issue_d'])/np.timedelta64(1, 'M'))"
   ]
  },
  {
   "cell_type": "code",
   "execution_count": 124,
   "metadata": {},
   "outputs": [
    {
     "data": {
      "text/plain": [
       "0.9240351229120364"
      ]
     },
     "execution_count": 124,
     "metadata": {},
     "output_type": "execute_result"
    }
   ],
   "source": [
    "#where realized_loan_term_mths != term means default or pre-payment\n",
    "np.sum(ret_df.realized_loan_term_mths != ret_df.term)/ret_df.shape[0]"
   ]
  },
  {
   "cell_type": "code",
   "execution_count": 125,
   "metadata": {},
   "outputs": [],
   "source": [
    "#remove rows where realized_loan_term_mths = 0\n",
    "ret_df = ret_df[ret_df.realized_loan_term_mths > 0]"
   ]
  },
  {
   "attachments": {
    "image.png": {
     "image/png": "[encoded data removed]"
    }
   },
   "cell_type": "markdown",
   "metadata": {},
   "source": [
    "Function calc_return(....)\n",
    "\n",
    "    calculate the effective(realized) annualized return on the funded amount of a loan\n",
    "    assumption 1: monthly cash flow can be invested at a monthly rate of return rr\n",
    "    This assumption allows us to simplify the return calculation to a sum of a geometric series\n",
    "    with cash payments of: m, m(1+rr), m(1+rr)^2, m(1+rr)^3, ...,m(1+rr)^(last_pymnt_d -1) at the \n",
    "    end of months: 0,1,2,3,...last_pyment_d - 1 respectively\n",
    "    The sequence of cash flows then forms a geometric series of the form\n",
    "                                        a + ar + ar2 + ... + ar(n-1)\n",
    "                                        which has a closed form sum:\n",
    "![image.png](attachment:image.png)\n",
    "\n",
    "    where r = (1+rr) and a = m, the effective monthly installment payment over the actual life of the loan.\n",
    "    \n",
    "    assumption 2: when loan terminates early(due to default or pre-payment) total cash received\n",
    "    + accrued interest are re-invested at the same rate rr from that time till the term of the loan"
   ]
  },
  {
   "cell_type": "code",
   "execution_count": 126,
   "metadata": {},
   "outputs": [],
   "source": [
    "def calc_return(total_pymnt, term, funded_amnt, recoveries, realized_loan_term_mths, rr=0.01):\n",
    "    effective_monthly_installments = (total_pymnt - recoveries)/realized_loan_term_mths\n",
    "    \n",
    "    #get total cash flow at loan termination as the geometric sum of effective monthly installments\n",
    "    #yielding a constant rate of return rr.\n",
    "    #This is from assumption #1\n",
    "    total_cash_flow = effective_monthly_installments * ((1 - (1 + rr)**realized_loan_term_mths)) / (1 - (1 + rr))\n",
    "    \n",
    "    #add back recoveries to the get the lump sum at loan termination.\n",
    "    total_cash_flow+= recoveries \n",
    "\n",
    "    #assumption #2. invest at rr till original term of loan.\n",
    "    total_cash_flow = total_cash_flow * ((1 + rr)**(max(0,term - realized_loan_term_mths)))\n",
    "    \n",
    "    #calculate return and annualize\n",
    "    return((12/term) * ((total_cash_flow - funded_amnt) / funded_amnt))\n"
   ]
  },
  {
   "cell_type": "code",
   "execution_count": 127,
   "metadata": {},
   "outputs": [],
   "source": [
    "rr = 0.01\n",
    "ret_df[\"annualized_returns\"] = ret_df.apply(lambda row: calc_return(row[3], row[4], row[5], row[6], row[7], rr), axis =1)"
   ]
  },
  {
   "cell_type": "code",
   "execution_count": 128,
   "metadata": {},
   "outputs": [
    {
     "data": {
      "text/plain": [
       "(2249276, 9)"
      ]
     },
     "execution_count": 128,
     "metadata": {},
     "output_type": "execute_result"
    }
   ],
   "source": [
    "ret_df.shape"
   ]
  },
  {
   "cell_type": "code",
   "execution_count": 151,
   "metadata": {},
   "outputs": [],
   "source": [
    "ret_df = ret_df.astype({'id': 'int64'})\n"
   ]
  },
  {
   "cell_type": "code",
   "execution_count": 161,
   "metadata": {},
   "outputs": [
    {
     "data": {
      "text/html": [
       "<div>\n",
       "<style scoped>\n",
       "    .dataframe tbody tr th:only-of-type {\n",
       "        vertical-align: middle;\n",
       "    }\n",
       "\n",
       "    .dataframe tbody tr th {\n",
       "        vertical-align: top;\n",
       "    }\n",
       "\n",
       "    .dataframe thead th {\n",
       "        text-align: right;\n",
       "    }\n",
       "</style>\n",
       "<table border=\"1\" class=\"dataframe\">\n",
       "  <thead>\n",
       "    <tr style=\"text-align: right;\">\n",
       "      <th></th>\n",
       "      <th>id</th>\n",
       "      <th>issue_d</th>\n",
       "      <th>last_pymnt_d</th>\n",
       "      <th>total_pymnt</th>\n",
       "      <th>term</th>\n",
       "      <th>funded_amnt</th>\n",
       "      <th>recoveries</th>\n",
       "      <th>realized_loan_term_mths</th>\n",
       "      <th>annualized_returns</th>\n",
       "    </tr>\n",
       "  </thead>\n",
       "  <tbody>\n",
       "    <tr>\n",
       "      <th>1403663</th>\n",
       "      <td>143978151</td>\n",
       "      <td>2018-11-01</td>\n",
       "      <td>2019-03-01</td>\n",
       "      <td>3116.700000</td>\n",
       "      <td>36</td>\n",
       "      <td>15000.0</td>\n",
       "      <td>0.0</td>\n",
       "      <td>4.0</td>\n",
       "      <td>-0.236667</td>\n",
       "    </tr>\n",
       "    <tr>\n",
       "      <th>735604</th>\n",
       "      <td>76234877</td>\n",
       "      <td>2016-04-01</td>\n",
       "      <td>2018-11-01</td>\n",
       "      <td>10953.861242</td>\n",
       "      <td>36</td>\n",
       "      <td>10000.0</td>\n",
       "      <td>0.0</td>\n",
       "      <td>31.0</td>\n",
       "      <td>0.113960</td>\n",
       "    </tr>\n",
       "    <tr>\n",
       "      <th>1126835</th>\n",
       "      <td>36129482</td>\n",
       "      <td>2014-11-01</td>\n",
       "      <td>2015-07-01</td>\n",
       "      <td>9381.950000</td>\n",
       "      <td>36</td>\n",
       "      <td>8800.0</td>\n",
       "      <td>0.0</td>\n",
       "      <td>8.0</td>\n",
       "      <td>0.152990</td>\n",
       "    </tr>\n",
       "    <tr>\n",
       "      <th>1669184</th>\n",
       "      <td>101921341</td>\n",
       "      <td>2017-03-01</td>\n",
       "      <td>2019-03-01</td>\n",
       "      <td>18271.270000</td>\n",
       "      <td>60</td>\n",
       "      <td>35000.0</td>\n",
       "      <td>0.0</td>\n",
       "      <td>24.0</td>\n",
       "      <td>-0.032110</td>\n",
       "    </tr>\n",
       "    <tr>\n",
       "      <th>2089327</th>\n",
       "      <td>123933527</td>\n",
       "      <td>2017-11-01</td>\n",
       "      <td>2019-03-01</td>\n",
       "      <td>9108.320000</td>\n",
       "      <td>60</td>\n",
       "      <td>21600.0</td>\n",
       "      <td>0.0</td>\n",
       "      <td>16.0</td>\n",
       "      <td>-0.059064</td>\n",
       "    </tr>\n",
       "    <tr>\n",
       "      <th>1799374</th>\n",
       "      <td>7284591</td>\n",
       "      <td>2013-10-01</td>\n",
       "      <td>2016-10-01</td>\n",
       "      <td>8962.054003</td>\n",
       "      <td>36</td>\n",
       "      <td>7800.0</td>\n",
       "      <td>0.0</td>\n",
       "      <td>36.0</td>\n",
       "      <td>0.124949</td>\n",
       "    </tr>\n",
       "    <tr>\n",
       "      <th>235221</th>\n",
       "      <td>53465013</td>\n",
       "      <td>2015-07-01</td>\n",
       "      <td>2016-12-01</td>\n",
       "      <td>21222.550979</td>\n",
       "      <td>36</td>\n",
       "      <td>20000.0</td>\n",
       "      <td>0.0</td>\n",
       "      <td>17.0</td>\n",
       "      <td>0.129942</td>\n",
       "    </tr>\n",
       "    <tr>\n",
       "      <th>2182264</th>\n",
       "      <td>94191432</td>\n",
       "      <td>2016-12-01</td>\n",
       "      <td>2019-03-01</td>\n",
       "      <td>2285.930000</td>\n",
       "      <td>36</td>\n",
       "      <td>2200.0</td>\n",
       "      <td>0.0</td>\n",
       "      <td>27.0</td>\n",
       "      <td>0.099074</td>\n",
       "    </tr>\n",
       "    <tr>\n",
       "      <th>662279</th>\n",
       "      <td>81476375</td>\n",
       "      <td>2016-06-01</td>\n",
       "      <td>2019-03-01</td>\n",
       "      <td>12131.090000</td>\n",
       "      <td>36</td>\n",
       "      <td>12000.0</td>\n",
       "      <td>0.0</td>\n",
       "      <td>33.0</td>\n",
       "      <td>0.075599</td>\n",
       "    </tr>\n",
       "    <tr>\n",
       "      <th>665107</th>\n",
       "      <td>81910323</td>\n",
       "      <td>2016-06-01</td>\n",
       "      <td>2019-03-01</td>\n",
       "      <td>3433.190000</td>\n",
       "      <td>36</td>\n",
       "      <td>3025.0</td>\n",
       "      <td>0.0</td>\n",
       "      <td>33.0</td>\n",
       "      <td>0.125764</td>\n",
       "    </tr>\n",
       "  </tbody>\n",
       "</table>\n",
       "</div>"
      ],
      "text/plain": [
       "                id     issue_d last_pymnt_d   total_pymnt  term  funded_amnt  \\\n",
       "1403663  143978151  2018-11-01   2019-03-01   3116.700000    36      15000.0   \n",
       "735604    76234877  2016-04-01   2018-11-01  10953.861242    36      10000.0   \n",
       "1126835   36129482  2014-11-01   2015-07-01   9381.950000    36       8800.0   \n",
       "1669184  101921341  2017-03-01   2019-03-01  18271.270000    60      35000.0   \n",
       "2089327  123933527  2017-11-01   2019-03-01   9108.320000    60      21600.0   \n",
       "1799374    7284591  2013-10-01   2016-10-01   8962.054003    36       7800.0   \n",
       "235221    53465013  2015-07-01   2016-12-01  21222.550979    36      20000.0   \n",
       "2182264   94191432  2016-12-01   2019-03-01   2285.930000    36       2200.0   \n",
       "662279    81476375  2016-06-01   2019-03-01  12131.090000    36      12000.0   \n",
       "665107    81910323  2016-06-01   2019-03-01   3433.190000    36       3025.0   \n",
       "\n",
       "         recoveries  realized_loan_term_mths  annualized_returns  \n",
       "1403663         0.0                      4.0           -0.236667  \n",
       "735604          0.0                     31.0            0.113960  \n",
       "1126835         0.0                      8.0            0.152990  \n",
       "1669184         0.0                     24.0           -0.032110  \n",
       "2089327         0.0                     16.0           -0.059064  \n",
       "1799374         0.0                     36.0            0.124949  \n",
       "235221          0.0                     17.0            0.129942  \n",
       "2182264         0.0                     27.0            0.099074  \n",
       "662279          0.0                     33.0            0.075599  \n",
       "665107          0.0                     33.0            0.125764  "
      ]
     },
     "execution_count": 161,
     "metadata": {},
     "output_type": "execute_result"
    }
   ],
   "source": [
    "ret_df.sample(10)"
   ]
  },
  {
   "cell_type": "code",
   "execution_count": 322,
   "metadata": {},
   "outputs": [],
   "source": [
    "def fit_return_models(X_train, Y_train, X_test, Y_test, model_name =\"Ridge\",\n",
    "                      cv_parameters = {},\n",
    "                      random_state = 1980):\n",
    "    '''\n",
    "    fits 2 return models using the sklearn model object implied by model name. One model for loans that defaulted and another for \n",
    "    loans that didn't default.\n",
    "    code borrowed mostly from the danguetta.com paper/notebook.\n",
    "    '''\n",
    "    \n",
    "    np.random.seed(random_state)\n",
    "    \n",
    "    #choose model based on user selection\n",
    "    if model_name == \"Lasso\":\n",
    "        model = linear_model.Lasso(normalize=True)\n",
    "    elif model_name == \"Ridge\":\n",
    "        model = linear_model.Ridge(normalize=True)\n",
    "    elif model_name == \"RandomF\":\n",
    "        model = RandomForestRegressor()\n",
    "\n",
    "    \n",
    " \n",
    "    #split data into defaulted series and non-defaulted series\n",
    "\n",
    "    Y_train_bad = Y_train.loc[(Y_train._good == 0),['id', 'annualized_returns'] ]\n",
    "    X_train_bad = X_train[X_train.id.isin(Y_train_bad.id)]\n",
    "    Y_test_bad  = Y_test.loc[(Y_test._good == 0),['id', 'annualized_returns'] ]\n",
    "    X_test_bad  = X_test[X_test.id.isin(Y_test_bad.id)]\n",
    "    \n",
    "    Y_train_good = Y_train.loc[(Y_train._good == 1),['id', 'annualized_returns'] ]\n",
    "    X_train_good = X_train[X_train.id.isin(Y_train_good.id)]  \n",
    "    Y_test_good  = Y_test.loc[(Y_test._good == 1),['id', 'annualized_returns'] ]\n",
    "    X_test_good  = X_test[X_test.id.isin(Y_test_good.id)]\n",
    "\n",
    "    \n",
    "    ##remove ids for now to be added back afterwards\n",
    "    train_bad_loan_ids = X_train_bad.pop('id')\n",
    "    test_bad_loan_ids = pd.DataFrame(X_test_bad.pop('id'), columns=['id'])\n",
    "#     print(\"missingness in bad loans df\")\n",
    "#     print(test_bad_loan_ids.isnull().sum(axis= 0))\n",
    "#     print(test_bad_loan_ids.shape,\"\\n\")\n",
    "\n",
    "    train_good_loan_ids = X_train_good.pop('id')\n",
    "    test_good_loan_ids = pd.DataFrame(X_test_good.pop('id'), columns=['id'])\n",
    "    \n",
    "#     print(\"missingness in good loans df\")\n",
    "#     print(test_good_loan_ids.isnull().sum(axis= 0))\n",
    "#     print(test_good_loan_ids.shape,\"\\n\")\n",
    "    \n",
    "    ##drop ids from Y datasets\n",
    "    Y_train_good.drop('id', axis =1, inplace=True)\n",
    "    Y_train_bad.drop('id', axis=1, inplace=True)\n",
    "    \n",
    "    Y_test_good.drop('id', axis =1, inplace=True)\n",
    "    Y_test_bad.drop('id', axis =1, inplace=True)\n",
    "    \n",
    "\n",
    "    \n",
    "    ##run model\n",
    "    cv_model_bad = GridSearchCV(model, cv_parameters, scoring='r2')\n",
    "    cv_model_good = GridSearchCV(model, cv_parameters, scoring='r2')\n",
    "\n",
    "    #time and fit the models\n",
    "    start_time = time.time()\n",
    "    print(\"fitting model for defaulted loans\")\n",
    "    if model_name in ['RandomF', 'Logistic']:\n",
    "        cv_model_bad.fit(X_train_bad, Y_train_bad.values.ravel())\n",
    "    else:\n",
    "        cv_model_bad.fit(X_train_bad, Y_train_bad)\n",
    "        \n",
    "    print(\"fitting model for non-defaulted loans\")\n",
    "    if model_name in ['RandomF', 'Logistic']:\n",
    "        cv_model_good.fit(X_train_good, Y_train_good.values.ravel())\n",
    "    else:\n",
    "        cv_model_good.fit(X_train_good, Y_train_good)\n",
    "        \n",
    "    end_time = time.time()\n",
    "\n",
    "    #pick best model from the fit for each regressor\n",
    "    best_model_bad = cv_model_bad.best_estimator_\n",
    "    best_model_good = cv_model_good.best_estimator_\n",
    "            \n",
    "    #tidy outputs    \n",
    "    print(\"=========================\")\n",
    "    print(\"  Model: \" + model_name )\n",
    "    print(\"=========================\")\n",
    "\n",
    "    print(\"Fit time: \" + str(round(end_time - start_time, 2)) + \" seconds\")\n",
    "    print(\"Optimal parameters:\")\n",
    "    print(\"model_default:\",cv_model_bad.best_params_, \"model_non-default\",cv_model_good.best_params_)\n",
    "\n",
    "    ##predicted returns - need to join back to get loan ids\n",
    "    predicted_non_default_return = pd.DataFrame(best_model_good.predict(X_test_good), columns =['ret'])\n",
    "    predicted_default_return     = pd.DataFrame(best_model_bad.predict(X_test_bad), columns =['ret'])\n",
    "    \n",
    "#     print(\"missingness in predicted bad loans df \")\n",
    "#     print(predicted_default_return.isnull().sum(axis= 0))\n",
    "#     print(predicted_default_return.shape,\"\\n\")\n",
    "\n",
    "#     print(\"missingness in predicted good loans df \")\n",
    "#     print(predicted_non_default_return.isnull().sum(axis= 0))\n",
    "#     print(predicted_non_default_return.shape,\"\\n\")\n",
    "    \n",
    "    ## add ids back\n",
    "    predicted_non_default_return = list(zip(test_good_loan_ids.id, predicted_non_default_return.ret))\n",
    "    \n",
    "    predicted_default_return = list(zip(test_bad_loan_ids.id, predicted_default_return.ret))\n",
    "    \n",
    "    print(\"\")\n",
    "    print(\"Testing r2 scores:\")\n",
    "    # Here we use different testing set to report the performance\n",
    "    test_scores = {'model_default':r2_score(Y_test_bad,best_model_bad.predict(X_test_bad)),\n",
    "                      'model_non_default':r2_score(Y_test_good,best_model_good.predict(X_test_good))}\n",
    " \n",
    "    print(\"model_default:\", test_scores['model_default'])\n",
    "    print(\"model_non_default:\", test_scores['model_non_default'])\n",
    "\n",
    "    return { 'model_default':best_model_bad, 'model_non_default':best_model_good, 'predicted_non_default_return':predicted_non_default_return,\n",
    "              'predicted_default_return':predicted_default_return,'r2_scores':test_scores }\n",
    "\n",
    "    \n",
    "    \n"
   ]
  },
  {
   "cell_type": "code",
   "execution_count": null,
   "metadata": {},
   "outputs": [],
   "source": []
  },
  {
   "cell_type": "code",
   "execution_count": null,
   "metadata": {},
   "outputs": [],
   "source": []
  },
  {
   "cell_type": "markdown",
   "metadata": {},
   "source": [
    "### Testing stuff\n"
   ]
  },
  {
   "cell_type": "code",
   "execution_count": 189,
   "metadata": {},
   "outputs": [
    {
     "data": {
      "text/html": [
       "<div>\n",
       "<style scoped>\n",
       "    .dataframe tbody tr th:only-of-type {\n",
       "        vertical-align: middle;\n",
       "    }\n",
       "\n",
       "    .dataframe tbody tr th {\n",
       "        vertical-align: top;\n",
       "    }\n",
       "\n",
       "    .dataframe thead th {\n",
       "        text-align: right;\n",
       "    }\n",
       "</style>\n",
       "<table border=\"1\" class=\"dataframe\">\n",
       "  <thead>\n",
       "    <tr style=\"text-align: right;\">\n",
       "      <th></th>\n",
       "      <th>id</th>\n",
       "      <th>issue_d</th>\n",
       "      <th>last_pymnt_d</th>\n",
       "      <th>total_pymnt</th>\n",
       "      <th>term</th>\n",
       "      <th>funded_amnt</th>\n",
       "      <th>recoveries</th>\n",
       "      <th>realized_loan_term_mths</th>\n",
       "      <th>annualized_returns</th>\n",
       "    </tr>\n",
       "  </thead>\n",
       "  <tbody>\n",
       "    <tr>\n",
       "      <th>0</th>\n",
       "      <td>68407277</td>\n",
       "      <td>2015-12-01</td>\n",
       "      <td>2019-01-01</td>\n",
       "      <td>4421.723917</td>\n",
       "      <td>36</td>\n",
       "      <td>3600.0</td>\n",
       "      <td>0.0</td>\n",
       "      <td>37.0</td>\n",
       "      <td>0.159160</td>\n",
       "    </tr>\n",
       "    <tr>\n",
       "      <th>1</th>\n",
       "      <td>68355089</td>\n",
       "      <td>2015-12-01</td>\n",
       "      <td>2016-06-01</td>\n",
       "      <td>25679.660000</td>\n",
       "      <td>36</td>\n",
       "      <td>24700.0</td>\n",
       "      <td>0.0</td>\n",
       "      <td>6.0</td>\n",
       "      <td>0.145604</td>\n",
       "    </tr>\n",
       "  </tbody>\n",
       "</table>\n",
       "</div>"
      ],
      "text/plain": [
       "         id     issue_d last_pymnt_d   total_pymnt  term  funded_amnt  \\\n",
       "0  68407277  2015-12-01   2019-01-01   4421.723917    36       3600.0   \n",
       "1  68355089  2015-12-01   2016-06-01  25679.660000    36      24700.0   \n",
       "\n",
       "   recoveries  realized_loan_term_mths  annualized_returns  \n",
       "0         0.0                     37.0            0.159160  \n",
       "1         0.0                      6.0            0.145604  "
      ]
     },
     "execution_count": 189,
     "metadata": {},
     "output_type": "execute_result"
    }
   ],
   "source": [
    "ret_df.head(2)"
   ]
  },
  {
   "cell_type": "code",
   "execution_count": 201,
   "metadata": {},
   "outputs": [],
   "source": [
    "my_X_train = X_train.copy()\n",
    "my_Y_train = Y_train.copy()\n",
    "\n",
    "my_X_test = X_test.copy()\n",
    "my_Y_test = Y_test.copy()"
   ]
  },
  {
   "cell_type": "code",
   "execution_count": 202,
   "metadata": {},
   "outputs": [],
   "source": [
    "#merge returns data\n",
    "my_Y_train = pd.merge(my_Y_train, ret_df[['id','annualized_returns']], how=\"left\", on ='id')\n",
    "my_Y_test = pd.merge(my_Y_test, ret_df[['id','annualized_returns']], how=\"left\", on ='id')\n"
   ]
  },
  {
   "cell_type": "code",
   "execution_count": 204,
   "metadata": {},
   "outputs": [
    {
     "data": {
      "text/plain": [
       "id                       0\n",
       "_good                    0\n",
       "annualized_returns    2201\n",
       "dtype: int64"
      ]
     },
     "execution_count": 204,
     "metadata": {},
     "output_type": "execute_result"
    }
   ],
   "source": [
    "my_Y_test.isnull().sum(axis=0)"
   ]
  },
  {
   "cell_type": "code",
   "execution_count": 205,
   "metadata": {},
   "outputs": [],
   "source": [
    "my_Y_train.dropna(inplace=True)\n",
    "my_Y_test.dropna(inplace=True)"
   ]
  },
  {
   "cell_type": "code",
   "execution_count": 252,
   "metadata": {},
   "outputs": [
    {
     "data": {
      "text/plain": [
       "array([1.00000000e-08, 1.23284674e-07, 1.51991108e-06, 1.87381742e-05,\n",
       "       2.31012970e-04, 2.84803587e-03, 3.51119173e-02, 4.32876128e-01,\n",
       "       5.33669923e+00, 6.57933225e+01, 8.11130831e+02, 1.00000000e+04])"
      ]
     },
     "execution_count": 252,
     "metadata": {},
     "output_type": "execute_result"
    }
   ],
   "source": []
  },
  {
   "cell_type": "markdown",
   "metadata": {},
   "source": [
    "## Test regression models\n"
   ]
  },
  {
   "cell_type": "markdown",
   "metadata": {},
   "source": [
    "### Ridge"
   ]
  },
  {
   "cell_type": "code",
   "execution_count": 361,
   "metadata": {},
   "outputs": [
    {
     "name": "stdout",
     "output_type": "stream",
     "text": [
      "fitting model for defaulted loans\n",
      "fitting model for non-defaulted loans\n",
      "=========================\n",
      "  Model: Ridge\n",
      "=========================\n",
      "Fit time: 87.47 seconds\n",
      "Optimal parameters:\n",
      "model_default: {'alpha': 0.0001, 'max_iter': 1000} model_non-default {'alpha': 1e-05, 'max_iter': 1000}\n",
      "\n",
      "Testing r2 scores:\n",
      "model_default: 0.12434522950733673\n",
      "model_non_default: 0.7935675094758661\n"
     ]
    }
   ],
   "source": [
    "cv_parameters = {'alpha': np.logspace(-8, 1, num = 10), 'max_iter' : [1000]}\n",
    "\n",
    "reg_ridge = fit_return_models(my_X_train, my_Y_train, my_X_test, my_Y_test, model_name =\"Ridge\",\n",
    "               cv_parameters = cv_parameters)"
   ]
  },
  {
   "cell_type": "code",
   "execution_count": 335,
   "metadata": {},
   "outputs": [],
   "source": [
    "list_ids, returns_non_defaults = zip(*reg_ridge['predicted_non_default_return'])\n",
    "list_ids, returns_defaults = zip(*reg_ridge['predicted_default_return'])\n",
    "\n",
    "actual_defaults  = my_Y_test.loc[(my_Y_test._good == 0),['annualized_returns']]\n",
    "actual_non_defaults = my_Y_test.loc[(my_Y_test._good == 1),['annualized_returns']]\n"
   ]
  },
  {
   "cell_type": "code",
   "execution_count": 359,
   "metadata": {},
   "outputs": [
    {
     "name": "stdout",
     "output_type": "stream",
     "text": [
      "actual_non_defaults:0.1609\n",
      "predicted_non_defaults:0.1610\n",
      "\n",
      "\n",
      "actual_defaults:-0.0688\n",
      "predicted_defaults:-0.0692\n"
     ]
    }
   ],
   "source": [
    "print(f'actual_non_defaults:{np.mean(actual_non_defaults.annualized_returns):.4f}')\n",
    "print(f'predicted_non_defaults:{np.mean(returns_non_defaults):.4f}')\n",
    "print(\"\\n\")\n",
    "print(f'actual_defaults:{np.mean(actual_defaults.annualized_returns):.4f}')\n",
    "print(f'predicted_defaults:{np.mean(returns_defaults):.4f}')"
   ]
  },
  {
   "cell_type": "code",
   "execution_count": 360,
   "metadata": {},
   "outputs": [
    {
     "data": {
      "image/png": "[encoded data removed]",
      "text/plain": [
       "<Figure size 432x288 with 1 Axes>"
      ]
     },
     "metadata": {
      "needs_background": "light"
     },
     "output_type": "display_data"
    }
   ],
   "source": [
    "bins = np.linspace(-0., 0.3, 100)\n",
    "\n",
    "pyplot.hist(actual_non_defaults.annualized_returns, bins, alpha=0.5, label='actual_non_defaults')\n",
    "\n",
    "pyplot.hist(returns_non_defaults, bins, alpha=0.5, label='pred_non_defaults')\n",
    "\n",
    "pyplot.legend(loc='upper right')\n",
    "pyplot.title(\"histogram of returns non-default loans - actual vs. pred\")\n",
    "pyplot.show()"
   ]
  },
  {
   "cell_type": "code",
   "execution_count": 348,
   "metadata": {},
   "outputs": [
    {
     "data": {
      "image/png": "[encoded data removed]",
      "text/plain": [
       "<Figure size 432x288 with 1 Axes>"
      ]
     },
     "metadata": {
      "needs_background": "light"
     },
     "output_type": "display_data"
    }
   ],
   "source": [
    "bins = np.linspace(-0.3, 0.3, 100)\n",
    "\n",
    "pyplot.hist(actual_defaults.annualized_returns,  bins, alpha=0.5, label='actual_defaults')\n",
    "pyplot.hist(returns_defaults,  bins, alpha=0.5, label='pred_defaults')\n",
    "pyplot.legend(loc='upper right')\n",
    "pyplot.title(\"histogram of returns of default and non-default loans\")\n",
    "pyplot.show()"
   ]
  },
  {
   "cell_type": "code",
   "execution_count": 365,
   "metadata": {},
   "outputs": [
    {
     "data": {
      "text/plain": [
       "0"
      ]
     },
     "execution_count": 365,
     "metadata": {},
     "output_type": "execute_result"
    }
   ],
   "source": [
    "np.sum(returns_non_defaults * actual_non_defaults.annualized_returns<0)"
   ]
  },
  {
   "cell_type": "code",
   "execution_count": 367,
   "metadata": {},
   "outputs": [
    {
     "data": {
      "text/plain": [
       "0.26458489154824233"
      ]
     },
     "execution_count": 367,
     "metadata": {},
     "output_type": "execute_result"
    }
   ],
   "source": [
    "(np.sum(returns_defaults * actual_defaults.annualized_returns<0))/actual_defaults.shape[0]"
   ]
  },
  {
   "cell_type": "markdown",
   "metadata": {},
   "source": [
    "### Random Forest"
   ]
  },
  {
   "cell_type": "code",
   "execution_count": 279,
   "metadata": {},
   "outputs": [
    {
     "name": "stdout",
     "output_type": "stream",
     "text": [
      "fitting model for defaulted loans\n",
      "fitting model for non-defaulted loans\n",
      "=========================\n",
      "  Model: RandomF\n",
      "=========================\n",
      "Fit time: 2541.47 seconds\n",
      "Optimal parameters:\n",
      "model_default: {'min_samples_leaf': 75, 'n_estimators': 35} model_non-default {'min_samples_leaf': 75, 'n_estimators': 35}\n",
      "\n",
      "Testing r2 scores:\n",
      "model_default: 0.1823753694987873\n",
      "model_non_default: 0.8331893337578045\n"
     ]
    }
   ],
   "source": [
    "cv_parameters = {'min_samples_leaf':[75],\n",
    "                 'n_estimators': [35] }\n",
    "\n",
    "reg_rf = fit_return_models(my_X_train, my_Y_train, my_X_test, my_Y_test, model_name =\"RandomF\",\n",
    "               cv_parameters = cv_parameters)"
   ]
  },
  {
   "cell_type": "code",
   "execution_count": null,
   "metadata": {},
   "outputs": [],
   "source": []
  }
 ],
 "metadata": {
  "kernelspec": {
   "display_name": "Python 3",
   "language": "python",
   "name": "python3"
  },
  "language_info": {
   "codemirror_mode": {
    "name": "ipython",
    "version": 3
   },
   "file_extension": ".py",
   "mimetype": "text/x-python",
   "name": "python",
   "nbconvert_exporter": "python",
   "pygments_lexer": "ipython3",
   "version": "3.7.1"
  }
 },
 "nbformat": 4,
 "nbformat_minor": 2
}
