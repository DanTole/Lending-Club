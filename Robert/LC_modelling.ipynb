{
 "cells": [
  {
   "cell_type": "code",
   "execution_count": 1,
   "metadata": {},
   "outputs": [],
   "source": [
    "import pandas as pd\n",
    "import numpy as np\n",
    "import datetime\n",
    "import time\n",
    "import seaborn as sns\n",
    "from matplotlib import pyplot\n"
   ]
  },
  {
   "cell_type": "code",
   "execution_count": 2,
   "metadata": {},
   "outputs": [],
   "source": [
    "from sklearn.model_selection import GridSearchCV\n",
    "from sklearn import linear_model\n",
    "from sklearn.ensemble import RandomForestRegressor\n",
    "from sklearn.metrics import accuracy_score, classification_report, roc_auc_score, roc_curve, brier_score_loss, mean_squared_error, r2_score\n",
    "from sklearn.cluster import KMeans\n",
    "\n",
    "from scipy.optimize import minimize, LinearConstraint #for optimization\n",
    "\n",
    "\n",
    "\n"
   ]
  },
  {
   "cell_type": "code",
   "execution_count": 75,
   "metadata": {},
   "outputs": [],
   "source": [
    "#read in the pre-processed training and test set from Dmitri's notebook\n",
    "X_train = pd.read_csv(\"data/X_train_random_1592420882.csv\")\n",
    "Y_train = pd.read_csv(\"data/Y_train_random_1592420882.csv\")\n",
    "X_test = pd.read_csv(\"data/X_test_random_1592420882.csv\")\n",
    "Y_test = pd.read_csv(\"data/Y_test_random_1592420882.csv\")"
   ]
  },
  {
   "cell_type": "code",
   "execution_count": 76,
   "metadata": {},
   "outputs": [],
   "source": [
    "assert((X_train.shape[0] == Y_train.shape[0]) & (X_test.shape[0] == Y_test.shape[0]))"
   ]
  },
  {
   "cell_type": "code",
   "execution_count": 77,
   "metadata": {},
   "outputs": [
    {
     "name": "stdout",
     "output_type": "stream",
     "text": [
      "Dim of X_train: (1076080, 37)\n",
      "Dim of Y_train: (1076080, 2)\n",
      "\n",
      "\n",
      "Dim of X_test: (269020, 37)\n",
      "Dim of Y_test: (269020, 2)\n"
     ]
    }
   ],
   "source": [
    "print(f'Dim of X_train: {X_train.shape}')\n",
    "print(f'Dim of Y_train: {Y_train.shape}')\n",
    "print(\"\\n\")\n",
    "print(f'Dim of X_test: {X_test.shape}')\n",
    "print(f'Dim of Y_test: {Y_test.shape}')"
   ]
  },
  {
   "cell_type": "code",
   "execution_count": 78,
   "metadata": {},
   "outputs": [
    {
     "name": "stdout",
     "output_type": "stream",
     "text": [
      "Train-test split: [0.8,0.2]\n"
     ]
    }
   ],
   "source": [
    "print(f'Train-test split: [{X_train.shape[0]/(X_train.shape[0] + X_test.shape[0])},\\\n",
    "{X_test.shape[0]/(X_train.shape[0] + X_test.shape[0])}]')"
   ]
  },
  {
   "cell_type": "code",
   "execution_count": 79,
   "metadata": {},
   "outputs": [],
   "source": [
    "dtypes_map={\n",
    "'id':'uint32',\n",
    "'application_type':'uint8',\n",
    "'grade':'uint8',\n",
    "'sub_grade':'uint8',\n",
    "'term':'uint8',\n",
    "'initial_list_status':'uint8',\n",
    "'emp_length':'uint8',\n",
    "'verification_status':'uint8',\n",
    "'_has_desc':'uint8',\n",
    "'purpose_credit_card':'uint8',\n",
    "'purpose_debt_consolidation':'uint8',\n",
    "'purpose_educational':'uint8',\n",
    "'purpose_home_improvement':'uint8',\n",
    "'purpose_house':'uint8',\n",
    "'purpose_major_purchase':'uint8',\n",
    "'purpose_medical':'uint8',\n",
    "'purpose_moving':'uint8',\n",
    "'purpose_other':'uint8',\n",
    "'purpose_renewable_energy':'uint8',\n",
    "'purpose_small_business':'uint8',\n",
    "'purpose_vacation':'uint8',\n",
    "'purpose_wedding':'uint8',\n",
    "'home_ownership_OTHER':'uint8',\n",
    "'home_ownership_OWN':'uint8',\n",
    "'home_ownership_RENT':'uint8'\n",
    "}"
   ]
  },
  {
   "cell_type": "code",
   "execution_count": 80,
   "metadata": {},
   "outputs": [],
   "source": [
    "X_train = X_train.astype(dtype=dtypes_map)\n",
    "X_test = X_test.astype(dtype=dtypes_map)\n"
   ]
  },
  {
   "cell_type": "code",
   "execution_count": 81,
   "metadata": {},
   "outputs": [
    {
     "data": {
      "text/plain": [
       "1.0"
      ]
     },
     "execution_count": 81,
     "metadata": {},
     "output_type": "execute_result"
    }
   ],
   "source": [
    "np.mean(Y_train.id == X_train.id)"
   ]
  },
  {
   "cell_type": "code",
   "execution_count": 82,
   "metadata": {},
   "outputs": [
    {
     "data": {
      "text/plain": [
       "1.0"
      ]
     },
     "execution_count": 82,
     "metadata": {},
     "output_type": "execute_result"
    }
   ],
   "source": [
    "np.mean(Y_test.id == X_test.id)"
   ]
  },
  {
   "cell_type": "code",
   "execution_count": 11,
   "metadata": {},
   "outputs": [
    {
     "name": "stderr",
     "output_type": "stream",
     "text": [
      "/Users/rknatuahene/anaconda3/lib/python3.7/site-packages/IPython/core/interactiveshell.py:3020: DtypeWarning: Columns (0,19,49,59,118,129,130,131,134,135,136,139,145,146,147) have mixed types. Specify dtype option on import or set low_memory=False.\n",
      "  interactivity=interactivity, compiler=compiler, result=result)\n"
     ]
    }
   ],
   "source": [
    "##we need to get fields needed for return calculations.\n",
    "LC_df = pd.read_csv(\"data/accepted_2007_to_2018Q4.csv\")"
   ]
  },
  {
   "cell_type": "code",
   "execution_count": 12,
   "metadata": {},
   "outputs": [
    {
     "data": {
      "text/plain": [
       "Fully Paid                                             1076751\n",
       "Current                                                 878317\n",
       "Charged Off                                             268559\n",
       "Late (31-120 days)                                       21467\n",
       "In Grace Period                                           8436\n",
       "Late (16-30 days)                                         4349\n",
       "Does not meet the credit policy. Status:Fully Paid        1988\n",
       "Does not meet the credit policy. Status:Charged Off        761\n",
       "Default                                                     40\n",
       "Name: loan_status, dtype: int64"
      ]
     },
     "execution_count": 12,
     "metadata": {},
     "output_type": "execute_result"
    }
   ],
   "source": [
    "LC_df.loan_status.value_counts()"
   ]
  },
  {
   "cell_type": "code",
   "execution_count": 41,
   "metadata": {},
   "outputs": [],
   "source": [
    "ret_df = LC_df[[\"id\", \"issue_d\",\"last_pymnt_d\", \"total_pymnt\", \"term\", \"funded_amnt\", \"recoveries\",\"grade\",\"sub_grade\",\"loan_status\"]].copy()"
   ]
  },
  {
   "cell_type": "code",
   "execution_count": 42,
   "metadata": {},
   "outputs": [
    {
     "data": {
      "text/plain": [
       " 36 months    1609754\n",
       " 60 months     650914\n",
       "NaN                33\n",
       "Name: term, dtype: int64"
      ]
     },
     "execution_count": 42,
     "metadata": {},
     "output_type": "execute_result"
    }
   ],
   "source": [
    "ret_df.term.value_counts(dropna=False)"
   ]
  },
  {
   "cell_type": "code",
   "execution_count": 43,
   "metadata": {},
   "outputs": [],
   "source": [
    "ret_df.dropna(subset=[\"id\", \"issue_d\",\"last_pymnt_d\", \"total_pymnt\", \"term\", \"funded_amnt\"], inplace=True)"
   ]
  },
  {
   "cell_type": "code",
   "execution_count": 44,
   "metadata": {},
   "outputs": [
    {
     "data": {
      "text/plain": [
       "36    1607966\n",
       "60     650275\n",
       "Name: term, dtype: int64"
      ]
     },
     "execution_count": 44,
     "metadata": {},
     "output_type": "execute_result"
    }
   ],
   "source": [
    "#convert term field to integer months\n",
    "ret_df['term'] = ret_df['term'].apply(lambda t: np.int8(t.split()[0]))\n",
    "ret_df.term.value_counts()\n"
   ]
  },
  {
   "cell_type": "code",
   "execution_count": 45,
   "metadata": {},
   "outputs": [],
   "source": [
    "#convert issue_d and last_pymnt_d into datetime\n",
    "ret_df['issue_d'] = ret_df['issue_d'].apply(lambda dt: datetime.datetime.strptime( dt, \"%b-%Y\").date())\n",
    "ret_df['last_pymnt_d'] = ret_df['last_pymnt_d'].apply(lambda dt: datetime.datetime.strptime( dt, \"%b-%Y\").date())"
   ]
  },
  {
   "cell_type": "code",
   "execution_count": 46,
   "metadata": {},
   "outputs": [],
   "source": [
    "#calculate the realized term of the loan in months. \n",
    "ret_df['realized_loan_term_mths'] = round((ret_df['last_pymnt_d'] - ret_df['issue_d'])/np.timedelta64(1, 'M'))"
   ]
  },
  {
   "cell_type": "code",
   "execution_count": 47,
   "metadata": {},
   "outputs": [],
   "source": [
    "#remove rows where realized_loan_term_mths = 0\n",
    "ret_df = ret_df[ret_df.realized_loan_term_mths > 0]"
   ]
  },
  {
   "cell_type": "code",
   "execution_count": 48,
   "metadata": {},
   "outputs": [
    {
     "data": {
      "text/plain": [
       "(2249276, 11)"
      ]
     },
     "execution_count": 48,
     "metadata": {},
     "output_type": "execute_result"
    }
   ],
   "source": [
    "ret_df.shape"
   ]
  },
  {
   "attachments": {
    "image.png": {
     "image/png": "[encoded data removed]"
    }
   },
   "cell_type": "markdown",
   "metadata": {},
   "source": [
    "Function calc_return(....)\n",
    "\n",
    "    calculate the effective(realized) annualized return on the funded amount of a loan\n",
    "    assumption 1: monthly cash flow can be invested at a monthly rate of return rr\n",
    "    This assumption allows us to simplify the return calculation to a sum of a geometric series\n",
    "    with cash payments of: m, m(1+rr), m(1+rr)^2, m(1+rr)^3, ...,m(1+rr)^(last_pymnt_d -1) at the \n",
    "    end of months: 0,1,2,3,...last_pyment_d - 1 respectively\n",
    "    The sequence of cash flows then forms a geometric series of the form\n",
    "                                        a + ar + ar2 + ... + ar(n-1)\n",
    "                                        which has a closed form sum:\n",
    "![image.png](attachment:image.png)\n",
    "\n",
    "    where r = (1+rr) and a = m, the effective monthly installment payment over the actual life of the loan.\n",
    "    \n",
    "    assumption 2: when loan terminates early(due to default or pre-payment) total cash received\n",
    "    + accrued interest are re-invested at the same rate rr from that time till the term of the loan"
   ]
  },
  {
   "cell_type": "code",
   "execution_count": 49,
   "metadata": {},
   "outputs": [],
   "source": [
    "def calc_return(total_pymnt, term, funded_amnt, recoveries, realized_loan_term_mths, r=0.01):\n",
    "    effective_monthly_installments = (total_pymnt - recoveries)/realized_loan_term_mths\n",
    "    \n",
    "    #get total cash flow at loan termination as the geometric sum of effective monthly installments\n",
    "    #yielding a constant rate of return rr.\n",
    "    #This is from assumption #1\n",
    "    rr =r/12 #expecting r to be the annual yield\n",
    "    total_cash_flow = effective_monthly_installments * ((1 - (1 + rr)**realized_loan_term_mths)) / (1 - (1 + rr))\n",
    "    \n",
    "    #add back recoveries to the get the lump sum at loan termination.\n",
    "    total_cash_flow+= recoveries \n",
    "\n",
    "    #assumption #2. invest at rr till original term of loan.\n",
    "    total_cash_flow = total_cash_flow * ((1 + rr)**(max(0,term - realized_loan_term_mths)))\n",
    "    \n",
    "    #calculate total return R and annualize\n",
    "    R = (total_cash_flow - funded_amnt) / funded_amnt\n",
    "    return ((1+R)**(12/term) - 1)\n"
   ]
  },
  {
   "cell_type": "code",
   "execution_count": 51,
   "metadata": {},
   "outputs": [
    {
     "data": {
      "text/html": [
       "<div>\n",
       "<style scoped>\n",
       "    .dataframe tbody tr th:only-of-type {\n",
       "        vertical-align: middle;\n",
       "    }\n",
       "\n",
       "    .dataframe tbody tr th {\n",
       "        vertical-align: top;\n",
       "    }\n",
       "\n",
       "    .dataframe thead th {\n",
       "        text-align: right;\n",
       "    }\n",
       "</style>\n",
       "<table border=\"1\" class=\"dataframe\">\n",
       "  <thead>\n",
       "    <tr style=\"text-align: right;\">\n",
       "      <th></th>\n",
       "      <th>id</th>\n",
       "      <th>issue_d</th>\n",
       "      <th>last_pymnt_d</th>\n",
       "      <th>total_pymnt</th>\n",
       "      <th>term</th>\n",
       "      <th>funded_amnt</th>\n",
       "      <th>recoveries</th>\n",
       "      <th>grade</th>\n",
       "      <th>sub_grade</th>\n",
       "      <th>loan_status</th>\n",
       "      <th>realized_loan_term_mths</th>\n",
       "    </tr>\n",
       "  </thead>\n",
       "  <tbody>\n",
       "    <tr>\n",
       "      <th>668557</th>\n",
       "      <td>81545083</td>\n",
       "      <td>2016-06-01</td>\n",
       "      <td>2019-03-01</td>\n",
       "      <td>14627.750000</td>\n",
       "      <td>60</td>\n",
       "      <td>21000.0</td>\n",
       "      <td>0.0</td>\n",
       "      <td>B</td>\n",
       "      <td>B3</td>\n",
       "      <td>Current</td>\n",
       "      <td>33.0</td>\n",
       "    </tr>\n",
       "    <tr>\n",
       "      <th>1361733</th>\n",
       "      <td>145340437</td>\n",
       "      <td>2018-12-01</td>\n",
       "      <td>2019-03-01</td>\n",
       "      <td>30919.034641</td>\n",
       "      <td>60</td>\n",
       "      <td>30700.0</td>\n",
       "      <td>0.0</td>\n",
       "      <td>E</td>\n",
       "      <td>E2</td>\n",
       "      <td>Fully Paid</td>\n",
       "      <td>3.0</td>\n",
       "    </tr>\n",
       "  </tbody>\n",
       "</table>\n",
       "</div>"
      ],
      "text/plain": [
       "                id     issue_d last_pymnt_d   total_pymnt  term  funded_amnt  \\\n",
       "668557    81545083  2016-06-01   2019-03-01  14627.750000    60      21000.0   \n",
       "1361733  145340437  2018-12-01   2019-03-01  30919.034641    60      30700.0   \n",
       "\n",
       "         recoveries grade sub_grade loan_status  realized_loan_term_mths  \n",
       "668557          0.0     B        B3     Current                     33.0  \n",
       "1361733         0.0     E        E2  Fully Paid                      3.0  "
      ]
     },
     "execution_count": 51,
     "metadata": {},
     "output_type": "execute_result"
    }
   ],
   "source": [
    "ret_df.sample(2)"
   ]
  },
  {
   "cell_type": "code",
   "execution_count": 52,
   "metadata": {},
   "outputs": [],
   "source": [
    "rr = 0.01\n",
    "ret_df[\"annualized_returns\"] = ret_df.apply(lambda row: calc_return(row[3], row[4], row[5], row[6], row[10], rr), axis =1)"
   ]
  },
  {
   "cell_type": "code",
   "execution_count": 53,
   "metadata": {},
   "outputs": [
    {
     "data": {
      "text/plain": [
       "(2249276, 12)"
      ]
     },
     "execution_count": 53,
     "metadata": {},
     "output_type": "execute_result"
    }
   ],
   "source": [
    "ret_df.shape"
   ]
  },
  {
   "cell_type": "code",
   "execution_count": 54,
   "metadata": {},
   "outputs": [],
   "source": [
    "ret_df = ret_df.astype({'id': 'uint32'})\n"
   ]
  },
  {
   "cell_type": "code",
   "execution_count": 55,
   "metadata": {},
   "outputs": [
    {
     "data": {
      "text/plain": [
       "(array([-1. , -0.8, -0.6, -0.4, -0.2,  0. ,  0.2,  0.4]),\n",
       " <a list of 8 Text xticklabel objects>)"
      ]
     },
     "execution_count": 55,
     "metadata": {},
     "output_type": "execute_result"
    },
    {
     "data": {
      "image/png": "[encoded data removed]",
      "text/plain": [
       "<Figure size 432x288 with 1 Axes>"
      ]
     },
     "metadata": {
      "needs_background": "light"
     },
     "output_type": "display_data"
    }
   ],
   "source": [
    "ret_df.hist('annualized_returns', bins=100)\n",
    "pyplot.axvline(x=0, color='r', linestyle='--')\n",
    "pyplot.title(\"Returns for all loans\")\n",
    "pyplot.ylabel(\"Count\")\n",
    "pyplot.xticks()"
   ]
  },
  {
   "cell_type": "code",
   "execution_count": 62,
   "metadata": {},
   "outputs": [
    {
     "data": {
      "text/plain": [
       "Text(0.5, 0, 'Annualized Returns')"
      ]
     },
     "execution_count": 62,
     "metadata": {},
     "output_type": "execute_result"
    },
    {
     "data": {
      "image/png": "[encoded data removed]",
      "text/plain": [
       "<Figure size 432x288 with 1 Axes>"
      ]
     },
     "metadata": {
      "needs_background": "light"
     },
     "output_type": "display_data"
    }
   ],
   "source": [
    "ret_df.loc[(ret_df.loan_status == 'Fully Paid')].hist('annualized_returns', bins=100)\n",
    "pyplot.title(\"Annualized Returns of Non-Defaulting Loans\")\n",
    "pyplot.ylabel(\"Count\")\n",
    "pyplot.xlabel(\"Annualized Returns\")"
   ]
  },
  {
   "cell_type": "code",
   "execution_count": 65,
   "metadata": {},
   "outputs": [
    {
     "data": {
      "text/plain": [
       "<matplotlib.lines.Line2D at 0x13f46bcc0>"
      ]
     },
     "execution_count": 65,
     "metadata": {},
     "output_type": "execute_result"
    },
    {
     "data": {
      "image/png": "[encoded data removed]",
      "text/plain": [
       "<Figure size 432x288 with 1 Axes>"
      ]
     },
     "metadata": {
      "needs_background": "light"
     },
     "output_type": "display_data"
    }
   ],
   "source": [
    "ret_df.loc[(ret_df.loan_status == 'Charged Off')].hist('annualized_returns', bins=80)\n",
    "pyplot.title(\"Annualized Returns of Defaulting Loans\")\n",
    "pyplot.ylabel(\"Count\")\n",
    "pyplot.xlabel(\"Annualized Returns\")\n",
    "pyplot.axvline(x=0, color='r', linestyle='--')\n"
   ]
  },
  {
   "cell_type": "code",
   "execution_count": 68,
   "metadata": {},
   "outputs": [
    {
     "data": {
      "text/plain": [
       "0.08140299213840613"
      ]
     },
     "execution_count": 68,
     "metadata": {},
     "output_type": "execute_result"
    }
   ],
   "source": [
    "ret_df.loc[(ret_df.loan_status == 'Charged Off') & (ret_df.annualized_returns >= 0)].shape[0]/ret_df.loc[(ret_df.loan_status == 'Charged Off')].shape[0]"
   ]
  },
  {
   "cell_type": "code",
   "execution_count": null,
   "metadata": {},
   "outputs": [],
   "source": []
  },
  {
   "cell_type": "code",
   "execution_count": 69,
   "metadata": {},
   "outputs": [],
   "source": [
    "def fit_return_models(X_train, Y_train, X_test, Y_test, model_name =\"Ridge\",\n",
    "                      cv_parameters = {},\n",
    "                      random_state = 1980):\n",
    "    '''\n",
    "    fits 2 return models using the sklearn model object implied by model name. One model for loans that defaulted and another for \n",
    "    loans that didn't default.\n",
    "    code borrowed mostly from the danguetta.com paper/notebook.\n",
    "    '''\n",
    "    \n",
    "    np.random.seed(random_state)\n",
    "    \n",
    "    #choose model based on user selection\n",
    "    if model_name == \"Lasso\":\n",
    "        model = linear_model.Lasso(normalize=True)\n",
    "    elif model_name == \"Ridge\":\n",
    "        model = linear_model.Ridge(normalize=True)\n",
    "    elif model_name == \"RandomF\":\n",
    "        model = RandomForestRegressor()\n",
    "\n",
    "    \n",
    " \n",
    "    #split data into defaulted series and non-defaulted series\n",
    "\n",
    "    Y_train_bad = Y_train.loc[(Y_train._good == 0),['id', 'annualized_returns'] ]\n",
    "    X_train_bad = X_train[X_train.id.isin(Y_train_bad.id)]\n",
    "    Y_test_bad  = Y_test.loc[(Y_test._good == 0),['id', 'annualized_returns'] ]\n",
    "    X_test_bad  = X_test[X_test.id.isin(Y_test_bad.id)]\n",
    "    \n",
    "    Y_train_good = Y_train.loc[(Y_train._good == 1),['id', 'annualized_returns'] ]\n",
    "    X_train_good = X_train[X_train.id.isin(Y_train_good.id)]  \n",
    "    Y_test_good  = Y_test.loc[(Y_test._good == 1),['id', 'annualized_returns'] ]\n",
    "    X_test_good  = X_test[X_test.id.isin(Y_test_good.id)]\n",
    "\n",
    "    \n",
    "    ##remove ids for now to be added back afterwards\n",
    "    train_bad_loan_ids = X_train_bad.pop('id')\n",
    "    test_bad_loan_ids = pd.DataFrame(X_test_bad.pop('id'), columns=['id'])\n",
    "\n",
    "\n",
    "    train_good_loan_ids = X_train_good.pop('id')\n",
    "    test_good_loan_ids = pd.DataFrame(X_test_good.pop('id'), columns=['id'])\n",
    "    \n",
    "\n",
    "    \n",
    "    ##drop ids from Y datasets\n",
    "    Y_train_good.drop('id', axis =1, inplace=True)\n",
    "    Y_train_bad.drop('id', axis=1, inplace=True)\n",
    "    \n",
    "    Y_test_good.drop('id', axis =1, inplace=True)\n",
    "    Y_test_bad.drop('id', axis =1, inplace=True)\n",
    "    \n",
    "\n",
    "    \n",
    "    ##run model\n",
    "    cv_model_bad = GridSearchCV(model, cv_parameters, scoring='r2')\n",
    "    cv_model_good = GridSearchCV(model, cv_parameters, scoring='r2')\n",
    "\n",
    "    #time and fit the models\n",
    "    start_time = time.time()\n",
    "    print(\"fitting model for defaulted loans\")\n",
    "    if model_name in ['RandomF']:\n",
    "        cv_model_bad.fit(X_train_bad, Y_train_bad.values.ravel())\n",
    "    else:\n",
    "        cv_model_bad.fit(X_train_bad, Y_train_bad)\n",
    "        \n",
    "    print(\"fitting model for non-defaulted loans\")\n",
    "    if model_name in ['RandomF']:\n",
    "        cv_model_good.fit(X_train_good, Y_train_good.values.ravel())\n",
    "    else:\n",
    "        cv_model_good.fit(X_train_good, Y_train_good)\n",
    "        \n",
    "    end_time = time.time()\n",
    "\n",
    "    #pick best model from the fit for each regressor\n",
    "    best_model_bad = cv_model_bad.best_estimator_\n",
    "    best_model_good = cv_model_good.best_estimator_\n",
    "            \n",
    "    #tidy outputs    \n",
    "    print(\"=========================\")\n",
    "    print(\"  Model: \" + model_name )\n",
    "    print(\"=========================\")\n",
    "\n",
    "    print(\"Fit time: \" + str(round(end_time - start_time, 2)) + \" seconds\")\n",
    "    print(\"Optimal parameters:\")\n",
    "    print(\"model_default:\",cv_model_bad.best_params_, \"model_non-default\",cv_model_good.best_params_)\n",
    "\n",
    "    ##predicted returns - need to join back to get loan ids\n",
    "    predicted_non_default_return = pd.DataFrame(best_model_good.predict(X_test_good), columns =['ret'])\n",
    "    predicted_default_return     = pd.DataFrame(best_model_bad.predict(X_test_bad), columns =['ret'])\n",
    "    \n",
    "    \n",
    "    ## add ids back\n",
    "    predicted_non_default_return = list(zip(test_good_loan_ids.id, predicted_non_default_return.ret))\n",
    "    \n",
    "    predicted_default_return = list(zip(test_bad_loan_ids.id, predicted_default_return.ret))\n",
    "    \n",
    "    print(\"\")\n",
    "    print(\"Testing r2 scores:\")\n",
    "    # Here we use different testing set to report the performance\n",
    "    test_scores = {'model_default':r2_score(Y_test_bad,best_model_bad.predict(X_test_bad)),\n",
    "                      'model_non_default':r2_score(Y_test_good,best_model_good.predict(X_test_good))}\n",
    " \n",
    "    print(\"model_default:\", test_scores['model_default'])\n",
    "    print(\"model_non_default:\", test_scores['model_non_default'])\n",
    "\n",
    "    return { 'model_default':best_model_bad, 'model_non_default':best_model_good, 'predicted_non_default_return':predicted_non_default_return,\n",
    "              'predicted_default_return':predicted_default_return,'r2_scores':test_scores }\n",
    "\n",
    "    \n",
    "    \n"
   ]
  },
  {
   "cell_type": "code",
   "execution_count": null,
   "metadata": {},
   "outputs": [],
   "source": []
  },
  {
   "cell_type": "markdown",
   "metadata": {},
   "source": [
    "### Testing stuff\n"
   ]
  },
  {
   "cell_type": "code",
   "execution_count": 83,
   "metadata": {},
   "outputs": [],
   "source": [
    "#pd.DataFrame(ret_df.issue_d.apply(lambda t:t.year)).groupby('issue_d').size().sort_values(ascending=False)"
   ]
  },
  {
   "cell_type": "code",
   "execution_count": 84,
   "metadata": {},
   "outputs": [],
   "source": [
    "my_X_train = X_train.copy()\n",
    "my_Y_train = Y_train.copy()\n",
    "\n",
    "my_X_test = X_test.copy()\n",
    "my_Y_test = Y_test.copy()"
   ]
  },
  {
   "cell_type": "code",
   "execution_count": 85,
   "metadata": {},
   "outputs": [],
   "source": [
    "#merge returns data\n",
    "my_Y_train = pd.merge(my_Y_train, ret_df[['id','annualized_returns']], how=\"left\", on ='id')\n",
    "my_Y_test = pd.merge(my_Y_test, ret_df[['id','annualized_returns']], how=\"left\", on ='id')\n"
   ]
  },
  {
   "cell_type": "code",
   "execution_count": 86,
   "metadata": {},
   "outputs": [
    {
     "data": {
      "text/plain": [
       "id                       0\n",
       "_good                    0\n",
       "annualized_returns    2253\n",
       "dtype: int64"
      ]
     },
     "execution_count": 86,
     "metadata": {},
     "output_type": "execute_result"
    }
   ],
   "source": [
    "my_Y_test.isnull().sum(axis=0)"
   ]
  },
  {
   "cell_type": "code",
   "execution_count": 87,
   "metadata": {},
   "outputs": [],
   "source": [
    "my_Y_train.dropna(inplace=True)\n",
    "my_Y_test.dropna(inplace=True)"
   ]
  },
  {
   "cell_type": "markdown",
   "metadata": {},
   "source": [
    "## Test regression models\n"
   ]
  },
  {
   "cell_type": "markdown",
   "metadata": {},
   "source": [
    "### Ridge"
   ]
  },
  {
   "cell_type": "code",
   "execution_count": 88,
   "metadata": {},
   "outputs": [
    {
     "name": "stdout",
     "output_type": "stream",
     "text": [
      "fitting model for defaulted loans\n",
      "fitting model for non-defaulted loans\n",
      "=========================\n",
      "  Model: Ridge\n",
      "=========================\n",
      "Fit time: 25.02 seconds\n",
      "Optimal parameters:\n",
      "model_default: {'alpha': 2.1544346900318867e-05, 'max_iter': 2000} model_non-default {'alpha': 1.6681005372000591e-06, 'max_iter': 2000}\n",
      "\n",
      "Testing r2 scores:\n",
      "model_default: 0.09609842763909493\n",
      "model_non_default: 0.3688380393363825\n"
     ]
    }
   ],
   "source": [
    "cv_parameters = {'alpha': np.logspace(-8, 2, num = 10), 'max_iter' : [2000]}\n",
    "\n",
    "reg_ridge = fit_return_models(my_X_train, my_Y_train, my_X_test, my_Y_test, model_name =\"Ridge\",\n",
    "               cv_parameters = cv_parameters)"
   ]
  },
  {
   "cell_type": "code",
   "execution_count": 89,
   "metadata": {},
   "outputs": [],
   "source": [
    "list_ids, returns_non_defaults = zip(*reg_ridge['predicted_non_default_return'])\n",
    "list_ids, returns_defaults = zip(*reg_ridge['predicted_default_return'])\n",
    "\n",
    "actual_defaults  = my_Y_test.loc[(my_Y_test._good == 0),['annualized_returns']]\n",
    "actual_non_defaults = my_Y_test.loc[(my_Y_test._good == 1),['annualized_returns']]\n"
   ]
  },
  {
   "cell_type": "code",
   "execution_count": 90,
   "metadata": {},
   "outputs": [
    {
     "name": "stdout",
     "output_type": "stream",
     "text": [
      "Means of various populations, actual vs. pred:\n",
      "--------------------------------------------------\n",
      "actual_non_defaults:0.0506\n",
      "predicted_non_defaults:0.0506\n",
      "\n",
      "\n",
      "actual_defaults:-0.1729\n",
      "predicted_defaults:-0.1727\n"
     ]
    }
   ],
   "source": [
    "print(\"Means of various populations, actual vs. pred:\")\n",
    "print(\"-\"*50)\n",
    "print(f'actual_non_defaults:{np.mean(actual_non_defaults.annualized_returns):.4f}')\n",
    "print(f'predicted_non_defaults:{np.mean(returns_non_defaults):.4f}')\n",
    "print(\"\\n\")\n",
    "print(f'actual_defaults:{np.mean(actual_defaults.annualized_returns):.4f}')\n",
    "print(f'predicted_defaults:{np.mean(returns_defaults):.4f}')"
   ]
  },
  {
   "cell_type": "code",
   "execution_count": 93,
   "metadata": {},
   "outputs": [
    {
     "data": {
      "image/png": "[encoded data removed]",
      "text/plain": [
       "<Figure size 432x288 with 1 Axes>"
      ]
     },
     "metadata": {
      "needs_background": "light"
     },
     "output_type": "display_data"
    }
   ],
   "source": [
    "bins = np.linspace(-0., 0.3, 100)\n",
    "\n",
    "pyplot.hist(actual_non_defaults.annualized_returns, bins, alpha=0.5, label='actual_non_defaults')\n",
    "\n",
    "pyplot.hist(returns_non_defaults, bins, alpha=0.5, label='predicted_non_defaults')\n",
    "\n",
    "pyplot.legend(loc='upper right')\n",
    "pyplot.title(\"Non-defaulting loan returns(actual vs. predicted)\")\n",
    "pyplot.ylabel(\"Count\")\n",
    "pyplot.xlabel(\"Annualized returns\")\n",
    "pyplot.show()"
   ]
  },
  {
   "cell_type": "code",
   "execution_count": 95,
   "metadata": {
    "scrolled": true
   },
   "outputs": [
    {
     "data": {
      "image/png": "[encoded data removed]",
      "text/plain": [
       "<Figure size 432x288 with 1 Axes>"
      ]
     },
     "metadata": {
      "needs_background": "light"
     },
     "output_type": "display_data"
    }
   ],
   "source": [
    "bins = np.linspace(-0.4, 0.3, 100)\n",
    "\n",
    "pyplot.hist(actual_defaults.annualized_returns,  bins, alpha=0.5, label='actual_defaults')\n",
    "pyplot.hist(returns_defaults,  bins, alpha=0.5, label='predicted_defaults')\n",
    "pyplot.legend(loc='upper right')\n",
    "pyplot.title(\"Defaulting loan returns(actual vs. predicted)\")\n",
    "pyplot.ylabel(\"Count\")\n",
    "pyplot.xlabel(\"Annualized returns\")\n",
    "pyplot.show()"
   ]
  },
  {
   "cell_type": "markdown",
   "metadata": {},
   "source": [
    "### Random Forest"
   ]
  },
  {
   "cell_type": "code",
   "execution_count": 526,
   "metadata": {},
   "outputs": [
    {
     "name": "stdout",
     "output_type": "stream",
     "text": [
      "fitting model for defaulted loans\n",
      "fitting model for non-defaulted loans\n"
     ]
    },
    {
     "name": "stderr",
     "output_type": "stream",
     "text": [
      "ERROR:root:Internal Python error in the inspect module.\n",
      "Below is the traceback from this internal error.\n",
      "\n"
     ]
    },
    {
     "name": "stdout",
     "output_type": "stream",
     "text": [
      "Traceback (most recent call last):\n",
      "  File \"/Users/rknatuahene/anaconda3/lib/python3.7/site-packages/IPython/core/interactiveshell.py\", line 3267, in run_code\n",
      "    exec(code_obj, self.user_global_ns, self.user_ns)\n",
      "  File \"<ipython-input-526-bf4c6c655537>\", line 6, in <module>\n",
      "    cv_parameters = cv_parameters)\n",
      "  File \"<ipython-input-513-b3af62e766ad>\", line 68, in fit_return_models\n",
      "    cv_model_good.fit(X_train_good, Y_train_good.values.ravel())\n",
      "  File \"/Users/rknatuahene/anaconda3/lib/python3.7/site-packages/sklearn/utils/validation.py\", line 73, in inner_f\n",
      "    return f(**kwargs)\n",
      "  File \"/Users/rknatuahene/anaconda3/lib/python3.7/site-packages/sklearn/model_selection/_search.py\", line 736, in fit\n",
      "    self._run_search(evaluate_candidates)\n",
      "  File \"/Users/rknatuahene/anaconda3/lib/python3.7/site-packages/sklearn/model_selection/_search.py\", line 1188, in _run_search\n",
      "    evaluate_candidates(ParameterGrid(self.param_grid))\n",
      "  File \"/Users/rknatuahene/anaconda3/lib/python3.7/site-packages/sklearn/model_selection/_search.py\", line 715, in evaluate_candidates\n",
      "    cv.split(X, y, groups)))\n",
      "  File \"/Users/rknatuahene/anaconda3/lib/python3.7/site-packages/joblib/parallel.py\", line 1032, in __call__\n",
      "    while self.dispatch_one_batch(iterator):\n",
      "  File \"/Users/rknatuahene/anaconda3/lib/python3.7/site-packages/joblib/parallel.py\", line 847, in dispatch_one_batch\n",
      "    self._dispatch(tasks)\n",
      "  File \"/Users/rknatuahene/anaconda3/lib/python3.7/site-packages/joblib/parallel.py\", line 765, in _dispatch\n",
      "    job = self._backend.apply_async(batch, callback=cb)\n",
      "  File \"/Users/rknatuahene/anaconda3/lib/python3.7/site-packages/joblib/_parallel_backends.py\", line 206, in apply_async\n",
      "    result = ImmediateResult(func)\n",
      "  File \"/Users/rknatuahene/anaconda3/lib/python3.7/site-packages/joblib/_parallel_backends.py\", line 570, in __init__\n",
      "    self.results = batch()\n",
      "  File \"/Users/rknatuahene/anaconda3/lib/python3.7/site-packages/joblib/parallel.py\", line 253, in __call__\n",
      "    for func, args, kwargs in self.items]\n",
      "  File \"/Users/rknatuahene/anaconda3/lib/python3.7/site-packages/joblib/parallel.py\", line 253, in <listcomp>\n",
      "    for func, args, kwargs in self.items]\n",
      "  File \"/Users/rknatuahene/anaconda3/lib/python3.7/site-packages/sklearn/model_selection/_validation.py\", line 531, in _fit_and_score\n",
      "    estimator.fit(X_train, y_train, **fit_params)\n",
      "  File \"/Users/rknatuahene/anaconda3/lib/python3.7/site-packages/sklearn/ensemble/_forest.py\", line 392, in fit\n",
      "    for i, t in enumerate(trees))\n",
      "  File \"/Users/rknatuahene/anaconda3/lib/python3.7/site-packages/joblib/parallel.py\", line 1029, in __call__\n",
      "    if self.dispatch_one_batch(iterator):\n",
      "  File \"/Users/rknatuahene/anaconda3/lib/python3.7/site-packages/joblib/parallel.py\", line 847, in dispatch_one_batch\n",
      "    self._dispatch(tasks)\n",
      "  File \"/Users/rknatuahene/anaconda3/lib/python3.7/site-packages/joblib/parallel.py\", line 765, in _dispatch\n",
      "    job = self._backend.apply_async(batch, callback=cb)\n",
      "  File \"/Users/rknatuahene/anaconda3/lib/python3.7/site-packages/joblib/_parallel_backends.py\", line 206, in apply_async\n",
      "    result = ImmediateResult(func)\n",
      "  File \"/Users/rknatuahene/anaconda3/lib/python3.7/site-packages/joblib/_parallel_backends.py\", line 570, in __init__\n",
      "    self.results = batch()\n",
      "  File \"/Users/rknatuahene/anaconda3/lib/python3.7/site-packages/joblib/parallel.py\", line 253, in __call__\n",
      "    for func, args, kwargs in self.items]\n",
      "  File \"/Users/rknatuahene/anaconda3/lib/python3.7/site-packages/joblib/parallel.py\", line 253, in <listcomp>\n",
      "    for func, args, kwargs in self.items]\n",
      "  File \"/Users/rknatuahene/anaconda3/lib/python3.7/site-packages/sklearn/ensemble/_forest.py\", line 168, in _parallel_build_trees\n",
      "    tree.fit(X, y, sample_weight=curr_sample_weight, check_input=False)\n",
      "  File \"/Users/rknatuahene/anaconda3/lib/python3.7/site-packages/sklearn/tree/_classes.py\", line 1246, in fit\n",
      "    X_idx_sorted=X_idx_sorted)\n",
      "  File \"/Users/rknatuahene/anaconda3/lib/python3.7/site-packages/sklearn/tree/_classes.py\", line 375, in fit\n",
      "    builder.build(self.tree_, X, y, sample_weight, X_idx_sorted)\n",
      "KeyboardInterrupt\n",
      "\n",
      "During handling of the above exception, another exception occurred:\n",
      "\n",
      "Traceback (most recent call last):\n",
      "  File \"/Users/rknatuahene/anaconda3/lib/python3.7/site-packages/IPython/core/interactiveshell.py\", line 2018, in showtraceback\n",
      "    stb = value._render_traceback_()\n",
      "AttributeError: 'KeyboardInterrupt' object has no attribute '_render_traceback_'\n",
      "\n",
      "During handling of the above exception, another exception occurred:\n",
      "\n",
      "Traceback (most recent call last):\n",
      "  File \"/Users/rknatuahene/anaconda3/lib/python3.7/site-packages/IPython/core/ultratb.py\", line 1095, in get_records\n",
      "    return _fixed_getinnerframes(etb, number_of_lines_of_context, tb_offset)\n",
      "  File \"/Users/rknatuahene/anaconda3/lib/python3.7/site-packages/IPython/core/ultratb.py\", line 313, in wrapped\n",
      "    return f(*args, **kwargs)\n",
      "  File \"/Users/rknatuahene/anaconda3/lib/python3.7/site-packages/IPython/core/ultratb.py\", line 347, in _fixed_getinnerframes\n",
      "    records = fix_frame_records_filenames(inspect.getinnerframes(etb, context))\n",
      "  File \"/Users/rknatuahene/anaconda3/lib/python3.7/inspect.py\", line 1500, in getinnerframes\n",
      "    frameinfo = (tb.tb_frame,) + getframeinfo(tb, context)\n",
      "  File \"/Users/rknatuahene/anaconda3/lib/python3.7/inspect.py\", line 1458, in getframeinfo\n",
      "    filename = getsourcefile(frame) or getfile(frame)\n",
      "  File \"/Users/rknatuahene/anaconda3/lib/python3.7/inspect.py\", line 696, in getsourcefile\n",
      "    if getattr(getmodule(object, filename), '__loader__', None) is not None:\n",
      "  File \"/Users/rknatuahene/anaconda3/lib/python3.7/inspect.py\", line 733, in getmodule\n",
      "    if ismodule(module) and hasattr(module, '__file__'):\n",
      "KeyboardInterrupt\n"
     ]
    },
    {
     "ename": "KeyboardInterrupt",
     "evalue": "",
     "output_type": "error",
     "traceback": [
      "\u001b[0;31m---------------------------------------------------------------------------\u001b[0m"
     ]
    }
   ],
   "source": [
    "# #to be fine tuned...but too slow on my mac. took 2hours to run with these parameters!\n",
    "# cv_parameters = {'min_samples_leaf':[100],\n",
    "#                  'n_estimators': [100] }\n",
    "\n",
    "# reg_rf = fit_return_models(my_X_train, my_Y_train, my_X_test, my_Y_test, model_name =\"RandomF\",\n",
    "#                cv_parameters = cv_parameters)"
   ]
  },
  {
   "cell_type": "code",
   "execution_count": 96,
   "metadata": {},
   "outputs": [
    {
     "data": {
      "text/plain": [
       "Index(['id', '_good', 'annualized_returns'], dtype='object')"
      ]
     },
     "execution_count": 96,
     "metadata": {},
     "output_type": "execute_result"
    }
   ],
   "source": [
    "my_Y_train.columns"
   ]
  },
  {
   "cell_type": "code",
   "execution_count": 97,
   "metadata": {},
   "outputs": [],
   "source": [
    "#### create risk data.\n",
    "risk_data_train = pd.merge(my_X_train[['id', 'grade', 'sub_grade', 'term']], my_Y_train, how='inner', on='id')"
   ]
  },
  {
   "cell_type": "code",
   "execution_count": 98,
   "metadata": {},
   "outputs": [
    {
     "data": {
      "text/plain": [
       "id                    0\n",
       "grade                 0\n",
       "sub_grade             0\n",
       "term                  0\n",
       "_good                 0\n",
       "annualized_returns    0\n",
       "dtype: int64"
      ]
     },
     "execution_count": 98,
     "metadata": {},
     "output_type": "execute_result"
    }
   ],
   "source": [
    "risk_data_train.isnull().sum(axis=0)"
   ]
  },
  {
   "cell_type": "code",
   "execution_count": 99,
   "metadata": {},
   "outputs": [],
   "source": [
    "##create risk scores\n",
    "\n",
    "def var_95(ret):\n",
    "    return np.percentile(ret,  5)\n",
    "\n",
    "def var_99(ret):\n",
    "    return np.percentile(ret, 1)\n",
    "\n",
    "def ES_95(ret):\n",
    "    threshold = var_95(ret)\n",
    "    return np.mean(ret[ret < threshold])\n",
    "\n",
    "def ES_99(ret):\n",
    "    threshold = var_99(ret)\n",
    "    return np.mean(ret[ret < threshold])\n",
    "\n"
   ]
  },
  {
   "cell_type": "code",
   "execution_count": 100,
   "metadata": {},
   "outputs": [],
   "source": [
    "risk_summary_grades_all = pd.DataFrame(risk_data_train.groupby(['grade'])['annualized_returns'].agg(['count', 'median' , 'mean', 'min','max', 'std', var_95, var_99, ES_95, ES_99])).reset_index()\n",
    "\n"
   ]
  },
  {
   "cell_type": "code",
   "execution_count": 101,
   "metadata": {},
   "outputs": [],
   "source": [
    "risk_summary_sub_grades_all = pd.DataFrame(risk_data_train.groupby(['sub_grade'])['annualized_returns'].agg(['count', 'median' , 'mean', 'min','max', 'std', var_95, var_99, ES_95, ES_99])).reset_index()\n"
   ]
  },
  {
   "cell_type": "code",
   "execution_count": 102,
   "metadata": {},
   "outputs": [],
   "source": [
    "risk_summary_sub_grades_5yr = pd.DataFrame(risk_data_train.loc[(risk_data_train.term == 1)].groupby(['sub_grade'])['annualized_returns'].agg(['count', 'median' , 'mean', 'min','max', 'std', var_95, var_99, ES_95, ES_99])).reset_index()\n"
   ]
  },
  {
   "cell_type": "code",
   "execution_count": 103,
   "metadata": {},
   "outputs": [],
   "source": [
    "risk_summary_sub_grades_3yr = pd.DataFrame(risk_data_train.loc[(risk_data_train.term == 0)].\\\n",
    "                                           groupby(['sub_grade'])['annualized_returns'].\\\n",
    "                                           agg(['count', 'median' , 'mean', 'min','max', 'std',\\\n",
    "                                           var_95, var_99, ES_95, ES_99])).reset_index()\n"
   ]
  },
  {
   "cell_type": "code",
   "execution_count": 128,
   "metadata": {
    "scrolled": true
   },
   "outputs": [
    {
     "data": {
      "image/png": "[encoded data removed]",
      "text/plain": [
       "<Figure size 720x360 with 1 Axes>"
      ]
     },
     "metadata": {
      "needs_background": "light"
     },
     "output_type": "display_data"
    }
   ],
   "source": [
    "risk_summary_sub_grades_all\n",
    "pyplot.rcParams['figure.figsize'] = [10, 5]\n",
    "\n",
    "pyplot.plot(risk_summary_sub_grades_all.sub_grade, abs(risk_summary_sub_grades_all.ES_95))\n",
    "pyplot.plot(risk_summary_sub_grades_all.sub_grade, risk_summary_sub_grades_all['std'])\n",
    "\n",
    "pyplot.legend(['Expected_Shortfall_95(loss)', 'Std. Dev'], loc='upper left')\n",
    "pyplot.title('Risk measures by LC sub-grade(All loans in training set)')\n",
    "pyplot.xlabel('LC sub-grade')\n",
    "pyplot.ylabel('%')\n",
    "pyplot.show()"
   ]
  },
  {
   "cell_type": "code",
   "execution_count": 104,
   "metadata": {},
   "outputs": [
    {
     "data": {
      "image/png": "[encoded data removed]",
      "text/plain": [
       "<Figure size 720x360 with 1 Axes>"
      ]
     },
     "metadata": {
      "needs_background": "light"
     },
     "output_type": "display_data"
    }
   ],
   "source": [
    "pyplot.rcParams['figure.figsize'] = [10, 5]\n",
    "\n",
    "pyplot.plot(risk_summary_sub_grades_3yr.sub_grade, abs(risk_summary_sub_grades_3yr.ES_95))\n",
    "pyplot.plot(risk_summary_sub_grades_3yr.sub_grade, risk_summary_sub_grades_3yr['median'])\n",
    "pyplot.plot(risk_summary_sub_grades_3yr.sub_grade, risk_summary_sub_grades_3yr['std'])\n",
    "#pyplot.plot(risk_summary_sub_grades_3yr.sub_grade, (risk_summary_sub_grades_3yr['median']/abs(risk_summary_sub_grades_3yr.ES_95)))\n",
    "\n",
    "pyplot.legend(['Expected_Shortfall_95(loss)', 'median_return', 'std dev'], loc='upper left')\n",
    "pyplot.title('3 yr loans risk and return graphs by sub-grade')\n",
    "pyplot.xlabel('sub-grade')\n",
    "pyplot.show()"
   ]
  },
  {
   "cell_type": "code",
   "execution_count": 105,
   "metadata": {},
   "outputs": [
    {
     "data": {
      "image/png": "[encoded data removed]",
      "text/plain": [
       "<Figure size 720x360 with 1 Axes>"
      ]
     },
     "metadata": {
      "needs_background": "light"
     },
     "output_type": "display_data"
    }
   ],
   "source": [
    "pyplot.rcParams['figure.figsize'] = [10, 5]\n",
    "\n",
    "pyplot.plot(risk_summary_sub_grades_3yr.sub_grade, (risk_summary_sub_grades_3yr['median']/abs(risk_summary_sub_grades_3yr.ES_95)))\n",
    "pyplot.plot(risk_summary_sub_grades_5yr.sub_grade, (risk_summary_sub_grades_5yr['median']/abs(risk_summary_sub_grades_5yr.ES_95)))\n",
    "\n",
    "pyplot.plot(risk_summary_sub_grades_3yr.sub_grade, (risk_summary_sub_grades_3yr['median']/risk_summary_sub_grades_3yr['std']))\n",
    "pyplot.plot(risk_summary_sub_grades_5yr.sub_grade, (risk_summary_sub_grades_5yr['median']/risk_summary_sub_grades_5yr['std']))\n",
    "\n",
    "pyplot.legend(['Ret vs. ES_95(3yr)', 'Ret vs. ES_95(5yr)', 'Ret vs std dev(3yr)', 'Ret vs std dev(5yr)'], loc='upper left')\n",
    "pyplot.title('3 & 5 yr loans risk-return graphs by sub-grade')\n",
    "pyplot.xlabel('sub-grade')\n",
    "pyplot.show()"
   ]
  },
  {
   "cell_type": "code",
   "execution_count": 106,
   "metadata": {},
   "outputs": [
    {
     "data": {
      "image/png": "[encoded data removed]",
      "text/plain": [
       "<Figure size 720x360 with 1 Axes>"
      ]
     },
     "metadata": {
      "needs_background": "light"
     },
     "output_type": "display_data"
    }
   ],
   "source": [
    "pyplot.rcParams['figure.figsize'] = [10, 5]\n",
    "\n",
    "pyplot.plot(risk_summary_sub_grades_5yr.sub_grade, abs(risk_summary_sub_grades_5yr.ES_95))\n",
    "pyplot.plot(risk_summary_sub_grades_5yr.sub_grade, risk_summary_sub_grades_5yr['median'])\n",
    "pyplot.plot(risk_summary_sub_grades_5yr.sub_grade, risk_summary_sub_grades_5yr['std'])\n",
    "\n",
    "pyplot.legend(['Expected_Shortfall_95(loss)', 'median_return', 'std dev'], loc='upper left')\n",
    "pyplot.title('5 yr loans risk and return graphs by sub-grade')\n",
    "pyplot.xlabel('sub-grade')\n",
    "pyplot.show()"
   ]
  },
  {
   "cell_type": "code",
   "execution_count": null,
   "metadata": {},
   "outputs": [],
   "source": []
  },
  {
   "cell_type": "code",
   "execution_count": 107,
   "metadata": {},
   "outputs": [],
   "source": [
    "\n",
    "##try some K-means clustering: do these clusters mean anything?\n",
    "n_clusters = 5\n",
    "my_X_train['cluster'] = 0\n",
    "\n",
    "kmeans = KMeans(n_clusters=n_clusters, random_state=1980, verbose=0).fit(my_X_train.drop(['id','cluster'], axis=1))\n",
    "\n"
   ]
  },
  {
   "cell_type": "code",
   "execution_count": 108,
   "metadata": {},
   "outputs": [],
   "source": [
    "my_X_train['cluster'] = kmeans.predict(my_X_train.drop(['id','cluster'], axis=1))\n"
   ]
  },
  {
   "cell_type": "code",
   "execution_count": 109,
   "metadata": {},
   "outputs": [],
   "source": [
    "risk_data_train['cluster'] =0\n",
    "risk_data_train = pd.merge(risk_data_train.drop('cluster', axis=1), my_X_train[['id','cluster']], how='left', on='id')"
   ]
  },
  {
   "cell_type": "code",
   "execution_count": 110,
   "metadata": {},
   "outputs": [
    {
     "data": {
      "text/plain": [
       "Index(['id', 'grade', 'sub_grade', 'term', '_good', 'annualized_returns',\n",
       "       'cluster'],\n",
       "      dtype='object')"
      ]
     },
     "execution_count": 110,
     "metadata": {},
     "output_type": "execute_result"
    }
   ],
   "source": [
    "risk_data_train.columns"
   ]
  },
  {
   "cell_type": "code",
   "execution_count": 111,
   "metadata": {},
   "outputs": [
    {
     "data": {
      "text/html": [
       "<div>\n",
       "<style scoped>\n",
       "    .dataframe tbody tr th:only-of-type {\n",
       "        vertical-align: middle;\n",
       "    }\n",
       "\n",
       "    .dataframe tbody tr th {\n",
       "        vertical-align: top;\n",
       "    }\n",
       "\n",
       "    .dataframe thead th {\n",
       "        text-align: right;\n",
       "    }\n",
       "</style>\n",
       "<table border=\"1\" class=\"dataframe\">\n",
       "  <thead>\n",
       "    <tr style=\"text-align: right;\">\n",
       "      <th></th>\n",
       "      <th>cluster</th>\n",
       "      <th>count</th>\n",
       "      <th>median</th>\n",
       "      <th>mean</th>\n",
       "      <th>min</th>\n",
       "      <th>max</th>\n",
       "      <th>std</th>\n",
       "      <th>var_95</th>\n",
       "      <th>var_99</th>\n",
       "      <th>ES_95</th>\n",
       "      <th>ES_99</th>\n",
       "    </tr>\n",
       "  </thead>\n",
       "  <tbody>\n",
       "    <tr>\n",
       "      <th>1</th>\n",
       "      <td>1</td>\n",
       "      <td>50</td>\n",
       "      <td>0.036385</td>\n",
       "      <td>-0.016211</td>\n",
       "      <td>-0.462233</td>\n",
       "      <td>0.078553</td>\n",
       "      <td>0.129427</td>\n",
       "      <td>-0.333319</td>\n",
       "      <td>-0.424300</td>\n",
       "      <td>-0.402577</td>\n",
       "      <td>-0.462233</td>\n",
       "    </tr>\n",
       "    <tr>\n",
       "      <th>3</th>\n",
       "      <td>3</td>\n",
       "      <td>52145</td>\n",
       "      <td>0.037987</td>\n",
       "      <td>0.011607</td>\n",
       "      <td>-0.693389</td>\n",
       "      <td>0.141969</td>\n",
       "      <td>0.098817</td>\n",
       "      <td>-0.228284</td>\n",
       "      <td>-0.405901</td>\n",
       "      <td>-0.337573</td>\n",
       "      <td>-0.492639</td>\n",
       "    </tr>\n",
       "    <tr>\n",
       "      <th>2</th>\n",
       "      <td>2</td>\n",
       "      <td>2409</td>\n",
       "      <td>0.038309</td>\n",
       "      <td>0.014952</td>\n",
       "      <td>-0.686887</td>\n",
       "      <td>0.131008</td>\n",
       "      <td>0.099629</td>\n",
       "      <td>-0.209834</td>\n",
       "      <td>-0.443489</td>\n",
       "      <td>-0.359313</td>\n",
       "      <td>-0.535073</td>\n",
       "    </tr>\n",
       "    <tr>\n",
       "      <th>0</th>\n",
       "      <td>0</td>\n",
       "      <td>347884</td>\n",
       "      <td>0.039347</td>\n",
       "      <td>0.008085</td>\n",
       "      <td>-0.921296</td>\n",
       "      <td>0.159925</td>\n",
       "      <td>0.102869</td>\n",
       "      <td>-0.237755</td>\n",
       "      <td>-0.404775</td>\n",
       "      <td>-0.338806</td>\n",
       "      <td>-0.484258</td>\n",
       "    </tr>\n",
       "    <tr>\n",
       "      <th>4</th>\n",
       "      <td>4</td>\n",
       "      <td>664558</td>\n",
       "      <td>0.043204</td>\n",
       "      <td>0.004383</td>\n",
       "      <td>-0.834690</td>\n",
       "      <td>0.160690</td>\n",
       "      <td>0.113807</td>\n",
       "      <td>-0.263372</td>\n",
       "      <td>-0.430535</td>\n",
       "      <td>-0.365357</td>\n",
       "      <td>-0.507192</td>\n",
       "    </tr>\n",
       "  </tbody>\n",
       "</table>\n",
       "</div>"
      ],
      "text/plain": [
       "   cluster   count    median      mean       min       max       std  \\\n",
       "1        1      50  0.036385 -0.016211 -0.462233  0.078553  0.129427   \n",
       "3        3   52145  0.037987  0.011607 -0.693389  0.141969  0.098817   \n",
       "2        2    2409  0.038309  0.014952 -0.686887  0.131008  0.099629   \n",
       "0        0  347884  0.039347  0.008085 -0.921296  0.159925  0.102869   \n",
       "4        4  664558  0.043204  0.004383 -0.834690  0.160690  0.113807   \n",
       "\n",
       "     var_95    var_99     ES_95     ES_99  \n",
       "1 -0.333319 -0.424300 -0.402577 -0.462233  \n",
       "3 -0.228284 -0.405901 -0.337573 -0.492639  \n",
       "2 -0.209834 -0.443489 -0.359313 -0.535073  \n",
       "0 -0.237755 -0.404775 -0.338806 -0.484258  \n",
       "4 -0.263372 -0.430535 -0.365357 -0.507192  "
      ]
     },
     "execution_count": 111,
     "metadata": {},
     "output_type": "execute_result"
    }
   ],
   "source": [
    "risk_summary_clusters_all = pd.DataFrame(risk_data_train.groupby(['cluster'])['annualized_returns'].agg(['count', 'median' , 'mean', 'min','max', 'std', var_95, var_99, ES_95, ES_99])).reset_index()\n",
    "risk_summary_clusters_all.sort_values('median')"
   ]
  },
  {
   "cell_type": "code",
   "execution_count": 112,
   "metadata": {},
   "outputs": [
    {
     "data": {
      "text/html": [
       "<div>\n",
       "<style scoped>\n",
       "    .dataframe tbody tr th:only-of-type {\n",
       "        vertical-align: middle;\n",
       "    }\n",
       "\n",
       "    .dataframe tbody tr th {\n",
       "        vertical-align: top;\n",
       "    }\n",
       "\n",
       "    .dataframe thead th {\n",
       "        text-align: right;\n",
       "    }\n",
       "</style>\n",
       "<table border=\"1\" class=\"dataframe\">\n",
       "  <thead>\n",
       "    <tr style=\"text-align: right;\">\n",
       "      <th></th>\n",
       "      <th>grade</th>\n",
       "      <th>count</th>\n",
       "      <th>median</th>\n",
       "      <th>mean</th>\n",
       "      <th>min</th>\n",
       "      <th>max</th>\n",
       "      <th>std</th>\n",
       "      <th>var_95</th>\n",
       "      <th>var_99</th>\n",
       "      <th>ES_95</th>\n",
       "      <th>ES_99</th>\n",
       "    </tr>\n",
       "  </thead>\n",
       "  <tbody>\n",
       "    <tr>\n",
       "      <th>6</th>\n",
       "      <td>7</td>\n",
       "      <td>7206</td>\n",
       "      <td>0.018225</td>\n",
       "      <td>-0.045276</td>\n",
       "      <td>-0.663302</td>\n",
       "      <td>0.159153</td>\n",
       "      <td>0.147334</td>\n",
       "      <td>-0.318800</td>\n",
       "      <td>-0.442382</td>\n",
       "      <td>-0.401827</td>\n",
       "      <td>-0.524884</td>\n",
       "    </tr>\n",
       "    <tr>\n",
       "      <th>5</th>\n",
       "      <td>6</td>\n",
       "      <td>25422</td>\n",
       "      <td>0.028999</td>\n",
       "      <td>-0.024950</td>\n",
       "      <td>-0.797256</td>\n",
       "      <td>0.160690</td>\n",
       "      <td>0.139058</td>\n",
       "      <td>-0.290732</td>\n",
       "      <td>-0.429361</td>\n",
       "      <td>-0.377210</td>\n",
       "      <td>-0.506761</td>\n",
       "    </tr>\n",
       "    <tr>\n",
       "      <th>0</th>\n",
       "      <td>1</td>\n",
       "      <td>186727</td>\n",
       "      <td>0.034808</td>\n",
       "      <td>0.020314</td>\n",
       "      <td>-0.819906</td>\n",
       "      <td>0.079302</td>\n",
       "      <td>0.066032</td>\n",
       "      <td>-0.048840</td>\n",
       "      <td>-0.341043</td>\n",
       "      <td>-0.231734</td>\n",
       "      <td>-0.443174</td>\n",
       "    </tr>\n",
       "    <tr>\n",
       "      <th>4</th>\n",
       "      <td>5</td>\n",
       "      <td>74217</td>\n",
       "      <td>0.038948</td>\n",
       "      <td>-0.016533</td>\n",
       "      <td>-0.745056</td>\n",
       "      <td>0.141969</td>\n",
       "      <td>0.136494</td>\n",
       "      <td>-0.292777</td>\n",
       "      <td>-0.442430</td>\n",
       "      <td>-0.387008</td>\n",
       "      <td>-0.522714</td>\n",
       "    </tr>\n",
       "    <tr>\n",
       "      <th>1</th>\n",
       "      <td>2</td>\n",
       "      <td>311742</td>\n",
       "      <td>0.045962</td>\n",
       "      <td>0.016012</td>\n",
       "      <td>-0.908308</td>\n",
       "      <td>0.108635</td>\n",
       "      <td>0.093967</td>\n",
       "      <td>-0.214864</td>\n",
       "      <td>-0.396455</td>\n",
       "      <td>-0.327910</td>\n",
       "      <td>-0.480852</td>\n",
       "    </tr>\n",
       "    <tr>\n",
       "      <th>3</th>\n",
       "      <td>4</td>\n",
       "      <td>159043</td>\n",
       "      <td>0.048188</td>\n",
       "      <td>-0.007220</td>\n",
       "      <td>-0.921296</td>\n",
       "      <td>0.159925</td>\n",
       "      <td>0.134665</td>\n",
       "      <td>-0.304214</td>\n",
       "      <td>-0.464207</td>\n",
       "      <td>-0.400490</td>\n",
       "      <td>-0.536537</td>\n",
       "    </tr>\n",
       "    <tr>\n",
       "      <th>2</th>\n",
       "      <td>3</td>\n",
       "      <td>302689</td>\n",
       "      <td>0.048532</td>\n",
       "      <td>0.003030</td>\n",
       "      <td>-0.839784</td>\n",
       "      <td>0.144289</td>\n",
       "      <td>0.117306</td>\n",
       "      <td>-0.270609</td>\n",
       "      <td>-0.436392</td>\n",
       "      <td>-0.369379</td>\n",
       "      <td>-0.506276</td>\n",
       "    </tr>\n",
       "  </tbody>\n",
       "</table>\n",
       "</div>"
      ],
      "text/plain": [
       "   grade   count    median      mean       min       max       std    var_95  \\\n",
       "6      7    7206  0.018225 -0.045276 -0.663302  0.159153  0.147334 -0.318800   \n",
       "5      6   25422  0.028999 -0.024950 -0.797256  0.160690  0.139058 -0.290732   \n",
       "0      1  186727  0.034808  0.020314 -0.819906  0.079302  0.066032 -0.048840   \n",
       "4      5   74217  0.038948 -0.016533 -0.745056  0.141969  0.136494 -0.292777   \n",
       "1      2  311742  0.045962  0.016012 -0.908308  0.108635  0.093967 -0.214864   \n",
       "3      4  159043  0.048188 -0.007220 -0.921296  0.159925  0.134665 -0.304214   \n",
       "2      3  302689  0.048532  0.003030 -0.839784  0.144289  0.117306 -0.270609   \n",
       "\n",
       "     var_99     ES_95     ES_99  \n",
       "6 -0.442382 -0.401827 -0.524884  \n",
       "5 -0.429361 -0.377210 -0.506761  \n",
       "0 -0.341043 -0.231734 -0.443174  \n",
       "4 -0.442430 -0.387008 -0.522714  \n",
       "1 -0.396455 -0.327910 -0.480852  \n",
       "3 -0.464207 -0.400490 -0.536537  \n",
       "2 -0.436392 -0.369379 -0.506276  "
      ]
     },
     "execution_count": 112,
     "metadata": {},
     "output_type": "execute_result"
    }
   ],
   "source": [
    "risk_summary_grades_all.sort_values('median')"
   ]
  },
  {
   "cell_type": "code",
   "execution_count": 113,
   "metadata": {},
   "outputs": [],
   "source": [
    "useRidge = 1\n",
    "\n",
    "#make predictions on the test sample using both models\n",
    "if useRidge:\n",
    "    pred_ret_if_non_defaulting = reg_ridge['model_non_default'].predict(my_X_test.drop('id', axis=1))[:,0]\n",
    "    pred_ret_if_defaulting = reg_ridge['model_default'].predict(my_X_test.drop('id', axis=1))[:,0]\n",
    "    regressor_used =\"Ridge\"\n",
    "else:\n",
    "    pred_ret_if_non_defaulting = reg_rf['model_non_default'].predict(my_X_test.drop('id', axis=1))\n",
    "    pred_ret_if_defaulting = reg_rf['model_default'].predict(my_X_test.drop('id', axis=1))\n",
    "    regressor_used =\"Random Forest\""
   ]
  },
  {
   "cell_type": "code",
   "execution_count": 114,
   "metadata": {},
   "outputs": [],
   "source": [
    "##combine the predicted returns from ridge regressor into a single dataframe to join with predicted default probs\n",
    "\n",
    "pred_returns_good =pd.DataFrame({'id': my_X_test.id, 'pred_ret_good': pred_ret_if_non_defaulting })\n",
    "pred_returns_bad =pd.DataFrame({'id': my_X_test.id.values, 'pred_ret_bad': pred_ret_if_defaulting})\n",
    "\n",
    "combined_pred_returns = pd.merge(pred_returns_good, pred_returns_bad, how='inner', on='id')"
   ]
  },
  {
   "cell_type": "code",
   "execution_count": null,
   "metadata": {},
   "outputs": [],
   "source": []
  },
  {
   "cell_type": "code",
   "execution_count": 115,
   "metadata": {},
   "outputs": [],
   "source": [
    "###this is where i stopped"
   ]
  },
  {
   "cell_type": "code",
   "execution_count": 116,
   "metadata": {},
   "outputs": [],
   "source": [
    "def_predictions = pd.read_csv(\"data/predictions_random_1592421122.csv\")"
   ]
  },
  {
   "cell_type": "code",
   "execution_count": 117,
   "metadata": {},
   "outputs": [],
   "source": [
    "### add [grade, sub_grade, term] to def_predictions\n",
    "#get subset from prediction df\n",
    "LC_subset_df = LC_df[LC_df.id.isin(def_predictions.id)]\n",
    "LC_subset_df = LC_subset_df.astype({'id': 'int64'})\n"
   ]
  },
  {
   "cell_type": "code",
   "execution_count": 118,
   "metadata": {},
   "outputs": [],
   "source": [
    "def_predictions = pd.merge(def_predictions, LC_subset_df[['id','grade','sub_grade','term','loan_amnt','funded_amnt']], how ='inner', on='id')"
   ]
  },
  {
   "cell_type": "code",
   "execution_count": 119,
   "metadata": {},
   "outputs": [],
   "source": [
    "##convert grade, sub_grade and term to numbers - from Dmitri's notebook\n",
    "sub_grades = sorted(def_predictions.sub_grade.unique())\n",
    "sub_grades_dict = {x:sub_grades.index(x)+1 for x in sub_grades}  # map 'A1' to 1 rather than 0\n",
    "\n",
    "ordinal_dict = {\n",
    "    'grade':   {'A':1, 'B':2, 'C':3, 'D':4, 'E':5, 'F':6, 'G':7},\n",
    "    'sub_grade': sub_grades_dict,\n",
    "    'term': {' 36 months':0, ' 60 months':1}\n",
    "}\n",
    "\n",
    "for f in ['grade', 'sub_grade','term']:\n",
    "    def_predictions[f].replace(ordinal_dict[f], inplace=True)\n"
   ]
  },
  {
   "cell_type": "code",
   "execution_count": 120,
   "metadata": {},
   "outputs": [],
   "source": [
    "def_predictions = pd.merge(def_predictions, combined_pred_returns, how=\"left\", on='id')"
   ]
  },
  {
   "cell_type": "code",
   "execution_count": 121,
   "metadata": {},
   "outputs": [
    {
     "data": {
      "text/html": [
       "<div>\n",
       "<style scoped>\n",
       "    .dataframe tbody tr th:only-of-type {\n",
       "        vertical-align: middle;\n",
       "    }\n",
       "\n",
       "    .dataframe tbody tr th {\n",
       "        vertical-align: top;\n",
       "    }\n",
       "\n",
       "    .dataframe thead th {\n",
       "        text-align: right;\n",
       "    }\n",
       "</style>\n",
       "<table border=\"1\" class=\"dataframe\">\n",
       "  <thead>\n",
       "    <tr style=\"text-align: right;\">\n",
       "      <th></th>\n",
       "      <th>id</th>\n",
       "      <th>_good</th>\n",
       "      <th>p</th>\n",
       "      <th>grade</th>\n",
       "      <th>sub_grade</th>\n",
       "      <th>term</th>\n",
       "      <th>loan_amnt</th>\n",
       "      <th>funded_amnt</th>\n",
       "      <th>pred_ret_good</th>\n",
       "      <th>pred_ret_bad</th>\n",
       "    </tr>\n",
       "  </thead>\n",
       "  <tbody>\n",
       "    <tr>\n",
       "      <th>103693</th>\n",
       "      <td>57894758</td>\n",
       "      <td>0</td>\n",
       "      <td>0.807790</td>\n",
       "      <td>2</td>\n",
       "      <td>9</td>\n",
       "      <td>0</td>\n",
       "      <td>20000.0</td>\n",
       "      <td>20000.0</td>\n",
       "      <td>0.050594</td>\n",
       "      <td>-0.169804</td>\n",
       "    </tr>\n",
       "    <tr>\n",
       "      <th>52175</th>\n",
       "      <td>8775314</td>\n",
       "      <td>0</td>\n",
       "      <td>0.772953</td>\n",
       "      <td>4</td>\n",
       "      <td>17</td>\n",
       "      <td>1</td>\n",
       "      <td>10000.0</td>\n",
       "      <td>10000.0</td>\n",
       "      <td>0.055680</td>\n",
       "      <td>-0.125806</td>\n",
       "    </tr>\n",
       "    <tr>\n",
       "      <th>99468</th>\n",
       "      <td>45584283</td>\n",
       "      <td>1</td>\n",
       "      <td>0.731344</td>\n",
       "      <td>3</td>\n",
       "      <td>12</td>\n",
       "      <td>0</td>\n",
       "      <td>5000.0</td>\n",
       "      <td>5000.0</td>\n",
       "      <td>0.058573</td>\n",
       "      <td>-0.165454</td>\n",
       "    </tr>\n",
       "    <tr>\n",
       "      <th>187818</th>\n",
       "      <td>98847349</td>\n",
       "      <td>1</td>\n",
       "      <td>0.826042</td>\n",
       "      <td>3</td>\n",
       "      <td>13</td>\n",
       "      <td>0</td>\n",
       "      <td>6000.0</td>\n",
       "      <td>6000.0</td>\n",
       "      <td>0.061545</td>\n",
       "      <td>-0.182084</td>\n",
       "    </tr>\n",
       "    <tr>\n",
       "      <th>53191</th>\n",
       "      <td>4654855</td>\n",
       "      <td>0</td>\n",
       "      <td>0.789672</td>\n",
       "      <td>3</td>\n",
       "      <td>13</td>\n",
       "      <td>1</td>\n",
       "      <td>12000.0</td>\n",
       "      <td>12000.0</td>\n",
       "      <td>0.048149</td>\n",
       "      <td>-0.131940</td>\n",
       "    </tr>\n",
       "    <tr>\n",
       "      <th>222537</th>\n",
       "      <td>77901729</td>\n",
       "      <td>1</td>\n",
       "      <td>0.883790</td>\n",
       "      <td>2</td>\n",
       "      <td>6</td>\n",
       "      <td>0</td>\n",
       "      <td>15000.0</td>\n",
       "      <td>15000.0</td>\n",
       "      <td>0.040841</td>\n",
       "      <td>-0.181428</td>\n",
       "    </tr>\n",
       "    <tr>\n",
       "      <th>201664</th>\n",
       "      <td>6406295</td>\n",
       "      <td>1</td>\n",
       "      <td>0.708661</td>\n",
       "      <td>4</td>\n",
       "      <td>19</td>\n",
       "      <td>1</td>\n",
       "      <td>10800.0</td>\n",
       "      <td>10800.0</td>\n",
       "      <td>0.059744</td>\n",
       "      <td>-0.143095</td>\n",
       "    </tr>\n",
       "    <tr>\n",
       "      <th>88024</th>\n",
       "      <td>76221166</td>\n",
       "      <td>1</td>\n",
       "      <td>0.480220</td>\n",
       "      <td>6</td>\n",
       "      <td>26</td>\n",
       "      <td>1</td>\n",
       "      <td>15350.0</td>\n",
       "      <td>15350.0</td>\n",
       "      <td>0.062943</td>\n",
       "      <td>-0.182321</td>\n",
       "    </tr>\n",
       "    <tr>\n",
       "      <th>200095</th>\n",
       "      <td>41378273</td>\n",
       "      <td>1</td>\n",
       "      <td>0.872936</td>\n",
       "      <td>2</td>\n",
       "      <td>6</td>\n",
       "      <td>1</td>\n",
       "      <td>25000.0</td>\n",
       "      <td>25000.0</td>\n",
       "      <td>0.031127</td>\n",
       "      <td>-0.142022</td>\n",
       "    </tr>\n",
       "    <tr>\n",
       "      <th>15097</th>\n",
       "      <td>1143732</td>\n",
       "      <td>1</td>\n",
       "      <td>0.960672</td>\n",
       "      <td>1</td>\n",
       "      <td>2</td>\n",
       "      <td>0</td>\n",
       "      <td>1900.0</td>\n",
       "      <td>1900.0</td>\n",
       "      <td>0.040652</td>\n",
       "      <td>-0.163725</td>\n",
       "    </tr>\n",
       "  </tbody>\n",
       "</table>\n",
       "</div>"
      ],
      "text/plain": [
       "              id  _good         p  grade  sub_grade  term  loan_amnt  \\\n",
       "103693  57894758      0  0.807790      2          9     0    20000.0   \n",
       "52175    8775314      0  0.772953      4         17     1    10000.0   \n",
       "99468   45584283      1  0.731344      3         12     0     5000.0   \n",
       "187818  98847349      1  0.826042      3         13     0     6000.0   \n",
       "53191    4654855      0  0.789672      3         13     1    12000.0   \n",
       "222537  77901729      1  0.883790      2          6     0    15000.0   \n",
       "201664   6406295      1  0.708661      4         19     1    10800.0   \n",
       "88024   76221166      1  0.480220      6         26     1    15350.0   \n",
       "200095  41378273      1  0.872936      2          6     1    25000.0   \n",
       "15097    1143732      1  0.960672      1          2     0     1900.0   \n",
       "\n",
       "        funded_amnt  pred_ret_good  pred_ret_bad  \n",
       "103693      20000.0       0.050594     -0.169804  \n",
       "52175       10000.0       0.055680     -0.125806  \n",
       "99468        5000.0       0.058573     -0.165454  \n",
       "187818       6000.0       0.061545     -0.182084  \n",
       "53191       12000.0       0.048149     -0.131940  \n",
       "222537      15000.0       0.040841     -0.181428  \n",
       "201664      10800.0       0.059744     -0.143095  \n",
       "88024       15350.0       0.062943     -0.182321  \n",
       "200095      25000.0       0.031127     -0.142022  \n",
       "15097        1900.0       0.040652     -0.163725  "
      ]
     },
     "execution_count": 121,
     "metadata": {},
     "output_type": "execute_result"
    }
   ],
   "source": [
    "def_predictions.sample(10)"
   ]
  },
  {
   "cell_type": "code",
   "execution_count": 122,
   "metadata": {},
   "outputs": [],
   "source": [
    "def calc_expected_ret(good, p, pred_ret_good, pred_ret_bad):\n",
    "    if good:\n",
    "        return (p * pred_ret_good) + ((1-p) * pred_ret_bad)\n",
    "    else:\n",
    "        return (p * pred_ret_bad)  + ((1-p) * pred_ret_good)"
   ]
  },
  {
   "cell_type": "code",
   "execution_count": 123,
   "metadata": {},
   "outputs": [],
   "source": [
    "#calc expected returns\n",
    "def_predictions['pred_expected_ret'] = def_predictions.apply(lambda row: calc_expected_ret(row._good, \\\n",
    "                                                                        row.p, row.pred_ret_good, row.pred_ret_bad), axis=1)"
   ]
  },
  {
   "cell_type": "code",
   "execution_count": 125,
   "metadata": {},
   "outputs": [
    {
     "data": {
      "text/plain": [
       "Text(0.5, 0, 'Annualized returns')"
      ]
     },
     "execution_count": 125,
     "metadata": {},
     "output_type": "execute_result"
    },
    {
     "data": {
      "image/png": "[encoded data removed]",
      "text/plain": [
       "<Figure size 720x360 with 1 Axes>"
      ]
     },
     "metadata": {
      "needs_background": "light"
     },
     "output_type": "display_data"
    }
   ],
   "source": [
    "def_predictions.hist('pred_expected_ret', bins=60)\n",
    "pyplot.axvline(x=0, color='r', linestyle='--')\n",
    "pyplot.title(\"Predicted Expected Returns for loans in test set\")\n",
    "pyplot.ylabel(\"Count\")\n",
    "pyplot.xlabel(\"Annualized returns\")\n"
   ]
  },
  {
   "cell_type": "code",
   "execution_count": 380,
   "metadata": {},
   "outputs": [],
   "source": [
    "##choose std_dev and ES_95 as risk measures\n",
    "\n",
    "def_predictions['risk_std_dev'] =0\n",
    "def_predictions['risk_ES_95'] = 0\n"
   ]
  },
  {
   "cell_type": "code",
   "execution_count": 130,
   "metadata": {},
   "outputs": [
    {
     "name": "stdout",
     "output_type": "stream",
     "text": [
      "(35, 11)\n",
      "(35, 11)\n"
     ]
    }
   ],
   "source": [
    "print(risk_summary_sub_grades_3yr.shape)\n",
    "print(risk_summary_sub_grades_5yr.shape)"
   ]
  },
  {
   "cell_type": "code",
   "execution_count": 131,
   "metadata": {},
   "outputs": [],
   "source": [
    "sub_grades = risk_summary_sub_grades_3yr.sub_grade.unique()\n"
   ]
  },
  {
   "cell_type": "code",
   "execution_count": 132,
   "metadata": {},
   "outputs": [],
   "source": [
    "for sg in sub_grades:\n",
    "    pred_std_dev_3yr = float(risk_summary_sub_grades_3yr[risk_summary_sub_grades_3yr.sub_grade == sg]['std'].values)\n",
    "    pred_std_dev_5yr = float(risk_summary_sub_grades_5yr[risk_summary_sub_grades_5yr.sub_grade == sg]['std'].values)\n",
    "\n",
    "    pred_ES_95_3yr = float(risk_summary_sub_grades_3yr[risk_summary_sub_grades_3yr.sub_grade == sg]['ES_95'].values)\n",
    "    pred_ES_95_5yr = float(risk_summary_sub_grades_5yr[risk_summary_sub_grades_5yr.sub_grade == sg]['ES_95'].values)\n",
    "    \n",
    "    def_predictions.loc[(def_predictions['term'] == 0) & (def_predictions.sub_grade == sg) ,'risk_std_dev'] = pred_std_dev_3yr\n",
    "    def_predictions.loc[(def_predictions['term'] == 1) & (def_predictions.sub_grade == sg),'risk_std_dev']  = pred_std_dev_5yr\n",
    "\n",
    "    def_predictions.loc[(def_predictions['term'] == 0) & (def_predictions.sub_grade == sg),'risk_ES_95'] = pred_ES_95_3yr\n",
    "    def_predictions.loc[(def_predictions['term'] == 1) & (def_predictions.sub_grade == sg),'risk_ES_95'] = pred_ES_95_5yr\n",
    "\n",
    "    \n",
    "    "
   ]
  },
  {
   "cell_type": "code",
   "execution_count": null,
   "metadata": {},
   "outputs": [],
   "source": []
  },
  {
   "cell_type": "code",
   "execution_count": 133,
   "metadata": {},
   "outputs": [],
   "source": [
    "def neg_risk_penalized_ret(notionals, pred_ret, risk, lambda_c):\n",
    "    risk_adj_ret = pred_ret - (lambda_c * np.abs(risk))\n",
    "    neg_ret = -1 * sum([x[0]*x[1] for x in zip(notionals, risk_adj_ret)])\n",
    "    #print(\"Iterating:\", neg_ret)\n",
    "    return neg_ret\n",
    "\n",
    "\n",
    "\n",
    "def portfolio_optimize(pred_ret,  funded_amts, budget = 1e6, lambda_c = 0.01, risk_measure = 1, risk_std=[], risk_ES=[]):\n",
    "    '''\n",
    "    risk can be either standard deviations or Expected Shortfall. Expected Shortfall is reported as negative\n",
    "    so take the abs of the quantities there.\n",
    "    risk_measure={0:standard deviation, 1:Expected shortfall}\n",
    "    '''    \n",
    "    if risk_measure:\n",
    "        risk = risk_ES\n",
    "    else:\n",
    "        risk = risk_std\n",
    "    \n",
    "    assert(len(pred_ret) == len(risk) == len(funded_amts))\n",
    "\n",
    "    init_notionals = [budget/len(pred_ret)] * len(pred_ret) #initialize variables\n",
    "    arguments = (pred_ret, risk, lambda_c) #arguments into the objective function other than the variables\n",
    "    \n",
    "    linear_constraint = LinearConstraint(np.ones(len(init_notionals)), lb=0, ub=budget)  #total investment<=budget\n",
    "    \n",
    "    var_bounds = [(0, funded_amts[i]) for i in range(len(funded_amts))]\n",
    "    \n",
    "    opt_portfolio = minimize(neg_risk_penalized_ret, init_notionals,\n",
    "                             args=arguments,\n",
    "                             constraints=linear_constraint,\n",
    "                             bounds=var_bounds,\n",
    "                             method='SLSQP',\n",
    "                             options={'ftol': 1e-5, 'disp': True, 'maxiter': 2000 }\n",
    "                            )\n",
    "    return opt_portfolio\n",
    "\n",
    "\n"
   ]
  },
  {
   "cell_type": "code",
   "execution_count": null,
   "metadata": {},
   "outputs": [],
   "source": []
  },
  {
   "cell_type": "markdown",
   "metadata": {},
   "source": [
    "## Test optimal portfolios\n"
   ]
  },
  {
   "cell_type": "markdown",
   "metadata": {},
   "source": [
    "### seed with top n loans sorted by predicted expected returns\n"
   ]
  },
  {
   "cell_type": "code",
   "execution_count": 134,
   "metadata": {},
   "outputs": [],
   "source": [
    "n =100\n",
    "risk_aversion = 0.01"
   ]
  },
  {
   "cell_type": "code",
   "execution_count": 135,
   "metadata": {},
   "outputs": [],
   "source": [
    "top_by_expected_ret = (def_predictions[['id','pred_expected_ret','funded_amnt','risk_std_dev','risk_ES_95']].\\\n",
    "                        sort_values('pred_expected_ret', ascending=False)).iloc[:n,]"
   ]
  },
  {
   "cell_type": "code",
   "execution_count": 136,
   "metadata": {},
   "outputs": [],
   "source": [
    "def calc_realized_returns(optimal_portf):\n",
    "    '''\n",
    "    join with the returns dataframe to get the realized returns for each selected loan\n",
    "    \n",
    "    '''\n",
    "    optimal_portf = pd.merge(optimal_portf, ret_df[['id','annualized_returns']], how='left', on='id')\n",
    "    optimal_portf.annualized_returns.fillna(0, inplace=True)\n",
    "    assert(len(optimal_portf.optimal_notionals) ==  len(optimal_portf.annualized_returns))\n",
    "    num = np.sum([x[0]*x[1] for x in zip(optimal_portf.optimal_notionals, optimal_portf.annualized_returns)])\n",
    "    den = np.sum(optimal_portf.optimal_notionals)\n",
    "    return(num/den)"
   ]
  },
  {
   "cell_type": "code",
   "execution_count": 137,
   "metadata": {},
   "outputs": [],
   "source": [
    "def get_optimized_portfolios(id_values, ret, funded_amnt, risk_aversion, risk_measure, risk):\n",
    "    start_time = time.time()\n",
    "    if risk_measure:\n",
    "        opt_expected_ret_ES = portfolio_optimize(ret,\n",
    "                                          funded_amnt, lambda_c = risk_aversion, \\\n",
    "                                          risk_measure = risk_measure, risk_ES=risk\n",
    "                                         )\n",
    "    else:\n",
    "        opt_expected_ret_ES = portfolio_optimize(ret,\n",
    "                                          funded_amnt, lambda_c = risk_aversion, \\\n",
    "                                          risk_measure = risk_measure, risk_std=risk\n",
    "                                         )\n",
    "    end_time = time.time()\n",
    "    print(\"Fit time: \" + str(round(end_time - start_time, 2)) + \" seconds\")\n",
    "    print(\"Risk aversion parameter:\", risk_aversion)\n",
    "    \n",
    "    opt_df = pd.DataFrame({'id':id_values, 'funded_amnt': funded_amnt, \\\n",
    "                  'optimal_notionals':opt_expected_ret_ES.x})\n",
    "    opt_df.optimal_notionals = opt_df.optimal_notionals.apply(lambda val: round(val))\n",
    "    return opt_df"
   ]
  },
  {
   "cell_type": "code",
   "execution_count": 138,
   "metadata": {},
   "outputs": [],
   "source": [
    "lambda_c =[0.01, 0.005, 0.001, 0.0005]"
   ]
  },
  {
   "cell_type": "code",
   "execution_count": 139,
   "metadata": {},
   "outputs": [
    {
     "name": "stdout",
     "output_type": "stream",
     "text": [
      "Optimization terminated successfully.    (Exit mode 0)\n",
      "            Current function value: -69314.53977994826\n",
      "            Iterations: 109\n",
      "            Function evaluations: 11129\n",
      "            Gradient evaluations: 109\n",
      "Fit time: 3.31 seconds\n",
      "Risk aversion parameter: 0.01\n",
      "Optimization terminated successfully.    (Exit mode 0)\n",
      "            Current function value: -70900.221756408\n",
      "            Iterations: 279\n",
      "            Function evaluations: 28367\n",
      "            Gradient evaluations: 278\n",
      "Fit time: 8.57 seconds\n",
      "Risk aversion parameter: 0.005\n",
      "Optimization terminated successfully.    (Exit mode 0)\n",
      "            Current function value: -71022.5615304557\n",
      "            Iterations: 167\n",
      "            Function evaluations: 17045\n",
      "            Gradient evaluations: 167\n",
      "Fit time: 5.44 seconds\n",
      "Risk aversion parameter: 0.001\n",
      "Optimization terminated successfully.    (Exit mode 0)\n",
      "            Current function value: -72279.78840198659\n",
      "            Iterations: 867\n",
      "            Function evaluations: 88056\n",
      "            Gradient evaluations: 863\n",
      "Fit time: 28.19 seconds\n",
      "Risk aversion parameter: 0.0005\n"
     ]
    }
   ],
   "source": [
    "#find the optimal risk_aversion parameter:\n",
    "portf_ret_arr = [calc_realized_returns(get_optimized_portfolios(top_by_expected_ret.id.values, \n",
    "                                                                top_by_expected_ret.pred_expected_ret.values,\n",
    "                                                                top_by_expected_ret.funded_amnt.values,\n",
    "                                                                risk_aversion_parameter, 0,\n",
    "                                                                top_by_expected_ret.risk_std_dev))\\\n",
    " for risk_aversion_parameter in lambda_c]"
   ]
  },
  {
   "cell_type": "code",
   "execution_count": 140,
   "metadata": {},
   "outputs": [
    {
     "name": "stdout",
     "output_type": "stream",
     "text": [
      "N= 100\n",
      "Regression algo: Ridge\n",
      "risk measure: Std dev\n"
     ]
    },
    {
     "data": {
      "text/html": [
       "<div>\n",
       "<style scoped>\n",
       "    .dataframe tbody tr th:only-of-type {\n",
       "        vertical-align: middle;\n",
       "    }\n",
       "\n",
       "    .dataframe tbody tr th {\n",
       "        vertical-align: top;\n",
       "    }\n",
       "\n",
       "    .dataframe thead th {\n",
       "        text-align: right;\n",
       "    }\n",
       "</style>\n",
       "<table border=\"1\" class=\"dataframe\">\n",
       "  <thead>\n",
       "    <tr style=\"text-align: right;\">\n",
       "      <th></th>\n",
       "      <th>lambda</th>\n",
       "      <th>max_returns</th>\n",
       "    </tr>\n",
       "  </thead>\n",
       "  <tbody>\n",
       "    <tr>\n",
       "      <th>0</th>\n",
       "      <td>0.0100</td>\n",
       "      <td>0.077352</td>\n",
       "    </tr>\n",
       "    <tr>\n",
       "      <th>2</th>\n",
       "      <td>0.0010</td>\n",
       "      <td>0.076821</td>\n",
       "    </tr>\n",
       "    <tr>\n",
       "      <th>1</th>\n",
       "      <td>0.0050</td>\n",
       "      <td>0.076610</td>\n",
       "    </tr>\n",
       "    <tr>\n",
       "      <th>3</th>\n",
       "      <td>0.0005</td>\n",
       "      <td>0.075931</td>\n",
       "    </tr>\n",
       "  </tbody>\n",
       "</table>\n",
       "</div>"
      ],
      "text/plain": [
       "   lambda  max_returns\n",
       "0  0.0100     0.077352\n",
       "2  0.0010     0.076821\n",
       "1  0.0050     0.076610\n",
       "3  0.0005     0.075931"
      ]
     },
     "execution_count": 140,
     "metadata": {},
     "output_type": "execute_result"
    }
   ],
   "source": [
    "print(\"N=\",n)\n",
    "print(\"Regression algo:\", regressor_used)\n",
    "print(\"risk measure: Std dev\")\n",
    "pd.DataFrame({'lambda': lambda_c, 'max_returns':portf_ret_arr}).sort_values('max_returns', ascending=False)"
   ]
  },
  {
   "cell_type": "code",
   "execution_count": 325,
   "metadata": {},
   "outputs": [
    {
     "name": "stdout",
     "output_type": "stream",
     "text": [
      "N= 100\n",
      "Regression algo: Random Forest\n",
      "risk measure: Std dev\n"
     ]
    },
    {
     "data": {
      "text/html": [
       "<div>\n",
       "<style scoped>\n",
       "    .dataframe tbody tr th:only-of-type {\n",
       "        vertical-align: middle;\n",
       "    }\n",
       "\n",
       "    .dataframe tbody tr th {\n",
       "        vertical-align: top;\n",
       "    }\n",
       "\n",
       "    .dataframe thead th {\n",
       "        text-align: right;\n",
       "    }\n",
       "</style>\n",
       "<table border=\"1\" class=\"dataframe\">\n",
       "  <thead>\n",
       "    <tr style=\"text-align: right;\">\n",
       "      <th></th>\n",
       "      <th>lambda</th>\n",
       "      <th>max_returns</th>\n",
       "    </tr>\n",
       "  </thead>\n",
       "  <tbody>\n",
       "    <tr>\n",
       "      <th>4</th>\n",
       "      <td>0.000100</td>\n",
       "      <td>0.084724</td>\n",
       "    </tr>\n",
       "    <tr>\n",
       "      <th>6</th>\n",
       "      <td>0.000010</td>\n",
       "      <td>0.084457</td>\n",
       "    </tr>\n",
       "    <tr>\n",
       "      <th>3</th>\n",
       "      <td>0.000500</td>\n",
       "      <td>0.084438</td>\n",
       "    </tr>\n",
       "    <tr>\n",
       "      <th>8</th>\n",
       "      <td>0.000000</td>\n",
       "      <td>0.083792</td>\n",
       "    </tr>\n",
       "    <tr>\n",
       "      <th>2</th>\n",
       "      <td>0.001000</td>\n",
       "      <td>0.083752</td>\n",
       "    </tr>\n",
       "    <tr>\n",
       "      <th>1</th>\n",
       "      <td>0.005000</td>\n",
       "      <td>0.083619</td>\n",
       "    </tr>\n",
       "    <tr>\n",
       "      <th>7</th>\n",
       "      <td>0.000001</td>\n",
       "      <td>0.083607</td>\n",
       "    </tr>\n",
       "    <tr>\n",
       "      <th>5</th>\n",
       "      <td>0.000050</td>\n",
       "      <td>0.083562</td>\n",
       "    </tr>\n",
       "    <tr>\n",
       "      <th>0</th>\n",
       "      <td>0.010000</td>\n",
       "      <td>0.083439</td>\n",
       "    </tr>\n",
       "  </tbody>\n",
       "</table>\n",
       "</div>"
      ],
      "text/plain": [
       "     lambda  max_returns\n",
       "4  0.000100     0.084724\n",
       "6  0.000010     0.084457\n",
       "3  0.000500     0.084438\n",
       "8  0.000000     0.083792\n",
       "2  0.001000     0.083752\n",
       "1  0.005000     0.083619\n",
       "7  0.000001     0.083607\n",
       "5  0.000050     0.083562\n",
       "0  0.010000     0.083439"
      ]
     },
     "execution_count": 325,
     "metadata": {},
     "output_type": "execute_result"
    }
   ],
   "source": [
    "print(\"N=\",n)\n",
    "print(\"Regression algo:\", regressor_used)\n",
    "print(\"risk measure: Std dev\")\n",
    "pd.DataFrame({'lambda': lambda_c, 'max_returns':portf_ret_arr}).sort_values('max_returns', ascending=False)"
   ]
  },
  {
   "cell_type": "markdown",
   "metadata": {},
   "source": [
    "### seed with top n loans sorted by predicted expected returns\n"
   ]
  },
  {
   "cell_type": "code",
   "execution_count": 141,
   "metadata": {},
   "outputs": [
    {
     "name": "stdout",
     "output_type": "stream",
     "text": [
      "Ridge\n"
     ]
    }
   ],
   "source": [
    "n= 100\n",
    "risk_aversion =0.01\n",
    "print(regressor_used)"
   ]
  },
  {
   "cell_type": "code",
   "execution_count": 142,
   "metadata": {},
   "outputs": [],
   "source": [
    "top_by_expected_ret = (def_predictions[['id','pred_expected_ret','funded_amnt','risk_std_dev','risk_ES_95']].\\\n",
    "                        sort_values('pred_expected_ret', ascending=False)).iloc[:n,]"
   ]
  },
  {
   "cell_type": "markdown",
   "metadata": {},
   "source": [
    "#### risk measure = expected shortfall\n"
   ]
  },
  {
   "cell_type": "code",
   "execution_count": 143,
   "metadata": {},
   "outputs": [
    {
     "name": "stdout",
     "output_type": "stream",
     "text": [
      "Optimization terminated successfully.    (Exit mode 0)\n",
      "            Current function value: -68594.81057502849\n",
      "            Iterations: 754\n",
      "            Function evaluations: 76520\n",
      "            Gradient evaluations: 750\n",
      "Fit time: 7.79 seconds\n"
     ]
    }
   ],
   "source": [
    "start_time = time.time()\n",
    "opt_expected_ret_ES = portfolio_optimize(top_by_expected_ret.pred_expected_ret.values,\n",
    "                                      top_by_expected_ret.funded_amnt.values, lambda_c = risk_aversion, \\\n",
    "                                      risk_measure = 1,risk_ES=top_by_expected_ret.risk_ES_95.values\n",
    "                                     )\n",
    "end_time = time.time()\n",
    "print(\"Fit time: \" + str(round(end_time - start_time, 2)) + \" seconds\")\n",
    "\n",
    "opt_df_1 = pd.DataFrame({'id':top_by_expected_ret.id.values, 'funded_amnt': top_by_expected_ret.funded_amnt, \\\n",
    "              'optimal_notionals':opt_expected_ret_ES.x})\n",
    "opt_df_1.optimal_notionals = opt_df_1.optimal_notionals.apply(lambda val: round(val))\n"
   ]
  },
  {
   "cell_type": "markdown",
   "metadata": {},
   "source": [
    "#### risk measure = standard deviation\n"
   ]
  },
  {
   "cell_type": "code",
   "execution_count": 144,
   "metadata": {},
   "outputs": [
    {
     "name": "stdout",
     "output_type": "stream",
     "text": [
      "Optimization terminated successfully.    (Exit mode 0)\n",
      "            Current function value: -69314.53977994826\n",
      "            Iterations: 109\n",
      "            Function evaluations: 11129\n",
      "            Gradient evaluations: 109\n",
      "Fit time: 3.65 seconds\n"
     ]
    }
   ],
   "source": [
    "start_time = time.time()\n",
    "\n",
    "opt_expected_ret_std_dev = portfolio_optimize(top_by_expected_ret.pred_expected_ret.values,\n",
    "                                      top_by_expected_ret.funded_amnt.values, lambda_c = risk_aversion,\\\n",
    "                                      risk_measure = 0, risk_std=top_by_expected_ret.risk_std_dev\n",
    "                                     )\n",
    "end_time = time.time()\n",
    "print(\"Fit time: \" + str(round(end_time - start_time, 2)) + \" seconds\")\n",
    "\n",
    "opt_df_2 = pd.DataFrame({'id':top_by_expected_ret.id.values, 'funded_amnt': top_by_expected_ret.funded_amnt, \\\n",
    "              'optimal_notionals':opt_expected_ret_std_dev.x})\n",
    "opt_df_2.optimal_notionals = opt_df_2.optimal_notionals.apply(lambda val: round(val))\n"
   ]
  },
  {
   "cell_type": "markdown",
   "metadata": {},
   "source": [
    "### seed with top n loans sorted by predicted non_default returns\n"
   ]
  },
  {
   "cell_type": "code",
   "execution_count": 145,
   "metadata": {},
   "outputs": [],
   "source": [
    "top_by_expected_ret = (def_predictions[['id','pred_ret_good','funded_amnt','risk_std_dev','risk_ES_95']].\\\n",
    "                        sort_values('pred_ret_good', ascending=False)).iloc[:n,]"
   ]
  },
  {
   "cell_type": "markdown",
   "metadata": {},
   "source": [
    "#### risk measure = expected shortfall\n"
   ]
  },
  {
   "cell_type": "code",
   "execution_count": 146,
   "metadata": {},
   "outputs": [
    {
     "name": "stdout",
     "output_type": "stream",
     "text": [
      "Optimization terminated successfully.    (Exit mode 0)\n",
      "            Current function value: -102480.48588748077\n",
      "            Iterations: 534\n",
      "            Function evaluations: 54071\n",
      "            Gradient evaluations: 530\n",
      "Fit time: 5.22 seconds\n"
     ]
    }
   ],
   "source": [
    "start_time = time.time()\n",
    "opt_expected_ret_ES = portfolio_optimize(top_by_expected_ret.pred_ret_good.values,\n",
    "                                      top_by_expected_ret.funded_amnt.values, lambda_c = risk_aversion, \\\n",
    "                                      risk_measure = 1,risk_ES=top_by_expected_ret.risk_ES_95.values\n",
    "                                     )\n",
    "end_time = time.time()\n",
    "print(\"Fit time: \" + str(round(end_time - start_time, 2)) + \" seconds\")\n",
    "\n",
    "opt_df_3 = pd.DataFrame({'id':top_by_expected_ret.id.values, 'funded_amnt': top_by_expected_ret.funded_amnt, \\\n",
    "              'optimal_notionals':opt_expected_ret_ES.x})\n",
    "opt_df_3.optimal_notionals = opt_df_3.optimal_notionals.apply(lambda val: round(val))\n"
   ]
  },
  {
   "cell_type": "markdown",
   "metadata": {},
   "source": [
    "#### risk measure = standard deviation\n"
   ]
  },
  {
   "cell_type": "code",
   "execution_count": 147,
   "metadata": {},
   "outputs": [
    {
     "name": "stdout",
     "output_type": "stream",
     "text": [
      "Positive directional derivative for linesearch    (Exit mode 8)\n",
      "            Current function value: -105088.38618067962\n",
      "            Iterations: 531\n",
      "            Function evaluations: 53784\n",
      "            Gradient evaluations: 527\n",
      "Fit time: 17.03 seconds\n"
     ]
    }
   ],
   "source": [
    "start_time = time.time()\n",
    "\n",
    "opt_expected_ret_std_dev = portfolio_optimize(top_by_expected_ret.pred_ret_good.values,\n",
    "                                      top_by_expected_ret.funded_amnt.values, lambda_c = risk_aversion,\\\n",
    "                                      risk_measure = 0, risk_std=top_by_expected_ret.risk_std_dev\n",
    "                                     )\n",
    "end_time = time.time()\n",
    "print(\"Fit time: \" + str(round(end_time - start_time, 2)) + \" seconds\")\n",
    "\n",
    "opt_df_4 = pd.DataFrame({'id':top_by_expected_ret.id.values, 'funded_amnt': top_by_expected_ret.funded_amnt, \\\n",
    "              'optimal_notionals':opt_expected_ret_std_dev.x})\n",
    "opt_df_4.optimal_notionals = opt_df_4.optimal_notionals.apply(lambda val: round(val))\n"
   ]
  },
  {
   "cell_type": "code",
   "execution_count": null,
   "metadata": {},
   "outputs": [],
   "source": []
  },
  {
   "cell_type": "markdown",
   "metadata": {},
   "source": [
    "### seed with top n loans sorted by returns with highest probability of non-default\n"
   ]
  },
  {
   "cell_type": "code",
   "execution_count": 148,
   "metadata": {},
   "outputs": [],
   "source": [
    "top_by_expected_ret = (def_predictions.loc[(def_predictions._good == 1),['id', '_good', 'p','pred_ret_good','funded_amnt','risk_std_dev','risk_ES_95']].\\\n",
    "                        sort_values('p', ascending=False)).iloc[:n,]"
   ]
  },
  {
   "cell_type": "code",
   "execution_count": null,
   "metadata": {},
   "outputs": [],
   "source": []
  },
  {
   "cell_type": "markdown",
   "metadata": {},
   "source": [
    "#### risk measure = expected shortfall\n"
   ]
  },
  {
   "cell_type": "code",
   "execution_count": 149,
   "metadata": {},
   "outputs": [
    {
     "name": "stdout",
     "output_type": "stream",
     "text": [
      "Optimization terminated successfully.    (Exit mode 0)\n",
      "            Current function value: -21351.563129978636\n",
      "            Iterations: 278\n",
      "            Function evaluations: 28356\n",
      "            Gradient evaluations: 278\n",
      "Fit time: 3.1 seconds\n"
     ]
    }
   ],
   "source": [
    "start_time = time.time()\n",
    "opt_expected_ret_ES = portfolio_optimize(top_by_expected_ret.pred_ret_good.values,\n",
    "                                      top_by_expected_ret.funded_amnt.values, lambda_c = risk_aversion, \\\n",
    "                                      risk_measure = 1,risk_ES=top_by_expected_ret.risk_ES_95.values\n",
    "                                     )\n",
    "end_time = time.time()\n",
    "print(\"Fit time: \" + str(round(end_time - start_time, 2)) + \" seconds\")\n",
    "\n",
    "opt_df_5 = pd.DataFrame({'id':top_by_expected_ret.id.values, 'funded_amnt': top_by_expected_ret.funded_amnt, \\\n",
    "              'optimal_notionals':opt_expected_ret_ES.x})\n",
    "opt_df_5.optimal_notionals = opt_df_5.optimal_notionals.apply(lambda val: round(val))\n"
   ]
  },
  {
   "cell_type": "markdown",
   "metadata": {},
   "source": [
    "#### risk measure = standard deviation\n"
   ]
  },
  {
   "cell_type": "code",
   "execution_count": 150,
   "metadata": {},
   "outputs": [
    {
     "name": "stdout",
     "output_type": "stream",
     "text": [
      "Optimization terminated successfully.    (Exit mode 0)\n",
      "            Current function value: -22222.14334048754\n",
      "            Iterations: 246\n",
      "            Function evaluations: 25092\n",
      "            Gradient evaluations: 246\n",
      "Fit time: 8.73 seconds\n"
     ]
    }
   ],
   "source": [
    "start_time = time.time()\n",
    "\n",
    "opt_expected_ret_std_dev = portfolio_optimize(top_by_expected_ret.pred_ret_good.values,\n",
    "                                      top_by_expected_ret.funded_amnt.values, lambda_c = risk_aversion,\\\n",
    "                                      risk_measure = 0, risk_std=top_by_expected_ret.risk_std_dev\n",
    "                                     )\n",
    "end_time = time.time()\n",
    "print(\"Fit time: \" + str(round(end_time - start_time, 2)) + \" seconds\")\n",
    "\n",
    "opt_df_6 = pd.DataFrame({'id':top_by_expected_ret.id.values, 'funded_amnt': top_by_expected_ret.funded_amnt, \\\n",
    "              'optimal_notionals':opt_expected_ret_std_dev.x})\n",
    "opt_df_6.optimal_notionals = opt_df_6.optimal_notionals.apply(lambda val: round(val))\n"
   ]
  },
  {
   "cell_type": "markdown",
   "metadata": {},
   "source": [
    "### seed with top n loans selected randomly\n"
   ]
  },
  {
   "cell_type": "code",
   "execution_count": null,
   "metadata": {},
   "outputs": [],
   "source": []
  },
  {
   "cell_type": "code",
   "execution_count": 151,
   "metadata": {},
   "outputs": [],
   "source": [
    "top_by_expected_ret = def_predictions[['id', '_good','grade', 'p','pred_ret_good','funded_amnt','risk_std_dev','risk_ES_95']].\\\n",
    "                       iloc[(np.random.randint(0,def_predictions.shape[0],n)),:]\n",
    "                       "
   ]
  },
  {
   "cell_type": "code",
   "execution_count": null,
   "metadata": {},
   "outputs": [],
   "source": []
  },
  {
   "cell_type": "markdown",
   "metadata": {},
   "source": [
    "#### risk measure = expected shortfall\n"
   ]
  },
  {
   "cell_type": "code",
   "execution_count": 152,
   "metadata": {},
   "outputs": [
    {
     "name": "stdout",
     "output_type": "stream",
     "text": [
      "Optimization terminated successfully.    (Exit mode 0)\n",
      "            Current function value: -58304.16314396395\n",
      "            Iterations: 1272\n",
      "            Function evaluations: 129397\n",
      "            Gradient evaluations: 1268\n",
      "Fit time: 13.21 seconds\n"
     ]
    }
   ],
   "source": [
    "start_time = time.time()\n",
    "opt_expected_ret_ES = portfolio_optimize(top_by_expected_ret.pred_ret_good.values,\n",
    "                                      top_by_expected_ret.funded_amnt.values, lambda_c = risk_aversion, \\\n",
    "                                      risk_measure = 1,risk_ES=top_by_expected_ret.risk_ES_95.values\n",
    "                                     )\n",
    "end_time = time.time()\n",
    "print(\"Fit time: \" + str(round(end_time - start_time, 2)) + \" seconds\")\n",
    "\n",
    "opt_df_7 = pd.DataFrame({'id':top_by_expected_ret.id.values, 'funded_amnt': top_by_expected_ret.funded_amnt, \\\n",
    "              'optimal_notionals':opt_expected_ret_ES.x})\n",
    "opt_df_7.optimal_notionals = opt_df_7.optimal_notionals.apply(lambda val: round(val))\n"
   ]
  },
  {
   "cell_type": "markdown",
   "metadata": {},
   "source": [
    "#### risk measure = standard deviation\n"
   ]
  },
  {
   "cell_type": "code",
   "execution_count": 153,
   "metadata": {},
   "outputs": [
    {
     "name": "stdout",
     "output_type": "stream",
     "text": [
      "Optimization terminated successfully.    (Exit mode 0)\n",
      "            Current function value: -60599.63155808435\n",
      "            Iterations: 1277\n",
      "            Function evaluations: 129857\n",
      "            Gradient evaluations: 1273\n",
      "Fit time: 42.07 seconds\n"
     ]
    }
   ],
   "source": [
    "start_time = time.time()\n",
    "\n",
    "opt_expected_ret_std_dev = portfolio_optimize(top_by_expected_ret.pred_ret_good.values,\n",
    "                                      top_by_expected_ret.funded_amnt.values, lambda_c = risk_aversion,\\\n",
    "                                      risk_measure = 0, risk_std=top_by_expected_ret.risk_std_dev\n",
    "                                     )\n",
    "end_time = time.time()\n",
    "print(\"Fit time: \" + str(round(end_time - start_time, 2)) + \" seconds\")\n",
    "\n",
    "opt_df_8 = pd.DataFrame({'id':top_by_expected_ret.id.values, 'funded_amnt': top_by_expected_ret.funded_amnt, \\\n",
    "              'optimal_notionals':opt_expected_ret_std_dev.x})\n",
    "opt_df_8.optimal_notionals = opt_df_8.optimal_notionals.apply(lambda val: round(val))\n"
   ]
  },
  {
   "cell_type": "markdown",
   "metadata": {},
   "source": [
    "### calculate realized returns of the 6 portfolios\n"
   ]
  },
  {
   "cell_type": "code",
   "execution_count": null,
   "metadata": {},
   "outputs": [],
   "source": []
  },
  {
   "cell_type": "code",
   "execution_count": 154,
   "metadata": {},
   "outputs": [],
   "source": [
    "##generate simple annualized returns -- don't kill me Simon!\n",
    "opt_portf_arr = [opt_df_1, opt_df_2, opt_df_3, opt_df_4, opt_df_5, opt_df_6, opt_df_7, opt_df_8]\n",
    "simple_ret_arr = [calc_realized_returns(portf) for portf in opt_portf_arr]"
   ]
  },
  {
   "cell_type": "code",
   "execution_count": 160,
   "metadata": {},
   "outputs": [],
   "source": [
    "\n",
    "strategy =['Expected Returns,ES', 'Expected Returns,StdDev',\\\n",
    "           'R_non_default,any loan,ES', 'R_non_default,any loan,StdDev',\\\n",
    "           'R_non_default,non-defaulting loans only,ES', \\\n",
    "           'R_non_default,non-defaulting loans only,StdDev', 'Random,ES', 'Random,StdDev']\n",
    "resultset = pd.DataFrame({'Filter': strategy, 'Realized_returns':simple_ret_arr}).\\\n",
    "                sort_values('Realized_returns', ascending=False)"
   ]
  },
  {
   "cell_type": "code",
   "execution_count": 428,
   "metadata": {},
   "outputs": [
    {
     "name": "stdout",
     "output_type": "stream",
     "text": [
      "Risk aversion parameter: 0.01 \n",
      "Regressor: Random Forest\n"
     ]
    },
    {
     "data": {
      "text/html": [
       "<div>\n",
       "<style scoped>\n",
       "    .dataframe tbody tr th:only-of-type {\n",
       "        vertical-align: middle;\n",
       "    }\n",
       "\n",
       "    .dataframe tbody tr th {\n",
       "        vertical-align: top;\n",
       "    }\n",
       "\n",
       "    .dataframe thead th {\n",
       "        text-align: right;\n",
       "    }\n",
       "</style>\n",
       "<table border=\"1\" class=\"dataframe\">\n",
       "  <thead>\n",
       "    <tr style=\"text-align: right;\">\n",
       "      <th></th>\n",
       "      <th>Selection_criteria</th>\n",
       "      <th>Actual_realized_returns</th>\n",
       "    </tr>\n",
       "  </thead>\n",
       "  <tbody>\n",
       "    <tr>\n",
       "      <th>0</th>\n",
       "      <td>expected_ret_ES</td>\n",
       "      <td>0.083555</td>\n",
       "    </tr>\n",
       "    <tr>\n",
       "      <th>1</th>\n",
       "      <td>expected_ret_STDDEV</td>\n",
       "      <td>0.083439</td>\n",
       "    </tr>\n",
       "    <tr>\n",
       "      <th>4</th>\n",
       "      <td>non_default_prob_ret_ES</td>\n",
       "      <td>0.027802</td>\n",
       "    </tr>\n",
       "    <tr>\n",
       "      <th>5</th>\n",
       "      <td>non_default_prob_ret_STDDEV</td>\n",
       "      <td>0.027802</td>\n",
       "    </tr>\n",
       "    <tr>\n",
       "      <th>6</th>\n",
       "      <td>random_ES</td>\n",
       "      <td>-0.004566</td>\n",
       "    </tr>\n",
       "    <tr>\n",
       "      <th>7</th>\n",
       "      <td>random_STDDEV</td>\n",
       "      <td>-0.004699</td>\n",
       "    </tr>\n",
       "    <tr>\n",
       "      <th>2</th>\n",
       "      <td>non_default_scenario_ret_ES</td>\n",
       "      <td>-0.012114</td>\n",
       "    </tr>\n",
       "    <tr>\n",
       "      <th>3</th>\n",
       "      <td>non_default_scenario_ret_STDDEV</td>\n",
       "      <td>-0.012114</td>\n",
       "    </tr>\n",
       "  </tbody>\n",
       "</table>\n",
       "</div>"
      ],
      "text/plain": [
       "                Selection_criteria  Actual_realized_returns\n",
       "0                  expected_ret_ES                 0.083555\n",
       "1              expected_ret_STDDEV                 0.083439\n",
       "4          non_default_prob_ret_ES                 0.027802\n",
       "5      non_default_prob_ret_STDDEV                 0.027802\n",
       "6                        random_ES                -0.004566\n",
       "7                    random_STDDEV                -0.004699\n",
       "2      non_default_scenario_ret_ES                -0.012114\n",
       "3  non_default_scenario_ret_STDDEV                -0.012114"
      ]
     },
     "execution_count": 428,
     "metadata": {},
     "output_type": "execute_result"
    }
   ],
   "source": [
    "print(\"Risk aversion parameter:\", risk_aversion, \"\\nRegressor:\", regressor_used)\n",
    "resultset"
   ]
  },
  {
   "cell_type": "code",
   "execution_count": 164,
   "metadata": {},
   "outputs": [
    {
     "data": {
      "text/plain": [
       "0.023853362307346204"
      ]
     },
     "execution_count": 164,
     "metadata": {},
     "output_type": "execute_result"
    }
   ],
   "source": [
    "resultset.loc[(resultset.Filter == 'Random,ES')].Realized_returns.values"
   ]
  },
  {
   "cell_type": "code",
   "execution_count": 165,
   "metadata": {},
   "outputs": [],
   "source": [
    "resultset['Return_multiple'] = resultset.Realized_returns/resultset.loc[(resultset.Filter == 'Random,ES')].Realized_returns.values"
   ]
  },
  {
   "cell_type": "code",
   "execution_count": 167,
   "metadata": {},
   "outputs": [],
   "source": [
    "resultset['Return_multiple'] = resultset.Return_multiple.apply(lambda val: \"{:.2f}\".format(val))"
   ]
  },
  {
   "cell_type": "code",
   "execution_count": 169,
   "metadata": {},
   "outputs": [
    {
     "name": "stdout",
     "output_type": "stream",
     "text": [
      "Risk aversion parameter: 0.01 \n",
      "Regressor: Ridge\n"
     ]
    },
    {
     "data": {
      "text/html": [
       "<div>\n",
       "<style scoped>\n",
       "    .dataframe tbody tr th:only-of-type {\n",
       "        vertical-align: middle;\n",
       "    }\n",
       "\n",
       "    .dataframe tbody tr th {\n",
       "        vertical-align: top;\n",
       "    }\n",
       "\n",
       "    .dataframe thead th {\n",
       "        text-align: right;\n",
       "    }\n",
       "</style>\n",
       "<table border=\"1\" class=\"dataframe\">\n",
       "  <thead>\n",
       "    <tr style=\"text-align: right;\">\n",
       "      <th></th>\n",
       "      <th>Filter</th>\n",
       "      <th>Return_multiple</th>\n",
       "    </tr>\n",
       "  </thead>\n",
       "  <tbody>\n",
       "    <tr>\n",
       "      <th>1</th>\n",
       "      <td>Expected Returns,StdDev</td>\n",
       "      <td>3.24</td>\n",
       "    </tr>\n",
       "    <tr>\n",
       "      <th>0</th>\n",
       "      <td>Expected Returns,ES</td>\n",
       "      <td>3.18</td>\n",
       "    </tr>\n",
       "    <tr>\n",
       "      <th>4</th>\n",
       "      <td>R_non_default,non-defaulting loans only,ES</td>\n",
       "      <td>1.17</td>\n",
       "    </tr>\n",
       "    <tr>\n",
       "      <th>5</th>\n",
       "      <td>R_non_default,non-defaulting loans only,StdDev</td>\n",
       "      <td>1.17</td>\n",
       "    </tr>\n",
       "    <tr>\n",
       "      <th>7</th>\n",
       "      <td>Random,StdDev</td>\n",
       "      <td>1.00</td>\n",
       "    </tr>\n",
       "    <tr>\n",
       "      <th>6</th>\n",
       "      <td>Random,ES</td>\n",
       "      <td>1.00</td>\n",
       "    </tr>\n",
       "    <tr>\n",
       "      <th>2</th>\n",
       "      <td>R_non_default,any loan,ES</td>\n",
       "      <td>0.82</td>\n",
       "    </tr>\n",
       "    <tr>\n",
       "      <th>3</th>\n",
       "      <td>R_non_default,any loan,StdDev</td>\n",
       "      <td>0.69</td>\n",
       "    </tr>\n",
       "  </tbody>\n",
       "</table>\n",
       "</div>"
      ],
      "text/plain": [
       "                                           Filter Return_multiple\n",
       "1                         Expected Returns,StdDev            3.24\n",
       "0                             Expected Returns,ES            3.18\n",
       "4      R_non_default,non-defaulting loans only,ES            1.17\n",
       "5  R_non_default,non-defaulting loans only,StdDev            1.17\n",
       "7                                   Random,StdDev            1.00\n",
       "6                                       Random,ES            1.00\n",
       "2                       R_non_default,any loan,ES            0.82\n",
       "3                   R_non_default,any loan,StdDev            0.69"
      ]
     },
     "execution_count": 169,
     "metadata": {},
     "output_type": "execute_result"
    }
   ],
   "source": [
    "print(\"Risk aversion parameter:\", risk_aversion, \"\\nRegressor:\", regressor_used)\n",
    "resultset[['Filter', 'Return_multiple']]"
   ]
  },
  {
   "cell_type": "code",
   "execution_count": 157,
   "metadata": {},
   "outputs": [],
   "source": [
    "resultset.to_csv(\"optimizer_output.csv\", index=False)"
   ]
  },
  {
   "cell_type": "code",
   "execution_count": 429,
   "metadata": {},
   "outputs": [],
   "source": [
    "#best_portf_RF = opt_df_1"
   ]
  },
  {
   "cell_type": "code",
   "execution_count": 192,
   "metadata": {},
   "outputs": [],
   "source": [
    "best_portf_Ridge = opt_df_1"
   ]
  },
  {
   "cell_type": "code",
   "execution_count": 193,
   "metadata": {},
   "outputs": [],
   "source": [
    "best_portf_Ridge['weights'] = best_portf_Ridge.optimal_notionals/best_portf_Ridge.optimal_notionals.sum()"
   ]
  },
  {
   "cell_type": "code",
   "execution_count": 194,
   "metadata": {},
   "outputs": [],
   "source": [
    "#best_portf_RF['weights'] = best_portf_RF.optimal_notionals/best_portf_RF.optimal_notionals.sum()"
   ]
  },
  {
   "cell_type": "code",
   "execution_count": 195,
   "metadata": {},
   "outputs": [],
   "source": [
    "##send cut to Simon\n",
    "#best_portf_Ridge[['id', 'weights']].to_csv('optimal_weights_ridge.csv',index=False)\n",
    "#best_portf_RF[['id', 'weights']].to_csv('optimal_weights_randomF.csv',index=False)\n"
   ]
  },
  {
   "cell_type": "code",
   "execution_count": null,
   "metadata": {},
   "outputs": [],
   "source": []
  },
  {
   "cell_type": "code",
   "execution_count": 196,
   "metadata": {},
   "outputs": [],
   "source": [
    "best_portf_Ridge = pd.merge(best_portf_Ridge, ret_df[['id','term','grade','sub_grade','realized_loan_term_mths']], how='left', on='id')"
   ]
  },
  {
   "cell_type": "code",
   "execution_count": 197,
   "metadata": {},
   "outputs": [
    {
     "data": {
      "text/html": [
       "<div>\n",
       "<style scoped>\n",
       "    .dataframe tbody tr th:only-of-type {\n",
       "        vertical-align: middle;\n",
       "    }\n",
       "\n",
       "    .dataframe tbody tr th {\n",
       "        vertical-align: top;\n",
       "    }\n",
       "\n",
       "    .dataframe thead th {\n",
       "        text-align: right;\n",
       "    }\n",
       "</style>\n",
       "<table border=\"1\" class=\"dataframe\">\n",
       "  <thead>\n",
       "    <tr style=\"text-align: right;\">\n",
       "      <th></th>\n",
       "      <th>id</th>\n",
       "      <th>funded_amnt</th>\n",
       "      <th>optimal_notionals</th>\n",
       "      <th>weights</th>\n",
       "      <th>term</th>\n",
       "      <th>grade</th>\n",
       "      <th>sub_grade</th>\n",
       "      <th>realized_loan_term_mths</th>\n",
       "    </tr>\n",
       "  </thead>\n",
       "  <tbody>\n",
       "    <tr>\n",
       "      <th>52</th>\n",
       "      <td>431602</td>\n",
       "      <td>18000.0</td>\n",
       "      <td>11014</td>\n",
       "      <td>0.011014</td>\n",
       "      <td>36</td>\n",
       "      <td>E</td>\n",
       "      <td>E4</td>\n",
       "      <td>36.0</td>\n",
       "    </tr>\n",
       "    <tr>\n",
       "      <th>43</th>\n",
       "      <td>837281</td>\n",
       "      <td>30000.0</td>\n",
       "      <td>20009</td>\n",
       "      <td>0.020009</td>\n",
       "      <td>60</td>\n",
       "      <td>G</td>\n",
       "      <td>G1</td>\n",
       "      <td>19.0</td>\n",
       "    </tr>\n",
       "    <tr>\n",
       "      <th>30</th>\n",
       "      <td>640263</td>\n",
       "      <td>19750.0</td>\n",
       "      <td>19750</td>\n",
       "      <td>0.019750</td>\n",
       "      <td>60</td>\n",
       "      <td>G</td>\n",
       "      <td>G4</td>\n",
       "      <td>44.0</td>\n",
       "    </tr>\n",
       "    <tr>\n",
       "      <th>99</th>\n",
       "      <td>405963</td>\n",
       "      <td>5500.0</td>\n",
       "      <td>23</td>\n",
       "      <td>0.000023</td>\n",
       "      <td>36</td>\n",
       "      <td>D</td>\n",
       "      <td>D3</td>\n",
       "      <td>5.0</td>\n",
       "    </tr>\n",
       "    <tr>\n",
       "      <th>56</th>\n",
       "      <td>677937</td>\n",
       "      <td>30000.0</td>\n",
       "      <td>7692</td>\n",
       "      <td>0.007692</td>\n",
       "      <td>36</td>\n",
       "      <td>F</td>\n",
       "      <td>F2</td>\n",
       "      <td>23.0</td>\n",
       "    </tr>\n",
       "    <tr>\n",
       "      <th>54</th>\n",
       "      <td>882281</td>\n",
       "      <td>32000.0</td>\n",
       "      <td>13368</td>\n",
       "      <td>0.013368</td>\n",
       "      <td>60</td>\n",
       "      <td>G</td>\n",
       "      <td>G3</td>\n",
       "      <td>60.0</td>\n",
       "    </tr>\n",
       "    <tr>\n",
       "      <th>46</th>\n",
       "      <td>876865</td>\n",
       "      <td>25025.0</td>\n",
       "      <td>20213</td>\n",
       "      <td>0.020213</td>\n",
       "      <td>60</td>\n",
       "      <td>F</td>\n",
       "      <td>F3</td>\n",
       "      <td>3.0</td>\n",
       "    </tr>\n",
       "    <tr>\n",
       "      <th>35</th>\n",
       "      <td>578793</td>\n",
       "      <td>3000.0</td>\n",
       "      <td>2732</td>\n",
       "      <td>0.002732</td>\n",
       "      <td>36</td>\n",
       "      <td>E</td>\n",
       "      <td>E3</td>\n",
       "      <td>36.0</td>\n",
       "    </tr>\n",
       "    <tr>\n",
       "      <th>14</th>\n",
       "      <td>374485</td>\n",
       "      <td>14000.0</td>\n",
       "      <td>13940</td>\n",
       "      <td>0.013940</td>\n",
       "      <td>36</td>\n",
       "      <td>F</td>\n",
       "      <td>F1</td>\n",
       "      <td>38.0</td>\n",
       "    </tr>\n",
       "    <tr>\n",
       "      <th>28</th>\n",
       "      <td>706606</td>\n",
       "      <td>24000.0</td>\n",
       "      <td>24000</td>\n",
       "      <td>0.024000</td>\n",
       "      <td>60</td>\n",
       "      <td>G</td>\n",
       "      <td>G3</td>\n",
       "      <td>44.0</td>\n",
       "    </tr>\n",
       "  </tbody>\n",
       "</table>\n",
       "</div>"
      ],
      "text/plain": [
       "        id  funded_amnt  optimal_notionals   weights  term grade sub_grade  \\\n",
       "52  431602      18000.0              11014  0.011014    36     E        E4   \n",
       "43  837281      30000.0              20009  0.020009    60     G        G1   \n",
       "30  640263      19750.0              19750  0.019750    60     G        G4   \n",
       "99  405963       5500.0                 23  0.000023    36     D        D3   \n",
       "56  677937      30000.0               7692  0.007692    36     F        F2   \n",
       "54  882281      32000.0              13368  0.013368    60     G        G3   \n",
       "46  876865      25025.0              20213  0.020213    60     F        F3   \n",
       "35  578793       3000.0               2732  0.002732    36     E        E3   \n",
       "14  374485      14000.0              13940  0.013940    36     F        F1   \n",
       "28  706606      24000.0              24000  0.024000    60     G        G3   \n",
       "\n",
       "    realized_loan_term_mths  \n",
       "52                     36.0  \n",
       "43                     19.0  \n",
       "30                     44.0  \n",
       "99                      5.0  \n",
       "56                     23.0  \n",
       "54                     60.0  \n",
       "46                      3.0  \n",
       "35                     36.0  \n",
       "14                     38.0  \n",
       "28                     44.0  "
      ]
     },
     "execution_count": 197,
     "metadata": {},
     "output_type": "execute_result"
    }
   ],
   "source": [
    "best_portf_Ridge.sample(10)"
   ]
  },
  {
   "cell_type": "code",
   "execution_count": 198,
   "metadata": {},
   "outputs": [
    {
     "data": {
      "text/plain": [
       "33.49132349132349"
      ]
     },
     "execution_count": 198,
     "metadata": {},
     "output_type": "execute_result"
    }
   ],
   "source": [
    "weighted_avg_life = np.sum([x[0]*x[1] for x in zip(best_portf_Ridge.weights, best_portf_Ridge.realized_loan_term_mths)])\n",
    "weighted_avg_life"
   ]
  },
  {
   "cell_type": "code",
   "execution_count": 199,
   "metadata": {},
   "outputs": [
    {
     "data": {
      "text/plain": [
       "18033.0"
      ]
     },
     "execution_count": 199,
     "metadata": {},
     "output_type": "execute_result"
    }
   ],
   "source": [
    "weighted_avg_notional_invested = \\\n",
    "        np.sum([x[0]*x[1] for x in zip(best_portf_Ridge.weights, best_portf_Ridge.optimal_notionals)])\n",
    "round(weighted_avg_notional_invested)"
   ]
  },
  {
   "cell_type": "code",
   "execution_count": 200,
   "metadata": {},
   "outputs": [
    {
     "data": {
      "text/plain": [
       "92"
      ]
     },
     "execution_count": 200,
     "metadata": {},
     "output_type": "execute_result"
    }
   ],
   "source": [
    "best_portf_Ridge.loc[(best_portf_Ridge.weights>0)].shape[0]"
   ]
  },
  {
   "cell_type": "code",
   "execution_count": 204,
   "metadata": {},
   "outputs": [
    {
     "data": {
      "text/html": [
       "<div>\n",
       "<style scoped>\n",
       "    .dataframe tbody tr th:only-of-type {\n",
       "        vertical-align: middle;\n",
       "    }\n",
       "\n",
       "    .dataframe tbody tr th {\n",
       "        vertical-align: top;\n",
       "    }\n",
       "\n",
       "    .dataframe thead th {\n",
       "        text-align: right;\n",
       "    }\n",
       "</style>\n",
       "<table border=\"1\" class=\"dataframe\">\n",
       "  <thead>\n",
       "    <tr style=\"text-align: right;\">\n",
       "      <th></th>\n",
       "      <th>grade</th>\n",
       "      <th>weights</th>\n",
       "    </tr>\n",
       "  </thead>\n",
       "  <tbody>\n",
       "    <tr>\n",
       "      <th>5</th>\n",
       "      <td>G</td>\n",
       "      <td>0.439469</td>\n",
       "    </tr>\n",
       "    <tr>\n",
       "      <th>4</th>\n",
       "      <td>F</td>\n",
       "      <td>0.300010</td>\n",
       "    </tr>\n",
       "    <tr>\n",
       "      <th>3</th>\n",
       "      <td>E</td>\n",
       "      <td>0.223773</td>\n",
       "    </tr>\n",
       "    <tr>\n",
       "      <th>2</th>\n",
       "      <td>D</td>\n",
       "      <td>0.031917</td>\n",
       "    </tr>\n",
       "    <tr>\n",
       "      <th>0</th>\n",
       "      <td>B</td>\n",
       "      <td>0.003500</td>\n",
       "    </tr>\n",
       "    <tr>\n",
       "      <th>1</th>\n",
       "      <td>C</td>\n",
       "      <td>0.001330</td>\n",
       "    </tr>\n",
       "  </tbody>\n",
       "</table>\n",
       "</div>"
      ],
      "text/plain": [
       "  grade   weights\n",
       "5     G  0.439469\n",
       "4     F  0.300010\n",
       "3     E  0.223773\n",
       "2     D  0.031917\n",
       "0     B  0.003500\n",
       "1     C  0.001330"
      ]
     },
     "execution_count": 204,
     "metadata": {},
     "output_type": "execute_result"
    }
   ],
   "source": [
    "group_by_grade = best_portf_Ridge.groupby(['grade'])['weights'].sum().reset_index().sort_values('weights', ascending=False)\n",
    "group_by_grade"
   ]
  },
  {
   "cell_type": "code",
   "execution_count": 191,
   "metadata": {},
   "outputs": [
    {
     "data": {
      "image/png": "[encoded data removed]",
      "text/plain": [
       "<Figure size 720x360 with 1 Axes>"
      ]
     },
     "metadata": {
      "needs_background": "light"
     },
     "output_type": "display_data"
    }
   ],
   "source": [
    "ax = group_by_grade.plot.bar(x='grade', y='weights', rot=0)"
   ]
  },
  {
   "cell_type": "code",
   "execution_count": 211,
   "metadata": {},
   "outputs": [],
   "source": [
    "(best_portf_Ridge[['optimal_notionals', 'realized_loan_term_mths']].describe().T).to_csv(\"optimal_portf_stats.csv\")"
   ]
  },
  {
   "cell_type": "code",
   "execution_count": 216,
   "metadata": {},
   "outputs": [],
   "source": [
    "tmp = pd.read_csv(\"optimal_portf_stats.csv\")"
   ]
  },
  {
   "cell_type": "code",
   "execution_count": 217,
   "metadata": {},
   "outputs": [
    {
     "data": {
      "text/html": [
       "<div>\n",
       "<style scoped>\n",
       "    .dataframe tbody tr th:only-of-type {\n",
       "        vertical-align: middle;\n",
       "    }\n",
       "\n",
       "    .dataframe tbody tr th {\n",
       "        vertical-align: top;\n",
       "    }\n",
       "\n",
       "    .dataframe thead th {\n",
       "        text-align: right;\n",
       "    }\n",
       "</style>\n",
       "<table border=\"1\" class=\"dataframe\">\n",
       "  <thead>\n",
       "    <tr style=\"text-align: right;\">\n",
       "      <th></th>\n",
       "      <th>statistic</th>\n",
       "      <th>count</th>\n",
       "      <th>mean</th>\n",
       "      <th>min</th>\n",
       "      <th>25%</th>\n",
       "      <th>50%</th>\n",
       "      <th>75%</th>\n",
       "      <th>max</th>\n",
       "    </tr>\n",
       "  </thead>\n",
       "  <tbody>\n",
       "    <tr>\n",
       "      <th>0</th>\n",
       "      <td>amount_to_invest</td>\n",
       "      <td>100</td>\n",
       "      <td>10000</td>\n",
       "      <td>0</td>\n",
       "      <td>2136</td>\n",
       "      <td>7759</td>\n",
       "      <td>16189</td>\n",
       "      <td>35000</td>\n",
       "    </tr>\n",
       "    <tr>\n",
       "      <th>1</th>\n",
       "      <td>realized_loan_life</td>\n",
       "      <td>100</td>\n",
       "      <td>34</td>\n",
       "      <td>1</td>\n",
       "      <td>23</td>\n",
       "      <td>35</td>\n",
       "      <td>43</td>\n",
       "      <td>63</td>\n",
       "    </tr>\n",
       "  </tbody>\n",
       "</table>\n",
       "</div>"
      ],
      "text/plain": [
       "            statistic  count   mean  min   25%   50%    75%    max\n",
       "0    amount_to_invest    100  10000    0  2136  7759  16189  35000\n",
       "1  realized_loan_life    100     34    1    23    35     43     63"
      ]
     },
     "execution_count": 217,
     "metadata": {},
     "output_type": "execute_result"
    }
   ],
   "source": [
    "tmp\n"
   ]
  },
  {
   "cell_type": "code",
   "execution_count": null,
   "metadata": {},
   "outputs": [],
   "source": []
  }
 ],
 "metadata": {
  "kernelspec": {
   "display_name": "Python 3",
   "language": "python",
   "name": "python3"
  },
  "language_info": {
   "codemirror_mode": {
    "name": "ipython",
    "version": 3
   },
   "file_extension": ".py",
   "mimetype": "text/x-python",
   "name": "python",
   "nbconvert_exporter": "python",
   "pygments_lexer": "ipython3",
   "version": "3.7.1"
  }
 },
 "nbformat": 4,
 "nbformat_minor": 2
}
