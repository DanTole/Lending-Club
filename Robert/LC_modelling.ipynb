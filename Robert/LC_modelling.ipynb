{
 "cells": [
  {
   "cell_type": "code",
   "execution_count": 1,
   "metadata": {},
   "outputs": [],
   "source": [
    "import pandas as pd\n",
    "import numpy as np\n",
    "import datetime\n",
    "import time\n",
    "import seaborn as sns\n",
    "from matplotlib import pyplot\n"
   ]
  },
  {
   "cell_type": "code",
   "execution_count": 2,
   "metadata": {},
   "outputs": [],
   "source": [
    "from sklearn.model_selection import GridSearchCV\n",
    "from sklearn import linear_model\n",
    "from sklearn.ensemble import RandomForestRegressor\n",
    "from sklearn.metrics import accuracy_score, classification_report, roc_auc_score, roc_curve, brier_score_loss, mean_squared_error, r2_score\n",
    "from sklearn.cluster import KMeans\n",
    "\n",
    "from scipy.optimize import minimize, LinearConstraint #for optimization\n",
    "\n",
    "\n",
    "\n"
   ]
  },
  {
   "cell_type": "code",
   "execution_count": 3,
   "metadata": {},
   "outputs": [],
   "source": [
    "#read in the pre-processed training and test set from Dmitri's notebook\n",
    "X_train = pd.read_csv(\"data/X_train_random_1592420882.csv\")\n",
    "Y_train = pd.read_csv(\"data/Y_train_random_1592420882.csv\")\n",
    "X_test = pd.read_csv(\"data/X_test_random_1592420882.csv\")\n",
    "Y_test = pd.read_csv(\"data/Y_test_random_1592420882.csv\")"
   ]
  },
  {
   "cell_type": "code",
   "execution_count": 4,
   "metadata": {},
   "outputs": [],
   "source": [
    "assert((X_train.shape[0] == Y_train.shape[0]) & (X_test.shape[0] == Y_test.shape[0]))"
   ]
  },
  {
   "cell_type": "code",
   "execution_count": 5,
   "metadata": {},
   "outputs": [
    {
     "name": "stdout",
     "output_type": "stream",
     "text": [
      "Dim of X_train: (1076080, 37)\n",
      "Dim of Y_train: (1076080, 2)\n",
      "\n",
      "\n",
      "Dim of X_test: (269020, 37)\n",
      "Dim of Y_test: (269020, 2)\n"
     ]
    }
   ],
   "source": [
    "print(f'Dim of X_train: {X_train.shape}')\n",
    "print(f'Dim of Y_train: {Y_train.shape}')\n",
    "print(\"\\n\")\n",
    "print(f'Dim of X_test: {X_test.shape}')\n",
    "print(f'Dim of Y_test: {Y_test.shape}')"
   ]
  },
  {
   "cell_type": "code",
   "execution_count": 6,
   "metadata": {},
   "outputs": [
    {
     "name": "stdout",
     "output_type": "stream",
     "text": [
      "Train-test split: [0.8,0.2]\n"
     ]
    }
   ],
   "source": [
    "print(f'Train-test split: [{X_train.shape[0]/(X_train.shape[0] + X_test.shape[0])},\\\n",
    "{X_test.shape[0]/(X_train.shape[0] + X_test.shape[0])}]')"
   ]
  },
  {
   "cell_type": "code",
   "execution_count": 7,
   "metadata": {},
   "outputs": [
    {
     "data": {
      "text/plain": [
       "Index(['id', 'application_type', 'grade', 'sub_grade', 'term',\n",
       "       'initial_list_status', 'emp_length', 'verification_status', '_has_desc',\n",
       "       'loan_amnt', 'int_rate', 'installment', 'annual_inc', 'fico_range_low',\n",
       "       'delinq_2yrs', 'dti', 'open_acc', 'pub_rec', 'revol_bal', 'revol_util',\n",
       "       '_credit_hist', 'purpose_credit_card', 'purpose_debt_consolidation',\n",
       "       'purpose_educational', 'purpose_home_improvement', 'purpose_house',\n",
       "       'purpose_major_purchase', 'purpose_medical', 'purpose_moving',\n",
       "       'purpose_other', 'purpose_renewable_energy', 'purpose_small_business',\n",
       "       'purpose_vacation', 'purpose_wedding', 'home_ownership_OTHER',\n",
       "       'home_ownership_OWN', 'home_ownership_RENT'],\n",
       "      dtype='object')"
      ]
     },
     "execution_count": 7,
     "metadata": {},
     "output_type": "execute_result"
    }
   ],
   "source": [
    "X_train.columns"
   ]
  },
  {
   "cell_type": "code",
   "execution_count": 11,
   "metadata": {},
   "outputs": [
    {
     "data": {
      "text/plain": [
       "id                              int64\n",
       "application_type                int64\n",
       "grade                           int64\n",
       "sub_grade                       int64\n",
       "term                            int64\n",
       "initial_list_status             int64\n",
       "emp_length                      int64\n",
       "verification_status             int64\n",
       "_has_desc                       int64\n",
       "loan_amnt                     float64\n",
       "int_rate                      float64\n",
       "installment                   float64\n",
       "annual_inc                    float64\n",
       "fico_range_low                float64\n",
       "delinq_2yrs                   float64\n",
       "dti                           float64\n",
       "open_acc                      float64\n",
       "pub_rec                       float64\n",
       "revol_bal                     float64\n",
       "revol_util                    float64\n",
       "_credit_hist                  float64\n",
       "purpose_credit_card             int64\n",
       "purpose_debt_consolidation      int64\n",
       "purpose_educational             int64\n",
       "purpose_home_improvement        int64\n",
       "purpose_house                   int64\n",
       "purpose_major_purchase          int64\n",
       "purpose_medical                 int64\n",
       "purpose_moving                  int64\n",
       "purpose_other                   int64\n",
       "purpose_renewable_energy        int64\n",
       "purpose_small_business          int64\n",
       "purpose_vacation                int64\n",
       "purpose_wedding                 int64\n",
       "home_ownership_OTHER            int64\n",
       "home_ownership_OWN              int64\n",
       "home_ownership_RENT             int64\n",
       "dtype: object"
      ]
     },
     "execution_count": 11,
     "metadata": {},
     "output_type": "execute_result"
    }
   ],
   "source": [
    "X_train.dtypes"
   ]
  },
  {
   "cell_type": "code",
   "execution_count": 12,
   "metadata": {},
   "outputs": [],
   "source": [
    "dtypes_map={\n",
    "'id':'uint32',\n",
    "'application_type':'uint8',\n",
    "'grade':'uint8',\n",
    "'sub_grade':'uint8',\n",
    "'term':'uint8',\n",
    "'initial_list_status':'uint8',\n",
    "'emp_length':'uint8',\n",
    "'verification_status':'uint8',\n",
    "'_has_desc':'uint8',\n",
    "'purpose_credit_card':'uint8',\n",
    "'purpose_debt_consolidation':'uint8',\n",
    "'purpose_educational':'uint8',\n",
    "'purpose_home_improvement':'uint8',\n",
    "'purpose_house':'uint8',\n",
    "'purpose_major_purchase':'uint8',\n",
    "'purpose_medical':'uint8',\n",
    "'purpose_moving':'uint8',\n",
    "'purpose_other':'uint8',\n",
    "'purpose_renewable_energy':'uint8',\n",
    "'purpose_small_business':'uint8',\n",
    "'purpose_vacation':'uint8',\n",
    "'purpose_wedding':'uint8',\n",
    "'home_ownership_OTHER':'uint8',\n",
    "'home_ownership_OWN':'uint8',\n",
    "'home_ownership_RENT':'uint8'\n",
    "}"
   ]
  },
  {
   "cell_type": "code",
   "execution_count": 14,
   "metadata": {},
   "outputs": [],
   "source": [
    "X_train = X_train.astype(dtype=dtypes_map)\n",
    "X_test = X_test.astype(dtype=dtypes_map)\n"
   ]
  },
  {
   "cell_type": "code",
   "execution_count": 15,
   "metadata": {},
   "outputs": [
    {
     "data": {
      "text/plain": [
       "1.0"
      ]
     },
     "execution_count": 15,
     "metadata": {},
     "output_type": "execute_result"
    }
   ],
   "source": [
    "np.mean(Y_train.id == X_train.id)"
   ]
  },
  {
   "cell_type": "code",
   "execution_count": 16,
   "metadata": {},
   "outputs": [
    {
     "data": {
      "text/plain": [
       "1.0"
      ]
     },
     "execution_count": 16,
     "metadata": {},
     "output_type": "execute_result"
    }
   ],
   "source": [
    "np.mean(Y_test.id == X_test.id)"
   ]
  },
  {
   "cell_type": "code",
   "execution_count": 17,
   "metadata": {},
   "outputs": [
    {
     "name": "stderr",
     "output_type": "stream",
     "text": [
      "/Users/rknatuahene/anaconda3/lib/python3.7/site-packages/IPython/core/interactiveshell.py:3020: DtypeWarning: Columns (0,19,49,59,118,129,130,131,134,135,136,139,145,146,147) have mixed types. Specify dtype option on import or set low_memory=False.\n",
      "  interactivity=interactivity, compiler=compiler, result=result)\n"
     ]
    }
   ],
   "source": [
    "##we need to get fields needed for return calculations.\n",
    "LC_df = pd.read_csv(\"data/accepted_2007_to_2018Q4.csv\")"
   ]
  },
  {
   "cell_type": "code",
   "execution_count": 18,
   "metadata": {},
   "outputs": [],
   "source": [
    "ret_df = LC_df[[\"id\", \"issue_d\",\"last_pymnt_d\", \"total_pymnt\", \"term\", \"funded_amnt\", \"recoveries\"]].copy()"
   ]
  },
  {
   "cell_type": "code",
   "execution_count": 19,
   "metadata": {},
   "outputs": [
    {
     "data": {
      "text/plain": [
       " 36 months    1609754\n",
       " 60 months     650914\n",
       "NaN                33\n",
       "Name: term, dtype: int64"
      ]
     },
     "execution_count": 19,
     "metadata": {},
     "output_type": "execute_result"
    }
   ],
   "source": [
    "ret_df.term.value_counts(dropna=False)"
   ]
  },
  {
   "cell_type": "code",
   "execution_count": 20,
   "metadata": {},
   "outputs": [],
   "source": [
    "ret_df.dropna(subset=[\"id\", \"issue_d\",\"last_pymnt_d\", \"total_pymnt\", \"term\", \"funded_amnt\"], inplace=True)"
   ]
  },
  {
   "cell_type": "code",
   "execution_count": 21,
   "metadata": {},
   "outputs": [
    {
     "data": {
      "text/plain": [
       "36    1607966\n",
       "60     650275\n",
       "Name: term, dtype: int64"
      ]
     },
     "execution_count": 21,
     "metadata": {},
     "output_type": "execute_result"
    }
   ],
   "source": [
    "#convert term field to integer months\n",
    "ret_df['term'] = ret_df['term'].apply(lambda t: np.int8(t.split()[0]))\n",
    "ret_df.term.value_counts()\n"
   ]
  },
  {
   "cell_type": "code",
   "execution_count": 22,
   "metadata": {},
   "outputs": [
    {
     "data": {
      "text/html": [
       "<div>\n",
       "<style scoped>\n",
       "    .dataframe tbody tr th:only-of-type {\n",
       "        vertical-align: middle;\n",
       "    }\n",
       "\n",
       "    .dataframe tbody tr th {\n",
       "        vertical-align: top;\n",
       "    }\n",
       "\n",
       "    .dataframe thead th {\n",
       "        text-align: right;\n",
       "    }\n",
       "</style>\n",
       "<table border=\"1\" class=\"dataframe\">\n",
       "  <thead>\n",
       "    <tr style=\"text-align: right;\">\n",
       "      <th></th>\n",
       "      <th>count</th>\n",
       "      <th>mean</th>\n",
       "      <th>std</th>\n",
       "      <th>min</th>\n",
       "      <th>25%</th>\n",
       "      <th>50%</th>\n",
       "      <th>75%</th>\n",
       "      <th>max</th>\n",
       "    </tr>\n",
       "  </thead>\n",
       "  <tbody>\n",
       "    <tr>\n",
       "      <th>total_pymnt</th>\n",
       "      <td>2258241.0</td>\n",
       "      <td>12094.073850</td>\n",
       "      <td>9900.144164</td>\n",
       "      <td>10.0</td>\n",
       "      <td>4560.85</td>\n",
       "      <td>9343.69</td>\n",
       "      <td>16951.677553</td>\n",
       "      <td>63296.877917</td>\n",
       "    </tr>\n",
       "    <tr>\n",
       "      <th>funded_amnt</th>\n",
       "      <td>2258241.0</td>\n",
       "      <td>15041.772723</td>\n",
       "      <td>9186.916012</td>\n",
       "      <td>500.0</td>\n",
       "      <td>8000.00</td>\n",
       "      <td>12875.00</td>\n",
       "      <td>20000.000000</td>\n",
       "      <td>40000.000000</td>\n",
       "    </tr>\n",
       "    <tr>\n",
       "      <th>recoveries</th>\n",
       "      <td>2258241.0</td>\n",
       "      <td>142.565584</td>\n",
       "      <td>743.233625</td>\n",
       "      <td>0.0</td>\n",
       "      <td>0.00</td>\n",
       "      <td>0.00</td>\n",
       "      <td>0.000000</td>\n",
       "      <td>39859.550000</td>\n",
       "    </tr>\n",
       "  </tbody>\n",
       "</table>\n",
       "</div>"
      ],
      "text/plain": [
       "                 count          mean          std    min      25%       50%  \\\n",
       "total_pymnt  2258241.0  12094.073850  9900.144164   10.0  4560.85   9343.69   \n",
       "funded_amnt  2258241.0  15041.772723  9186.916012  500.0  8000.00  12875.00   \n",
       "recoveries   2258241.0    142.565584   743.233625    0.0     0.00      0.00   \n",
       "\n",
       "                      75%           max  \n",
       "total_pymnt  16951.677553  63296.877917  \n",
       "funded_amnt  20000.000000  40000.000000  \n",
       "recoveries       0.000000  39859.550000  "
      ]
     },
     "execution_count": 22,
     "metadata": {},
     "output_type": "execute_result"
    }
   ],
   "source": [
    "ret_df[[\"total_pymnt\", \"funded_amnt\", \"recoveries\"]].describe().T"
   ]
  },
  {
   "cell_type": "code",
   "execution_count": 23,
   "metadata": {},
   "outputs": [],
   "source": [
    "#convert issue_d and last_pymnt_d into datetime\n",
    "ret_df['issue_d'] = ret_df['issue_d'].apply(lambda dt: datetime.datetime.strptime( dt, \"%b-%Y\").date())\n",
    "ret_df['last_pymnt_d'] = ret_df['last_pymnt_d'].apply(lambda dt: datetime.datetime.strptime( dt, \"%b-%Y\").date())"
   ]
  },
  {
   "cell_type": "code",
   "execution_count": 24,
   "metadata": {},
   "outputs": [],
   "source": [
    "#calculate the realized term of the loan in months. \n",
    "ret_df['realized_loan_term_mths'] = round((ret_df['last_pymnt_d'] - ret_df['issue_d'])/np.timedelta64(1, 'M'))"
   ]
  },
  {
   "cell_type": "code",
   "execution_count": 25,
   "metadata": {},
   "outputs": [
    {
     "data": {
      "text/plain": [
       "0.9240351229120364"
      ]
     },
     "execution_count": 25,
     "metadata": {},
     "output_type": "execute_result"
    }
   ],
   "source": [
    "#where realized_loan_term_mths != term means default or pre-payment\n",
    "np.sum(ret_df.realized_loan_term_mths != ret_df.term)/ret_df.shape[0]"
   ]
  },
  {
   "cell_type": "code",
   "execution_count": 26,
   "metadata": {},
   "outputs": [
    {
     "data": {
      "text/plain": [
       "8965"
      ]
     },
     "execution_count": 26,
     "metadata": {},
     "output_type": "execute_result"
    }
   ],
   "source": [
    "np.sum(ret_df.realized_loan_term_mths <= 0)"
   ]
  },
  {
   "cell_type": "code",
   "execution_count": 27,
   "metadata": {},
   "outputs": [],
   "source": [
    "#remove rows where realized_loan_term_mths = 0\n",
    "ret_df = ret_df[ret_df.realized_loan_term_mths > 0]"
   ]
  },
  {
   "attachments": {
    "image.png": {
     "image/png": "[encoded data removed]"
    }
   },
   "cell_type": "markdown",
   "metadata": {},
   "source": [
    "Function calc_return(....)\n",
    "\n",
    "    calculate the effective(realized) annualized return on the funded amount of a loan\n",
    "    assumption 1: monthly cash flow can be invested at a monthly rate of return rr\n",
    "    This assumption allows us to simplify the return calculation to a sum of a geometric series\n",
    "    with cash payments of: m, m(1+rr), m(1+rr)^2, m(1+rr)^3, ...,m(1+rr)^(last_pymnt_d -1) at the \n",
    "    end of months: 0,1,2,3,...last_pyment_d - 1 respectively\n",
    "    The sequence of cash flows then forms a geometric series of the form\n",
    "                                        a + ar + ar2 + ... + ar(n-1)\n",
    "                                        which has a closed form sum:\n",
    "![image.png](attachment:image.png)\n",
    "\n",
    "    where r = (1+rr) and a = m, the effective monthly installment payment over the actual life of the loan.\n",
    "    \n",
    "    assumption 2: when loan terminates early(due to default or pre-payment) total cash received\n",
    "    + accrued interest are re-invested at the same rate rr from that time till the term of the loan"
   ]
  },
  {
   "cell_type": "code",
   "execution_count": 28,
   "metadata": {},
   "outputs": [],
   "source": [
    "def calc_return(total_pymnt, term, funded_amnt, recoveries, realized_loan_term_mths, r=0.01):\n",
    "    effective_monthly_installments = (total_pymnt - recoveries)/realized_loan_term_mths\n",
    "    \n",
    "    #get total cash flow at loan termination as the geometric sum of effective monthly installments\n",
    "    #yielding a constant rate of return rr.\n",
    "    #This is from assumption #1\n",
    "    rr =r/12 #expecting r to be the annual yield\n",
    "    total_cash_flow = effective_monthly_installments * ((1 - (1 + rr)**realized_loan_term_mths)) / (1 - (1 + rr))\n",
    "    \n",
    "    #add back recoveries to the get the lump sum at loan termination.\n",
    "    total_cash_flow+= recoveries \n",
    "\n",
    "    #assumption #2. invest at rr till original term of loan.\n",
    "    total_cash_flow = total_cash_flow * ((1 + rr)**(max(0,term - realized_loan_term_mths)))\n",
    "    \n",
    "    #calculate total return R and annualize\n",
    "    R = (total_cash_flow - funded_amnt) / funded_amnt\n",
    "    return ((1+R)**(12/term) - 1)\n"
   ]
  },
  {
   "cell_type": "code",
   "execution_count": 29,
   "metadata": {},
   "outputs": [],
   "source": [
    "rr = 0.01\n",
    "ret_df[\"annualized_returns\"] = ret_df.apply(lambda row: calc_return(row[3], row[4], row[5], row[6], row[7], rr), axis =1)"
   ]
  },
  {
   "cell_type": "code",
   "execution_count": 32,
   "metadata": {},
   "outputs": [
    {
     "data": {
      "text/plain": [
       "(2249276, 9)"
      ]
     },
     "execution_count": 32,
     "metadata": {},
     "output_type": "execute_result"
    }
   ],
   "source": [
    "ret_df.shape"
   ]
  },
  {
   "cell_type": "code",
   "execution_count": 34,
   "metadata": {},
   "outputs": [],
   "source": [
    "ret_df = ret_df.astype({'id': 'uint32'})\n"
   ]
  },
  {
   "cell_type": "code",
   "execution_count": 35,
   "metadata": {},
   "outputs": [
    {
     "data": {
      "text/html": [
       "<div>\n",
       "<style scoped>\n",
       "    .dataframe tbody tr th:only-of-type {\n",
       "        vertical-align: middle;\n",
       "    }\n",
       "\n",
       "    .dataframe tbody tr th {\n",
       "        vertical-align: top;\n",
       "    }\n",
       "\n",
       "    .dataframe thead th {\n",
       "        text-align: right;\n",
       "    }\n",
       "</style>\n",
       "<table border=\"1\" class=\"dataframe\">\n",
       "  <thead>\n",
       "    <tr style=\"text-align: right;\">\n",
       "      <th></th>\n",
       "      <th>id</th>\n",
       "      <th>issue_d</th>\n",
       "      <th>last_pymnt_d</th>\n",
       "      <th>total_pymnt</th>\n",
       "      <th>term</th>\n",
       "      <th>funded_amnt</th>\n",
       "      <th>recoveries</th>\n",
       "      <th>realized_loan_term_mths</th>\n",
       "      <th>annualized_returns</th>\n",
       "    </tr>\n",
       "  </thead>\n",
       "  <tbody>\n",
       "    <tr>\n",
       "      <th>2201369</th>\n",
       "      <td>93959740</td>\n",
       "      <td>2016-11-01</td>\n",
       "      <td>2018-01-01</td>\n",
       "      <td>26675.211807</td>\n",
       "      <td>36</td>\n",
       "      <td>25000.0</td>\n",
       "      <td>0.00</td>\n",
       "      <td>14.0</td>\n",
       "      <td>0.029975</td>\n",
       "    </tr>\n",
       "    <tr>\n",
       "      <th>510994</th>\n",
       "      <td>126729784</td>\n",
       "      <td>2018-01-01</td>\n",
       "      <td>2019-01-01</td>\n",
       "      <td>9889.065760</td>\n",
       "      <td>36</td>\n",
       "      <td>9000.0</td>\n",
       "      <td>0.00</td>\n",
       "      <td>12.0</td>\n",
       "      <td>0.040388</td>\n",
       "    </tr>\n",
       "    <tr>\n",
       "      <th>1764941</th>\n",
       "      <td>9145023</td>\n",
       "      <td>2013-12-01</td>\n",
       "      <td>2014-09-01</td>\n",
       "      <td>11250.020000</td>\n",
       "      <td>60</td>\n",
       "      <td>32000.0</td>\n",
       "      <td>4284.61</td>\n",
       "      <td>9.0</td>\n",
       "      <td>-0.181403</td>\n",
       "    </tr>\n",
       "    <tr>\n",
       "      <th>11919</th>\n",
       "      <td>67705788</td>\n",
       "      <td>2015-12-01</td>\n",
       "      <td>2016-01-01</td>\n",
       "      <td>6011.220000</td>\n",
       "      <td>36</td>\n",
       "      <td>6000.0</td>\n",
       "      <td>0.00</td>\n",
       "      <td>1.0</td>\n",
       "      <td>0.010395</td>\n",
       "    </tr>\n",
       "    <tr>\n",
       "      <th>1738390</th>\n",
       "      <td>96562299</td>\n",
       "      <td>2017-01-01</td>\n",
       "      <td>2019-03-01</td>\n",
       "      <td>11797.560000</td>\n",
       "      <td>36</td>\n",
       "      <td>12000.0</td>\n",
       "      <td>0.00</td>\n",
       "      <td>26.0</td>\n",
       "      <td>0.000583</td>\n",
       "    </tr>\n",
       "    <tr>\n",
       "      <th>1654263</th>\n",
       "      <td>134737</td>\n",
       "      <td>2007-10-01</td>\n",
       "      <td>2007-12-01</td>\n",
       "      <td>530.580000</td>\n",
       "      <td>36</td>\n",
       "      <td>5000.0</td>\n",
       "      <td>214.22</td>\n",
       "      <td>2.0</td>\n",
       "      <td>-0.522035</td>\n",
       "    </tr>\n",
       "    <tr>\n",
       "      <th>2077483</th>\n",
       "      <td>125014016</td>\n",
       "      <td>2017-11-01</td>\n",
       "      <td>2019-02-01</td>\n",
       "      <td>8087.650000</td>\n",
       "      <td>60</td>\n",
       "      <td>24000.0</td>\n",
       "      <td>0.00</td>\n",
       "      <td>15.0</td>\n",
       "      <td>-0.188506</td>\n",
       "    </tr>\n",
       "    <tr>\n",
       "      <th>388969</th>\n",
       "      <td>39937907</td>\n",
       "      <td>2015-01-01</td>\n",
       "      <td>2016-06-01</td>\n",
       "      <td>22575.830004</td>\n",
       "      <td>36</td>\n",
       "      <td>19200.0</td>\n",
       "      <td>0.00</td>\n",
       "      <td>17.0</td>\n",
       "      <td>0.063419</td>\n",
       "    </tr>\n",
       "    <tr>\n",
       "      <th>1409770</th>\n",
       "      <td>143783235</td>\n",
       "      <td>2018-11-01</td>\n",
       "      <td>2019-03-01</td>\n",
       "      <td>2165.860000</td>\n",
       "      <td>60</td>\n",
       "      <td>30000.0</td>\n",
       "      <td>0.00</td>\n",
       "      <td>4.0</td>\n",
       "      <td>-0.403154</td>\n",
       "    </tr>\n",
       "    <tr>\n",
       "      <th>1456947</th>\n",
       "      <td>141319932</td>\n",
       "      <td>2018-10-01</td>\n",
       "      <td>2019-03-01</td>\n",
       "      <td>1572.800000</td>\n",
       "      <td>36</td>\n",
       "      <td>10000.0</td>\n",
       "      <td>0.00</td>\n",
       "      <td>5.0</td>\n",
       "      <td>-0.455242</td>\n",
       "    </tr>\n",
       "  </tbody>\n",
       "</table>\n",
       "</div>"
      ],
      "text/plain": [
       "                id     issue_d last_pymnt_d   total_pymnt  term  funded_amnt  \\\n",
       "2201369   93959740  2016-11-01   2018-01-01  26675.211807    36      25000.0   \n",
       "510994   126729784  2018-01-01   2019-01-01   9889.065760    36       9000.0   \n",
       "1764941    9145023  2013-12-01   2014-09-01  11250.020000    60      32000.0   \n",
       "11919     67705788  2015-12-01   2016-01-01   6011.220000    36       6000.0   \n",
       "1738390   96562299  2017-01-01   2019-03-01  11797.560000    36      12000.0   \n",
       "1654263     134737  2007-10-01   2007-12-01    530.580000    36       5000.0   \n",
       "2077483  125014016  2017-11-01   2019-02-01   8087.650000    60      24000.0   \n",
       "388969    39937907  2015-01-01   2016-06-01  22575.830004    36      19200.0   \n",
       "1409770  143783235  2018-11-01   2019-03-01   2165.860000    60      30000.0   \n",
       "1456947  141319932  2018-10-01   2019-03-01   1572.800000    36      10000.0   \n",
       "\n",
       "         recoveries  realized_loan_term_mths  annualized_returns  \n",
       "2201369        0.00                     14.0            0.029975  \n",
       "510994         0.00                     12.0            0.040388  \n",
       "1764941     4284.61                      9.0           -0.181403  \n",
       "11919          0.00                      1.0            0.010395  \n",
       "1738390        0.00                     26.0            0.000583  \n",
       "1654263      214.22                      2.0           -0.522035  \n",
       "2077483        0.00                     15.0           -0.188506  \n",
       "388969         0.00                     17.0            0.063419  \n",
       "1409770        0.00                      4.0           -0.403154  \n",
       "1456947        0.00                      5.0           -0.455242  "
      ]
     },
     "execution_count": 35,
     "metadata": {},
     "output_type": "execute_result"
    }
   ],
   "source": [
    "ret_df.sample(10)"
   ]
  },
  {
   "cell_type": "code",
   "execution_count": null,
   "metadata": {},
   "outputs": [],
   "source": [
    " "
   ]
  },
  {
   "cell_type": "code",
   "execution_count": 36,
   "metadata": {},
   "outputs": [],
   "source": [
    "def fit_return_models(X_train, Y_train, X_test, Y_test, model_name =\"Ridge\",\n",
    "                      cv_parameters = {},\n",
    "                      random_state = 1980):\n",
    "    '''\n",
    "    fits 2 return models using the sklearn model object implied by model name. One model for loans that defaulted and another for \n",
    "    loans that didn't default.\n",
    "    code borrowed mostly from the danguetta.com paper/notebook.\n",
    "    '''\n",
    "    \n",
    "    np.random.seed(random_state)\n",
    "    \n",
    "    #choose model based on user selection\n",
    "    if model_name == \"Lasso\":\n",
    "        model = linear_model.Lasso(normalize=True)\n",
    "    elif model_name == \"Ridge\":\n",
    "        model = linear_model.Ridge(normalize=True)\n",
    "    elif model_name == \"RandomF\":\n",
    "        model = RandomForestRegressor()\n",
    "\n",
    "    \n",
    " \n",
    "    #split data into defaulted series and non-defaulted series\n",
    "\n",
    "    Y_train_bad = Y_train.loc[(Y_train._good == 0),['id', 'annualized_returns'] ]\n",
    "    X_train_bad = X_train[X_train.id.isin(Y_train_bad.id)]\n",
    "    Y_test_bad  = Y_test.loc[(Y_test._good == 0),['id', 'annualized_returns'] ]\n",
    "    X_test_bad  = X_test[X_test.id.isin(Y_test_bad.id)]\n",
    "    \n",
    "    Y_train_good = Y_train.loc[(Y_train._good == 1),['id', 'annualized_returns'] ]\n",
    "    X_train_good = X_train[X_train.id.isin(Y_train_good.id)]  \n",
    "    Y_test_good  = Y_test.loc[(Y_test._good == 1),['id', 'annualized_returns'] ]\n",
    "    X_test_good  = X_test[X_test.id.isin(Y_test_good.id)]\n",
    "\n",
    "    \n",
    "    ##remove ids for now to be added back afterwards\n",
    "    train_bad_loan_ids = X_train_bad.pop('id')\n",
    "    test_bad_loan_ids = pd.DataFrame(X_test_bad.pop('id'), columns=['id'])\n",
    "\n",
    "\n",
    "    train_good_loan_ids = X_train_good.pop('id')\n",
    "    test_good_loan_ids = pd.DataFrame(X_test_good.pop('id'), columns=['id'])\n",
    "    \n",
    "\n",
    "    \n",
    "    ##drop ids from Y datasets\n",
    "    Y_train_good.drop('id', axis =1, inplace=True)\n",
    "    Y_train_bad.drop('id', axis=1, inplace=True)\n",
    "    \n",
    "    Y_test_good.drop('id', axis =1, inplace=True)\n",
    "    Y_test_bad.drop('id', axis =1, inplace=True)\n",
    "    \n",
    "\n",
    "    \n",
    "    ##run model\n",
    "    cv_model_bad = GridSearchCV(model, cv_parameters, scoring='r2')\n",
    "    cv_model_good = GridSearchCV(model, cv_parameters, scoring='r2')\n",
    "\n",
    "    #time and fit the models\n",
    "    start_time = time.time()\n",
    "    print(\"fitting model for defaulted loans\")\n",
    "    if model_name in ['RandomF']:\n",
    "        cv_model_bad.fit(X_train_bad, Y_train_bad.values.ravel())\n",
    "    else:\n",
    "        cv_model_bad.fit(X_train_bad, Y_train_bad)\n",
    "        \n",
    "    print(\"fitting model for non-defaulted loans\")\n",
    "    if model_name in ['RandomF']:\n",
    "        cv_model_good.fit(X_train_good, Y_train_good.values.ravel())\n",
    "    else:\n",
    "        cv_model_good.fit(X_train_good, Y_train_good)\n",
    "        \n",
    "    end_time = time.time()\n",
    "\n",
    "    #pick best model from the fit for each regressor\n",
    "    best_model_bad = cv_model_bad.best_estimator_\n",
    "    best_model_good = cv_model_good.best_estimator_\n",
    "            \n",
    "    #tidy outputs    \n",
    "    print(\"=========================\")\n",
    "    print(\"  Model: \" + model_name )\n",
    "    print(\"=========================\")\n",
    "\n",
    "    print(\"Fit time: \" + str(round(end_time - start_time, 2)) + \" seconds\")\n",
    "    print(\"Optimal parameters:\")\n",
    "    print(\"model_default:\",cv_model_bad.best_params_, \"model_non-default\",cv_model_good.best_params_)\n",
    "\n",
    "    ##predicted returns - need to join back to get loan ids\n",
    "    predicted_non_default_return = pd.DataFrame(best_model_good.predict(X_test_good), columns =['ret'])\n",
    "    predicted_default_return     = pd.DataFrame(best_model_bad.predict(X_test_bad), columns =['ret'])\n",
    "    \n",
    "    \n",
    "    ## add ids back\n",
    "    predicted_non_default_return = list(zip(test_good_loan_ids.id, predicted_non_default_return.ret))\n",
    "    \n",
    "    predicted_default_return = list(zip(test_bad_loan_ids.id, predicted_default_return.ret))\n",
    "    \n",
    "    print(\"\")\n",
    "    print(\"Testing r2 scores:\")\n",
    "    # Here we use different testing set to report the performance\n",
    "    test_scores = {'model_default':r2_score(Y_test_bad,best_model_bad.predict(X_test_bad)),\n",
    "                      'model_non_default':r2_score(Y_test_good,best_model_good.predict(X_test_good))}\n",
    " \n",
    "    print(\"model_default:\", test_scores['model_default'])\n",
    "    print(\"model_non_default:\", test_scores['model_non_default'])\n",
    "\n",
    "    return { 'model_default':best_model_bad, 'model_non_default':best_model_good, 'predicted_non_default_return':predicted_non_default_return,\n",
    "              'predicted_default_return':predicted_default_return,'r2_scores':test_scores }\n",
    "\n",
    "    \n",
    "    \n"
   ]
  },
  {
   "cell_type": "code",
   "execution_count": null,
   "metadata": {},
   "outputs": [],
   "source": []
  },
  {
   "cell_type": "code",
   "execution_count": null,
   "metadata": {},
   "outputs": [],
   "source": []
  },
  {
   "cell_type": "markdown",
   "metadata": {},
   "source": [
    "### Testing stuff\n"
   ]
  },
  {
   "cell_type": "code",
   "execution_count": 37,
   "metadata": {},
   "outputs": [
    {
     "data": {
      "text/html": [
       "<div>\n",
       "<style scoped>\n",
       "    .dataframe tbody tr th:only-of-type {\n",
       "        vertical-align: middle;\n",
       "    }\n",
       "\n",
       "    .dataframe tbody tr th {\n",
       "        vertical-align: top;\n",
       "    }\n",
       "\n",
       "    .dataframe thead th {\n",
       "        text-align: right;\n",
       "    }\n",
       "</style>\n",
       "<table border=\"1\" class=\"dataframe\">\n",
       "  <thead>\n",
       "    <tr style=\"text-align: right;\">\n",
       "      <th></th>\n",
       "      <th>id</th>\n",
       "      <th>issue_d</th>\n",
       "      <th>last_pymnt_d</th>\n",
       "      <th>total_pymnt</th>\n",
       "      <th>term</th>\n",
       "      <th>funded_amnt</th>\n",
       "      <th>recoveries</th>\n",
       "      <th>realized_loan_term_mths</th>\n",
       "      <th>annualized_returns</th>\n",
       "    </tr>\n",
       "  </thead>\n",
       "  <tbody>\n",
       "    <tr>\n",
       "      <th>0</th>\n",
       "      <td>68407277</td>\n",
       "      <td>2015-12-01</td>\n",
       "      <td>2019-01-01</td>\n",
       "      <td>4421.723917</td>\n",
       "      <td>36</td>\n",
       "      <td>3600.0</td>\n",
       "      <td>0.0</td>\n",
       "      <td>37.0</td>\n",
       "      <td>0.076315</td>\n",
       "    </tr>\n",
       "    <tr>\n",
       "      <th>1</th>\n",
       "      <td>68355089</td>\n",
       "      <td>2015-12-01</td>\n",
       "      <td>2016-06-01</td>\n",
       "      <td>25679.660000</td>\n",
       "      <td>36</td>\n",
       "      <td>24700.0</td>\n",
       "      <td>0.0</td>\n",
       "      <td>6.0</td>\n",
       "      <td>0.022233</td>\n",
       "    </tr>\n",
       "  </tbody>\n",
       "</table>\n",
       "</div>"
      ],
      "text/plain": [
       "         id     issue_d last_pymnt_d   total_pymnt  term  funded_amnt  \\\n",
       "0  68407277  2015-12-01   2019-01-01   4421.723917    36       3600.0   \n",
       "1  68355089  2015-12-01   2016-06-01  25679.660000    36      24700.0   \n",
       "\n",
       "   recoveries  realized_loan_term_mths  annualized_returns  \n",
       "0         0.0                     37.0            0.076315  \n",
       "1         0.0                      6.0            0.022233  "
      ]
     },
     "execution_count": 37,
     "metadata": {},
     "output_type": "execute_result"
    }
   ],
   "source": [
    "ret_df.head(2)"
   ]
  },
  {
   "cell_type": "code",
   "execution_count": 38,
   "metadata": {},
   "outputs": [],
   "source": [
    "my_X_train = X_train.copy()\n",
    "my_Y_train = Y_train.copy()\n",
    "\n",
    "my_X_test = X_test.copy()\n",
    "my_Y_test = Y_test.copy()"
   ]
  },
  {
   "cell_type": "code",
   "execution_count": 39,
   "metadata": {},
   "outputs": [],
   "source": [
    "#merge returns data\n",
    "my_Y_train = pd.merge(my_Y_train, ret_df[['id','annualized_returns']], how=\"left\", on ='id')\n",
    "my_Y_test = pd.merge(my_Y_test, ret_df[['id','annualized_returns']], how=\"left\", on ='id')\n"
   ]
  },
  {
   "cell_type": "code",
   "execution_count": 40,
   "metadata": {},
   "outputs": [
    {
     "data": {
      "text/plain": [
       "id                       0\n",
       "_good                    0\n",
       "annualized_returns    2253\n",
       "dtype: int64"
      ]
     },
     "execution_count": 40,
     "metadata": {},
     "output_type": "execute_result"
    }
   ],
   "source": [
    "my_Y_test.isnull().sum(axis=0)"
   ]
  },
  {
   "cell_type": "code",
   "execution_count": 41,
   "metadata": {},
   "outputs": [],
   "source": [
    "my_Y_train.dropna(inplace=True)\n",
    "my_Y_test.dropna(inplace=True)"
   ]
  },
  {
   "cell_type": "markdown",
   "metadata": {},
   "source": [
    "## Test regression models\n"
   ]
  },
  {
   "cell_type": "markdown",
   "metadata": {},
   "source": [
    "### Ridge"
   ]
  },
  {
   "cell_type": "code",
   "execution_count": 43,
   "metadata": {},
   "outputs": [
    {
     "name": "stdout",
     "output_type": "stream",
     "text": [
      "fitting model for defaulted loans\n",
      "fitting model for non-defaulted loans\n",
      "=========================\n",
      "  Model: Ridge\n",
      "=========================\n",
      "Fit time: 26.04 seconds\n",
      "Optimal parameters:\n",
      "model_default: {'alpha': 2.1544346900318867e-05, 'max_iter': 2000} model_non-default {'alpha': 1.6681005372000591e-06, 'max_iter': 2000}\n",
      "\n",
      "Testing r2 scores:\n",
      "model_default: 0.09609842763909493\n",
      "model_non_default: 0.3688380393363825\n"
     ]
    }
   ],
   "source": [
    "cv_parameters = {'alpha': np.logspace(-8, 2, num = 10), 'max_iter' : [2000]}\n",
    "\n",
    "reg_ridge = fit_return_models(my_X_train, my_Y_train, my_X_test, my_Y_test, model_name =\"Ridge\",\n",
    "               cv_parameters = cv_parameters)"
   ]
  },
  {
   "cell_type": "code",
   "execution_count": 44,
   "metadata": {},
   "outputs": [],
   "source": [
    "list_ids, returns_non_defaults = zip(*reg_ridge['predicted_non_default_return'])\n",
    "list_ids, returns_defaults = zip(*reg_ridge['predicted_default_return'])\n",
    "\n",
    "actual_defaults  = my_Y_test.loc[(my_Y_test._good == 0),['annualized_returns']]\n",
    "actual_non_defaults = my_Y_test.loc[(my_Y_test._good == 1),['annualized_returns']]\n"
   ]
  },
  {
   "cell_type": "code",
   "execution_count": 45,
   "metadata": {},
   "outputs": [
    {
     "name": "stdout",
     "output_type": "stream",
     "text": [
      "Means of various populations, actual vs. pred:\n",
      "--------------------------------------------------\n",
      "actual_non_defaults:0.0506\n",
      "predicted_non_defaults:0.0506\n",
      "\n",
      "\n",
      "actual_defaults:-0.1729\n",
      "predicted_defaults:-0.1727\n"
     ]
    }
   ],
   "source": [
    "print(\"Means of various populations, actual vs. pred:\")\n",
    "print(\"-\"*50)\n",
    "print(f'actual_non_defaults:{np.mean(actual_non_defaults.annualized_returns):.4f}')\n",
    "print(f'predicted_non_defaults:{np.mean(returns_non_defaults):.4f}')\n",
    "print(\"\\n\")\n",
    "print(f'actual_defaults:{np.mean(actual_defaults.annualized_returns):.4f}')\n",
    "print(f'predicted_defaults:{np.mean(returns_defaults):.4f}')"
   ]
  },
  {
   "cell_type": "code",
   "execution_count": 46,
   "metadata": {},
   "outputs": [
    {
     "data": {
      "image/png": "[encoded data removed]",
      "text/plain": [
       "<Figure size 432x288 with 1 Axes>"
      ]
     },
     "metadata": {
      "needs_background": "light"
     },
     "output_type": "display_data"
    }
   ],
   "source": [
    "bins = np.linspace(-0., 0.3, 100)\n",
    "\n",
    "pyplot.hist(actual_non_defaults.annualized_returns, bins, alpha=0.5, label='actual_non_defaults')\n",
    "\n",
    "pyplot.hist(returns_non_defaults, bins, alpha=0.5, label='pred_non_defaults')\n",
    "\n",
    "pyplot.legend(loc='upper right')\n",
    "pyplot.title(\"histogram of returns non-default loans - actual vs. pred\")\n",
    "pyplot.show()"
   ]
  },
  {
   "cell_type": "code",
   "execution_count": 47,
   "metadata": {
    "scrolled": true
   },
   "outputs": [
    {
     "data": {
      "image/png": "[encoded data removed]",
      "text/plain": [
       "<Figure size 432x288 with 1 Axes>"
      ]
     },
     "metadata": {
      "needs_background": "light"
     },
     "output_type": "display_data"
    }
   ],
   "source": [
    "bins = np.linspace(-0.4, 0.3, 100)\n",
    "\n",
    "pyplot.hist(actual_defaults.annualized_returns,  bins, alpha=0.5, label='actual_defaults')\n",
    "pyplot.hist(returns_defaults,  bins, alpha=0.5, label='pred_defaults')\n",
    "pyplot.legend(loc='upper right')\n",
    "pyplot.title(\"histogram of returns of default and non-default loans\")\n",
    "pyplot.show()"
   ]
  },
  {
   "cell_type": "code",
   "execution_count": 48,
   "metadata": {},
   "outputs": [
    {
     "data": {
      "text/plain": [
       "9"
      ]
     },
     "execution_count": 48,
     "metadata": {},
     "output_type": "execute_result"
    }
   ],
   "source": [
    "np.sum(returns_non_defaults * actual_non_defaults.annualized_returns<0)"
   ]
  },
  {
   "cell_type": "code",
   "execution_count": null,
   "metadata": {},
   "outputs": [],
   "source": []
  },
  {
   "cell_type": "code",
   "execution_count": 49,
   "metadata": {},
   "outputs": [
    {
     "data": {
      "text/plain": [
       "4.214627567410626e-05"
      ]
     },
     "execution_count": 49,
     "metadata": {},
     "output_type": "execute_result"
    }
   ],
   "source": [
    "(np.sum(returns_non_defaults * actual_non_defaults.annualized_returns<0))/actual_non_defaults.shape[0]"
   ]
  },
  {
   "cell_type": "markdown",
   "metadata": {},
   "source": [
    "### Random Forest"
   ]
  },
  {
   "cell_type": "code",
   "execution_count": 50,
   "metadata": {},
   "outputs": [
    {
     "name": "stdout",
     "output_type": "stream",
     "text": [
      "fitting model for defaulted loans\n",
      "fitting model for non-defaulted loans\n",
      "=========================\n",
      "  Model: RandomF\n",
      "=========================\n",
      "Fit time: 6736.53 seconds\n",
      "Optimal parameters:\n",
      "model_default: {'min_samples_leaf': 100, 'n_estimators': 100} model_non-default {'min_samples_leaf': 100, 'n_estimators': 100}\n",
      "\n",
      "Testing r2 scores:\n",
      "model_default: 0.16036406197643482\n",
      "model_non_default: 0.4859712775610434\n"
     ]
    }
   ],
   "source": [
    "#to be fine tuned...but too slow on my mac. took 2hours to run with these parameters!\n",
    "cv_parameters = {'min_samples_leaf':[100],\n",
    "                 'n_estimators': [100] }\n",
    "\n",
    "reg_rf = fit_return_models(my_X_train, my_Y_train, my_X_test, my_Y_test, model_name =\"RandomF\",\n",
    "               cv_parameters = cv_parameters)"
   ]
  },
  {
   "cell_type": "code",
   "execution_count": 51,
   "metadata": {},
   "outputs": [
    {
     "data": {
      "text/plain": [
       "Index(['id', '_good', 'annualized_returns'], dtype='object')"
      ]
     },
     "execution_count": 51,
     "metadata": {},
     "output_type": "execute_result"
    }
   ],
   "source": [
    "my_Y_train.columns"
   ]
  },
  {
   "cell_type": "code",
   "execution_count": 52,
   "metadata": {},
   "outputs": [],
   "source": [
    "#### create risk data.\n",
    "risk_data_train = pd.merge(my_X_train[['id', 'grade', 'sub_grade', 'term']], my_Y_train, how='inner', on='id')"
   ]
  },
  {
   "cell_type": "code",
   "execution_count": 53,
   "metadata": {},
   "outputs": [
    {
     "data": {
      "text/plain": [
       "id                    0\n",
       "grade                 0\n",
       "sub_grade             0\n",
       "term                  0\n",
       "_good                 0\n",
       "annualized_returns    0\n",
       "dtype: int64"
      ]
     },
     "execution_count": 53,
     "metadata": {},
     "output_type": "execute_result"
    }
   ],
   "source": [
    "risk_data_train.isnull().sum(axis=0)"
   ]
  },
  {
   "cell_type": "code",
   "execution_count": 54,
   "metadata": {},
   "outputs": [],
   "source": [
    "##create risk scores\n",
    "\n",
    "def var_95(ret):\n",
    "    return np.percentile(ret,  5)\n",
    "\n",
    "def var_99(ret):\n",
    "    return np.percentile(ret, 1)\n",
    "\n",
    "def ES_95(ret):\n",
    "    threshold = var_95(ret)\n",
    "    return np.mean(ret[ret < threshold])\n",
    "\n",
    "def ES_99(ret):\n",
    "    threshold = var_99(ret)\n",
    "    return np.mean(ret[ret < threshold])\n",
    "\n"
   ]
  },
  {
   "cell_type": "code",
   "execution_count": 56,
   "metadata": {},
   "outputs": [],
   "source": [
    "risk_summary_grades_all = pd.DataFrame(risk_data_train.groupby(['grade'])['annualized_returns'].agg(['count', 'median' , 'mean', 'min','max', 'std', var_95, var_99, ES_95, ES_99])).reset_index()\n",
    "\n"
   ]
  },
  {
   "cell_type": "code",
   "execution_count": 57,
   "metadata": {},
   "outputs": [],
   "source": [
    "risk_summary_sub_grades_all = pd.DataFrame(risk_data_train.groupby(['sub_grade'])['annualized_returns'].agg(['count', 'median' , 'mean', 'min','max', 'std', var_95, var_99, ES_95, ES_99])).reset_index()\n"
   ]
  },
  {
   "cell_type": "code",
   "execution_count": 58,
   "metadata": {},
   "outputs": [],
   "source": [
    "risk_summary_sub_grades_5yr = pd.DataFrame(risk_data_train.loc[(risk_data_train.term == 1)].groupby(['sub_grade'])['annualized_returns'].agg(['count', 'median' , 'mean', 'min','max', 'std', var_95, var_99, ES_95, ES_99])).reset_index()\n"
   ]
  },
  {
   "cell_type": "code",
   "execution_count": 59,
   "metadata": {},
   "outputs": [],
   "source": [
    "risk_summary_sub_grades_3yr = pd.DataFrame(risk_data_train.loc[(risk_data_train.term == 0)].\\\n",
    "                                           groupby(['sub_grade'])['annualized_returns'].\\\n",
    "                                           agg(['count', 'median' , 'mean', 'min','max', 'std',\\\n",
    "                                           var_95, var_99, ES_95, ES_99])).reset_index()\n"
   ]
  },
  {
   "cell_type": "code",
   "execution_count": 60,
   "metadata": {},
   "outputs": [
    {
     "data": {
      "image/png": "[encoded data removed]",
      "text/plain": [
       "<Figure size 720x360 with 1 Axes>"
      ]
     },
     "metadata": {
      "needs_background": "light"
     },
     "output_type": "display_data"
    }
   ],
   "source": [
    "pyplot.rcParams['figure.figsize'] = [10, 5]\n",
    "\n",
    "pyplot.plot(risk_summary_sub_grades_3yr.sub_grade, abs(risk_summary_sub_grades_3yr.ES_95))\n",
    "pyplot.plot(risk_summary_sub_grades_3yr.sub_grade, risk_summary_sub_grades_3yr['median'])\n",
    "pyplot.plot(risk_summary_sub_grades_3yr.sub_grade, risk_summary_sub_grades_3yr['std'])\n",
    "#pyplot.plot(risk_summary_sub_grades_3yr.sub_grade, (risk_summary_sub_grades_3yr['median']/abs(risk_summary_sub_grades_3yr.ES_95)))\n",
    "\n",
    "pyplot.legend(['Expected_Shortfall_95(loss)', 'median_return', 'std dev'], loc='upper left')\n",
    "pyplot.title('3 yr loans risk and return graphs by sub-grade')\n",
    "pyplot.xlabel('sub-grade')\n",
    "pyplot.show()"
   ]
  },
  {
   "cell_type": "code",
   "execution_count": 61,
   "metadata": {},
   "outputs": [
    {
     "data": {
      "image/png": "[encoded data removed]",
      "text/plain": [
       "<Figure size 720x360 with 1 Axes>"
      ]
     },
     "metadata": {
      "needs_background": "light"
     },
     "output_type": "display_data"
    }
   ],
   "source": [
    "pyplot.rcParams['figure.figsize'] = [10, 5]\n",
    "\n",
    "pyplot.plot(risk_summary_sub_grades_3yr.sub_grade, (risk_summary_sub_grades_3yr['median']/abs(risk_summary_sub_grades_3yr.ES_95)))\n",
    "pyplot.plot(risk_summary_sub_grades_5yr.sub_grade, (risk_summary_sub_grades_5yr['median']/abs(risk_summary_sub_grades_5yr.ES_95)))\n",
    "\n",
    "pyplot.plot(risk_summary_sub_grades_3yr.sub_grade, (risk_summary_sub_grades_3yr['median']/risk_summary_sub_grades_3yr['std']))\n",
    "pyplot.plot(risk_summary_sub_grades_5yr.sub_grade, (risk_summary_sub_grades_5yr['median']/risk_summary_sub_grades_5yr['std']))\n",
    "\n",
    "pyplot.legend(['Ret vs. ES_95(3yr)', 'Ret vs. ES_95(5yr)', 'Ret vs std dev(3yr)', 'Ret vs std dev(5yr)'], loc='upper left')\n",
    "pyplot.title('3 & 5 yr loans risk-return graphs by sub-grade')\n",
    "pyplot.xlabel('sub-grade')\n",
    "pyplot.show()"
   ]
  },
  {
   "cell_type": "code",
   "execution_count": 62,
   "metadata": {},
   "outputs": [
    {
     "data": {
      "image/png": "[encoded data removed]",
      "text/plain": [
       "<Figure size 720x360 with 1 Axes>"
      ]
     },
     "metadata": {
      "needs_background": "light"
     },
     "output_type": "display_data"
    }
   ],
   "source": [
    "pyplot.rcParams['figure.figsize'] = [10, 5]\n",
    "\n",
    "pyplot.plot(risk_summary_sub_grades_5yr.sub_grade, abs(risk_summary_sub_grades_5yr.ES_95))\n",
    "pyplot.plot(risk_summary_sub_grades_5yr.sub_grade, risk_summary_sub_grades_5yr['median'])\n",
    "pyplot.plot(risk_summary_sub_grades_5yr.sub_grade, risk_summary_sub_grades_5yr['std'])\n",
    "\n",
    "pyplot.legend(['Expected_Shortfall_95(loss)', 'median_return', 'std dev'], loc='upper left')\n",
    "pyplot.title('5 yr loans risk and return graphs by sub-grade')\n",
    "pyplot.xlabel('sub-grade')\n",
    "pyplot.show()"
   ]
  },
  {
   "cell_type": "code",
   "execution_count": null,
   "metadata": {},
   "outputs": [],
   "source": []
  },
  {
   "cell_type": "code",
   "execution_count": 63,
   "metadata": {},
   "outputs": [],
   "source": [
    "\n",
    "##try some K-means clustering: do these clusters mean anything?\n",
    "n_clusters = 5\n",
    "my_X_train['cluster'] = 0\n",
    "\n",
    "kmeans = KMeans(n_clusters=n_clusters, random_state=1980, verbose=0).fit(my_X_train.drop(['id','cluster'], axis=1))\n",
    "\n"
   ]
  },
  {
   "cell_type": "code",
   "execution_count": 64,
   "metadata": {},
   "outputs": [],
   "source": [
    "my_X_train['cluster'] = kmeans.predict(my_X_train.drop(['id','cluster'], axis=1))\n"
   ]
  },
  {
   "cell_type": "code",
   "execution_count": 65,
   "metadata": {},
   "outputs": [],
   "source": [
    "risk_data_train['cluster'] =0\n",
    "risk_data_train = pd.merge(risk_data_train.drop('cluster', axis=1), my_X_train[['id','cluster']], how='left', on='id')"
   ]
  },
  {
   "cell_type": "code",
   "execution_count": 66,
   "metadata": {},
   "outputs": [
    {
     "data": {
      "text/plain": [
       "Index(['id', 'grade', 'sub_grade', 'term', '_good', 'annualized_returns',\n",
       "       'cluster'],\n",
       "      dtype='object')"
      ]
     },
     "execution_count": 66,
     "metadata": {},
     "output_type": "execute_result"
    }
   ],
   "source": [
    "risk_data_train.columns"
   ]
  },
  {
   "cell_type": "code",
   "execution_count": 67,
   "metadata": {},
   "outputs": [
    {
     "data": {
      "text/html": [
       "<div>\n",
       "<style scoped>\n",
       "    .dataframe tbody tr th:only-of-type {\n",
       "        vertical-align: middle;\n",
       "    }\n",
       "\n",
       "    .dataframe tbody tr th {\n",
       "        vertical-align: top;\n",
       "    }\n",
       "\n",
       "    .dataframe thead th {\n",
       "        text-align: right;\n",
       "    }\n",
       "</style>\n",
       "<table border=\"1\" class=\"dataframe\">\n",
       "  <thead>\n",
       "    <tr style=\"text-align: right;\">\n",
       "      <th></th>\n",
       "      <th>cluster</th>\n",
       "      <th>count</th>\n",
       "      <th>median</th>\n",
       "      <th>mean</th>\n",
       "      <th>min</th>\n",
       "      <th>max</th>\n",
       "      <th>std</th>\n",
       "      <th>var_95</th>\n",
       "      <th>var_99</th>\n",
       "      <th>ES_95</th>\n",
       "      <th>ES_99</th>\n",
       "    </tr>\n",
       "  </thead>\n",
       "  <tbody>\n",
       "    <tr>\n",
       "      <th>1</th>\n",
       "      <td>1</td>\n",
       "      <td>50</td>\n",
       "      <td>0.036385</td>\n",
       "      <td>-0.016211</td>\n",
       "      <td>-0.462233</td>\n",
       "      <td>0.078553</td>\n",
       "      <td>0.129427</td>\n",
       "      <td>-0.333319</td>\n",
       "      <td>-0.424300</td>\n",
       "      <td>-0.402577</td>\n",
       "      <td>-0.462233</td>\n",
       "    </tr>\n",
       "    <tr>\n",
       "      <th>3</th>\n",
       "      <td>3</td>\n",
       "      <td>52145</td>\n",
       "      <td>0.037987</td>\n",
       "      <td>0.011607</td>\n",
       "      <td>-0.693389</td>\n",
       "      <td>0.141969</td>\n",
       "      <td>0.098817</td>\n",
       "      <td>-0.228284</td>\n",
       "      <td>-0.405901</td>\n",
       "      <td>-0.337573</td>\n",
       "      <td>-0.492639</td>\n",
       "    </tr>\n",
       "    <tr>\n",
       "      <th>2</th>\n",
       "      <td>2</td>\n",
       "      <td>2409</td>\n",
       "      <td>0.038309</td>\n",
       "      <td>0.014952</td>\n",
       "      <td>-0.686887</td>\n",
       "      <td>0.131008</td>\n",
       "      <td>0.099629</td>\n",
       "      <td>-0.209834</td>\n",
       "      <td>-0.443489</td>\n",
       "      <td>-0.359313</td>\n",
       "      <td>-0.535073</td>\n",
       "    </tr>\n",
       "    <tr>\n",
       "      <th>0</th>\n",
       "      <td>0</td>\n",
       "      <td>347884</td>\n",
       "      <td>0.039347</td>\n",
       "      <td>0.008085</td>\n",
       "      <td>-0.921296</td>\n",
       "      <td>0.159925</td>\n",
       "      <td>0.102869</td>\n",
       "      <td>-0.237755</td>\n",
       "      <td>-0.404775</td>\n",
       "      <td>-0.338806</td>\n",
       "      <td>-0.484258</td>\n",
       "    </tr>\n",
       "    <tr>\n",
       "      <th>4</th>\n",
       "      <td>4</td>\n",
       "      <td>664558</td>\n",
       "      <td>0.043204</td>\n",
       "      <td>0.004383</td>\n",
       "      <td>-0.834690</td>\n",
       "      <td>0.160690</td>\n",
       "      <td>0.113807</td>\n",
       "      <td>-0.263372</td>\n",
       "      <td>-0.430535</td>\n",
       "      <td>-0.365357</td>\n",
       "      <td>-0.507192</td>\n",
       "    </tr>\n",
       "  </tbody>\n",
       "</table>\n",
       "</div>"
      ],
      "text/plain": [
       "   cluster   count    median      mean       min       max       std  \\\n",
       "1        1      50  0.036385 -0.016211 -0.462233  0.078553  0.129427   \n",
       "3        3   52145  0.037987  0.011607 -0.693389  0.141969  0.098817   \n",
       "2        2    2409  0.038309  0.014952 -0.686887  0.131008  0.099629   \n",
       "0        0  347884  0.039347  0.008085 -0.921296  0.159925  0.102869   \n",
       "4        4  664558  0.043204  0.004383 -0.834690  0.160690  0.113807   \n",
       "\n",
       "     var_95    var_99     ES_95     ES_99  \n",
       "1 -0.333319 -0.424300 -0.402577 -0.462233  \n",
       "3 -0.228284 -0.405901 -0.337573 -0.492639  \n",
       "2 -0.209834 -0.443489 -0.359313 -0.535073  \n",
       "0 -0.237755 -0.404775 -0.338806 -0.484258  \n",
       "4 -0.263372 -0.430535 -0.365357 -0.507192  "
      ]
     },
     "execution_count": 67,
     "metadata": {},
     "output_type": "execute_result"
    }
   ],
   "source": [
    "risk_summary_clusters_all = pd.DataFrame(risk_data_train.groupby(['cluster'])['annualized_returns'].agg(['count', 'median' , 'mean', 'min','max', 'std', var_95, var_99, ES_95, ES_99])).reset_index()\n",
    "risk_summary_clusters_all.sort_values('median')"
   ]
  },
  {
   "cell_type": "code",
   "execution_count": 68,
   "metadata": {},
   "outputs": [
    {
     "data": {
      "text/html": [
       "<div>\n",
       "<style scoped>\n",
       "    .dataframe tbody tr th:only-of-type {\n",
       "        vertical-align: middle;\n",
       "    }\n",
       "\n",
       "    .dataframe tbody tr th {\n",
       "        vertical-align: top;\n",
       "    }\n",
       "\n",
       "    .dataframe thead th {\n",
       "        text-align: right;\n",
       "    }\n",
       "</style>\n",
       "<table border=\"1\" class=\"dataframe\">\n",
       "  <thead>\n",
       "    <tr style=\"text-align: right;\">\n",
       "      <th></th>\n",
       "      <th>grade</th>\n",
       "      <th>count</th>\n",
       "      <th>median</th>\n",
       "      <th>mean</th>\n",
       "      <th>min</th>\n",
       "      <th>max</th>\n",
       "      <th>std</th>\n",
       "      <th>var_95</th>\n",
       "      <th>var_99</th>\n",
       "      <th>ES_95</th>\n",
       "      <th>ES_99</th>\n",
       "    </tr>\n",
       "  </thead>\n",
       "  <tbody>\n",
       "    <tr>\n",
       "      <th>6</th>\n",
       "      <td>7</td>\n",
       "      <td>7206</td>\n",
       "      <td>0.018225</td>\n",
       "      <td>-0.045276</td>\n",
       "      <td>-0.663302</td>\n",
       "      <td>0.159153</td>\n",
       "      <td>0.147334</td>\n",
       "      <td>-0.318800</td>\n",
       "      <td>-0.442382</td>\n",
       "      <td>-0.401827</td>\n",
       "      <td>-0.524884</td>\n",
       "    </tr>\n",
       "    <tr>\n",
       "      <th>5</th>\n",
       "      <td>6</td>\n",
       "      <td>25422</td>\n",
       "      <td>0.028999</td>\n",
       "      <td>-0.024950</td>\n",
       "      <td>-0.797256</td>\n",
       "      <td>0.160690</td>\n",
       "      <td>0.139058</td>\n",
       "      <td>-0.290732</td>\n",
       "      <td>-0.429361</td>\n",
       "      <td>-0.377210</td>\n",
       "      <td>-0.506761</td>\n",
       "    </tr>\n",
       "    <tr>\n",
       "      <th>0</th>\n",
       "      <td>1</td>\n",
       "      <td>186727</td>\n",
       "      <td>0.034808</td>\n",
       "      <td>0.020314</td>\n",
       "      <td>-0.819906</td>\n",
       "      <td>0.079302</td>\n",
       "      <td>0.066032</td>\n",
       "      <td>-0.048840</td>\n",
       "      <td>-0.341043</td>\n",
       "      <td>-0.231734</td>\n",
       "      <td>-0.443174</td>\n",
       "    </tr>\n",
       "    <tr>\n",
       "      <th>4</th>\n",
       "      <td>5</td>\n",
       "      <td>74217</td>\n",
       "      <td>0.038948</td>\n",
       "      <td>-0.016533</td>\n",
       "      <td>-0.745056</td>\n",
       "      <td>0.141969</td>\n",
       "      <td>0.136494</td>\n",
       "      <td>-0.292777</td>\n",
       "      <td>-0.442430</td>\n",
       "      <td>-0.387008</td>\n",
       "      <td>-0.522714</td>\n",
       "    </tr>\n",
       "    <tr>\n",
       "      <th>1</th>\n",
       "      <td>2</td>\n",
       "      <td>311742</td>\n",
       "      <td>0.045962</td>\n",
       "      <td>0.016012</td>\n",
       "      <td>-0.908308</td>\n",
       "      <td>0.108635</td>\n",
       "      <td>0.093967</td>\n",
       "      <td>-0.214864</td>\n",
       "      <td>-0.396455</td>\n",
       "      <td>-0.327910</td>\n",
       "      <td>-0.480852</td>\n",
       "    </tr>\n",
       "    <tr>\n",
       "      <th>3</th>\n",
       "      <td>4</td>\n",
       "      <td>159043</td>\n",
       "      <td>0.048188</td>\n",
       "      <td>-0.007220</td>\n",
       "      <td>-0.921296</td>\n",
       "      <td>0.159925</td>\n",
       "      <td>0.134665</td>\n",
       "      <td>-0.304214</td>\n",
       "      <td>-0.464207</td>\n",
       "      <td>-0.400490</td>\n",
       "      <td>-0.536537</td>\n",
       "    </tr>\n",
       "    <tr>\n",
       "      <th>2</th>\n",
       "      <td>3</td>\n",
       "      <td>302689</td>\n",
       "      <td>0.048532</td>\n",
       "      <td>0.003030</td>\n",
       "      <td>-0.839784</td>\n",
       "      <td>0.144289</td>\n",
       "      <td>0.117306</td>\n",
       "      <td>-0.270609</td>\n",
       "      <td>-0.436392</td>\n",
       "      <td>-0.369379</td>\n",
       "      <td>-0.506276</td>\n",
       "    </tr>\n",
       "  </tbody>\n",
       "</table>\n",
       "</div>"
      ],
      "text/plain": [
       "   grade   count    median      mean       min       max       std    var_95  \\\n",
       "6      7    7206  0.018225 -0.045276 -0.663302  0.159153  0.147334 -0.318800   \n",
       "5      6   25422  0.028999 -0.024950 -0.797256  0.160690  0.139058 -0.290732   \n",
       "0      1  186727  0.034808  0.020314 -0.819906  0.079302  0.066032 -0.048840   \n",
       "4      5   74217  0.038948 -0.016533 -0.745056  0.141969  0.136494 -0.292777   \n",
       "1      2  311742  0.045962  0.016012 -0.908308  0.108635  0.093967 -0.214864   \n",
       "3      4  159043  0.048188 -0.007220 -0.921296  0.159925  0.134665 -0.304214   \n",
       "2      3  302689  0.048532  0.003030 -0.839784  0.144289  0.117306 -0.270609   \n",
       "\n",
       "     var_99     ES_95     ES_99  \n",
       "6 -0.442382 -0.401827 -0.524884  \n",
       "5 -0.429361 -0.377210 -0.506761  \n",
       "0 -0.341043 -0.231734 -0.443174  \n",
       "4 -0.442430 -0.387008 -0.522714  \n",
       "1 -0.396455 -0.327910 -0.480852  \n",
       "3 -0.464207 -0.400490 -0.536537  \n",
       "2 -0.436392 -0.369379 -0.506276  "
      ]
     },
     "execution_count": 68,
     "metadata": {},
     "output_type": "execute_result"
    }
   ],
   "source": [
    "risk_summary_grades_all.sort_values('median')"
   ]
  },
  {
   "cell_type": "code",
   "execution_count": 369,
   "metadata": {},
   "outputs": [],
   "source": [
    "useRidge = 0\n",
    "\n",
    "#make predictions on the test sample using both models\n",
    "if useRidge:\n",
    "    pred_ret_if_non_defaulting = reg_ridge['model_non_default'].predict(my_X_test.drop('id', axis=1))[:,0]\n",
    "    pred_ret_if_defaulting = reg_ridge['model_default'].predict(my_X_test.drop('id', axis=1))[:,0]\n",
    "    regressor_used =\"Ridge\"\n",
    "else:\n",
    "    pred_ret_if_non_defaulting = reg_rf['model_non_default'].predict(my_X_test.drop('id', axis=1))\n",
    "    pred_ret_if_defaulting = reg_rf['model_default'].predict(my_X_test.drop('id', axis=1))\n",
    "    regressor_used =\"Random Forest\""
   ]
  },
  {
   "cell_type": "code",
   "execution_count": 370,
   "metadata": {},
   "outputs": [],
   "source": [
    "##combine the predicted returns from ridge regressor into a single dataframe to join with predicted default probs\n",
    "\n",
    "pred_returns_good =pd.DataFrame({'id': my_X_test.id, 'pred_ret_good': pred_ret_if_non_defaulting })\n",
    "pred_returns_bad =pd.DataFrame({'id': my_X_test.id.values, 'pred_ret_bad': pred_ret_if_defaulting})\n",
    "\n",
    "combined_pred_returns = pd.merge(pred_returns_good, pred_returns_bad, how='inner', on='id')"
   ]
  },
  {
   "cell_type": "code",
   "execution_count": 371,
   "metadata": {},
   "outputs": [],
   "source": [
    "def_predictions = pd.read_csv(\"data/predictions_random_1592421122.csv\")"
   ]
  },
  {
   "cell_type": "code",
   "execution_count": 372,
   "metadata": {},
   "outputs": [],
   "source": [
    "### add [grade, sub_grade, term] to def_predictions\n",
    "#get subset from prediction df\n",
    "LC_subset_df = LC_df[LC_df.id.isin(def_predictions.id)]\n",
    "LC_subset_df = LC_subset_df.astype({'id': 'int64'})\n"
   ]
  },
  {
   "cell_type": "code",
   "execution_count": 373,
   "metadata": {},
   "outputs": [],
   "source": [
    "def_predictions = pd.merge(def_predictions, LC_subset_df[['id','grade','sub_grade','term','loan_amnt','funded_amnt']], how ='inner', on='id')"
   ]
  },
  {
   "cell_type": "code",
   "execution_count": 374,
   "metadata": {},
   "outputs": [],
   "source": [
    "##convert grade, sub_grade and term to numbers - from Dmitri's notebook\n",
    "sub_grades = sorted(def_predictions.sub_grade.unique())\n",
    "sub_grades_dict = {x:sub_grades.index(x)+1 for x in sub_grades}  # map 'A1' to 1 rather than 0\n",
    "\n",
    "ordinal_dict = {\n",
    "    'grade':   {'A':1, 'B':2, 'C':3, 'D':4, 'E':5, 'F':6, 'G':7},\n",
    "    'sub_grade': sub_grades_dict,\n",
    "    'term': {' 36 months':0, ' 60 months':1}\n",
    "}\n",
    "\n",
    "for f in ['grade', 'sub_grade','term']:\n",
    "    def_predictions[f].replace(ordinal_dict[f], inplace=True)\n"
   ]
  },
  {
   "cell_type": "code",
   "execution_count": 375,
   "metadata": {},
   "outputs": [],
   "source": [
    "def_predictions = pd.merge(def_predictions, combined_pred_returns, how=\"left\", on='id')"
   ]
  },
  {
   "cell_type": "code",
   "execution_count": 376,
   "metadata": {},
   "outputs": [
    {
     "data": {
      "text/html": [
       "<div>\n",
       "<style scoped>\n",
       "    .dataframe tbody tr th:only-of-type {\n",
       "        vertical-align: middle;\n",
       "    }\n",
       "\n",
       "    .dataframe tbody tr th {\n",
       "        vertical-align: top;\n",
       "    }\n",
       "\n",
       "    .dataframe thead th {\n",
       "        text-align: right;\n",
       "    }\n",
       "</style>\n",
       "<table border=\"1\" class=\"dataframe\">\n",
       "  <thead>\n",
       "    <tr style=\"text-align: right;\">\n",
       "      <th></th>\n",
       "      <th>id</th>\n",
       "      <th>_good</th>\n",
       "      <th>p</th>\n",
       "      <th>grade</th>\n",
       "      <th>sub_grade</th>\n",
       "      <th>term</th>\n",
       "      <th>loan_amnt</th>\n",
       "      <th>funded_amnt</th>\n",
       "      <th>pred_ret_good</th>\n",
       "      <th>pred_ret_bad</th>\n",
       "    </tr>\n",
       "  </thead>\n",
       "  <tbody>\n",
       "    <tr>\n",
       "      <th>44920</th>\n",
       "      <td>8560098</td>\n",
       "      <td>1</td>\n",
       "      <td>0.922278</td>\n",
       "      <td>1</td>\n",
       "      <td>4</td>\n",
       "      <td>0</td>\n",
       "      <td>10000.0</td>\n",
       "      <td>10000.0</td>\n",
       "      <td>0.041472</td>\n",
       "      <td>-0.170415</td>\n",
       "    </tr>\n",
       "    <tr>\n",
       "      <th>215007</th>\n",
       "      <td>76436145</td>\n",
       "      <td>0</td>\n",
       "      <td>0.787949</td>\n",
       "      <td>2</td>\n",
       "      <td>7</td>\n",
       "      <td>0</td>\n",
       "      <td>4200.0</td>\n",
       "      <td>4200.0</td>\n",
       "      <td>0.045587</td>\n",
       "      <td>-0.161330</td>\n",
       "    </tr>\n",
       "    <tr>\n",
       "      <th>209548</th>\n",
       "      <td>100157977</td>\n",
       "      <td>1</td>\n",
       "      <td>0.907180</td>\n",
       "      <td>2</td>\n",
       "      <td>10</td>\n",
       "      <td>0</td>\n",
       "      <td>22000.0</td>\n",
       "      <td>22000.0</td>\n",
       "      <td>0.042325</td>\n",
       "      <td>-0.206339</td>\n",
       "    </tr>\n",
       "    <tr>\n",
       "      <th>45327</th>\n",
       "      <td>124988575</td>\n",
       "      <td>0</td>\n",
       "      <td>0.931027</td>\n",
       "      <td>2</td>\n",
       "      <td>6</td>\n",
       "      <td>0</td>\n",
       "      <td>10200.0</td>\n",
       "      <td>10200.0</td>\n",
       "      <td>0.030745</td>\n",
       "      <td>-0.314241</td>\n",
       "    </tr>\n",
       "    <tr>\n",
       "      <th>125543</th>\n",
       "      <td>21260308</td>\n",
       "      <td>1</td>\n",
       "      <td>0.625230</td>\n",
       "      <td>4</td>\n",
       "      <td>20</td>\n",
       "      <td>1</td>\n",
       "      <td>25000.0</td>\n",
       "      <td>25000.0</td>\n",
       "      <td>0.060800</td>\n",
       "      <td>-0.110212</td>\n",
       "    </tr>\n",
       "    <tr>\n",
       "      <th>252949</th>\n",
       "      <td>14478018</td>\n",
       "      <td>1</td>\n",
       "      <td>0.628062</td>\n",
       "      <td>6</td>\n",
       "      <td>28</td>\n",
       "      <td>0</td>\n",
       "      <td>8125.0</td>\n",
       "      <td>8125.0</td>\n",
       "      <td>0.101842</td>\n",
       "      <td>-0.189094</td>\n",
       "    </tr>\n",
       "    <tr>\n",
       "      <th>141527</th>\n",
       "      <td>1276099</td>\n",
       "      <td>1</td>\n",
       "      <td>0.864754</td>\n",
       "      <td>4</td>\n",
       "      <td>17</td>\n",
       "      <td>0</td>\n",
       "      <td>10000.0</td>\n",
       "      <td>10000.0</td>\n",
       "      <td>0.058103</td>\n",
       "      <td>-0.219896</td>\n",
       "    </tr>\n",
       "    <tr>\n",
       "      <th>206998</th>\n",
       "      <td>74615964</td>\n",
       "      <td>1</td>\n",
       "      <td>0.905892</td>\n",
       "      <td>2</td>\n",
       "      <td>7</td>\n",
       "      <td>0</td>\n",
       "      <td>4000.0</td>\n",
       "      <td>4000.0</td>\n",
       "      <td>0.041975</td>\n",
       "      <td>-0.155500</td>\n",
       "    </tr>\n",
       "    <tr>\n",
       "      <th>86888</th>\n",
       "      <td>3147145</td>\n",
       "      <td>0</td>\n",
       "      <td>0.778692</td>\n",
       "      <td>3</td>\n",
       "      <td>13</td>\n",
       "      <td>0</td>\n",
       "      <td>10500.0</td>\n",
       "      <td>10500.0</td>\n",
       "      <td>0.078586</td>\n",
       "      <td>-0.158540</td>\n",
       "    </tr>\n",
       "    <tr>\n",
       "      <th>3916</th>\n",
       "      <td>51997988</td>\n",
       "      <td>1</td>\n",
       "      <td>0.642886</td>\n",
       "      <td>4</td>\n",
       "      <td>16</td>\n",
       "      <td>1</td>\n",
       "      <td>28000.0</td>\n",
       "      <td>28000.0</td>\n",
       "      <td>0.052959</td>\n",
       "      <td>-0.113470</td>\n",
       "    </tr>\n",
       "  </tbody>\n",
       "</table>\n",
       "</div>"
      ],
      "text/plain": [
       "               id  _good         p  grade  sub_grade  term  loan_amnt  \\\n",
       "44920     8560098      1  0.922278      1          4     0    10000.0   \n",
       "215007   76436145      0  0.787949      2          7     0     4200.0   \n",
       "209548  100157977      1  0.907180      2         10     0    22000.0   \n",
       "45327   124988575      0  0.931027      2          6     0    10200.0   \n",
       "125543   21260308      1  0.625230      4         20     1    25000.0   \n",
       "252949   14478018      1  0.628062      6         28     0     8125.0   \n",
       "141527    1276099      1  0.864754      4         17     0    10000.0   \n",
       "206998   74615964      1  0.905892      2          7     0     4000.0   \n",
       "86888     3147145      0  0.778692      3         13     0    10500.0   \n",
       "3916     51997988      1  0.642886      4         16     1    28000.0   \n",
       "\n",
       "        funded_amnt  pred_ret_good  pred_ret_bad  \n",
       "44920       10000.0       0.041472     -0.170415  \n",
       "215007       4200.0       0.045587     -0.161330  \n",
       "209548      22000.0       0.042325     -0.206339  \n",
       "45327       10200.0       0.030745     -0.314241  \n",
       "125543      25000.0       0.060800     -0.110212  \n",
       "252949       8125.0       0.101842     -0.189094  \n",
       "141527      10000.0       0.058103     -0.219896  \n",
       "206998       4000.0       0.041975     -0.155500  \n",
       "86888       10500.0       0.078586     -0.158540  \n",
       "3916        28000.0       0.052959     -0.113470  "
      ]
     },
     "execution_count": 376,
     "metadata": {},
     "output_type": "execute_result"
    }
   ],
   "source": [
    "def_predictions.sample(10)"
   ]
  },
  {
   "cell_type": "code",
   "execution_count": 377,
   "metadata": {},
   "outputs": [],
   "source": [
    "def calc_expected_ret(good, p, pred_ret_good, pred_ret_bad):\n",
    "    if good:\n",
    "        return (p * pred_ret_good) + ((1-p) * pred_ret_bad)\n",
    "    else:\n",
    "        return (p * pred_ret_bad)  + ((1-p) * pred_ret_good)"
   ]
  },
  {
   "cell_type": "code",
   "execution_count": 378,
   "metadata": {},
   "outputs": [],
   "source": [
    "#calc expected returns\n",
    "def_predictions['pred_expected_ret'] = def_predictions.apply(lambda row: calc_expected_ret(row._good, \\\n",
    "                                                                        row.p, row.pred_ret_good, row.pred_ret_bad), axis=1)"
   ]
  },
  {
   "cell_type": "code",
   "execution_count": 379,
   "metadata": {},
   "outputs": [
    {
     "data": {
      "text/html": [
       "<div>\n",
       "<style scoped>\n",
       "    .dataframe tbody tr th:only-of-type {\n",
       "        vertical-align: middle;\n",
       "    }\n",
       "\n",
       "    .dataframe tbody tr th {\n",
       "        vertical-align: top;\n",
       "    }\n",
       "\n",
       "    .dataframe thead th {\n",
       "        text-align: right;\n",
       "    }\n",
       "</style>\n",
       "<table border=\"1\" class=\"dataframe\">\n",
       "  <thead>\n",
       "    <tr style=\"text-align: right;\">\n",
       "      <th></th>\n",
       "      <th>id</th>\n",
       "      <th>_good</th>\n",
       "      <th>p</th>\n",
       "      <th>grade</th>\n",
       "      <th>sub_grade</th>\n",
       "      <th>term</th>\n",
       "      <th>loan_amnt</th>\n",
       "      <th>funded_amnt</th>\n",
       "      <th>pred_ret_good</th>\n",
       "      <th>pred_ret_bad</th>\n",
       "      <th>pred_expected_ret</th>\n",
       "    </tr>\n",
       "  </thead>\n",
       "  <tbody>\n",
       "    <tr>\n",
       "      <th>12534</th>\n",
       "      <td>132745288</td>\n",
       "      <td>1</td>\n",
       "      <td>0.841099</td>\n",
       "      <td>4</td>\n",
       "      <td>19</td>\n",
       "      <td>0</td>\n",
       "      <td>15000.0</td>\n",
       "      <td>15000.0</td>\n",
       "      <td>0.045191</td>\n",
       "      <td>-0.290685</td>\n",
       "      <td>-0.008180</td>\n",
       "    </tr>\n",
       "    <tr>\n",
       "      <th>261129</th>\n",
       "      <td>20849342</td>\n",
       "      <td>1</td>\n",
       "      <td>0.880151</td>\n",
       "      <td>2</td>\n",
       "      <td>7</td>\n",
       "      <td>0</td>\n",
       "      <td>8000.0</td>\n",
       "      <td>8000.0</td>\n",
       "      <td>0.048873</td>\n",
       "      <td>-0.151782</td>\n",
       "      <td>0.024824</td>\n",
       "    </tr>\n",
       "    <tr>\n",
       "      <th>71439</th>\n",
       "      <td>30776043</td>\n",
       "      <td>1</td>\n",
       "      <td>0.759840</td>\n",
       "      <td>3</td>\n",
       "      <td>13</td>\n",
       "      <td>1</td>\n",
       "      <td>23575.0</td>\n",
       "      <td>23575.0</td>\n",
       "      <td>0.055815</td>\n",
       "      <td>-0.104360</td>\n",
       "      <td>0.017347</td>\n",
       "    </tr>\n",
       "    <tr>\n",
       "      <th>191599</th>\n",
       "      <td>20702736</td>\n",
       "      <td>1</td>\n",
       "      <td>0.671618</td>\n",
       "      <td>4</td>\n",
       "      <td>19</td>\n",
       "      <td>0</td>\n",
       "      <td>11500.0</td>\n",
       "      <td>11500.0</td>\n",
       "      <td>0.077534</td>\n",
       "      <td>-0.178361</td>\n",
       "      <td>-0.006497</td>\n",
       "    </tr>\n",
       "    <tr>\n",
       "      <th>101503</th>\n",
       "      <td>45944205</td>\n",
       "      <td>1</td>\n",
       "      <td>0.873783</td>\n",
       "      <td>2</td>\n",
       "      <td>6</td>\n",
       "      <td>0</td>\n",
       "      <td>13000.0</td>\n",
       "      <td>13000.0</td>\n",
       "      <td>0.041114</td>\n",
       "      <td>-0.166161</td>\n",
       "      <td>0.014952</td>\n",
       "    </tr>\n",
       "    <tr>\n",
       "      <th>103050</th>\n",
       "      <td>26229620</td>\n",
       "      <td>1</td>\n",
       "      <td>0.907538</td>\n",
       "      <td>2</td>\n",
       "      <td>6</td>\n",
       "      <td>0</td>\n",
       "      <td>30000.0</td>\n",
       "      <td>30000.0</td>\n",
       "      <td>0.046760</td>\n",
       "      <td>-0.178020</td>\n",
       "      <td>0.025976</td>\n",
       "    </tr>\n",
       "    <tr>\n",
       "      <th>10834</th>\n",
       "      <td>30315150</td>\n",
       "      <td>0</td>\n",
       "      <td>0.736018</td>\n",
       "      <td>5</td>\n",
       "      <td>21</td>\n",
       "      <td>0</td>\n",
       "      <td>9575.0</td>\n",
       "      <td>9575.0</td>\n",
       "      <td>0.089414</td>\n",
       "      <td>-0.171412</td>\n",
       "      <td>-0.102559</td>\n",
       "    </tr>\n",
       "    <tr>\n",
       "      <th>152838</th>\n",
       "      <td>87384249</td>\n",
       "      <td>1</td>\n",
       "      <td>0.930546</td>\n",
       "      <td>2</td>\n",
       "      <td>7</td>\n",
       "      <td>0</td>\n",
       "      <td>2000.0</td>\n",
       "      <td>2000.0</td>\n",
       "      <td>0.040311</td>\n",
       "      <td>-0.229573</td>\n",
       "      <td>0.021566</td>\n",
       "    </tr>\n",
       "    <tr>\n",
       "      <th>5350</th>\n",
       "      <td>42495381</td>\n",
       "      <td>0</td>\n",
       "      <td>0.746901</td>\n",
       "      <td>3</td>\n",
       "      <td>14</td>\n",
       "      <td>0</td>\n",
       "      <td>25000.0</td>\n",
       "      <td>25000.0</td>\n",
       "      <td>0.061948</td>\n",
       "      <td>-0.178403</td>\n",
       "      <td>-0.117570</td>\n",
       "    </tr>\n",
       "    <tr>\n",
       "      <th>91576</th>\n",
       "      <td>657107</td>\n",
       "      <td>1</td>\n",
       "      <td>0.832148</td>\n",
       "      <td>2</td>\n",
       "      <td>10</td>\n",
       "      <td>1</td>\n",
       "      <td>4000.0</td>\n",
       "      <td>4000.0</td>\n",
       "      <td>0.049241</td>\n",
       "      <td>-0.116082</td>\n",
       "      <td>0.021491</td>\n",
       "    </tr>\n",
       "  </tbody>\n",
       "</table>\n",
       "</div>"
      ],
      "text/plain": [
       "               id  _good         p  grade  sub_grade  term  loan_amnt  \\\n",
       "12534   132745288      1  0.841099      4         19     0    15000.0   \n",
       "261129   20849342      1  0.880151      2          7     0     8000.0   \n",
       "71439    30776043      1  0.759840      3         13     1    23575.0   \n",
       "191599   20702736      1  0.671618      4         19     0    11500.0   \n",
       "101503   45944205      1  0.873783      2          6     0    13000.0   \n",
       "103050   26229620      1  0.907538      2          6     0    30000.0   \n",
       "10834    30315150      0  0.736018      5         21     0     9575.0   \n",
       "152838   87384249      1  0.930546      2          7     0     2000.0   \n",
       "5350     42495381      0  0.746901      3         14     0    25000.0   \n",
       "91576      657107      1  0.832148      2         10     1     4000.0   \n",
       "\n",
       "        funded_amnt  pred_ret_good  pred_ret_bad  pred_expected_ret  \n",
       "12534       15000.0       0.045191     -0.290685          -0.008180  \n",
       "261129       8000.0       0.048873     -0.151782           0.024824  \n",
       "71439       23575.0       0.055815     -0.104360           0.017347  \n",
       "191599      11500.0       0.077534     -0.178361          -0.006497  \n",
       "101503      13000.0       0.041114     -0.166161           0.014952  \n",
       "103050      30000.0       0.046760     -0.178020           0.025976  \n",
       "10834        9575.0       0.089414     -0.171412          -0.102559  \n",
       "152838       2000.0       0.040311     -0.229573           0.021566  \n",
       "5350        25000.0       0.061948     -0.178403          -0.117570  \n",
       "91576        4000.0       0.049241     -0.116082           0.021491  "
      ]
     },
     "execution_count": 379,
     "metadata": {},
     "output_type": "execute_result"
    }
   ],
   "source": [
    "def_predictions.sample(10)"
   ]
  },
  {
   "cell_type": "code",
   "execution_count": 380,
   "metadata": {},
   "outputs": [],
   "source": [
    "##choose std_dev and ES_95 as risk measures\n",
    "\n",
    "def_predictions['risk_std_dev'] =0\n",
    "def_predictions['risk_ES_95'] = 0\n"
   ]
  },
  {
   "cell_type": "code",
   "execution_count": 381,
   "metadata": {},
   "outputs": [
    {
     "name": "stdout",
     "output_type": "stream",
     "text": [
      "(35, 11)\n",
      "(35, 11)\n"
     ]
    }
   ],
   "source": [
    "print(risk_summary_sub_grades_3yr.shape)\n",
    "print(risk_summary_sub_grades_5yr.shape)"
   ]
  },
  {
   "cell_type": "code",
   "execution_count": 382,
   "metadata": {},
   "outputs": [],
   "source": [
    "sub_grades = risk_summary_sub_grades_3yr.sub_grade.unique()\n"
   ]
  },
  {
   "cell_type": "code",
   "execution_count": 383,
   "metadata": {},
   "outputs": [],
   "source": [
    "for sg in sub_grades:\n",
    "    pred_std_dev_3yr = float(risk_summary_sub_grades_3yr[risk_summary_sub_grades_3yr.sub_grade == sg]['std'].values)\n",
    "    pred_std_dev_5yr = float(risk_summary_sub_grades_5yr[risk_summary_sub_grades_5yr.sub_grade == sg]['std'].values)\n",
    "\n",
    "    pred_ES_95_3yr = float(risk_summary_sub_grades_3yr[risk_summary_sub_grades_3yr.sub_grade == sg]['ES_95'].values)\n",
    "    pred_ES_95_5yr = float(risk_summary_sub_grades_5yr[risk_summary_sub_grades_5yr.sub_grade == sg]['ES_95'].values)\n",
    "    \n",
    "    def_predictions.loc[(def_predictions['term'] == 0) & (def_predictions.sub_grade == sg) ,'risk_std_dev'] = pred_std_dev_3yr\n",
    "    def_predictions.loc[(def_predictions['term'] == 1) & (def_predictions.sub_grade == sg),'risk_std_dev']  = pred_std_dev_5yr\n",
    "\n",
    "    def_predictions.loc[(def_predictions['term'] == 0) & (def_predictions.sub_grade == sg),'risk_ES_95'] = pred_ES_95_3yr\n",
    "    def_predictions.loc[(def_predictions['term'] == 1) & (def_predictions.sub_grade == sg),'risk_ES_95'] = pred_ES_95_5yr\n",
    "\n",
    "    \n",
    "    "
   ]
  },
  {
   "cell_type": "code",
   "execution_count": null,
   "metadata": {},
   "outputs": [],
   "source": []
  },
  {
   "cell_type": "code",
   "execution_count": 384,
   "metadata": {},
   "outputs": [
    {
     "data": {
      "text/plain": [
       "Index(['id', '_good', 'p', 'grade', 'sub_grade', 'term', 'loan_amnt',\n",
       "       'funded_amnt', 'pred_ret_good', 'pred_ret_bad', 'pred_expected_ret',\n",
       "       'risk_std_dev', 'risk_ES_95'],\n",
       "      dtype='object')"
      ]
     },
     "execution_count": 384,
     "metadata": {},
     "output_type": "execute_result"
    }
   ],
   "source": [
    "def_predictions.columns"
   ]
  },
  {
   "cell_type": "code",
   "execution_count": 385,
   "metadata": {},
   "outputs": [],
   "source": [
    "def neg_risk_penalized_ret(notionals, pred_ret, risk, lambda_c):\n",
    "    risk_adj_ret = pred_ret - (lambda_c * np.abs(risk))\n",
    "    neg_ret = -1 * sum([x[0]*x[1] for x in zip(notionals, risk_adj_ret)])\n",
    "    #print(\"Iterating:\", neg_ret)\n",
    "    return neg_ret\n",
    "\n",
    "\n",
    "\n",
    "def portfolio_optimize(pred_ret,  funded_amts, budget = 1e6, lambda_c = 0.01, risk_measure = 1, risk_std=[], risk_ES=[]):\n",
    "    '''\n",
    "    risk can be either standard deviations or Expected Shortfall. Expected Shortfall is reported as negative\n",
    "    so take the abs of the quantities there.\n",
    "    risk_measure={0:standard deviation, 1:Expected shortfall}\n",
    "    '''    \n",
    "    if risk_measure:\n",
    "        risk = risk_ES\n",
    "    else:\n",
    "        risk = risk_std\n",
    "    \n",
    "    assert(len(pred_ret) == len(risk) == len(funded_amts))\n",
    "\n",
    "    init_notionals = [budget/len(pred_ret)] * len(pred_ret) #initialize variables\n",
    "    arguments = (pred_ret, risk, lambda_c) #arguments into the objective function other than the variables\n",
    "    \n",
    "    linear_constraint = LinearConstraint(np.ones(len(init_notionals)), lb=0, ub=budget)  #total investment<=budget\n",
    "    \n",
    "    var_bounds = [(0, funded_amts[i]) for i in range(len(funded_amts))]\n",
    "    \n",
    "    opt_portfolio = minimize(neg_risk_penalized_ret, init_notionals,\n",
    "                             args=arguments,\n",
    "                             constraints=linear_constraint,\n",
    "                             bounds=var_bounds,\n",
    "                             method='SLSQP',\n",
    "                             options={'ftol': 1e-5, 'disp': True, 'maxiter': 2000 }\n",
    "                            )\n",
    "    return opt_portfolio\n",
    "\n",
    "\n"
   ]
  },
  {
   "cell_type": "code",
   "execution_count": null,
   "metadata": {},
   "outputs": [],
   "source": []
  },
  {
   "cell_type": "markdown",
   "metadata": {},
   "source": [
    "## Test optimal portfolios\n"
   ]
  },
  {
   "cell_type": "markdown",
   "metadata": {},
   "source": [
    "### seed with top n loans sorted by predicted expected returns\n"
   ]
  },
  {
   "cell_type": "code",
   "execution_count": 343,
   "metadata": {},
   "outputs": [],
   "source": [
    "n =100\n",
    "risk_aversion = 0.001"
   ]
  },
  {
   "cell_type": "code",
   "execution_count": 344,
   "metadata": {},
   "outputs": [],
   "source": [
    "top_by_expected_ret = (def_predictions[['id','pred_expected_ret','funded_amnt','risk_std_dev','risk_ES_95']].\\\n",
    "                        sort_values('pred_expected_ret', ascending=False)).iloc[:n,]"
   ]
  },
  {
   "cell_type": "code",
   "execution_count": 345,
   "metadata": {},
   "outputs": [],
   "source": [
    "def calc_realized_returns(optimal_portf):\n",
    "    '''\n",
    "    join with the returns dataframe to get the realized returns for each selected loan\n",
    "    \n",
    "    '''\n",
    "    optimal_portf = pd.merge(optimal_portf, ret_df[['id','annualized_returns']], how='left', on='id')\n",
    "    optimal_portf.annualized_returns.fillna(0, inplace=True)\n",
    "    assert(len(optimal_portf.optimal_notionals) ==  len(optimal_portf.annualized_returns))\n",
    "    num = np.sum([x[0]*x[1] for x in zip(optimal_portf.optimal_notionals, optimal_portf.annualized_returns)])\n",
    "    den = np.sum(optimal_portf.optimal_notionals)\n",
    "    return(num/den)"
   ]
  },
  {
   "cell_type": "code",
   "execution_count": 346,
   "metadata": {},
   "outputs": [],
   "source": [
    "def get_optimized_portfolios(id_values, ret, funded_amnt, risk_aversion, risk_measure, risk):\n",
    "    start_time = time.time()\n",
    "    if risk_measure:\n",
    "        opt_expected_ret_ES = portfolio_optimize(ret,\n",
    "                                          funded_amnt, lambda_c = risk_aversion, \\\n",
    "                                          risk_measure = risk_measure, risk_ES=risk\n",
    "                                         )\n",
    "    else:\n",
    "        opt_expected_ret_ES = portfolio_optimize(ret,\n",
    "                                          funded_amnt, lambda_c = risk_aversion, \\\n",
    "                                          risk_measure = risk_measure, risk_std=risk\n",
    "                                         )\n",
    "    end_time = time.time()\n",
    "    print(\"Fit time: \" + str(round(end_time - start_time, 2)) + \" seconds\")\n",
    "    print(\"Risk aversion parameter:\", risk_aversion)\n",
    "    \n",
    "    opt_df = pd.DataFrame({'id':id_values, 'funded_amnt': funded_amnt, \\\n",
    "                  'optimal_notionals':opt_expected_ret_ES.x})\n",
    "    opt_df.optimal_notionals = opt_df.optimal_notionals.apply(lambda val: round(val))\n",
    "    return opt_df"
   ]
  },
  {
   "cell_type": "code",
   "execution_count": 347,
   "metadata": {},
   "outputs": [],
   "source": [
    "lambda_c =[0.01, 0.005, 0.001, 0.0005, 0.0001, 0.00005, 0.00001, 0.000001, 0]"
   ]
  },
  {
   "cell_type": "code",
   "execution_count": 348,
   "metadata": {},
   "outputs": [
    {
     "name": "stdout",
     "output_type": "stream",
     "text": [
      "Optimization terminated successfully.    (Exit mode 0)\n",
      "            Current function value: -69314.53977994826\n",
      "            Iterations: 109\n",
      "            Function evaluations: 11129\n",
      "            Gradient evaluations: 109\n",
      "Fit time: 2.92 seconds\n",
      "Risk aversion parameter: 0.01\n",
      "Optimization terminated successfully.    (Exit mode 0)\n",
      "            Current function value: -70900.221756408\n",
      "            Iterations: 279\n",
      "            Function evaluations: 28367\n",
      "            Gradient evaluations: 278\n",
      "Fit time: 7.42 seconds\n",
      "Risk aversion parameter: 0.005\n",
      "Optimization terminated successfully.    (Exit mode 0)\n",
      "            Current function value: -71022.5615304557\n",
      "            Iterations: 167\n",
      "            Function evaluations: 17045\n",
      "            Gradient evaluations: 167\n",
      "Fit time: 4.45 seconds\n",
      "Risk aversion parameter: 0.001\n",
      "Optimization terminated successfully.    (Exit mode 0)\n",
      "            Current function value: -72279.78840198659\n",
      "            Iterations: 867\n",
      "            Function evaluations: 88056\n",
      "            Gradient evaluations: 863\n",
      "Fit time: 23.23 seconds\n",
      "Risk aversion parameter: 0.0005\n",
      "Optimization terminated successfully.    (Exit mode 0)\n",
      "            Current function value: -72251.58467180944\n",
      "            Iterations: 588\n",
      "            Function evaluations: 59681\n",
      "            Gradient evaluations: 585\n",
      "Fit time: 15.66 seconds\n",
      "Risk aversion parameter: 0.0001\n",
      "Optimization terminated successfully.    (Exit mode 0)\n",
      "            Current function value: -72069.8021819692\n",
      "            Iterations: 429\n",
      "            Function evaluations: 43610\n",
      "            Gradient evaluations: 427\n",
      "Fit time: 11.45 seconds\n",
      "Risk aversion parameter: 5e-05\n",
      "Optimization terminated successfully.    (Exit mode 0)\n",
      "            Current function value: -72387.08470623087\n",
      "            Iterations: 872\n",
      "            Function evaluations: 88536\n",
      "            Gradient evaluations: 868\n",
      "Fit time: 23.64 seconds\n",
      "Risk aversion parameter: 1e-05\n",
      "Optimization terminated successfully.    (Exit mode 0)\n",
      "            Current function value: -72280.77882834886\n",
      "            Iterations: 777\n",
      "            Function evaluations: 78846\n",
      "            Gradient evaluations: 773\n",
      "Fit time: 20.81 seconds\n",
      "Risk aversion parameter: 1e-06\n",
      "Optimization terminated successfully.    (Exit mode 0)\n",
      "            Current function value: -72367.35917320529\n",
      "            Iterations: 918\n",
      "            Function evaluations: 93228\n",
      "            Gradient evaluations: 914\n",
      "Fit time: 25.43 seconds\n",
      "Risk aversion parameter: 0\n"
     ]
    }
   ],
   "source": [
    "#find the optimal risk_aversion parameter:\n",
    "portf_ret_arr = [calc_realized_returns(get_optimized_portfolios(top_by_expected_ret.id.values, \n",
    "                                                                top_by_expected_ret.pred_expected_ret.values,\n",
    "                                                                top_by_expected_ret.funded_amnt.values,\n",
    "                                                                risk_aversion_parameter, 0,\n",
    "                                                                top_by_expected_ret.risk_std_dev))\\\n",
    " for risk_aversion_parameter in lambda_c]"
   ]
  },
  {
   "cell_type": "code",
   "execution_count": 349,
   "metadata": {},
   "outputs": [
    {
     "name": "stdout",
     "output_type": "stream",
     "text": [
      "N= 100\n",
      "Regression algo: Ridge\n",
      "risk measure: Std dev\n"
     ]
    },
    {
     "data": {
      "text/html": [
       "<div>\n",
       "<style scoped>\n",
       "    .dataframe tbody tr th:only-of-type {\n",
       "        vertical-align: middle;\n",
       "    }\n",
       "\n",
       "    .dataframe tbody tr th {\n",
       "        vertical-align: top;\n",
       "    }\n",
       "\n",
       "    .dataframe thead th {\n",
       "        text-align: right;\n",
       "    }\n",
       "</style>\n",
       "<table border=\"1\" class=\"dataframe\">\n",
       "  <thead>\n",
       "    <tr style=\"text-align: right;\">\n",
       "      <th></th>\n",
       "      <th>lambda</th>\n",
       "      <th>max_returns</th>\n",
       "    </tr>\n",
       "  </thead>\n",
       "  <tbody>\n",
       "    <tr>\n",
       "      <th>0</th>\n",
       "      <td>0.010000</td>\n",
       "      <td>0.077352</td>\n",
       "    </tr>\n",
       "    <tr>\n",
       "      <th>2</th>\n",
       "      <td>0.001000</td>\n",
       "      <td>0.076821</td>\n",
       "    </tr>\n",
       "    <tr>\n",
       "      <th>1</th>\n",
       "      <td>0.005000</td>\n",
       "      <td>0.076610</td>\n",
       "    </tr>\n",
       "    <tr>\n",
       "      <th>4</th>\n",
       "      <td>0.000100</td>\n",
       "      <td>0.076161</td>\n",
       "    </tr>\n",
       "    <tr>\n",
       "      <th>5</th>\n",
       "      <td>0.000050</td>\n",
       "      <td>0.076101</td>\n",
       "    </tr>\n",
       "    <tr>\n",
       "      <th>7</th>\n",
       "      <td>0.000001</td>\n",
       "      <td>0.076098</td>\n",
       "    </tr>\n",
       "    <tr>\n",
       "      <th>3</th>\n",
       "      <td>0.000500</td>\n",
       "      <td>0.075931</td>\n",
       "    </tr>\n",
       "    <tr>\n",
       "      <th>8</th>\n",
       "      <td>0.000000</td>\n",
       "      <td>0.075858</td>\n",
       "    </tr>\n",
       "    <tr>\n",
       "      <th>6</th>\n",
       "      <td>0.000010</td>\n",
       "      <td>0.075823</td>\n",
       "    </tr>\n",
       "  </tbody>\n",
       "</table>\n",
       "</div>"
      ],
      "text/plain": [
       "     lambda  max_returns\n",
       "0  0.010000     0.077352\n",
       "2  0.001000     0.076821\n",
       "1  0.005000     0.076610\n",
       "4  0.000100     0.076161\n",
       "5  0.000050     0.076101\n",
       "7  0.000001     0.076098\n",
       "3  0.000500     0.075931\n",
       "8  0.000000     0.075858\n",
       "6  0.000010     0.075823"
      ]
     },
     "execution_count": 349,
     "metadata": {},
     "output_type": "execute_result"
    }
   ],
   "source": [
    "print(\"N=\",n)\n",
    "print(\"Regression algo:\", regressor_used)\n",
    "print(\"risk measure: Std dev\")\n",
    "pd.DataFrame({'lambda': lambda_c, 'max_returns':portf_ret_arr}).sort_values('max_returns', ascending=False)"
   ]
  },
  {
   "cell_type": "code",
   "execution_count": 325,
   "metadata": {},
   "outputs": [
    {
     "name": "stdout",
     "output_type": "stream",
     "text": [
      "N= 100\n",
      "Regression algo: Random Forest\n",
      "risk measure: Std dev\n"
     ]
    },
    {
     "data": {
      "text/html": [
       "<div>\n",
       "<style scoped>\n",
       "    .dataframe tbody tr th:only-of-type {\n",
       "        vertical-align: middle;\n",
       "    }\n",
       "\n",
       "    .dataframe tbody tr th {\n",
       "        vertical-align: top;\n",
       "    }\n",
       "\n",
       "    .dataframe thead th {\n",
       "        text-align: right;\n",
       "    }\n",
       "</style>\n",
       "<table border=\"1\" class=\"dataframe\">\n",
       "  <thead>\n",
       "    <tr style=\"text-align: right;\">\n",
       "      <th></th>\n",
       "      <th>lambda</th>\n",
       "      <th>max_returns</th>\n",
       "    </tr>\n",
       "  </thead>\n",
       "  <tbody>\n",
       "    <tr>\n",
       "      <th>4</th>\n",
       "      <td>0.000100</td>\n",
       "      <td>0.084724</td>\n",
       "    </tr>\n",
       "    <tr>\n",
       "      <th>6</th>\n",
       "      <td>0.000010</td>\n",
       "      <td>0.084457</td>\n",
       "    </tr>\n",
       "    <tr>\n",
       "      <th>3</th>\n",
       "      <td>0.000500</td>\n",
       "      <td>0.084438</td>\n",
       "    </tr>\n",
       "    <tr>\n",
       "      <th>8</th>\n",
       "      <td>0.000000</td>\n",
       "      <td>0.083792</td>\n",
       "    </tr>\n",
       "    <tr>\n",
       "      <th>2</th>\n",
       "      <td>0.001000</td>\n",
       "      <td>0.083752</td>\n",
       "    </tr>\n",
       "    <tr>\n",
       "      <th>1</th>\n",
       "      <td>0.005000</td>\n",
       "      <td>0.083619</td>\n",
       "    </tr>\n",
       "    <tr>\n",
       "      <th>7</th>\n",
       "      <td>0.000001</td>\n",
       "      <td>0.083607</td>\n",
       "    </tr>\n",
       "    <tr>\n",
       "      <th>5</th>\n",
       "      <td>0.000050</td>\n",
       "      <td>0.083562</td>\n",
       "    </tr>\n",
       "    <tr>\n",
       "      <th>0</th>\n",
       "      <td>0.010000</td>\n",
       "      <td>0.083439</td>\n",
       "    </tr>\n",
       "  </tbody>\n",
       "</table>\n",
       "</div>"
      ],
      "text/plain": [
       "     lambda  max_returns\n",
       "4  0.000100     0.084724\n",
       "6  0.000010     0.084457\n",
       "3  0.000500     0.084438\n",
       "8  0.000000     0.083792\n",
       "2  0.001000     0.083752\n",
       "1  0.005000     0.083619\n",
       "7  0.000001     0.083607\n",
       "5  0.000050     0.083562\n",
       "0  0.010000     0.083439"
      ]
     },
     "execution_count": 325,
     "metadata": {},
     "output_type": "execute_result"
    }
   ],
   "source": [
    "print(\"N=\",n)\n",
    "print(\"Regression algo:\", regressor_used)\n",
    "print(\"risk measure: Std dev\")\n",
    "pd.DataFrame({'lambda': lambda_c, 'max_returns':portf_ret_arr}).sort_values('max_returns', ascending=False)"
   ]
  },
  {
   "cell_type": "markdown",
   "metadata": {},
   "source": [
    "### seed with top n loans sorted by predicted expected returns\n"
   ]
  },
  {
   "cell_type": "code",
   "execution_count": 412,
   "metadata": {},
   "outputs": [
    {
     "name": "stdout",
     "output_type": "stream",
     "text": [
      "Random Forest\n"
     ]
    }
   ],
   "source": [
    "n= 100\n",
    "risk_aversion =0.01\n",
    "print(regressor_used)"
   ]
  },
  {
   "cell_type": "code",
   "execution_count": 413,
   "metadata": {},
   "outputs": [],
   "source": [
    "top_by_expected_ret = (def_predictions[['id','pred_expected_ret','funded_amnt','risk_std_dev','risk_ES_95']].\\\n",
    "                        sort_values('pred_expected_ret', ascending=False)).iloc[:n,]"
   ]
  },
  {
   "cell_type": "markdown",
   "metadata": {},
   "source": [
    "#### risk measure = expected shortfall\n"
   ]
  },
  {
   "cell_type": "code",
   "execution_count": 414,
   "metadata": {},
   "outputs": [
    {
     "name": "stdout",
     "output_type": "stream",
     "text": [
      "Optimization terminated successfully.    (Exit mode 0)\n",
      "            Current function value: -53438.22824476313\n",
      "            Iterations: 486\n",
      "            Function evaluations: 49389\n",
      "            Gradient evaluations: 484\n",
      "Fit time: 4.12 seconds\n"
     ]
    }
   ],
   "source": [
    "start_time = time.time()\n",
    "opt_expected_ret_ES = portfolio_optimize(top_by_expected_ret.pred_expected_ret.values,\n",
    "                                      top_by_expected_ret.funded_amnt.values, lambda_c = risk_aversion, \\\n",
    "                                      risk_measure = 1,risk_ES=top_by_expected_ret.risk_ES_95.values\n",
    "                                     )\n",
    "end_time = time.time()\n",
    "print(\"Fit time: \" + str(round(end_time - start_time, 2)) + \" seconds\")\n",
    "\n",
    "opt_df_1 = pd.DataFrame({'id':top_by_expected_ret.id.values, 'funded_amnt': top_by_expected_ret.funded_amnt, \\\n",
    "              'optimal_notionals':opt_expected_ret_ES.x})\n",
    "opt_df_1.optimal_notionals = opt_df_1.optimal_notionals.apply(lambda val: round(val))\n"
   ]
  },
  {
   "cell_type": "markdown",
   "metadata": {},
   "source": [
    "#### risk measure = standard deviation\n"
   ]
  },
  {
   "cell_type": "code",
   "execution_count": 415,
   "metadata": {},
   "outputs": [
    {
     "name": "stdout",
     "output_type": "stream",
     "text": [
      "Optimization terminated successfully.    (Exit mode 0)\n",
      "            Current function value: -55719.355809851775\n",
      "            Iterations: 500\n",
      "            Function evaluations: 50877\n",
      "            Gradient evaluations: 498\n",
      "Fit time: 14.12 seconds\n"
     ]
    }
   ],
   "source": [
    "start_time = time.time()\n",
    "\n",
    "opt_expected_ret_std_dev = portfolio_optimize(top_by_expected_ret.pred_expected_ret.values,\n",
    "                                      top_by_expected_ret.funded_amnt.values, lambda_c = risk_aversion,\\\n",
    "                                      risk_measure = 0, risk_std=top_by_expected_ret.risk_std_dev\n",
    "                                     )\n",
    "end_time = time.time()\n",
    "print(\"Fit time: \" + str(round(end_time - start_time, 2)) + \" seconds\")\n",
    "\n",
    "opt_df_2 = pd.DataFrame({'id':top_by_expected_ret.id.values, 'funded_amnt': top_by_expected_ret.funded_amnt, \\\n",
    "              'optimal_notionals':opt_expected_ret_std_dev.x})\n",
    "opt_df_2.optimal_notionals = opt_df_2.optimal_notionals.apply(lambda val: round(val))\n"
   ]
  },
  {
   "cell_type": "markdown",
   "metadata": {},
   "source": [
    "### seed with top n loans sorted by predicted non_default returns\n"
   ]
  },
  {
   "cell_type": "code",
   "execution_count": 416,
   "metadata": {},
   "outputs": [],
   "source": [
    "top_by_expected_ret = (def_predictions[['id','pred_ret_good','funded_amnt','risk_std_dev','risk_ES_95']].\\\n",
    "                        sort_values('pred_ret_good', ascending=False)).iloc[:n,]"
   ]
  },
  {
   "cell_type": "markdown",
   "metadata": {},
   "source": [
    "#### risk measure = expected shortfall\n"
   ]
  },
  {
   "cell_type": "code",
   "execution_count": 417,
   "metadata": {},
   "outputs": [
    {
     "name": "stdout",
     "output_type": "stream",
     "text": [
      "Optimization terminated successfully.    (Exit mode 0)\n",
      "            Current function value: -72495.76881678164\n",
      "            Iterations: 76\n",
      "            Function evaluations: 7752\n",
      "            Gradient evaluations: 76\n",
      "Fit time: 0.77 seconds\n"
     ]
    }
   ],
   "source": [
    "start_time = time.time()\n",
    "opt_expected_ret_ES = portfolio_optimize(top_by_expected_ret.pred_ret_good.values,\n",
    "                                      top_by_expected_ret.funded_amnt.values, lambda_c = risk_aversion, \\\n",
    "                                      risk_measure = 1,risk_ES=top_by_expected_ret.risk_ES_95.values\n",
    "                                     )\n",
    "end_time = time.time()\n",
    "print(\"Fit time: \" + str(round(end_time - start_time, 2)) + \" seconds\")\n",
    "\n",
    "opt_df_3 = pd.DataFrame({'id':top_by_expected_ret.id.values, 'funded_amnt': top_by_expected_ret.funded_amnt, \\\n",
    "              'optimal_notionals':opt_expected_ret_ES.x})\n",
    "opt_df_3.optimal_notionals = opt_df_3.optimal_notionals.apply(lambda val: round(val))\n"
   ]
  },
  {
   "cell_type": "markdown",
   "metadata": {},
   "source": [
    "#### risk measure = standard deviation\n"
   ]
  },
  {
   "cell_type": "code",
   "execution_count": 418,
   "metadata": {},
   "outputs": [
    {
     "name": "stdout",
     "output_type": "stream",
     "text": [
      "Optimization terminated successfully.    (Exit mode 0)\n",
      "            Current function value: -74577.28875287308\n",
      "            Iterations: 76\n",
      "            Function evaluations: 7752\n",
      "            Gradient evaluations: 76\n",
      "Fit time: 2.41 seconds\n"
     ]
    }
   ],
   "source": [
    "start_time = time.time()\n",
    "\n",
    "opt_expected_ret_std_dev = portfolio_optimize(top_by_expected_ret.pred_ret_good.values,\n",
    "                                      top_by_expected_ret.funded_amnt.values, lambda_c = risk_aversion,\\\n",
    "                                      risk_measure = 0, risk_std=top_by_expected_ret.risk_std_dev\n",
    "                                     )\n",
    "end_time = time.time()\n",
    "print(\"Fit time: \" + str(round(end_time - start_time, 2)) + \" seconds\")\n",
    "\n",
    "opt_df_4 = pd.DataFrame({'id':top_by_expected_ret.id.values, 'funded_amnt': top_by_expected_ret.funded_amnt, \\\n",
    "              'optimal_notionals':opt_expected_ret_std_dev.x})\n",
    "opt_df_4.optimal_notionals = opt_df_4.optimal_notionals.apply(lambda val: round(val))\n"
   ]
  },
  {
   "cell_type": "code",
   "execution_count": null,
   "metadata": {},
   "outputs": [],
   "source": []
  },
  {
   "cell_type": "markdown",
   "metadata": {},
   "source": [
    "### seed with top n loans sorted by returns with highest probability of non-default\n"
   ]
  },
  {
   "cell_type": "code",
   "execution_count": 419,
   "metadata": {},
   "outputs": [],
   "source": [
    "top_by_expected_ret = (def_predictions.loc[(def_predictions._good == 1),['id', '_good', 'p','pred_ret_good','funded_amnt','risk_std_dev','risk_ES_95']].\\\n",
    "                        sort_values('p', ascending=False)).iloc[:n,]"
   ]
  },
  {
   "cell_type": "code",
   "execution_count": null,
   "metadata": {},
   "outputs": [],
   "source": []
  },
  {
   "cell_type": "markdown",
   "metadata": {},
   "source": [
    "#### risk measure = expected shortfall\n"
   ]
  },
  {
   "cell_type": "code",
   "execution_count": 420,
   "metadata": {},
   "outputs": [
    {
     "name": "stdout",
     "output_type": "stream",
     "text": [
      "Optimization terminated successfully.    (Exit mode 0)\n",
      "            Current function value: -24629.091724994305\n",
      "            Iterations: 252\n",
      "            Function evaluations: 25602\n",
      "            Gradient evaluations: 251\n",
      "Fit time: 2.35 seconds\n"
     ]
    }
   ],
   "source": [
    "start_time = time.time()\n",
    "opt_expected_ret_ES = portfolio_optimize(top_by_expected_ret.pred_ret_good.values,\n",
    "                                      top_by_expected_ret.funded_amnt.values, lambda_c = risk_aversion, \\\n",
    "                                      risk_measure = 1,risk_ES=top_by_expected_ret.risk_ES_95.values\n",
    "                                     )\n",
    "end_time = time.time()\n",
    "print(\"Fit time: \" + str(round(end_time - start_time, 2)) + \" seconds\")\n",
    "\n",
    "opt_df_5 = pd.DataFrame({'id':top_by_expected_ret.id.values, 'funded_amnt': top_by_expected_ret.funded_amnt, \\\n",
    "              'optimal_notionals':opt_expected_ret_ES.x})\n",
    "opt_df_5.optimal_notionals = opt_df_5.optimal_notionals.apply(lambda val: round(val))\n"
   ]
  },
  {
   "cell_type": "markdown",
   "metadata": {},
   "source": [
    "#### risk measure = standard deviation\n"
   ]
  },
  {
   "cell_type": "code",
   "execution_count": 421,
   "metadata": {},
   "outputs": [
    {
     "name": "stdout",
     "output_type": "stream",
     "text": [
      "Optimization terminated successfully.    (Exit mode 0)\n",
      "            Current function value: -25499.6719343228\n",
      "            Iterations: 190\n",
      "            Function evaluations: 19380\n",
      "            Gradient evaluations: 190\n",
      "Fit time: 5.55 seconds\n"
     ]
    }
   ],
   "source": [
    "start_time = time.time()\n",
    "\n",
    "opt_expected_ret_std_dev = portfolio_optimize(top_by_expected_ret.pred_ret_good.values,\n",
    "                                      top_by_expected_ret.funded_amnt.values, lambda_c = risk_aversion,\\\n",
    "                                      risk_measure = 0, risk_std=top_by_expected_ret.risk_std_dev\n",
    "                                     )\n",
    "end_time = time.time()\n",
    "print(\"Fit time: \" + str(round(end_time - start_time, 2)) + \" seconds\")\n",
    "\n",
    "opt_df_6 = pd.DataFrame({'id':top_by_expected_ret.id.values, 'funded_amnt': top_by_expected_ret.funded_amnt, \\\n",
    "              'optimal_notionals':opt_expected_ret_std_dev.x})\n",
    "opt_df_6.optimal_notionals = opt_df_6.optimal_notionals.apply(lambda val: round(val))\n"
   ]
  },
  {
   "cell_type": "code",
   "execution_count": 422,
   "metadata": {},
   "outputs": [
    {
     "data": {
      "text/plain": [
       "2    76344\n",
       "3    74343\n",
       "1    45651\n",
       "4    39399\n",
       "5    18285\n",
       "6     6194\n",
       "7     1771\n",
       "Name: grade, dtype: int64"
      ]
     },
     "execution_count": 422,
     "metadata": {},
     "output_type": "execute_result"
    }
   ],
   "source": [
    "def_predictions.grade.value_counts()"
   ]
  },
  {
   "cell_type": "markdown",
   "metadata": {},
   "source": [
    "### seed with top n loans selected randomly\n"
   ]
  },
  {
   "cell_type": "code",
   "execution_count": null,
   "metadata": {},
   "outputs": [],
   "source": []
  },
  {
   "cell_type": "code",
   "execution_count": 423,
   "metadata": {},
   "outputs": [],
   "source": [
    "top_by_expected_ret = def_predictions[['id', '_good','grade', 'p','pred_ret_good','funded_amnt','risk_std_dev','risk_ES_95']].\\\n",
    "                       iloc[(np.random.randint(0,def_predictions.shape[0],n)),:]\n",
    "                       "
   ]
  },
  {
   "cell_type": "code",
   "execution_count": null,
   "metadata": {},
   "outputs": [],
   "source": []
  },
  {
   "cell_type": "markdown",
   "metadata": {},
   "source": [
    "#### risk measure = expected shortfall\n"
   ]
  },
  {
   "cell_type": "code",
   "execution_count": 424,
   "metadata": {},
   "outputs": [
    {
     "name": "stdout",
     "output_type": "stream",
     "text": [
      "Optimization terminated successfully.    (Exit mode 0)\n",
      "            Current function value: -51499.52699009238\n",
      "            Iterations: 960\n",
      "            Function evaluations: 97512\n",
      "            Gradient evaluations: 956\n",
      "Fit time: 8.84 seconds\n"
     ]
    }
   ],
   "source": [
    "start_time = time.time()\n",
    "opt_expected_ret_ES = portfolio_optimize(top_by_expected_ret.pred_ret_good.values,\n",
    "                                      top_by_expected_ret.funded_amnt.values, lambda_c = risk_aversion, \\\n",
    "                                      risk_measure = 1,risk_ES=top_by_expected_ret.risk_ES_95.values\n",
    "                                     )\n",
    "end_time = time.time()\n",
    "print(\"Fit time: \" + str(round(end_time - start_time, 2)) + \" seconds\")\n",
    "\n",
    "opt_df_7 = pd.DataFrame({'id':top_by_expected_ret.id.values, 'funded_amnt': top_by_expected_ret.funded_amnt, \\\n",
    "              'optimal_notionals':opt_expected_ret_ES.x})\n",
    "opt_df_7.optimal_notionals = opt_df_7.optimal_notionals.apply(lambda val: round(val))\n"
   ]
  },
  {
   "cell_type": "markdown",
   "metadata": {},
   "source": [
    "#### risk measure = standard deviation\n"
   ]
  },
  {
   "cell_type": "code",
   "execution_count": 425,
   "metadata": {},
   "outputs": [
    {
     "name": "stdout",
     "output_type": "stream",
     "text": [
      "Optimization terminated successfully.    (Exit mode 0)\n",
      "            Current function value: -53782.84740986625\n",
      "            Iterations: 1098\n",
      "            Function evaluations: 111609\n",
      "            Gradient evaluations: 1094\n",
      "Fit time: 31.21 seconds\n"
     ]
    }
   ],
   "source": [
    "start_time = time.time()\n",
    "\n",
    "opt_expected_ret_std_dev = portfolio_optimize(top_by_expected_ret.pred_ret_good.values,\n",
    "                                      top_by_expected_ret.funded_amnt.values, lambda_c = risk_aversion,\\\n",
    "                                      risk_measure = 0, risk_std=top_by_expected_ret.risk_std_dev\n",
    "                                     )\n",
    "end_time = time.time()\n",
    "print(\"Fit time: \" + str(round(end_time - start_time, 2)) + \" seconds\")\n",
    "\n",
    "opt_df_8 = pd.DataFrame({'id':top_by_expected_ret.id.values, 'funded_amnt': top_by_expected_ret.funded_amnt, \\\n",
    "              'optimal_notionals':opt_expected_ret_std_dev.x})\n",
    "opt_df_8.optimal_notionals = opt_df_8.optimal_notionals.apply(lambda val: round(val))\n"
   ]
  },
  {
   "cell_type": "markdown",
   "metadata": {},
   "source": [
    "### calculate realized returns of the 6 portfolios\n"
   ]
  },
  {
   "cell_type": "code",
   "execution_count": null,
   "metadata": {},
   "outputs": [],
   "source": []
  },
  {
   "cell_type": "code",
   "execution_count": 426,
   "metadata": {},
   "outputs": [],
   "source": [
    "##generate simple annualized returns -- don't kill me Simon!\n",
    "opt_portf_arr = [opt_df_1, opt_df_2, opt_df_3, opt_df_4, opt_df_5, opt_df_6, opt_df_7, opt_df_8]\n",
    "simple_ret_arr = [calc_realized_returns(portf) for portf in opt_portf_arr]"
   ]
  },
  {
   "cell_type": "code",
   "execution_count": 427,
   "metadata": {},
   "outputs": [],
   "source": [
    "\n",
    "strategy =['expected_ret_ES', 'expected_ret_STDDEV',\\\n",
    "           'non_default_scenario_ret_ES', 'non_default_scenario_ret_STDDEV',\\\n",
    "           'non_default_prob_ret_ES', 'non_default_prob_ret_STDDEV', 'random_ES', 'random_STDDEV']\n",
    "resultset = pd.DataFrame({'Selection_criteria': strategy, 'Actual_realized_returns':simple_ret_arr}).\\\n",
    "                sort_values('Actual_realized_returns', ascending=False)"
   ]
  },
  {
   "cell_type": "code",
   "execution_count": 428,
   "metadata": {},
   "outputs": [
    {
     "name": "stdout",
     "output_type": "stream",
     "text": [
      "Risk aversion parameter: 0.01 \n",
      "Regressor: Random Forest\n"
     ]
    },
    {
     "data": {
      "text/html": [
       "<div>\n",
       "<style scoped>\n",
       "    .dataframe tbody tr th:only-of-type {\n",
       "        vertical-align: middle;\n",
       "    }\n",
       "\n",
       "    .dataframe tbody tr th {\n",
       "        vertical-align: top;\n",
       "    }\n",
       "\n",
       "    .dataframe thead th {\n",
       "        text-align: right;\n",
       "    }\n",
       "</style>\n",
       "<table border=\"1\" class=\"dataframe\">\n",
       "  <thead>\n",
       "    <tr style=\"text-align: right;\">\n",
       "      <th></th>\n",
       "      <th>Selection_criteria</th>\n",
       "      <th>Actual_realized_returns</th>\n",
       "    </tr>\n",
       "  </thead>\n",
       "  <tbody>\n",
       "    <tr>\n",
       "      <th>0</th>\n",
       "      <td>expected_ret_ES</td>\n",
       "      <td>0.083555</td>\n",
       "    </tr>\n",
       "    <tr>\n",
       "      <th>1</th>\n",
       "      <td>expected_ret_STDDEV</td>\n",
       "      <td>0.083439</td>\n",
       "    </tr>\n",
       "    <tr>\n",
       "      <th>4</th>\n",
       "      <td>non_default_prob_ret_ES</td>\n",
       "      <td>0.027802</td>\n",
       "    </tr>\n",
       "    <tr>\n",
       "      <th>5</th>\n",
       "      <td>non_default_prob_ret_STDDEV</td>\n",
       "      <td>0.027802</td>\n",
       "    </tr>\n",
       "    <tr>\n",
       "      <th>6</th>\n",
       "      <td>random_ES</td>\n",
       "      <td>-0.004566</td>\n",
       "    </tr>\n",
       "    <tr>\n",
       "      <th>7</th>\n",
       "      <td>random_STDDEV</td>\n",
       "      <td>-0.004699</td>\n",
       "    </tr>\n",
       "    <tr>\n",
       "      <th>2</th>\n",
       "      <td>non_default_scenario_ret_ES</td>\n",
       "      <td>-0.012114</td>\n",
       "    </tr>\n",
       "    <tr>\n",
       "      <th>3</th>\n",
       "      <td>non_default_scenario_ret_STDDEV</td>\n",
       "      <td>-0.012114</td>\n",
       "    </tr>\n",
       "  </tbody>\n",
       "</table>\n",
       "</div>"
      ],
      "text/plain": [
       "                Selection_criteria  Actual_realized_returns\n",
       "0                  expected_ret_ES                 0.083555\n",
       "1              expected_ret_STDDEV                 0.083439\n",
       "4          non_default_prob_ret_ES                 0.027802\n",
       "5      non_default_prob_ret_STDDEV                 0.027802\n",
       "6                        random_ES                -0.004566\n",
       "7                    random_STDDEV                -0.004699\n",
       "2      non_default_scenario_ret_ES                -0.012114\n",
       "3  non_default_scenario_ret_STDDEV                -0.012114"
      ]
     },
     "execution_count": 428,
     "metadata": {},
     "output_type": "execute_result"
    }
   ],
   "source": [
    "print(\"Risk aversion parameter:\", risk_aversion, \"\\nRegressor:\", regressor_used)\n",
    "resultset"
   ]
  },
  {
   "cell_type": "code",
   "execution_count": 366,
   "metadata": {},
   "outputs": [
    {
     "name": "stdout",
     "output_type": "stream",
     "text": [
      "Risk aversion parameter: 0.01 \n",
      "Regressor: Ridge\n"
     ]
    },
    {
     "data": {
      "text/html": [
       "<div>\n",
       "<style scoped>\n",
       "    .dataframe tbody tr th:only-of-type {\n",
       "        vertical-align: middle;\n",
       "    }\n",
       "\n",
       "    .dataframe tbody tr th {\n",
       "        vertical-align: top;\n",
       "    }\n",
       "\n",
       "    .dataframe thead th {\n",
       "        text-align: right;\n",
       "    }\n",
       "</style>\n",
       "<table border=\"1\" class=\"dataframe\">\n",
       "  <thead>\n",
       "    <tr style=\"text-align: right;\">\n",
       "      <th></th>\n",
       "      <th>Selection_criteria</th>\n",
       "      <th>Actual_realized_returns</th>\n",
       "    </tr>\n",
       "  </thead>\n",
       "  <tbody>\n",
       "    <tr>\n",
       "      <th>1</th>\n",
       "      <td>expected_ret_STDDEV</td>\n",
       "      <td>0.077352</td>\n",
       "    </tr>\n",
       "    <tr>\n",
       "      <th>0</th>\n",
       "      <td>expected_ret_ES</td>\n",
       "      <td>0.075777</td>\n",
       "    </tr>\n",
       "    <tr>\n",
       "      <th>4</th>\n",
       "      <td>non_default_prob_ret_ES</td>\n",
       "      <td>0.027802</td>\n",
       "    </tr>\n",
       "    <tr>\n",
       "      <th>5</th>\n",
       "      <td>non_default_prob_ret_STDDEV</td>\n",
       "      <td>0.027802</td>\n",
       "    </tr>\n",
       "    <tr>\n",
       "      <th>6</th>\n",
       "      <td>random_ES</td>\n",
       "      <td>0.020551</td>\n",
       "    </tr>\n",
       "    <tr>\n",
       "      <th>2</th>\n",
       "      <td>non_default_scenario_ret_ES</td>\n",
       "      <td>0.019593</td>\n",
       "    </tr>\n",
       "    <tr>\n",
       "      <th>3</th>\n",
       "      <td>non_default_scenario_ret_STDDEV</td>\n",
       "      <td>0.016437</td>\n",
       "    </tr>\n",
       "    <tr>\n",
       "      <th>7</th>\n",
       "      <td>random_STDDEV</td>\n",
       "      <td>0.014721</td>\n",
       "    </tr>\n",
       "  </tbody>\n",
       "</table>\n",
       "</div>"
      ],
      "text/plain": [
       "                Selection_criteria  Actual_realized_returns\n",
       "1              expected_ret_STDDEV                 0.077352\n",
       "0                  expected_ret_ES                 0.075777\n",
       "4          non_default_prob_ret_ES                 0.027802\n",
       "5      non_default_prob_ret_STDDEV                 0.027802\n",
       "6                        random_ES                 0.020551\n",
       "2      non_default_scenario_ret_ES                 0.019593\n",
       "3  non_default_scenario_ret_STDDEV                 0.016437\n",
       "7                    random_STDDEV                 0.014721"
      ]
     },
     "execution_count": 366,
     "metadata": {},
     "output_type": "execute_result"
    }
   ],
   "source": [
    "print(\"Risk aversion parameter:\", risk_aversion, \"\\nRegressor:\", regressor_used)\n",
    "resultset"
   ]
  },
  {
   "cell_type": "code",
   "execution_count": 429,
   "metadata": {},
   "outputs": [],
   "source": [
    "#best_portf_RF = opt_df_1"
   ]
  },
  {
   "cell_type": "code",
   "execution_count": 368,
   "metadata": {},
   "outputs": [],
   "source": [
    "#best_portf_Ridge = opt_df_2"
   ]
  },
  {
   "cell_type": "code",
   "execution_count": 430,
   "metadata": {},
   "outputs": [],
   "source": [
    "best_portf_Ridge['weights'] = best_portf_Ridge.optimal_notionals/best_portf_Ridge.optimal_notionals.sum()"
   ]
  },
  {
   "cell_type": "code",
   "execution_count": 431,
   "metadata": {},
   "outputs": [],
   "source": [
    "best_portf_RF['weights'] = best_portf_RF.optimal_notionals/best_portf_RF.optimal_notionals.sum()"
   ]
  },
  {
   "cell_type": "code",
   "execution_count": 436,
   "metadata": {},
   "outputs": [],
   "source": [
    "##send cut to Simon\n",
    "best_portf_Ridge[['id', 'weights']].to_csv('optimal_weights_ridge.csv',index=False)\n",
    "best_portf_RF[['id', 'weights']].to_csv('optimal_weights_randomF.csv',index=False)\n"
   ]
  },
  {
   "cell_type": "code",
   "execution_count": 435,
   "metadata": {},
   "outputs": [
    {
     "data": {
      "text/html": [
       "<div>\n",
       "<style scoped>\n",
       "    .dataframe tbody tr th:only-of-type {\n",
       "        vertical-align: middle;\n",
       "    }\n",
       "\n",
       "    .dataframe tbody tr th {\n",
       "        vertical-align: top;\n",
       "    }\n",
       "\n",
       "    .dataframe thead th {\n",
       "        text-align: right;\n",
       "    }\n",
       "</style>\n",
       "<table border=\"1\" class=\"dataframe\">\n",
       "  <thead>\n",
       "    <tr style=\"text-align: right;\">\n",
       "      <th></th>\n",
       "      <th>id</th>\n",
       "      <th>funded_amnt</th>\n",
       "      <th>optimal_notionals</th>\n",
       "      <th>weights</th>\n",
       "    </tr>\n",
       "  </thead>\n",
       "  <tbody>\n",
       "    <tr>\n",
       "      <th>144136</th>\n",
       "      <td>569037</td>\n",
       "      <td>15000.0</td>\n",
       "      <td>8533</td>\n",
       "      <td>0.008533</td>\n",
       "    </tr>\n",
       "    <tr>\n",
       "      <th>249811</th>\n",
       "      <td>610365</td>\n",
       "      <td>12800.0</td>\n",
       "      <td>10878</td>\n",
       "      <td>0.010878</td>\n",
       "    </tr>\n",
       "    <tr>\n",
       "      <th>227774</th>\n",
       "      <td>431602</td>\n",
       "      <td>18000.0</td>\n",
       "      <td>10712</td>\n",
       "      <td>0.010712</td>\n",
       "    </tr>\n",
       "    <tr>\n",
       "      <th>58068</th>\n",
       "      <td>395514</td>\n",
       "      <td>5500.0</td>\n",
       "      <td>1845</td>\n",
       "      <td>0.001845</td>\n",
       "    </tr>\n",
       "    <tr>\n",
       "      <th>225641</th>\n",
       "      <td>578793</td>\n",
       "      <td>3000.0</td>\n",
       "      <td>2961</td>\n",
       "      <td>0.002961</td>\n",
       "    </tr>\n",
       "    <tr>\n",
       "      <th>216650</th>\n",
       "      <td>553121</td>\n",
       "      <td>25000.0</td>\n",
       "      <td>19471</td>\n",
       "      <td>0.019471</td>\n",
       "    </tr>\n",
       "    <tr>\n",
       "      <th>47293</th>\n",
       "      <td>635360</td>\n",
       "      <td>15000.0</td>\n",
       "      <td>8465</td>\n",
       "      <td>0.008465</td>\n",
       "    </tr>\n",
       "    <tr>\n",
       "      <th>26714</th>\n",
       "      <td>374485</td>\n",
       "      <td>14000.0</td>\n",
       "      <td>14000</td>\n",
       "      <td>0.014000</td>\n",
       "    </tr>\n",
       "    <tr>\n",
       "      <th>9635</th>\n",
       "      <td>424783</td>\n",
       "      <td>7500.0</td>\n",
       "      <td>3967</td>\n",
       "      <td>0.003967</td>\n",
       "    </tr>\n",
       "    <tr>\n",
       "      <th>53087</th>\n",
       "      <td>657924</td>\n",
       "      <td>14000.0</td>\n",
       "      <td>13578</td>\n",
       "      <td>0.013578</td>\n",
       "    </tr>\n",
       "  </tbody>\n",
       "</table>\n",
       "</div>"
      ],
      "text/plain": [
       "            id  funded_amnt  optimal_notionals   weights\n",
       "144136  569037      15000.0               8533  0.008533\n",
       "249811  610365      12800.0              10878  0.010878\n",
       "227774  431602      18000.0              10712  0.010712\n",
       "58068   395514       5500.0               1845  0.001845\n",
       "225641  578793       3000.0               2961  0.002961\n",
       "216650  553121      25000.0              19471  0.019471\n",
       "47293   635360      15000.0               8465  0.008465\n",
       "26714   374485      14000.0              14000  0.014000\n",
       "9635    424783       7500.0               3967  0.003967\n",
       "53087   657924      14000.0              13578  0.013578"
      ]
     },
     "execution_count": 435,
     "metadata": {},
     "output_type": "execute_result"
    }
   ],
   "source": [
    "best_portf_Ridge.sample(10)"
   ]
  },
  {
   "cell_type": "code",
   "execution_count": null,
   "metadata": {},
   "outputs": [],
   "source": []
  }
 ],
 "metadata": {
  "kernelspec": {
   "display_name": "Python 3",
   "language": "python",
   "name": "python3"
  },
  "language_info": {
   "codemirror_mode": {
    "name": "ipython",
    "version": 3
   },
   "file_extension": ".py",
   "mimetype": "text/x-python",
   "name": "python",
   "nbconvert_exporter": "python",
   "pygments_lexer": "ipython3",
   "version": "3.7.1"
  }
 },
 "nbformat": 4,
 "nbformat_minor": 2
}
