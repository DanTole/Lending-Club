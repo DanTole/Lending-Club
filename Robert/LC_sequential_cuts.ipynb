{
 "cells": [
  {
   "cell_type": "code",
   "execution_count": 27,
   "metadata": {},
   "outputs": [],
   "source": [
    "import pandas as pd\n",
    "import numpy as np\n",
    "import datetime\n",
    "import time\n",
    "import seaborn as sns\n",
    "from matplotlib import pyplot\n",
    "\n",
    "from sklearn.model_selection import GridSearchCV\n",
    "from sklearn import linear_model\n",
    "from sklearn.ensemble import RandomForestRegressor\n",
    "from sklearn.metrics import accuracy_score, classification_report, roc_auc_score, roc_curve, brier_score_loss, mean_squared_error, r2_score\n",
    "from sklearn.cluster import KMeans\n",
    "\n",
    "from scipy.optimize import minimize, LinearConstraint #for optimization"
   ]
  },
  {
   "cell_type": "markdown",
   "metadata": {},
   "source": [
    "## Helper functions\n"
   ]
  },
  {
   "cell_type": "code",
   "execution_count": 165,
   "metadata": {},
   "outputs": [],
   "source": [
    "def calc_return(total_pymnt, term, funded_amnt, recoveries, realized_loan_term_mths, r=0.01):\n",
    "    effective_monthly_installments = (total_pymnt - recoveries)/realized_loan_term_mths\n",
    "    \n",
    "    #get total cash flow at loan termination as the geometric sum of effective monthly installments\n",
    "    #yielding a constant rate of return rr.\n",
    "    #This is from assumption #1\n",
    "    rr =r/12 #expecting r to be the annual yield\n",
    "    total_cash_flow = effective_monthly_installments * ((1 - (1 + rr)**realized_loan_term_mths)) / (1 - (1 + rr))\n",
    "    \n",
    "    #add back recoveries to the get the lump sum at loan termination.\n",
    "    total_cash_flow+= recoveries \n",
    "\n",
    "    #assumption #2. invest at rr till original term of loan.\n",
    "    total_cash_flow = total_cash_flow * ((1 + rr)**(max(0,term - realized_loan_term_mths)))\n",
    "    \n",
    "    #calculate total return R and annualize\n",
    "    R = (total_cash_flow - funded_amnt) / funded_amnt\n",
    "    return ((1+R)**(12/term) - 1)\n",
    "\n",
    "\n",
    "\n",
    "def fit_return_models(X_train, Y_train, X_test, Y_test, model_name =\"Ridge\",\n",
    "                      cv_parameters = {},\n",
    "                      random_state = 1980):\n",
    "    '''\n",
    "    fits 2 return models using the sklearn model object implied by model name. One model for loans that defaulted and another for \n",
    "    loans that didn't default.\n",
    "    code borrowed mostly from the danguetta.com paper/notebook.\n",
    "    '''\n",
    "    \n",
    "    np.random.seed(random_state)\n",
    "    \n",
    "    #choose model based on user selection\n",
    "    if model_name == \"Lasso\":\n",
    "        model = linear_model.Lasso(normalize=True)\n",
    "    elif model_name == \"Ridge\":\n",
    "        model = linear_model.Ridge(normalize=True)\n",
    "    elif model_name == \"RandomF\":\n",
    "        model = RandomForestRegressor()\n",
    "\n",
    "    \n",
    " \n",
    "    #split data into defaulted series and non-defaulted series\n",
    "\n",
    "    Y_train_bad = Y_train.loc[(Y_train._good == 0),['id', 'annualized_returns'] ]\n",
    "    X_train_bad = X_train[X_train.id.isin(Y_train_bad.id)]\n",
    "    Y_test_bad  = Y_test.loc[(Y_test._good == 0),['id', 'annualized_returns'] ]\n",
    "    X_test_bad  = X_test[X_test.id.isin(Y_test_bad.id)]\n",
    "    \n",
    "    Y_train_good = Y_train.loc[(Y_train._good == 1),['id', 'annualized_returns'] ]\n",
    "    X_train_good = X_train[X_train.id.isin(Y_train_good.id)]  \n",
    "    Y_test_good  = Y_test.loc[(Y_test._good == 1),['id', 'annualized_returns'] ]\n",
    "    X_test_good  = X_test[X_test.id.isin(Y_test_good.id)]\n",
    "\n",
    "    \n",
    "    ##remove ids for now to be added back afterwards\n",
    "    train_bad_loan_ids = X_train_bad.pop('id')\n",
    "    test_bad_loan_ids = pd.DataFrame(X_test_bad.pop('id'), columns=['id'])\n",
    "\n",
    "\n",
    "    train_good_loan_ids = X_train_good.pop('id')\n",
    "    test_good_loan_ids = pd.DataFrame(X_test_good.pop('id'), columns=['id'])\n",
    "    \n",
    "\n",
    "    \n",
    "    ##drop ids from Y datasets\n",
    "    Y_train_good.drop('id', axis =1, inplace=True)\n",
    "    Y_train_bad.drop('id', axis=1, inplace=True)\n",
    "    \n",
    "    Y_test_good.drop('id', axis =1, inplace=True)\n",
    "    Y_test_bad.drop('id', axis =1, inplace=True)\n",
    "    \n",
    "\n",
    "    \n",
    "    ##run model\n",
    "    cv_model_bad = GridSearchCV(model, cv_parameters, scoring='r2', n_jobs=-1)\n",
    "    cv_model_good = GridSearchCV(model, cv_parameters, scoring='r2', n_jobs=-1)\n",
    "\n",
    "    #time and fit the models\n",
    "    start_time = time.time()\n",
    "    print(\"fitting model for defaulted loans\")\n",
    "    if model_name in ['RandomF']:\n",
    "        cv_model_bad.fit(X_train_bad, Y_train_bad.values.ravel())\n",
    "    else:\n",
    "        cv_model_bad.fit(X_train_bad, Y_train_bad)\n",
    "        \n",
    "    print(\"fitting model for non-defaulted loans\")\n",
    "    if model_name in ['RandomF']:\n",
    "        cv_model_good.fit(X_train_good, Y_train_good.values.ravel())\n",
    "    else:\n",
    "        cv_model_good.fit(X_train_good, Y_train_good)\n",
    "        \n",
    "    end_time = time.time()\n",
    "\n",
    "    #pick best model from the fit for each regressor\n",
    "    best_model_bad = cv_model_bad.best_estimator_\n",
    "    best_model_good = cv_model_good.best_estimator_\n",
    "            \n",
    "    #tidy outputs    \n",
    "    print(\"=========================\")\n",
    "    print(\"  Model: \" + model_name )\n",
    "    print(\"=========================\")\n",
    "\n",
    "    print(\"Fit time: \" + str(round(end_time - start_time, 2)) + \" seconds\")\n",
    "    print(\"Optimal parameters:\")\n",
    "    print(\"model_default:\",cv_model_bad.best_params_, \"model_non-default\",cv_model_good.best_params_)\n",
    "\n",
    "    ##predicted returns - need to join back to get loan ids\n",
    "    predicted_non_default_return = pd.DataFrame(best_model_good.predict(X_test_good), columns =['ret'])\n",
    "    predicted_default_return     = pd.DataFrame(best_model_bad.predict(X_test_bad), columns =['ret'])\n",
    "    \n",
    "    \n",
    "    ## add ids back\n",
    "    predicted_non_default_return = list(zip(test_good_loan_ids.id, predicted_non_default_return.ret))\n",
    "    \n",
    "    predicted_default_return = list(zip(test_bad_loan_ids.id, predicted_default_return.ret))\n",
    "    \n",
    "    print(\"\")\n",
    "    print(\"Testing r2 scores:\")\n",
    "    # Here we use different testing set to report the performance\n",
    "    test_scores = {'model_default':r2_score(Y_test_bad,best_model_bad.predict(X_test_bad)),\n",
    "                      'model_non_default':r2_score(Y_test_good,best_model_good.predict(X_test_good))}\n",
    " \n",
    "    print(\"model_default:\", test_scores['model_default'])\n",
    "    print(\"model_non_default:\", test_scores['model_non_default'])\n",
    "\n",
    "    return { 'model_default':best_model_bad, 'model_non_default':best_model_good, 'predicted_non_default_return':predicted_non_default_return,\n",
    "              'predicted_default_return':predicted_default_return,'r2_scores':test_scores }\n",
    "\n",
    "    \n",
    "    \n",
    "##create risk scores\n",
    "\n",
    "def var_95(ret):\n",
    "    return np.percentile(ret,  5)\n",
    "\n",
    "def var_99(ret):\n",
    "    return np.percentile(ret, 1)\n",
    "\n",
    "def ES_95(ret):\n",
    "    threshold = var_95(ret)\n",
    "    return np.mean(ret[ret < threshold])\n",
    "\n",
    "def ES_99(ret):\n",
    "    threshold = var_99(ret)\n",
    "    return np.mean(ret[ret < threshold])\n",
    "\n",
    "\n",
    "##calculate expected returns\n",
    "def calc_expected_ret(good, p, pred_ret_good, pred_ret_bad):\n",
    "    if good:\n",
    "        return (p * pred_ret_good) + ((1-p) * pred_ret_bad)\n",
    "    else:\n",
    "        return (p * pred_ret_bad)  + ((1-p) * pred_ret_good)\n",
    "    \n",
    "\n",
    "##optimization routines\n",
    "def neg_risk_penalized_ret(notionals, pred_ret, risk, lambda_c):\n",
    "    risk_adj_ret = pred_ret - (lambda_c * np.abs(risk))\n",
    "    neg_ret = -1 * sum([x[0]*x[1] for x in zip(notionals, risk_adj_ret)])\n",
    "    #print(\"Iterating:\", neg_ret)\n",
    "    return neg_ret\n",
    "\n",
    "\n",
    "\n",
    "def portfolio_optimize(pred_ret,  funded_amts, budget = 1e6, lambda_c = 0.01, risk_measure = 1, risk_std=[], risk_ES=[]):\n",
    "    '''\n",
    "    risk can be either standard deviations or Expected Shortfall. Expected Shortfall is reported as negative\n",
    "    so take the abs of the quantities there.\n",
    "    risk_measure={0:standard deviation, 1:Expected shortfall}\n",
    "    '''    \n",
    "    if risk_measure:\n",
    "        risk = risk_ES\n",
    "    else:\n",
    "        risk = risk_std\n",
    "    \n",
    "    assert(len(pred_ret) == len(risk) == len(funded_amts))\n",
    "\n",
    "    init_notionals = [budget/len(pred_ret)] * len(pred_ret) #initialize variables\n",
    "    arguments = (pred_ret, risk, lambda_c) #arguments into the objective function other than the variables\n",
    "    \n",
    "    linear_constraint = LinearConstraint(np.ones(len(init_notionals)), lb=0, ub=budget)  #total investment<=budget\n",
    "    \n",
    "    var_bounds = [(0, funded_amts[i]) for i in range(len(funded_amts))]\n",
    "    \n",
    "    opt_portfolio = minimize(neg_risk_penalized_ret, init_notionals,\n",
    "                             args=arguments,\n",
    "                             constraints=linear_constraint,\n",
    "                             bounds=var_bounds,\n",
    "                             method='SLSQP',\n",
    "                             options={'ftol': 1e-5, 'disp': True, 'maxiter': 2000 }\n",
    "                            )\n",
    "    return opt_portfolio\n",
    "\n",
    "###end of optimization routines\n",
    "\n",
    "##portfolio returns routines\n",
    "def calc_realized_returns(optimal_portf):\n",
    "    '''\n",
    "    join with the returns dataframe to get the realized returns for each selected loan\n",
    "    \n",
    "    '''\n",
    "    optimal_portf = pd.merge(optimal_portf, ret_df[['id','annualized_returns']], how='left', on='id')\n",
    "    optimal_portf.annualized_returns.fillna(0, inplace=True)\n",
    "    assert(len(optimal_portf.optimal_notionals) ==  len(optimal_portf.annualized_returns))\n",
    "    num = np.sum([x[0]*x[1] for x in zip(optimal_portf.optimal_notionals, optimal_portf.annualized_returns)])\n",
    "    den = np.sum(optimal_portf.optimal_notionals)\n",
    "    return(num/den)\n",
    "\n",
    "\n",
    "##portfolio returns routines\n",
    "def get_optimized_portfolios(id_values, ret, funded_amnt, risk_aversion, risk_measure, risk):\n",
    "    start_time = time.time()\n",
    "    if risk_measure:\n",
    "        opt_expected_ret_ES = portfolio_optimize(ret,\n",
    "                                          funded_amnt, lambda_c = risk_aversion, \\\n",
    "                                          risk_measure = risk_measure, risk_ES=risk\n",
    "                                         )\n",
    "    else:\n",
    "        opt_expected_ret_ES = portfolio_optimize(ret,\n",
    "                                          funded_amnt, lambda_c = risk_aversion, \\\n",
    "                                          risk_measure = risk_measure, risk_std=risk\n",
    "                                         )\n",
    "    end_time = time.time()\n",
    "    print(\"Fit time: \" + str(round(end_time - start_time, 2)) + \" seconds\")\n",
    "    print(\"Risk aversion parameter:\", risk_aversion)\n",
    "    \n",
    "    opt_df = pd.DataFrame({'id':id_values, 'funded_amnt': funded_amnt, \\\n",
    "                  'optimal_notionals':opt_expected_ret_ES.x})\n",
    "    opt_df.optimal_notionals = opt_df.optimal_notionals.apply(lambda val: round(val))\n",
    "    return opt_df\n",
    "\n",
    "\n",
    "##get std dev and ES_95 per subgroup\n",
    "def calc_risk_measures(X_train_, Y_train_):\n",
    "    tmp = pd.merge(X_train_[['id', 'grade', 'sub_grade', 'term']], Y_train_, how='inner', on='id')\n",
    "    return(pd.DataFrame(tmp.groupby(['sub_grade'])['annualized_returns'].agg(['count', 'median' , 'mean', 'min','max', 'std', var_95, var_99, ES_95, ES_99])).reset_index())\n",
    "\n",
    "\n",
    "\n",
    "### get predicted returns and return them in a df\n",
    "def get_2_scenario_pred_returns(ridge_res, rf_res,X_test_,useRidge=1):\n",
    "    #make predictions on the test sample using both models\n",
    "    if useRidge:\n",
    "        pred_ret_if_non_defaulting = ridge_res['model_non_default'].predict(X_test_.drop('id', axis=1))[:,0]\n",
    "        pred_ret_if_defaulting = ridge_res['model_default'].predict(X_test_.drop('id', axis=1))[:,0]\n",
    "    else:\n",
    "        pred_ret_if_non_defaulting = rf_res['model_non_default'].predict(X_test_.drop('id', axis=1))\n",
    "        pred_ret_if_defaulting = rf_res['model_default'].predict(X_test_.drop('id', axis=1))\n",
    "\n",
    "    ##combine the predicted returns into a single dataframe to join with predicted default probs\n",
    "    pred_returns_good =pd.DataFrame({'id': X_test_.id, 'pred_ret_good': pred_ret_if_non_defaulting })\n",
    "    pred_returns_bad =pd.DataFrame({'id': X_test_.id.values, 'pred_ret_bad': pred_ret_if_defaulting})\n",
    "\n",
    "    return(pd.merge(pred_returns_good, pred_returns_bad, how='inner', on='id'))\n",
    "\n",
    "\n",
    "\n",
    "def encode_grades_term(def_predictions):\n",
    "    ##convert grade, sub_grade and term to numbers - from Dmitri's notebook\n",
    "    sub_grades = sorted(def_predictions.sub_grade.unique())\n",
    "    sub_grades_dict = {x:sub_grades.index(x)+1 for x in sub_grades}  # map 'A1' to 1 rather than 0\n",
    "\n",
    "    ordinal_dict = {\n",
    "        'grade':   {'A':1, 'B':2, 'C':3, 'D':4, 'E':5, 'F':6, 'G':7},\n",
    "        'sub_grade': sub_grades_dict,\n",
    "        'term': {' 36 months':0, ' 60 months':1}\n",
    "    }\n",
    "\n",
    "    for f in ['grade', 'sub_grade','term']:\n",
    "        def_predictions[f].replace(ordinal_dict[f], inplace=True)\n",
    "    \n",
    "    return def_predictions\n",
    "\n",
    "\n",
    "##calc expected returns from the 2 scenario model return outputs\n",
    "def calc_expected_ret(good, p, pred_ret_good, pred_ret_bad):\n",
    "    if good:\n",
    "        return (p * pred_ret_good) + ((1-p) * pred_ret_bad)\n",
    "    else:\n",
    "        return (p * pred_ret_bad)  + ((1-p) * pred_ret_good)\n",
    "    \n",
    "\n",
    "##as the function name suggests :)\n",
    "def assign_risk_measures_by_subgrade(risk_summary_df,predictions_df):\n",
    "    sub_grades = risk_summary_df.sub_grade.unique()\n",
    "    for sg in sub_grades:\n",
    "        std_dev = float(risk_summary_df[risk_summary_df.sub_grade == sg]['std'].values)\n",
    "        ES_95 = float(risk_summary_df[risk_summary_df.sub_grade == sg]['ES_95'].values)\n",
    "\n",
    "        predictions_df.loc[(predictions_df.sub_grade == sg) ,'risk_std_dev'] = std_dev\n",
    "        predictions_df.loc[(predictions_df.sub_grade == sg),'risk_ES_95'] = ES_95\n",
    "    return predictions_df"
   ]
  },
  {
   "cell_type": "markdown",
   "metadata": {},
   "source": [
    "## End Helper functions\n"
   ]
  },
  {
   "cell_type": "code",
   "execution_count": null,
   "metadata": {},
   "outputs": [],
   "source": []
  },
  {
   "cell_type": "code",
   "execution_count": 3,
   "metadata": {},
   "outputs": [],
   "source": [
    "#read in Dmitri's files\n",
    "X_full = pd.read_csv(\"data/seq/X_full_1592769980.csv\")\n",
    "Y_full = pd.read_csv(\"data/seq/Y_full_1592769980.csv\")\n",
    "Y_proba = pd.read_csv(\"data/seq/Y_predictions_1592769980.csv\")\n"
   ]
  },
  {
   "cell_type": "code",
   "execution_count": 4,
   "metadata": {},
   "outputs": [],
   "source": [
    "dtypes_map={\n",
    "'id':'uint32',\n",
    "'application_type':'uint8',\n",
    "'grade':'uint8',\n",
    "'sub_grade':'uint8',\n",
    "'term':'uint8',\n",
    "'initial_list_status':'uint8',\n",
    "'emp_length':'uint8',\n",
    "'verification_status':'uint8',\n",
    "'_has_desc':'uint8',\n",
    "'purpose_credit_card':'uint8',\n",
    "'purpose_debt_consolidation':'uint8',\n",
    "'purpose_educational':'uint8',\n",
    "'purpose_home_improvement':'uint8',\n",
    "'purpose_house':'uint8',\n",
    "'purpose_major_purchase':'uint8',\n",
    "'purpose_medical':'uint8',\n",
    "'purpose_moving':'uint8',\n",
    "'purpose_other':'uint8',\n",
    "'purpose_renewable_energy':'uint8',\n",
    "'purpose_small_business':'uint8',\n",
    "'purpose_vacation':'uint8',\n",
    "'purpose_wedding':'uint8',\n",
    "'home_ownership_OTHER':'uint8',\n",
    "'home_ownership_OWN':'uint8',\n",
    "'home_ownership_RENT':'uint8'\n",
    "}"
   ]
  },
  {
   "cell_type": "code",
   "execution_count": 5,
   "metadata": {},
   "outputs": [],
   "source": [
    "#change dtypes for numericals to reduce storage and increase computational efficiency\n",
    "X_full = X_full.astype(dtype=dtypes_map)\n",
    "Y_proba = Y_proba.astype({'id': 'uint32'})"
   ]
  },
  {
   "cell_type": "code",
   "execution_count": 8,
   "metadata": {},
   "outputs": [
    {
     "name": "stdout",
     "output_type": "stream",
     "text": [
      "(1345100, 37)\n",
      "(1345100, 2)\n",
      "(1339819, 3)\n"
     ]
    }
   ],
   "source": [
    "print(X_full.shape)\n",
    "print(Y_full.shape)\n",
    "print(Y_proba.shape)"
   ]
  },
  {
   "cell_type": "code",
   "execution_count": 14,
   "metadata": {},
   "outputs": [
    {
     "name": "stderr",
     "output_type": "stream",
     "text": [
      "/Users/rknatuahene/anaconda3/lib/python3.7/site-packages/IPython/core/interactiveshell.py:3020: DtypeWarning: Columns (0,19,49,59,118,129,130,131,134,135,136,139,145,146,147) have mixed types. Specify dtype option on import or set low_memory=False.\n",
      "  interactivity=interactivity, compiler=compiler, result=result)\n"
     ]
    }
   ],
   "source": [
    "#get the full dataset as well as some attributes not available at investment time is needed later for return calcs\n",
    "LC_df = pd.read_csv(\"data/accepted_2007_to_2018Q4.csv\")"
   ]
  },
  {
   "cell_type": "code",
   "execution_count": 15,
   "metadata": {},
   "outputs": [],
   "source": [
    "# Remove subtotal rows - from Simon\n",
    "def find_weird(x):\n",
    "    try:\n",
    "        _ = int(x)\n",
    "        return(True)\n",
    "    except:\n",
    "        return(False)\n",
    "    \n",
    "LC_df = LC_df[LC_df['id'].apply(find_weird)]\n",
    "LC_df = LC_df.astype({'id': 'uint32'}) #make id dtype compatible with X_full df"
   ]
  },
  {
   "cell_type": "code",
   "execution_count": 17,
   "metadata": {},
   "outputs": [],
   "source": [
    "LC_df = LC_df[LC_df.id.isin(X_full.id)]"
   ]
  },
  {
   "cell_type": "code",
   "execution_count": 20,
   "metadata": {},
   "outputs": [
    {
     "name": "stdout",
     "output_type": "stream",
     "text": [
      "(1345100, 151)\n",
      "(1345100, 37)\n"
     ]
    }
   ],
   "source": [
    "print(LC_df.shape)\n",
    "print(X_full.shape)"
   ]
  },
  {
   "cell_type": "code",
   "execution_count": 22,
   "metadata": {},
   "outputs": [],
   "source": [
    "ret_df = LC_df[[\"id\", \"issue_d\",\"last_pymnt_d\", \"total_pymnt\", \"term\", \"funded_amnt\", \"recoveries\",\"grade\",\"sub_grade\",\"loan_status\"]].copy()"
   ]
  },
  {
   "cell_type": "code",
   "execution_count": 23,
   "metadata": {},
   "outputs": [],
   "source": [
    "ret_df.dropna(subset=[\"id\", \"issue_d\",\"last_pymnt_d\", \"total_pymnt\", \"term\", \"funded_amnt\"], inplace=True)"
   ]
  },
  {
   "cell_type": "code",
   "execution_count": 24,
   "metadata": {},
   "outputs": [],
   "source": [
    "#convert term field to integer months\n",
    "ret_df['term'] = ret_df['term'].apply(lambda t: np.int8(t.split()[0]))\n",
    "ret_df.term.value_counts()\n",
    "\n",
    "#convert issue_d and last_pymnt_d into datetime\n",
    "ret_df['issue_d'] = ret_df['issue_d'].apply(lambda dt: datetime.datetime.strptime( dt, \"%b-%Y\").date())\n",
    "ret_df['last_pymnt_d'] = ret_df['last_pymnt_d'].apply(lambda dt: datetime.datetime.strptime( dt, \"%b-%Y\").date())"
   ]
  },
  {
   "cell_type": "code",
   "execution_count": 25,
   "metadata": {},
   "outputs": [],
   "source": [
    "#calculate the realized term of the loan in months. \n",
    "ret_df['realized_loan_term_mths'] = round((ret_df['last_pymnt_d'] - ret_df['issue_d'])/np.timedelta64(1, 'M'))"
   ]
  },
  {
   "cell_type": "code",
   "execution_count": 26,
   "metadata": {},
   "outputs": [],
   "source": [
    "#remove rows where realized_loan_term_mths <= 0\n",
    "ret_df = ret_df[ret_df.realized_loan_term_mths > 0]"
   ]
  },
  {
   "cell_type": "code",
   "execution_count": 29,
   "metadata": {},
   "outputs": [],
   "source": [
    "##calc realized returns\n",
    "rr = 0.01\n",
    "ret_df[\"annualized_returns\"] = ret_df.apply(lambda row: calc_return(row[3], row[4], row[5], row[6], row[10], rr), axis =1)"
   ]
  },
  {
   "cell_type": "code",
   "execution_count": 34,
   "metadata": {},
   "outputs": [],
   "source": [
    "#merge returns data\n",
    "X_full = pd.merge(X_full, ret_df[['id', 'issue_d']], how=\"left\", on ='id')\n",
    "Y_full = pd.merge(Y_full, ret_df[['id','annualized_returns', 'issue_d']], how=\"left\", on ='id')"
   ]
  },
  {
   "cell_type": "code",
   "execution_count": 36,
   "metadata": {},
   "outputs": [],
   "source": [
    "#remove NAs\n",
    "X_full.dropna(inplace=True)\n",
    "Y_full.dropna(inplace=True)"
   ]
  },
  {
   "cell_type": "markdown",
   "metadata": {},
   "source": [
    "### Prepare cuts\n"
   ]
  },
  {
   "cell_type": "markdown",
   "metadata": {},
   "source": [
    "#### Cut1. training:issue_d<2014, test:2014\n"
   ]
  },
  {
   "cell_type": "code",
   "execution_count": 59,
   "metadata": {},
   "outputs": [],
   "source": [
    "X_pre2014 = X_full.loc[(pd.DatetimeIndex(X_full['issue_d']).year < 2014)].copy()\n",
    "Y_pre2014 = Y_full[Y_full.id.isin(X_pre2014.id)].copy()\n",
    "X_test_2014 = X_full.loc[(pd.DatetimeIndex(X_full['issue_d']).year == 2014)].copy()\n",
    "Y_test_2014 = Y_full[Y_full.id.isin(X_test_2014.id)].copy()"
   ]
  },
  {
   "cell_type": "code",
   "execution_count": 60,
   "metadata": {},
   "outputs": [],
   "source": [
    "assert(Y_pre2014.shape[0] == X_pre2014.shape[0])\n",
    "assert(X_test_2014.shape[0] == Y_test_2014.shape[0])"
   ]
  },
  {
   "cell_type": "code",
   "execution_count": 70,
   "metadata": {},
   "outputs": [
    {
     "name": "stdout",
     "output_type": "stream",
     "text": [
      "(227475, 38)\n",
      "(222928, 38)\n"
     ]
    }
   ],
   "source": [
    "print(X_pre2014.shape)\n",
    "print(X_test_2014.shape)"
   ]
  },
  {
   "cell_type": "markdown",
   "metadata": {},
   "source": [
    "#### Cut2. training:issue_d<2015, test:2015\n"
   ]
  },
  {
   "cell_type": "code",
   "execution_count": 66,
   "metadata": {},
   "outputs": [],
   "source": [
    "X_pre2015 = X_full.loc[(pd.DatetimeIndex(X_full['issue_d']).year < 2015)].copy()\n",
    "Y_pre2015 = Y_full[Y_full.id.isin(X_pre2015.id)].copy()\n",
    "X_test_2015 = X_full.loc[(pd.DatetimeIndex(X_full['issue_d']).year == 2015)].copy()\n",
    "Y_test_2015 = Y_full[Y_full.id.isin(X_test_2015.id)].copy()"
   ]
  },
  {
   "cell_type": "code",
   "execution_count": 67,
   "metadata": {},
   "outputs": [],
   "source": [
    "assert(Y_pre2015.shape[0] == X_pre2015.shape[0])\n",
    "assert(X_test_2015.shape[0] == Y_test_2015.shape[0])"
   ]
  },
  {
   "cell_type": "code",
   "execution_count": 71,
   "metadata": {},
   "outputs": [
    {
     "name": "stdout",
     "output_type": "stream",
     "text": [
      "(450403, 38)\n",
      "(374158, 38)\n"
     ]
    }
   ],
   "source": [
    "print(X_pre2015.shape)\n",
    "print(X_test_2015.shape)"
   ]
  },
  {
   "cell_type": "markdown",
   "metadata": {},
   "source": [
    "#### Cut3. training:issue_d<2016, test:2016\n"
   ]
  },
  {
   "cell_type": "code",
   "execution_count": 68,
   "metadata": {},
   "outputs": [],
   "source": [
    "X_pre2016 = X_full.loc[(pd.DatetimeIndex(X_full['issue_d']).year < 2016)].copy()\n",
    "Y_pre2016 = Y_full[Y_full.id.isin(X_pre2016.id)].copy()\n",
    "X_test_2016 = X_full.loc[(pd.DatetimeIndex(X_full['issue_d']).year == 2016)].copy()\n",
    "Y_test_2016 = Y_full[Y_full.id.isin(X_test_2016.id)].copy()"
   ]
  },
  {
   "cell_type": "code",
   "execution_count": 69,
   "metadata": {},
   "outputs": [],
   "source": [
    "assert(Y_pre2016.shape[0] == X_pre2016.shape[0])\n",
    "assert(X_test_2016.shape[0] == Y_test_2016.shape[0])"
   ]
  },
  {
   "cell_type": "code",
   "execution_count": 72,
   "metadata": {},
   "outputs": [
    {
     "name": "stdout",
     "output_type": "stream",
     "text": [
      "(824561, 38)\n",
      "(290033, 38)\n"
     ]
    }
   ],
   "source": [
    "print(X_pre2016.shape)\n",
    "print(X_test_2016.shape)"
   ]
  },
  {
   "cell_type": "code",
   "execution_count": 73,
   "metadata": {},
   "outputs": [],
   "source": [
    "##drop issue date from the data sets\n",
    "X_pre2014.drop('issue_d', axis=1, inplace=True) \n",
    "Y_pre2014.drop('issue_d', axis=1, inplace=True) \n",
    "X_test_2014.drop('issue_d', axis=1, inplace=True)  \n",
    "Y_test_2014.drop('issue_d', axis=1, inplace=True)  \n",
    "\n",
    "X_pre2015.drop('issue_d', axis=1, inplace=True)  \n",
    "Y_pre2015.drop('issue_d', axis=1, inplace=True) \n",
    "X_test_2015.drop('issue_d', axis=1, inplace=True)  \n",
    "Y_test_2015.drop('issue_d', axis=1, inplace=True)  \n",
    "\n",
    "X_pre2016.drop('issue_d', axis=1, inplace=True)  \n",
    "Y_pre2016.drop('issue_d', axis=1, inplace=True)   \n",
    "X_test_2016.drop('issue_d', axis=1, inplace=True)  \n",
    "Y_test_2016.drop('issue_d', axis=1, inplace=True)  "
   ]
  },
  {
   "cell_type": "code",
   "execution_count": null,
   "metadata": {},
   "outputs": [],
   "source": []
  },
  {
   "cell_type": "markdown",
   "metadata": {},
   "source": [
    "## Test regression models\n"
   ]
  },
  {
   "cell_type": "markdown",
   "metadata": {},
   "source": [
    "### Ridge"
   ]
  },
  {
   "cell_type": "code",
   "execution_count": 91,
   "metadata": {},
   "outputs": [],
   "source": [
    "cv_parameters = {'alpha': np.logspace(-12, 1, num = 20), 'max_iter' : [2000]}\n"
   ]
  },
  {
   "cell_type": "code",
   "execution_count": 92,
   "metadata": {},
   "outputs": [
    {
     "name": "stdout",
     "output_type": "stream",
     "text": [
      "fitting model for defaulted loans\n",
      "fitting model for non-defaulted loans\n",
      "=========================\n",
      "  Model: Ridge\n",
      "=========================\n",
      "Fit time: 12.45 seconds\n",
      "Optimal parameters:\n",
      "model_default: {'alpha': 1e-12, 'max_iter': 2000} model_non-default {'alpha': 0.018329807108324374, 'max_iter': 2000}\n",
      "\n",
      "Testing r2 scores:\n",
      "model_default: 0.034536543736483405\n",
      "model_non_default: 0.35329566767254283\n"
     ]
    }
   ],
   "source": [
    "reg_ridge_pre2014 = fit_return_models(X_pre2014, Y_pre2014, X_test_2014, Y_test_2014, model_name =\"Ridge\",\n",
    "               cv_parameters = cv_parameters)"
   ]
  },
  {
   "cell_type": "code",
   "execution_count": 93,
   "metadata": {},
   "outputs": [
    {
     "name": "stdout",
     "output_type": "stream",
     "text": [
      "fitting model for defaulted loans\n",
      "fitting model for non-defaulted loans\n",
      "=========================\n",
      "  Model: Ridge\n",
      "=========================\n",
      "Fit time: 18.08 seconds\n",
      "Optimal parameters:\n",
      "model_default: {'alpha': 1e-12, 'max_iter': 2000} model_non-default {'alpha': 0.003792690190732254, 'max_iter': 2000}\n",
      "\n",
      "Testing r2 scores:\n",
      "model_default: -0.008906256923303602\n",
      "model_non_default: 0.3661953015068562\n"
     ]
    }
   ],
   "source": [
    "reg_ridge_pre2015 = fit_return_models(X_pre2015, Y_pre2015, X_test_2015, Y_test_2015, model_name =\"Ridge\",\n",
    "               cv_parameters = cv_parameters)"
   ]
  },
  {
   "cell_type": "code",
   "execution_count": 94,
   "metadata": {},
   "outputs": [
    {
     "name": "stdout",
     "output_type": "stream",
     "text": [
      "fitting model for defaulted loans\n",
      "fitting model for non-defaulted loans\n",
      "=========================\n",
      "  Model: Ridge\n",
      "=========================\n",
      "Fit time: 40.15 seconds\n",
      "Optimal parameters:\n",
      "model_default: {'alpha': 0.003792690190732254, 'max_iter': 2000} model_non-default {'alpha': 0.0007847599703514623, 'max_iter': 2000}\n",
      "\n",
      "Testing r2 scores:\n",
      "model_default: -0.10840302503738086\n",
      "model_non_default: 0.12358347854181406\n"
     ]
    }
   ],
   "source": [
    "reg_ridge_pre2016 = fit_return_models(X_pre2016, Y_pre2016, X_test_2016, Y_test_2016, model_name =\"Ridge\",\n",
    "               cv_parameters = cv_parameters)"
   ]
  },
  {
   "cell_type": "markdown",
   "metadata": {},
   "source": [
    "### Random Forest"
   ]
  },
  {
   "cell_type": "code",
   "execution_count": 101,
   "metadata": {},
   "outputs": [],
   "source": [
    "cv_parameters = {'min_samples_leaf':[100],\n",
    "                 'n_estimators': [50] }"
   ]
  },
  {
   "cell_type": "code",
   "execution_count": 102,
   "metadata": {},
   "outputs": [
    {
     "name": "stdout",
     "output_type": "stream",
     "text": [
      "fitting model for defaulted loans\n",
      "fitting model for non-defaulted loans\n",
      "=========================\n",
      "  Model: RandomF\n",
      "=========================\n",
      "Fit time: 179.55 seconds\n",
      "Optimal parameters:\n",
      "model_default: {'min_samples_leaf': 100, 'n_estimators': 50} model_non-default {'min_samples_leaf': 100, 'n_estimators': 50}\n",
      "\n",
      "Testing r2 scores:\n",
      "model_default: 0.04215233785671735\n",
      "model_non_default: 0.36645073090604685\n"
     ]
    }
   ],
   "source": [
    "reg_rf_pre2014 = fit_return_models(X_pre2014, Y_pre2014, X_test_2014, Y_test_2014, model_name =\"RandomF\",\n",
    "               cv_parameters = cv_parameters)"
   ]
  },
  {
   "cell_type": "code",
   "execution_count": 103,
   "metadata": {},
   "outputs": [
    {
     "name": "stdout",
     "output_type": "stream",
     "text": [
      "fitting model for defaulted loans\n",
      "fitting model for non-defaulted loans\n",
      "=========================\n",
      "  Model: RandomF\n",
      "=========================\n",
      "Fit time: 417.92 seconds\n",
      "Optimal parameters:\n",
      "model_default: {'min_samples_leaf': 100, 'n_estimators': 50} model_non-default {'min_samples_leaf': 100, 'n_estimators': 50}\n",
      "\n",
      "Testing r2 scores:\n",
      "model_default: -0.0048677483222498985\n",
      "model_non_default: 0.3899436465945678\n"
     ]
    }
   ],
   "source": [
    "reg_rf_pre2015 = fit_return_models(X_pre2015, Y_pre2015, X_test_2015, Y_test_2015, model_name =\"RandomF\",\n",
    "               cv_parameters = cv_parameters)"
   ]
  },
  {
   "cell_type": "code",
   "execution_count": 104,
   "metadata": {},
   "outputs": [
    {
     "name": "stdout",
     "output_type": "stream",
     "text": [
      "fitting model for defaulted loans\n",
      "fitting model for non-defaulted loans\n",
      "=========================\n",
      "  Model: RandomF\n",
      "=========================\n",
      "Fit time: 867.03 seconds\n",
      "Optimal parameters:\n",
      "model_default: {'min_samples_leaf': 100, 'n_estimators': 50} model_non-default {'min_samples_leaf': 100, 'n_estimators': 50}\n",
      "\n",
      "Testing r2 scores:\n",
      "model_default: -0.07457798174124397\n",
      "model_non_default: 0.18325850482959505\n"
     ]
    }
   ],
   "source": [
    "reg_rf_pre2016 = fit_return_models(X_pre2016, Y_pre2016, X_test_2016, Y_test_2016, model_name =\"RandomF\",\n",
    "               cv_parameters = cv_parameters)"
   ]
  },
  {
   "cell_type": "code",
   "execution_count": 150,
   "metadata": {},
   "outputs": [],
   "source": [
    "#### create risk data.\n",
    "risk_summary_sub_grades_all_pre2014 = calc_risk_measures(X_pre2014, Y_pre2014)\n",
    "risk_summary_sub_grades_all_pre2015 = calc_risk_measures(X_pre2015, Y_pre2015)\n",
    "risk_summary_sub_grades_all_pre2016 = calc_risk_measures(X_pre2016, Y_pre2016)\n"
   ]
  },
  {
   "cell_type": "code",
   "execution_count": 110,
   "metadata": {},
   "outputs": [],
   "source": []
  },
  {
   "cell_type": "code",
   "execution_count": 178,
   "metadata": {},
   "outputs": [],
   "source": [
    "#make this a function\n",
    "useRidge = 0;\n",
    "if useRidge:\n",
    "    regressor_used = \"Ridge\"\n",
    "else:\n",
    "    regressor_used = \"RF\"\n",
    "\n",
    "combined_pred_returns_2014 = get_2_scenario_pred_returns(reg_ridge_pre2014, reg_rf_pre2014, X_test_2014, useRidge)\n",
    "combined_pred_returns_2015 = get_2_scenario_pred_returns(reg_ridge_pre2015, reg_rf_pre2015, X_test_2015, useRidge)\n",
    "combined_pred_returns_2016 = get_2_scenario_pred_returns(reg_ridge_pre2016, reg_rf_pre2016, X_test_2016, useRidge)\n"
   ]
  },
  {
   "cell_type": "code",
   "execution_count": 116,
   "metadata": {},
   "outputs": [
    {
     "name": "stdout",
     "output_type": "stream",
     "text": [
      "(222928, 3)\n",
      "(374158, 3)\n",
      "(290033, 3)\n"
     ]
    }
   ],
   "source": [
    "print(combined_pred_returns_2014.shape)\n",
    "print(combined_pred_returns_2015.shape)\n",
    "print(combined_pred_returns_2016.shape)"
   ]
  },
  {
   "cell_type": "code",
   "execution_count": 134,
   "metadata": {},
   "outputs": [],
   "source": [
    "###get Classifier probabilities for each test year\n",
    "def_predictions_2014 = Y_proba[Y_proba.id.isin(X_test_2014.id)].copy()\n",
    "def_predictions_2015 = Y_proba[Y_proba.id.isin(X_test_2015.id)].copy()\n",
    "def_predictions_2016 = Y_proba[Y_proba.id.isin(X_test_2016.id)].copy()"
   ]
  },
  {
   "cell_type": "code",
   "execution_count": 135,
   "metadata": {},
   "outputs": [
    {
     "name": "stdout",
     "output_type": "stream",
     "text": [
      "(222928, 3)\n",
      "(374158, 3)\n",
      "(290033, 3)\n"
     ]
    }
   ],
   "source": [
    "print(def_predictions_2014.shape)\n",
    "print(def_predictions_2015.shape)\n",
    "print(def_predictions_2016.shape)"
   ]
  },
  {
   "cell_type": "code",
   "execution_count": 129,
   "metadata": {},
   "outputs": [],
   "source": [
    "### add [grade, sub_grade, term] to def_predictions\n",
    "#get subset from prediction df\n",
    "LC_subset_df = LC_df[LC_df.id.isin(Y_proba.id)]\n"
   ]
  },
  {
   "cell_type": "code",
   "execution_count": 136,
   "metadata": {},
   "outputs": [],
   "source": [
    "def_predictions_2014 = pd.merge(def_predictions_2014, LC_subset_df[['id','grade','sub_grade','term','loan_amnt','funded_amnt']], how ='left', on='id')\n",
    "def_predictions_2015 = pd.merge(def_predictions_2015, LC_subset_df[['id','grade','sub_grade','term','loan_amnt','funded_amnt']], how ='left', on='id')\n",
    "def_predictions_2016 = pd.merge(def_predictions_2016, LC_subset_df[['id','grade','sub_grade','term','loan_amnt','funded_amnt']], how ='left', on='id')"
   ]
  },
  {
   "cell_type": "code",
   "execution_count": 140,
   "metadata": {},
   "outputs": [],
   "source": [
    "def_predictions_2014 = encode_grades_term(def_predictions_2014)\n",
    "def_predictions_2015 = encode_grades_term(def_predictions_2015)\n",
    "def_predictions_2016 = encode_grades_term(def_predictions_2016)"
   ]
  },
  {
   "cell_type": "code",
   "execution_count": 142,
   "metadata": {},
   "outputs": [],
   "source": [
    "##add predicted expected returns to default probabilities df\n",
    "def_predictions_2014 = pd.merge(def_predictions_2014, combined_pred_returns_2014, how=\"left\", on='id')\n",
    "def_predictions_2015 = pd.merge(def_predictions_2015, combined_pred_returns_2015, how=\"left\", on='id')\n",
    "def_predictions_2016 = pd.merge(def_predictions_2016, combined_pred_returns_2016, how=\"left\", on='id')"
   ]
  },
  {
   "cell_type": "code",
   "execution_count": 151,
   "metadata": {},
   "outputs": [],
   "source": [
    "#calc expected returns\n",
    "def_predictions_2014['pred_expected_ret'] = def_predictions_2014.apply(lambda row: calc_expected_ret(row._good, \\\n",
    "                                                                        row.p, row.pred_ret_good, row.pred_ret_bad), axis=1)\n",
    "\n",
    "\n",
    "def_predictions_2015['pred_expected_ret'] = def_predictions_2015.apply(lambda row: calc_expected_ret(row._good, \\\n",
    "                                                                        row.p, row.pred_ret_good, row.pred_ret_bad), axis=1)\n",
    "\n",
    "#calc expected returns\n",
    "def_predictions_2016['pred_expected_ret'] = def_predictions_2016.apply(lambda row: calc_expected_ret(row._good, \\\n",
    "                                                                        row.p, row.pred_ret_good, row.pred_ret_bad), axis=1)\n"
   ]
  },
  {
   "cell_type": "code",
   "execution_count": 157,
   "metadata": {},
   "outputs": [
    {
     "data": {
      "text/plain": [
       "Text(0.5, 0, 'Annualized returns')"
      ]
     },
     "execution_count": 157,
     "metadata": {},
     "output_type": "execute_result"
    },
    {
     "data": {
      "image/png": "[encoded data removed]",
      "text/plain": [
       "<Figure size 432x288 with 1 Axes>"
      ]
     },
     "metadata": {
      "needs_background": "light"
     },
     "output_type": "display_data"
    }
   ],
   "source": [
    "def_predictions_2016.hist('pred_expected_ret', bins=60)\n",
    "pyplot.axvline(x=0, color='r', linestyle='--')\n",
    "pyplot.title(\"Predicted Expected Returns for loans in test set\")\n",
    "pyplot.ylabel(\"Count\")\n",
    "pyplot.xlabel(\"Annualized returns\")\n"
   ]
  },
  {
   "cell_type": "code",
   "execution_count": 160,
   "metadata": {},
   "outputs": [],
   "source": []
  },
  {
   "cell_type": "code",
   "execution_count": 166,
   "metadata": {},
   "outputs": [],
   "source": [
    "##assign risk numbers to each loan in the test set\n",
    "def_predictions_2014 = assign_risk_measures_by_subgrade(risk_summary_sub_grades_all_pre2014, def_predictions_2014)\n",
    "def_predictions_2015 = assign_risk_measures_by_subgrade(risk_summary_sub_grades_all_pre2015, def_predictions_2015)\n",
    "def_predictions_2016 = assign_risk_measures_by_subgrade(risk_summary_sub_grades_all_pre2016, def_predictions_2016)"
   ]
  },
  {
   "cell_type": "code",
   "execution_count": 168,
   "metadata": {},
   "outputs": [
    {
     "data": {
      "text/html": [
       "<div>\n",
       "<style scoped>\n",
       "    .dataframe tbody tr th:only-of-type {\n",
       "        vertical-align: middle;\n",
       "    }\n",
       "\n",
       "    .dataframe tbody tr th {\n",
       "        vertical-align: top;\n",
       "    }\n",
       "\n",
       "    .dataframe thead th {\n",
       "        text-align: right;\n",
       "    }\n",
       "</style>\n",
       "<table border=\"1\" class=\"dataframe\">\n",
       "  <thead>\n",
       "    <tr style=\"text-align: right;\">\n",
       "      <th></th>\n",
       "      <th>id</th>\n",
       "      <th>_good</th>\n",
       "      <th>p</th>\n",
       "      <th>grade</th>\n",
       "      <th>sub_grade</th>\n",
       "      <th>term</th>\n",
       "      <th>loan_amnt</th>\n",
       "      <th>funded_amnt</th>\n",
       "      <th>pred_ret_good</th>\n",
       "      <th>pred_ret_bad</th>\n",
       "      <th>pred_expected_ret</th>\n",
       "      <th>risk_std_dev</th>\n",
       "      <th>risk_ES_95</th>\n",
       "    </tr>\n",
       "  </thead>\n",
       "  <tbody>\n",
       "    <tr>\n",
       "      <th>170695</th>\n",
       "      <td>32029139</td>\n",
       "      <td>1</td>\n",
       "      <td>0.944839</td>\n",
       "      <td>2</td>\n",
       "      <td>7</td>\n",
       "      <td>0</td>\n",
       "      <td>20000.0</td>\n",
       "      <td>20000.0</td>\n",
       "      <td>0.047988</td>\n",
       "      <td>-0.138933</td>\n",
       "      <td>0.037677</td>\n",
       "      <td>0.075443</td>\n",
       "      <td>-0.258438</td>\n",
       "    </tr>\n",
       "    <tr>\n",
       "      <th>161116</th>\n",
       "      <td>6706517</td>\n",
       "      <td>1</td>\n",
       "      <td>0.953611</td>\n",
       "      <td>1</td>\n",
       "      <td>3</td>\n",
       "      <td>0</td>\n",
       "      <td>20000.0</td>\n",
       "      <td>20000.0</td>\n",
       "      <td>0.037000</td>\n",
       "      <td>-0.149016</td>\n",
       "      <td>0.028371</td>\n",
       "      <td>0.057599</td>\n",
       "      <td>-0.179887</td>\n",
       "    </tr>\n",
       "    <tr>\n",
       "      <th>38789</th>\n",
       "      <td>12408485</td>\n",
       "      <td>1</td>\n",
       "      <td>0.842910</td>\n",
       "      <td>4</td>\n",
       "      <td>16</td>\n",
       "      <td>0</td>\n",
       "      <td>5825.0</td>\n",
       "      <td>5825.0</td>\n",
       "      <td>0.077788</td>\n",
       "      <td>-0.167680</td>\n",
       "      <td>0.039227</td>\n",
       "      <td>0.112236</td>\n",
       "      <td>-0.348493</td>\n",
       "    </tr>\n",
       "    <tr>\n",
       "      <th>10896</th>\n",
       "      <td>10069844</td>\n",
       "      <td>1</td>\n",
       "      <td>0.803133</td>\n",
       "      <td>4</td>\n",
       "      <td>16</td>\n",
       "      <td>1</td>\n",
       "      <td>11325.0</td>\n",
       "      <td>11325.0</td>\n",
       "      <td>0.066140</td>\n",
       "      <td>-0.102281</td>\n",
       "      <td>0.032983</td>\n",
       "      <td>0.112236</td>\n",
       "      <td>-0.348493</td>\n",
       "    </tr>\n",
       "    <tr>\n",
       "      <th>154195</th>\n",
       "      <td>1599440</td>\n",
       "      <td>1</td>\n",
       "      <td>0.908792</td>\n",
       "      <td>2</td>\n",
       "      <td>7</td>\n",
       "      <td>0</td>\n",
       "      <td>33600.0</td>\n",
       "      <td>33600.0</td>\n",
       "      <td>0.046236</td>\n",
       "      <td>-0.176361</td>\n",
       "      <td>0.025933</td>\n",
       "      <td>0.075443</td>\n",
       "      <td>-0.258438</td>\n",
       "    </tr>\n",
       "    <tr>\n",
       "      <th>58108</th>\n",
       "      <td>13496978</td>\n",
       "      <td>1</td>\n",
       "      <td>0.945925</td>\n",
       "      <td>2</td>\n",
       "      <td>10</td>\n",
       "      <td>0</td>\n",
       "      <td>12000.0</td>\n",
       "      <td>12000.0</td>\n",
       "      <td>0.062872</td>\n",
       "      <td>-0.142770</td>\n",
       "      <td>0.051752</td>\n",
       "      <td>0.093420</td>\n",
       "      <td>-0.316136</td>\n",
       "    </tr>\n",
       "    <tr>\n",
       "      <th>166160</th>\n",
       "      <td>33180455</td>\n",
       "      <td>1</td>\n",
       "      <td>0.951546</td>\n",
       "      <td>1</td>\n",
       "      <td>1</td>\n",
       "      <td>0</td>\n",
       "      <td>15000.0</td>\n",
       "      <td>15000.0</td>\n",
       "      <td>0.033509</td>\n",
       "      <td>-0.161211</td>\n",
       "      <td>0.024074</td>\n",
       "      <td>0.043912</td>\n",
       "      <td>-0.101060</td>\n",
       "    </tr>\n",
       "    <tr>\n",
       "      <th>131841</th>\n",
       "      <td>24786420</td>\n",
       "      <td>1</td>\n",
       "      <td>0.915538</td>\n",
       "      <td>1</td>\n",
       "      <td>5</td>\n",
       "      <td>0</td>\n",
       "      <td>18000.0</td>\n",
       "      <td>18000.0</td>\n",
       "      <td>0.042799</td>\n",
       "      <td>-0.147794</td>\n",
       "      <td>0.026701</td>\n",
       "      <td>0.067285</td>\n",
       "      <td>-0.231327</td>\n",
       "    </tr>\n",
       "    <tr>\n",
       "      <th>171079</th>\n",
       "      <td>32129509</td>\n",
       "      <td>1</td>\n",
       "      <td>0.786103</td>\n",
       "      <td>3</td>\n",
       "      <td>12</td>\n",
       "      <td>0</td>\n",
       "      <td>6000.0</td>\n",
       "      <td>6000.0</td>\n",
       "      <td>0.067056</td>\n",
       "      <td>-0.166173</td>\n",
       "      <td>0.017169</td>\n",
       "      <td>0.095824</td>\n",
       "      <td>-0.312622</td>\n",
       "    </tr>\n",
       "    <tr>\n",
       "      <th>123865</th>\n",
       "      <td>22254888</td>\n",
       "      <td>1</td>\n",
       "      <td>0.926847</td>\n",
       "      <td>1</td>\n",
       "      <td>5</td>\n",
       "      <td>0</td>\n",
       "      <td>15000.0</td>\n",
       "      <td>15000.0</td>\n",
       "      <td>0.039876</td>\n",
       "      <td>-0.223430</td>\n",
       "      <td>0.020615</td>\n",
       "      <td>0.067285</td>\n",
       "      <td>-0.231327</td>\n",
       "    </tr>\n",
       "  </tbody>\n",
       "</table>\n",
       "</div>"
      ],
      "text/plain": [
       "              id  _good         p  grade  sub_grade  term  loan_amnt  \\\n",
       "170695  32029139      1  0.944839      2          7     0    20000.0   \n",
       "161116   6706517      1  0.953611      1          3     0    20000.0   \n",
       "38789   12408485      1  0.842910      4         16     0     5825.0   \n",
       "10896   10069844      1  0.803133      4         16     1    11325.0   \n",
       "154195   1599440      1  0.908792      2          7     0    33600.0   \n",
       "58108   13496978      1  0.945925      2         10     0    12000.0   \n",
       "166160  33180455      1  0.951546      1          1     0    15000.0   \n",
       "131841  24786420      1  0.915538      1          5     0    18000.0   \n",
       "171079  32129509      1  0.786103      3         12     0     6000.0   \n",
       "123865  22254888      1  0.926847      1          5     0    15000.0   \n",
       "\n",
       "        funded_amnt  pred_ret_good  pred_ret_bad  pred_expected_ret  \\\n",
       "170695      20000.0       0.047988     -0.138933           0.037677   \n",
       "161116      20000.0       0.037000     -0.149016           0.028371   \n",
       "38789        5825.0       0.077788     -0.167680           0.039227   \n",
       "10896       11325.0       0.066140     -0.102281           0.032983   \n",
       "154195      33600.0       0.046236     -0.176361           0.025933   \n",
       "58108       12000.0       0.062872     -0.142770           0.051752   \n",
       "166160      15000.0       0.033509     -0.161211           0.024074   \n",
       "131841      18000.0       0.042799     -0.147794           0.026701   \n",
       "171079       6000.0       0.067056     -0.166173           0.017169   \n",
       "123865      15000.0       0.039876     -0.223430           0.020615   \n",
       "\n",
       "        risk_std_dev  risk_ES_95  \n",
       "170695      0.075443   -0.258438  \n",
       "161116      0.057599   -0.179887  \n",
       "38789       0.112236   -0.348493  \n",
       "10896       0.112236   -0.348493  \n",
       "154195      0.075443   -0.258438  \n",
       "58108       0.093420   -0.316136  \n",
       "166160      0.043912   -0.101060  \n",
       "131841      0.067285   -0.231327  \n",
       "171079      0.095824   -0.312622  \n",
       "123865      0.067285   -0.231327  "
      ]
     },
     "execution_count": 168,
     "metadata": {},
     "output_type": "execute_result"
    }
   ],
   "source": [
    "def_predictions_2014.sample(10)"
   ]
  },
  {
   "cell_type": "markdown",
   "metadata": {},
   "source": [
    "## Test optimal portfolios\n"
   ]
  },
  {
   "cell_type": "markdown",
   "metadata": {},
   "source": [
    "### seed with top n loans sorted by predicted expected returns\n",
    "#### find optimal lambda"
   ]
  },
  {
   "cell_type": "code",
   "execution_count": 169,
   "metadata": {},
   "outputs": [],
   "source": [
    "n = 100"
   ]
  },
  {
   "cell_type": "code",
   "execution_count": 173,
   "metadata": {},
   "outputs": [],
   "source": [
    "top_by_expected_ret_2014 = (def_predictions_2014.loc[(def_predictions_2014.grade <= 5),['id','grade','pred_expected_ret','funded_amnt','risk_std_dev','risk_ES_95']].\\\n",
    "                        sort_values('pred_expected_ret', ascending=False)).iloc[:n,]\n",
    "top_by_expected_ret_2015 = (def_predictions_2015.loc[(def_predictions_2015.grade <= 5),['id','grade','pred_expected_ret','funded_amnt','risk_std_dev','risk_ES_95']].\\\n",
    "                        sort_values('pred_expected_ret', ascending=False)).iloc[:n,]\n",
    "top_by_expected_ret_2016 = (def_predictions_2016.loc[(def_predictions_2016.grade <= 5),['id','grade','pred_expected_ret','funded_amnt','risk_std_dev','risk_ES_95']].\\\n",
    "                        sort_values('pred_expected_ret', ascending=False)).iloc[:n,]"
   ]
  },
  {
   "cell_type": "code",
   "execution_count": 185,
   "metadata": {},
   "outputs": [],
   "source": [
    "lambda_c =[0.1, 0.01, 0.005, 0.001, 0.0005]"
   ]
  },
  {
   "cell_type": "code",
   "execution_count": 186,
   "metadata": {},
   "outputs": [
    {
     "name": "stdout",
     "output_type": "stream",
     "text": [
      "Optimization terminated successfully.    (Exit mode 0)\n",
      "            Current function value: -31079.068053510007\n",
      "            Iterations: 135\n",
      "            Function evaluations: 13770\n",
      "            Gradient evaluations: 135\n",
      "Fit time: 4.16 seconds\n",
      "Risk aversion parameter: 0.1\n",
      "Optimization terminated successfully.    (Exit mode 0)\n",
      "            Current function value: -57853.60793852799\n",
      "            Iterations: 120\n",
      "            Function evaluations: 12240\n",
      "            Gradient evaluations: 120\n",
      "Fit time: 3.69 seconds\n",
      "Risk aversion parameter: 0.01\n",
      "Optimization terminated successfully.    (Exit mode 0)\n",
      "            Current function value: -59341.08237853647\n",
      "            Iterations: 123\n",
      "            Function evaluations: 12546\n",
      "            Gradient evaluations: 123\n",
      "Fit time: 3.79 seconds\n",
      "Risk aversion parameter: 0.005\n",
      "Optimization terminated successfully.    (Exit mode 0)\n",
      "            Current function value: -60531.06192906376\n",
      "            Iterations: 122\n",
      "            Function evaluations: 12444\n",
      "            Gradient evaluations: 122\n",
      "Fit time: 3.7 seconds\n",
      "Risk aversion parameter: 0.001\n",
      "Optimization terminated successfully.    (Exit mode 0)\n",
      "            Current function value: -60679.80937287967\n",
      "            Iterations: 123\n",
      "            Function evaluations: 12546\n",
      "            Gradient evaluations: 123\n",
      "Fit time: 3.78 seconds\n",
      "Risk aversion parameter: 0.0005\n"
     ]
    }
   ],
   "source": [
    "#find the optimal risk_aversion parameter:\n",
    "portf_ret_arr_2014 = [calc_realized_returns(get_optimized_portfolios(top_by_expected_ret_2014.id.values, \n",
    "                                                                top_by_expected_ret_2014.pred_expected_ret.values,\n",
    "                                                                top_by_expected_ret_2014.funded_amnt.values,\n",
    "                                                                risk_aversion_parameter, 1,\n",
    "                                                                top_by_expected_ret_2014.risk_ES_95))\\\n",
    " for risk_aversion_parameter in lambda_c]"
   ]
  },
  {
   "cell_type": "code",
   "execution_count": 187,
   "metadata": {},
   "outputs": [
    {
     "name": "stdout",
     "output_type": "stream",
     "text": [
      "N= 100\n",
      "Regression algo: RF\n",
      "risk measure: ES\n",
      "Year: 2014\n"
     ]
    },
    {
     "data": {
      "text/html": [
       "<div>\n",
       "<style scoped>\n",
       "    .dataframe tbody tr th:only-of-type {\n",
       "        vertical-align: middle;\n",
       "    }\n",
       "\n",
       "    .dataframe tbody tr th {\n",
       "        vertical-align: top;\n",
       "    }\n",
       "\n",
       "    .dataframe thead th {\n",
       "        text-align: right;\n",
       "    }\n",
       "</style>\n",
       "<table border=\"1\" class=\"dataframe\">\n",
       "  <thead>\n",
       "    <tr style=\"text-align: right;\">\n",
       "      <th></th>\n",
       "      <th>lambda</th>\n",
       "      <th>max_returns</th>\n",
       "    </tr>\n",
       "  </thead>\n",
       "  <tbody>\n",
       "    <tr>\n",
       "      <th>0</th>\n",
       "      <td>0.1000</td>\n",
       "      <td>0.089359</td>\n",
       "    </tr>\n",
       "    <tr>\n",
       "      <th>1</th>\n",
       "      <td>0.0100</td>\n",
       "      <td>0.089359</td>\n",
       "    </tr>\n",
       "    <tr>\n",
       "      <th>2</th>\n",
       "      <td>0.0050</td>\n",
       "      <td>0.089359</td>\n",
       "    </tr>\n",
       "    <tr>\n",
       "      <th>3</th>\n",
       "      <td>0.0010</td>\n",
       "      <td>0.089359</td>\n",
       "    </tr>\n",
       "    <tr>\n",
       "      <th>4</th>\n",
       "      <td>0.0005</td>\n",
       "      <td>0.089359</td>\n",
       "    </tr>\n",
       "  </tbody>\n",
       "</table>\n",
       "</div>"
      ],
      "text/plain": [
       "   lambda  max_returns\n",
       "0  0.1000     0.089359\n",
       "1  0.0100     0.089359\n",
       "2  0.0050     0.089359\n",
       "3  0.0010     0.089359\n",
       "4  0.0005     0.089359"
      ]
     },
     "execution_count": 187,
     "metadata": {},
     "output_type": "execute_result"
    }
   ],
   "source": [
    "print(\"N=\",n)\n",
    "print(\"Regression algo:\", regressor_used)\n",
    "print(\"risk measure: ES\")\n",
    "print(\"Year: 2014\")\n",
    "pd.DataFrame({'lambda': lambda_c, 'max_returns':portf_ret_arr_2014}).sort_values('max_returns', ascending=False)"
   ]
  },
  {
   "cell_type": "code",
   "execution_count": 188,
   "metadata": {},
   "outputs": [
    {
     "name": "stdout",
     "output_type": "stream",
     "text": [
      "Optimization terminated successfully.    (Exit mode 0)\n",
      "            Current function value: -24034.85767131417\n",
      "            Iterations: 557\n",
      "            Function evaluations: 56519\n",
      "            Gradient evaluations: 554\n",
      "Fit time: 16.5 seconds\n",
      "Risk aversion parameter: 0.1\n",
      "Optimization terminated successfully.    (Exit mode 0)\n",
      "            Current function value: -53202.63092180664\n",
      "            Iterations: 76\n",
      "            Function evaluations: 7773\n",
      "            Gradient evaluations: 76\n",
      "Fit time: 2.35 seconds\n",
      "Risk aversion parameter: 0.01\n",
      "Optimization terminated successfully.    (Exit mode 0)\n",
      "            Current function value: -54904.224307346485\n",
      "            Iterations: 117\n",
      "            Function evaluations: 11945\n",
      "            Gradient evaluations: 117\n",
      "Fit time: 3.52 seconds\n",
      "Risk aversion parameter: 0.005\n",
      "Optimization terminated successfully.    (Exit mode 0)\n",
      "            Current function value: -56405.24903013991\n",
      "            Iterations: 306\n",
      "            Function evaluations: 31019\n",
      "            Gradient evaluations: 304\n",
      "Fit time: 9.56 seconds\n",
      "Risk aversion parameter: 0.001\n",
      "Optimization terminated successfully.    (Exit mode 0)\n",
      "            Current function value: -56348.35271870025\n",
      "            Iterations: 94\n",
      "            Function evaluations: 9599\n",
      "            Gradient evaluations: 94\n",
      "Fit time: 2.84 seconds\n",
      "Risk aversion parameter: 0.0005\n",
      "N= 100\n",
      "Regression algo: RF\n",
      "risk measure: ES\n",
      "Year: 2015\n"
     ]
    },
    {
     "data": {
      "text/html": [
       "<div>\n",
       "<style scoped>\n",
       "    .dataframe tbody tr th:only-of-type {\n",
       "        vertical-align: middle;\n",
       "    }\n",
       "\n",
       "    .dataframe tbody tr th {\n",
       "        vertical-align: top;\n",
       "    }\n",
       "\n",
       "    .dataframe thead th {\n",
       "        text-align: right;\n",
       "    }\n",
       "</style>\n",
       "<table border=\"1\" class=\"dataframe\">\n",
       "  <thead>\n",
       "    <tr style=\"text-align: right;\">\n",
       "      <th></th>\n",
       "      <th>lambda</th>\n",
       "      <th>max_returns</th>\n",
       "    </tr>\n",
       "  </thead>\n",
       "  <tbody>\n",
       "    <tr>\n",
       "      <th>4</th>\n",
       "      <td>0.0005</td>\n",
       "      <td>0.073652</td>\n",
       "    </tr>\n",
       "    <tr>\n",
       "      <th>2</th>\n",
       "      <td>0.0050</td>\n",
       "      <td>0.073302</td>\n",
       "    </tr>\n",
       "    <tr>\n",
       "      <th>1</th>\n",
       "      <td>0.0100</td>\n",
       "      <td>0.072728</td>\n",
       "    </tr>\n",
       "    <tr>\n",
       "      <th>3</th>\n",
       "      <td>0.0010</td>\n",
       "      <td>0.070845</td>\n",
       "    </tr>\n",
       "    <tr>\n",
       "      <th>0</th>\n",
       "      <td>0.1000</td>\n",
       "      <td>0.070220</td>\n",
       "    </tr>\n",
       "  </tbody>\n",
       "</table>\n",
       "</div>"
      ],
      "text/plain": [
       "   lambda  max_returns\n",
       "4  0.0005     0.073652\n",
       "2  0.0050     0.073302\n",
       "1  0.0100     0.072728\n",
       "3  0.0010     0.070845\n",
       "0  0.1000     0.070220"
      ]
     },
     "execution_count": 188,
     "metadata": {},
     "output_type": "execute_result"
    }
   ],
   "source": [
    "#find the optimal risk_aversion parameter 2015:\n",
    "portf_ret_arr_2015 = [calc_realized_returns(get_optimized_portfolios(top_by_expected_ret_2015.id.values, \n",
    "                                                                top_by_expected_ret_2015.pred_expected_ret.values,\n",
    "                                                                top_by_expected_ret_2015.funded_amnt.values,\n",
    "                                                                risk_aversion_parameter, 1,\n",
    "                                                                top_by_expected_ret_2015.risk_ES_95))\\\n",
    " for risk_aversion_parameter in lambda_c]\n",
    "\n",
    "print(\"N=\",n)\n",
    "print(\"Regression algo:\", regressor_used)\n",
    "print(\"risk measure: ES\")\n",
    "print(\"Year: 2015\")\n",
    "pd.DataFrame({'lambda': lambda_c, 'max_returns':portf_ret_arr_2015}).sort_values('max_returns', ascending=False)"
   ]
  },
  {
   "cell_type": "code",
   "execution_count": 189,
   "metadata": {},
   "outputs": [
    {
     "name": "stdout",
     "output_type": "stream",
     "text": [
      "Optimization terminated successfully.    (Exit mode 0)\n",
      "            Current function value: -36895.01632505506\n",
      "            Iterations: 448\n",
      "            Function evaluations: 45503\n",
      "            Gradient evaluations: 446\n",
      "Fit time: 14.53 seconds\n",
      "Risk aversion parameter: 0.1\n",
      "Positive directional derivative for linesearch    (Exit mode 8)\n",
      "            Current function value: -67587.07880928289\n",
      "            Iterations: 805\n",
      "            Function evaluations: 81722\n",
      "            Gradient evaluations: 801\n",
      "Fit time: 24.43 seconds\n",
      "Risk aversion parameter: 0.01\n",
      "Optimization terminated successfully.    (Exit mode 0)\n",
      "            Current function value: -68201.44821528891\n",
      "            Iterations: 69\n",
      "            Function evaluations: 7049\n",
      "            Gradient evaluations: 69\n",
      "Fit time: 2.14 seconds\n",
      "Risk aversion parameter: 0.005\n",
      "Optimization terminated successfully.    (Exit mode 0)\n",
      "            Current function value: -69696.44282227308\n",
      "            Iterations: 81\n",
      "            Function evaluations: 8273\n",
      "            Gradient evaluations: 81\n",
      "Fit time: 2.71 seconds\n",
      "Risk aversion parameter: 0.001\n",
      "Optimization terminated successfully.    (Exit mode 0)\n",
      "            Current function value: -70038.95758364095\n",
      "            Iterations: 118\n",
      "            Function evaluations: 12057\n",
      "            Gradient evaluations: 118\n",
      "Fit time: 3.66 seconds\n",
      "Risk aversion parameter: 0.0005\n",
      "N= 100\n",
      "Regression algo: RF\n",
      "risk measure: ES\n",
      "Year: 2016\n"
     ]
    },
    {
     "data": {
      "text/html": [
       "<div>\n",
       "<style scoped>\n",
       "    .dataframe tbody tr th:only-of-type {\n",
       "        vertical-align: middle;\n",
       "    }\n",
       "\n",
       "    .dataframe tbody tr th {\n",
       "        vertical-align: top;\n",
       "    }\n",
       "\n",
       "    .dataframe thead th {\n",
       "        text-align: right;\n",
       "    }\n",
       "</style>\n",
       "<table border=\"1\" class=\"dataframe\">\n",
       "  <thead>\n",
       "    <tr style=\"text-align: right;\">\n",
       "      <th></th>\n",
       "      <th>lambda</th>\n",
       "      <th>max_returns</th>\n",
       "    </tr>\n",
       "  </thead>\n",
       "  <tbody>\n",
       "    <tr>\n",
       "      <th>2</th>\n",
       "      <td>0.0050</td>\n",
       "      <td>0.071753</td>\n",
       "    </tr>\n",
       "    <tr>\n",
       "      <th>4</th>\n",
       "      <td>0.0005</td>\n",
       "      <td>0.071627</td>\n",
       "    </tr>\n",
       "    <tr>\n",
       "      <th>3</th>\n",
       "      <td>0.0010</td>\n",
       "      <td>0.071594</td>\n",
       "    </tr>\n",
       "    <tr>\n",
       "      <th>1</th>\n",
       "      <td>0.0100</td>\n",
       "      <td>0.071170</td>\n",
       "    </tr>\n",
       "    <tr>\n",
       "      <th>0</th>\n",
       "      <td>0.1000</td>\n",
       "      <td>0.070925</td>\n",
       "    </tr>\n",
       "  </tbody>\n",
       "</table>\n",
       "</div>"
      ],
      "text/plain": [
       "   lambda  max_returns\n",
       "2  0.0050     0.071753\n",
       "4  0.0005     0.071627\n",
       "3  0.0010     0.071594\n",
       "1  0.0100     0.071170\n",
       "0  0.1000     0.070925"
      ]
     },
     "execution_count": 189,
     "metadata": {},
     "output_type": "execute_result"
    }
   ],
   "source": [
    "#find the optimal risk_aversion parameter 2016:\n",
    "portf_ret_arr_2016 = [calc_realized_returns(get_optimized_portfolios(top_by_expected_ret_2016.id.values, \n",
    "                                                                top_by_expected_ret_2016.pred_expected_ret.values,\n",
    "                                                                top_by_expected_ret_2016.funded_amnt.values,\n",
    "                                                                risk_aversion_parameter, 1,\n",
    "                                                                top_by_expected_ret_2016.risk_ES_95))\\\n",
    " for risk_aversion_parameter in lambda_c]\n",
    "\n",
    "print(\"N=\",n)\n",
    "print(\"Regression algo:\", regressor_used)\n",
    "print(\"risk measure: ES\")\n",
    "print(\"Year: 2016\")\n",
    "pd.DataFrame({'lambda': lambda_c, 'max_returns':portf_ret_arr_2016}).sort_values('max_returns', ascending=False)"
   ]
  },
  {
   "cell_type": "code",
   "execution_count": 190,
   "metadata": {},
   "outputs": [
    {
     "name": "stdout",
     "output_type": "stream",
     "text": [
      "RF\n"
     ]
    }
   ],
   "source": [
    "n= 100\n",
    "risk_aversion =0.005 #optimal risk aversion parameter across the 3 years\n",
    "print(regressor_used)"
   ]
  },
  {
   "cell_type": "markdown",
   "metadata": {},
   "source": [
    "\n",
    "#### 2014 cuts"
   ]
  },
  {
   "cell_type": "code",
   "execution_count": 193,
   "metadata": {},
   "outputs": [
    {
     "name": "stdout",
     "output_type": "stream",
     "text": [
      "running optimizer through each filtered set of 100 loans\n",
      "Optimization terminated successfully.    (Exit mode 0)\n",
      "            Current function value: -59341.08237853647\n",
      "            Iterations: 123\n",
      "            Function evaluations: 12546\n",
      "            Gradient evaluations: 123\n",
      "Fit time: 4.28 seconds\n",
      "Risk aversion parameter: 0.005\n",
      "Optimization terminated successfully.    (Exit mode 0)\n",
      "            Current function value: -71168.92721278273\n",
      "            Iterations: 49\n",
      "            Function evaluations: 4998\n",
      "            Gradient evaluations: 49\n",
      "Fit time: 1.55 seconds\n",
      "Risk aversion parameter: 0.005\n",
      "Optimization terminated successfully.    (Exit mode 0)\n",
      "            Current function value: -32903.4262819064\n",
      "            Iterations: 50\n",
      "            Function evaluations: 5111\n",
      "            Gradient evaluations: 50\n",
      "Fit time: 1.51 seconds\n",
      "Risk aversion parameter: 0.005\n",
      "Optimization terminated successfully.    (Exit mode 0)\n",
      "            Current function value: -68527.6837261825\n",
      "            Iterations: 1171\n",
      "            Function evaluations: 119044\n",
      "            Gradient evaluations: 1167\n",
      "Fit time: 37.16 seconds\n",
      "Risk aversion parameter: 0.005\n",
      "Now calcuating realized returns of optimized portfolios\n",
      "Risk aversion parameter: 0.005 \n",
      "Regressor: RF\n"
     ]
    },
    {
     "data": {
      "text/html": [
       "<div>\n",
       "<style scoped>\n",
       "    .dataframe tbody tr th:only-of-type {\n",
       "        vertical-align: middle;\n",
       "    }\n",
       "\n",
       "    .dataframe tbody tr th {\n",
       "        vertical-align: top;\n",
       "    }\n",
       "\n",
       "    .dataframe thead th {\n",
       "        text-align: right;\n",
       "    }\n",
       "</style>\n",
       "<table border=\"1\" class=\"dataframe\">\n",
       "  <thead>\n",
       "    <tr style=\"text-align: right;\">\n",
       "      <th></th>\n",
       "      <th>Filter</th>\n",
       "      <th>Realized_returns</th>\n",
       "    </tr>\n",
       "  </thead>\n",
       "  <tbody>\n",
       "    <tr>\n",
       "      <th>0</th>\n",
       "      <td>Expected Returns,ES</td>\n",
       "      <td>0.089359</td>\n",
       "    </tr>\n",
       "    <tr>\n",
       "      <th>2</th>\n",
       "      <td>R_non_default,non-defaulting loans only,ES</td>\n",
       "      <td>0.031161</td>\n",
       "    </tr>\n",
       "    <tr>\n",
       "      <th>3</th>\n",
       "      <td>Random,ES</td>\n",
       "      <td>0.007481</td>\n",
       "    </tr>\n",
       "    <tr>\n",
       "      <th>1</th>\n",
       "      <td>R_non_default,any loan,ES</td>\n",
       "      <td>-0.004796</td>\n",
       "    </tr>\n",
       "  </tbody>\n",
       "</table>\n",
       "</div>"
      ],
      "text/plain": [
       "                                       Filter  Realized_returns\n",
       "0                         Expected Returns,ES          0.089359\n",
       "2  R_non_default,non-defaulting loans only,ES          0.031161\n",
       "3                                   Random,ES          0.007481\n",
       "1                   R_non_default,any loan,ES         -0.004796"
      ]
     },
     "execution_count": 193,
     "metadata": {},
     "output_type": "execute_result"
    }
   ],
   "source": [
    "# seed with top n loans sorted by predicted expected returns\n",
    "top_selection_1 = (def_predictions_2014.loc[(def_predictions_2014.grade <= 5),['id','pred_expected_ret','funded_amnt','risk_std_dev','risk_ES_95']].\\\n",
    "                        sort_values('pred_expected_ret', ascending=False)).iloc[:n,]\n",
    "top_selection_1.rename(columns={\"pred_expected_ret\": \"pred_ret_good\"},inplace=True)\n",
    "\n",
    "# seed with top n loans sorted by predicted non_default returns\n",
    "top_selection_2 = (def_predictions_2014.loc[(def_predictions_2014.grade <= 5),['id','pred_ret_good','funded_amnt','risk_std_dev','risk_ES_95']].\\\n",
    "                        sort_values('pred_ret_good', ascending=False)).iloc[:n,]\n",
    "\n",
    "# seed with top n loans sorted by returns with highest probability of non-default\n",
    "top_selection_3 = (def_predictions_2014.loc[(def_predictions_2014._good == 1) &(def_predictions_2014.grade <= 5),['id', '_good', 'p','pred_ret_good','funded_amnt','risk_std_dev','risk_ES_95']].\\\n",
    "                        sort_values('p', ascending=False)).iloc[:n,]\n",
    "\n",
    "# seed with top n loans selected randomly\n",
    "top_selection_4 = def_predictions_2014.loc[(def_predictions_2014.grade <= 5),['id', '_good','grade', 'p','pred_ret_good','funded_amnt','risk_std_dev','risk_ES_95']]\n",
    "top_selection_4 = top_selection_4.iloc[(np.random.randint(0,top_selection_4.shape[0],n)),:]\n",
    "\n",
    "top_selections = [top_selection_1, top_selection_2, top_selection_3, top_selection_4]\n",
    "\n",
    "print(\"running optimizer through each filtered set of 100 loans\")\n",
    "opt_portf_arr_2014 = [get_optimized_portfolios(top_by_expected_ret.id.values, \n",
    "                                                                top_by_expected_ret.pred_ret_good.values,\n",
    "                                                                top_by_expected_ret.funded_amnt.values,\n",
    "                                                                risk_aversion, 1,\n",
    "                                                                top_by_expected_ret.risk_ES_95) \\\n",
    " for top_by_expected_ret in top_selections]\n",
    "\n",
    "print(\"Now calculating realized returns of optimized portfolios\")\n",
    "simple_ret_arr_2014 = [calc_realized_returns(portf) for portf in opt_portf_arr_2014]\n",
    "\n",
    "strategy =['Expected Returns,ES','R_non_default,any loan,ES',\\\n",
    "           'R_non_default,non-defaulting loans only,ES', \\\n",
    "           'Random,ES']\n",
    "resultset_2014 = pd.DataFrame({'Filter': strategy, 'Realized_returns':simple_ret_arr_2014}).\\\n",
    "                sort_values('Realized_returns', ascending=False)\n",
    "\n",
    "print(\"Risk aversion parameter:\", risk_aversion, \"\\nRegressor:\", regressor_used)\n",
    "print(\"Year: 2014\")\n",
    "resultset_2014"
   ]
  },
  {
   "cell_type": "code",
   "execution_count": null,
   "metadata": {},
   "outputs": [],
   "source": []
  },
  {
   "cell_type": "markdown",
   "metadata": {},
   "source": [
    "\n",
    "#### 2015 cuts"
   ]
  },
  {
   "cell_type": "code",
   "execution_count": 194,
   "metadata": {},
   "outputs": [
    {
     "name": "stdout",
     "output_type": "stream",
     "text": [
      "running optimizer through each filtered set of 100 loans\n",
      "Optimization terminated successfully.    (Exit mode 0)\n",
      "            Current function value: -54904.224307346485\n",
      "            Iterations: 117\n",
      "            Function evaluations: 11945\n",
      "            Gradient evaluations: 117\n",
      "Fit time: 3.59 seconds\n",
      "Risk aversion parameter: 0.005\n",
      "Optimization terminated successfully.    (Exit mode 0)\n",
      "            Current function value: -98497.72087484172\n",
      "            Iterations: 159\n",
      "            Function evaluations: 16229\n",
      "            Gradient evaluations: 159\n",
      "Fit time: 5.03 seconds\n",
      "Risk aversion parameter: 0.005\n",
      "Optimization terminated successfully.    (Exit mode 0)\n",
      "            Current function value: -30838.12545513568\n",
      "            Iterations: 248\n",
      "            Function evaluations: 25205\n",
      "            Gradient evaluations: 247\n",
      "Fit time: 7.33 seconds\n",
      "Risk aversion parameter: 0.005\n",
      "Optimization terminated successfully.    (Exit mode 0)\n",
      "            Current function value: -59535.18310139232\n",
      "            Iterations: 605\n",
      "            Function evaluations: 61517\n",
      "            Gradient evaluations: 603\n",
      "Fit time: 18.66 seconds\n",
      "Risk aversion parameter: 0.005\n",
      "Now calculating realized returns of optimized portfolios\n",
      "Risk aversion parameter: 0.005 \n",
      "Regressor: RF\n",
      "Year: 2015\n"
     ]
    },
    {
     "data": {
      "text/html": [
       "<div>\n",
       "<style scoped>\n",
       "    .dataframe tbody tr th:only-of-type {\n",
       "        vertical-align: middle;\n",
       "    }\n",
       "\n",
       "    .dataframe tbody tr th {\n",
       "        vertical-align: top;\n",
       "    }\n",
       "\n",
       "    .dataframe thead th {\n",
       "        text-align: right;\n",
       "    }\n",
       "</style>\n",
       "<table border=\"1\" class=\"dataframe\">\n",
       "  <thead>\n",
       "    <tr style=\"text-align: right;\">\n",
       "      <th></th>\n",
       "      <th>Filter</th>\n",
       "      <th>Realized_returns</th>\n",
       "    </tr>\n",
       "  </thead>\n",
       "  <tbody>\n",
       "    <tr>\n",
       "      <th>0</th>\n",
       "      <td>Expected Returns,ES</td>\n",
       "      <td>0.073302</td>\n",
       "    </tr>\n",
       "    <tr>\n",
       "      <th>1</th>\n",
       "      <td>R_non_default,any loan,ES</td>\n",
       "      <td>0.043839</td>\n",
       "    </tr>\n",
       "    <tr>\n",
       "      <th>2</th>\n",
       "      <td>R_non_default,non-defaulting loans only,ES</td>\n",
       "      <td>0.028304</td>\n",
       "    </tr>\n",
       "    <tr>\n",
       "      <th>3</th>\n",
       "      <td>Random,ES</td>\n",
       "      <td>0.003337</td>\n",
       "    </tr>\n",
       "  </tbody>\n",
       "</table>\n",
       "</div>"
      ],
      "text/plain": [
       "                                       Filter  Realized_returns\n",
       "0                         Expected Returns,ES          0.073302\n",
       "1                   R_non_default,any loan,ES          0.043839\n",
       "2  R_non_default,non-defaulting loans only,ES          0.028304\n",
       "3                                   Random,ES          0.003337"
      ]
     },
     "execution_count": 194,
     "metadata": {},
     "output_type": "execute_result"
    }
   ],
   "source": [
    "# seed with top n loans sorted by predicted expected returns\n",
    "top_selection_1 = (def_predictions_2015.loc[(def_predictions_2015.grade <= 5),['id','pred_expected_ret','funded_amnt','risk_std_dev','risk_ES_95']].\\\n",
    "                        sort_values('pred_expected_ret', ascending=False)).iloc[:n,]\n",
    "top_selection_1.rename(columns={\"pred_expected_ret\": \"pred_ret_good\"},inplace=True)\n",
    "\n",
    "# seed with top n loans sorted by predicted non_default returns\n",
    "top_selection_2 = (def_predictions_2015.loc[(def_predictions_2015.grade <= 5),['id','pred_ret_good','funded_amnt','risk_std_dev','risk_ES_95']].\\\n",
    "                        sort_values('pred_ret_good', ascending=False)).iloc[:n,]\n",
    "\n",
    "# seed with top n loans sorted by returns with highest probability of non-default\n",
    "top_selection_3 = (def_predictions_2015.loc[(def_predictions_2015._good == 1) &(def_predictions_2015.grade <= 5),['id', '_good', 'p','pred_ret_good','funded_amnt','risk_std_dev','risk_ES_95']].\\\n",
    "                        sort_values('p', ascending=False)).iloc[:n,]\n",
    "\n",
    "# seed with top n loans selected randomly\n",
    "top_selection_4 = def_predictions_2015.loc[(def_predictions_2015.grade <= 5),['id', '_good','grade', 'p','pred_ret_good','funded_amnt','risk_std_dev','risk_ES_95']]\n",
    "top_selection_4 = top_selection_4.iloc[(np.random.randint(0,top_selection_4.shape[0],n)),:]\n",
    "\n",
    "top_selections = [top_selection_1, top_selection_2, top_selection_3, top_selection_4]\n",
    "\n",
    "print(\"running optimizer through each filtered set of 100 loans\")\n",
    "opt_portf_arr_2015 = [get_optimized_portfolios(top_by_expected_ret.id.values, \n",
    "                                                                top_by_expected_ret.pred_ret_good.values,\n",
    "                                                                top_by_expected_ret.funded_amnt.values,\n",
    "                                                                risk_aversion, 1,\n",
    "                                                                top_by_expected_ret.risk_ES_95) \\\n",
    " for top_by_expected_ret in top_selections]\n",
    "\n",
    "print(\"Now calculating realized returns of optimized portfolios\")\n",
    "simple_ret_arr_2015 = [calc_realized_returns(portf) for portf in opt_portf_arr_2015]\n",
    "\n",
    "strategy =['Expected Returns,ES','R_non_default,any loan,ES',\\\n",
    "           'R_non_default,non-defaulting loans only,ES', \\\n",
    "           'Random,ES']\n",
    "resultset_2015 = pd.DataFrame({'Filter': strategy, 'Realized_returns':simple_ret_arr_2015}).\\\n",
    "                sort_values('Realized_returns', ascending=False)\n",
    "\n",
    "print(\"Risk aversion parameter:\", risk_aversion, \"\\nRegressor:\", regressor_used)\n",
    "print(\"Year: 2015\")\n",
    "resultset_2015"
   ]
  },
  {
   "cell_type": "code",
   "execution_count": null,
   "metadata": {},
   "outputs": [],
   "source": []
  },
  {
   "cell_type": "markdown",
   "metadata": {},
   "source": [
    "\n",
    "#### 2016 cuts"
   ]
  },
  {
   "cell_type": "code",
   "execution_count": 195,
   "metadata": {},
   "outputs": [
    {
     "name": "stdout",
     "output_type": "stream",
     "text": [
      "running optimizer through each filtered set of 100 loans\n",
      "Optimization terminated successfully.    (Exit mode 0)\n",
      "            Current function value: -68201.44821528891\n",
      "            Iterations: 69\n",
      "            Function evaluations: 7049\n",
      "            Gradient evaluations: 69\n",
      "Fit time: 2.22 seconds\n",
      "Risk aversion parameter: 0.005\n",
      "Optimization terminated successfully.    (Exit mode 0)\n",
      "            Current function value: -74634.10048650832\n",
      "            Iterations: 66\n",
      "            Function evaluations: 6732\n",
      "            Gradient evaluations: 66\n",
      "Fit time: 2.09 seconds\n",
      "Risk aversion parameter: 0.005\n",
      "Optimization terminated successfully.    (Exit mode 0)\n",
      "            Current function value: -29182.189599832083\n",
      "            Iterations: 101\n",
      "            Function evaluations: 10313\n",
      "            Gradient evaluations: 101\n",
      "Fit time: 2.99 seconds\n",
      "Risk aversion parameter: 0.005\n",
      "Optimization terminated successfully.    (Exit mode 0)\n",
      "            Current function value: -58179.48834150698\n",
      "            Iterations: 1367\n",
      "            Function evaluations: 139036\n",
      "            Gradient evaluations: 1363\n",
      "Fit time: 41.63 seconds\n",
      "Risk aversion parameter: 0.005\n",
      "Now calculating realized returns of optimized portfolios\n",
      "Risk aversion parameter: 0.005 \n",
      "Regressor: RF\n",
      "Year: 2016\n"
     ]
    },
    {
     "data": {
      "text/html": [
       "<div>\n",
       "<style scoped>\n",
       "    .dataframe tbody tr th:only-of-type {\n",
       "        vertical-align: middle;\n",
       "    }\n",
       "\n",
       "    .dataframe tbody tr th {\n",
       "        vertical-align: top;\n",
       "    }\n",
       "\n",
       "    .dataframe thead th {\n",
       "        text-align: right;\n",
       "    }\n",
       "</style>\n",
       "<table border=\"1\" class=\"dataframe\">\n",
       "  <thead>\n",
       "    <tr style=\"text-align: right;\">\n",
       "      <th></th>\n",
       "      <th>Filter</th>\n",
       "      <th>Realized_returns</th>\n",
       "    </tr>\n",
       "  </thead>\n",
       "  <tbody>\n",
       "    <tr>\n",
       "      <th>0</th>\n",
       "      <td>Expected Returns,ES</td>\n",
       "      <td>0.071753</td>\n",
       "    </tr>\n",
       "    <tr>\n",
       "      <th>2</th>\n",
       "      <td>R_non_default,non-defaulting loans only,ES</td>\n",
       "      <td>0.027198</td>\n",
       "    </tr>\n",
       "    <tr>\n",
       "      <th>3</th>\n",
       "      <td>Random,ES</td>\n",
       "      <td>0.000718</td>\n",
       "    </tr>\n",
       "    <tr>\n",
       "      <th>1</th>\n",
       "      <td>R_non_default,any loan,ES</td>\n",
       "      <td>-0.104561</td>\n",
       "    </tr>\n",
       "  </tbody>\n",
       "</table>\n",
       "</div>"
      ],
      "text/plain": [
       "                                       Filter  Realized_returns\n",
       "0                         Expected Returns,ES          0.071753\n",
       "2  R_non_default,non-defaulting loans only,ES          0.027198\n",
       "3                                   Random,ES          0.000718\n",
       "1                   R_non_default,any loan,ES         -0.104561"
      ]
     },
     "execution_count": 195,
     "metadata": {},
     "output_type": "execute_result"
    }
   ],
   "source": [
    "# seed with top n loans sorted by predicted expected returns\n",
    "top_selection_1 = (def_predictions_2016.loc[(def_predictions_2016.grade <= 5),['id','pred_expected_ret','funded_amnt','risk_std_dev','risk_ES_95']].\\\n",
    "                        sort_values('pred_expected_ret', ascending=False)).iloc[:n,]\n",
    "top_selection_1.rename(columns={\"pred_expected_ret\": \"pred_ret_good\"},inplace=True)\n",
    "\n",
    "# seed with top n loans sorted by predicted non_default returns\n",
    "top_selection_2 = (def_predictions_2016.loc[(def_predictions_2016.grade <= 5),['id','pred_ret_good','funded_amnt','risk_std_dev','risk_ES_95']].\\\n",
    "                        sort_values('pred_ret_good', ascending=False)).iloc[:n,]\n",
    "\n",
    "# seed with top n loans sorted by returns with highest probability of non-default\n",
    "top_selection_3 = (def_predictions_2016.loc[(def_predictions_2016._good == 1) &(def_predictions_2016.grade <= 5),['id', '_good', 'p','pred_ret_good','funded_amnt','risk_std_dev','risk_ES_95']].\\\n",
    "                        sort_values('p', ascending=False)).iloc[:n,]\n",
    "\n",
    "# seed with top n loans selected randomly\n",
    "top_selection_4 = def_predictions_2016.loc[(def_predictions_2016.grade <= 5),['id', '_good','grade', 'p','pred_ret_good','funded_amnt','risk_std_dev','risk_ES_95']]\n",
    "top_selection_4 = top_selection_4.iloc[(np.random.randint(0,top_selection_4.shape[0],n)),:]\n",
    "\n",
    "top_selections = [top_selection_1, top_selection_2, top_selection_3, top_selection_4]\n",
    "\n",
    "print(\"running optimizer through each filtered set of 100 loans\")\n",
    "opt_portf_arr_2016 = [get_optimized_portfolios(top_by_expected_ret.id.values, \n",
    "                                                                top_by_expected_ret.pred_ret_good.values,\n",
    "                                                                top_by_expected_ret.funded_amnt.values,\n",
    "                                                                risk_aversion, 1,\n",
    "                                                                top_by_expected_ret.risk_ES_95) \\\n",
    " for top_by_expected_ret in top_selections]\n",
    "\n",
    "print(\"Now calculating realized returns of optimized portfolios\")\n",
    "simple_ret_arr_2016 = [calc_realized_returns(portf) for portf in opt_portf_arr_2016]\n",
    "\n",
    "strategy =['Expected Returns,ES','R_non_default,any loan,ES',\\\n",
    "           'R_non_default,non-defaulting loans only,ES', \\\n",
    "           'Random,ES']\n",
    "resultset_2016 = pd.DataFrame({'Filter': strategy, 'Realized_returns':simple_ret_arr_2016}).\\\n",
    "                sort_values('Realized_returns', ascending=False)\n",
    "\n",
    "print(\"Risk aversion parameter:\", risk_aversion, \"\\nRegressor:\", regressor_used)\n",
    "print(\"Year: 2016\")\n",
    "resultset_2016"
   ]
  },
  {
   "cell_type": "markdown",
   "metadata": {},
   "source": [
    "\n",
    "#### monthly cuts for trading Sim"
   ]
  },
  {
   "cell_type": "markdown",
   "metadata": {},
   "source": [
    "\n",
    "#### 2016\n"
   ]
  },
  {
   "cell_type": "code",
   "execution_count": 236,
   "metadata": {},
   "outputs": [],
   "source": [
    "# seed with top n loans sorted by predicted expected returns\n",
    "full_selection = (def_predictions_2016.loc[(def_predictions_2016.grade <= 5),['id','pred_expected_ret','funded_amnt','risk_std_dev','risk_ES_95']].\\\n",
    "                        sort_values('pred_expected_ret', ascending=False))\n",
    "full_selection.rename(columns={\"pred_expected_ret\": \"pred_ret_good\"},inplace=True)\n",
    "full_selection = pd.merge(full_selection, LC_subset_df[['id','issue_d']], how='left', on='id')\n",
    "\n"
   ]
  },
  {
   "cell_type": "code",
   "execution_count": 237,
   "metadata": {},
   "outputs": [
    {
     "name": "stdout",
     "output_type": "stream",
     "text": [
      "processing month: 9\n",
      "processing month: 8\n",
      "processing month: 12\n",
      "processing month: 10\n",
      "processing month: 7\n",
      "processing month: 6\n",
      "processing month: 11\n",
      "processing month: 5\n",
      "processing month: 4\n",
      "processing month: 2\n",
      "processing month: 3\n",
      "processing month: 1\n"
     ]
    }
   ],
   "source": [
    "##get monthly portfolios and take top n\n",
    "\n",
    "mths = pd.DatetimeIndex(full_selection['issue_d']).month.unique()\n",
    "input_data_2016 = np.empty(13, dtype=object)\n",
    "for my_mth in mths:\n",
    "    print(\"processing month:\", my_mth)\n",
    "    cut_2016_my_mth = full_selection.loc[(pd.DatetimeIndex(full_selection.issue_d).month <= my_mth)].copy()\n",
    "    max_rows = min(n,cut_2016_my_mth.shape[0])\n",
    "    input_data_2016[my_mth] = cut_2016_my_mth.iloc[:max_rows,]"
   ]
  },
  {
   "cell_type": "code",
   "execution_count": 238,
   "metadata": {},
   "outputs": [
    {
     "name": "stdout",
     "output_type": "stream",
     "text": [
      "Optimization terminated successfully.    (Exit mode 0)\n",
      "            Current function value: -44899.35635442881\n",
      "            Iterations: 257\n",
      "            Function evaluations: 26123\n",
      "            Gradient evaluations: 256\n",
      "Fit time: 7.94 seconds\n",
      "Risk aversion parameter: 0.005\n",
      "Optimization terminated successfully.    (Exit mode 0)\n",
      "            Current function value: -48869.9667457026\n",
      "            Iterations: 534\n",
      "            Function evaluations: 54060\n",
      "            Gradient evaluations: 530\n",
      "Fit time: 17.27 seconds\n",
      "Risk aversion parameter: 0.005\n",
      "Optimization terminated successfully.    (Exit mode 0)\n",
      "            Current function value: -51680.42245821103\n",
      "            Iterations: 478\n",
      "            Function evaluations: 48450\n",
      "            Gradient evaluations: 475\n",
      "Fit time: 15.82 seconds\n",
      "Risk aversion parameter: 0.005\n",
      "Optimization terminated successfully.    (Exit mode 0)\n",
      "            Current function value: -52858.25735815298\n",
      "            Iterations: 551\n",
      "            Function evaluations: 55794\n",
      "            Gradient evaluations: 547\n",
      "Fit time: 17.11 seconds\n",
      "Risk aversion parameter: 0.005\n",
      "Optimization terminated successfully.    (Exit mode 0)\n",
      "            Current function value: -53497.16179846044\n",
      "            Iterations: 115\n",
      "            Function evaluations: 11730\n",
      "            Gradient evaluations: 115\n",
      "Fit time: 4.22 seconds\n",
      "Risk aversion parameter: 0.005\n",
      "Optimization terminated successfully.    (Exit mode 0)\n",
      "            Current function value: -57782.81709447614\n",
      "            Iterations: 407\n",
      "            Function evaluations: 41331\n",
      "            Gradient evaluations: 405\n",
      "Fit time: 15.15 seconds\n",
      "Risk aversion parameter: 0.005\n",
      "Positive directional derivative for linesearch    (Exit mode 8)\n",
      "            Current function value: -62729.8686830286\n",
      "            Iterations: 895\n",
      "            Function evaluations: 90902\n",
      "            Gradient evaluations: 891\n",
      "Fit time: 29.44 seconds\n",
      "Risk aversion parameter: 0.005\n",
      "Optimization terminated successfully.    (Exit mode 0)\n",
      "            Current function value: -65035.065595461194\n",
      "            Iterations: 146\n",
      "            Function evaluations: 14903\n",
      "            Gradient evaluations: 146\n",
      "Fit time: 4.41 seconds\n",
      "Risk aversion parameter: 0.005\n",
      "Optimization terminated successfully.    (Exit mode 0)\n",
      "            Current function value: -67107.01383832976\n",
      "            Iterations: 772\n",
      "            Function evaluations: 78499\n",
      "            Gradient evaluations: 769\n",
      "Fit time: 25.26 seconds\n",
      "Risk aversion parameter: 0.005\n",
      "Optimization terminated successfully.    (Exit mode 0)\n",
      "            Current function value: -67460.60842558701\n",
      "            Iterations: 288\n",
      "            Function evaluations: 29285\n",
      "            Gradient evaluations: 287\n",
      "Fit time: 9.49 seconds\n",
      "Risk aversion parameter: 0.005\n",
      "Optimization terminated successfully.    (Exit mode 0)\n",
      "            Current function value: -68028.05691569344\n",
      "            Iterations: 124\n",
      "            Function evaluations: 12659\n",
      "            Gradient evaluations: 124\n",
      "Fit time: 4.02 seconds\n",
      "Risk aversion parameter: 0.005\n",
      "Optimization terminated successfully.    (Exit mode 0)\n",
      "            Current function value: -68201.44821528891\n",
      "            Iterations: 69\n",
      "            Function evaluations: 7049\n",
      "            Gradient evaluations: 69\n",
      "Fit time: 2.12 seconds\n",
      "Risk aversion parameter: 0.005\n"
     ]
    }
   ],
   "source": [
    "#get optimal monthly portfolios\n",
    "\n",
    "opt_portf_arr_2016 = [get_optimized_portfolios(top_by_expected_ret.id.values, \n",
    "                                                                top_by_expected_ret.pred_ret_good.values,\n",
    "                                                                top_by_expected_ret.funded_amnt.values,\n",
    "                                                                risk_aversion, 1,\n",
    "                                                                top_by_expected_ret.risk_ES_95) \\\n",
    " for top_by_expected_ret in input_data_2016[1:]]"
   ]
  },
  {
   "cell_type": "code",
   "execution_count": 239,
   "metadata": {},
   "outputs": [],
   "source": [
    "##standardize and print csv files\n",
    "ready_for_sim = np.empty(13, dtype=object)\n",
    "mth = 1\n",
    "for portf in opt_portf_arr_2016:\n",
    "    portf['weights'] = portf.optimal_notionals/portf.optimal_notionals.sum()\n",
    "    ready_for_sim[mth] = portf.copy()\n",
    "    mth = mth + 1\n",
    "\n",
    "for mth in range(1,13):\n",
    "    ready_for_sim[mth][['id','weights']].to_csv(\"sim/2016_\"+str(mth)+\".csv\", index=False)"
   ]
  },
  {
   "cell_type": "code",
   "execution_count": null,
   "metadata": {},
   "outputs": [],
   "source": []
  },
  {
   "cell_type": "code",
   "execution_count": null,
   "metadata": {},
   "outputs": [],
   "source": []
  },
  {
   "cell_type": "markdown",
   "metadata": {},
   "source": [
    "\n",
    "#### monthly cuts for trading Sim"
   ]
  },
  {
   "cell_type": "markdown",
   "metadata": {},
   "source": [
    "\n",
    "#### 2015\n"
   ]
  },
  {
   "cell_type": "code",
   "execution_count": 240,
   "metadata": {},
   "outputs": [],
   "source": [
    "# seed with top n loans sorted by predicted expected returns\n",
    "full_selection = (def_predictions_2015.loc[(def_predictions_2015.grade <= 5),['id','pred_expected_ret','funded_amnt','risk_std_dev','risk_ES_95']].\\\n",
    "                        sort_values('pred_expected_ret', ascending=False))\n",
    "full_selection.rename(columns={\"pred_expected_ret\": \"pred_ret_good\"},inplace=True)\n",
    "full_selection = pd.merge(full_selection, LC_subset_df[['id','issue_d']], how='left', on='id')\n",
    "\n"
   ]
  },
  {
   "cell_type": "code",
   "execution_count": 241,
   "metadata": {},
   "outputs": [
    {
     "name": "stdout",
     "output_type": "stream",
     "text": [
      "processing month: 10\n",
      "processing month: 7\n",
      "processing month: 2\n",
      "processing month: 1\n",
      "processing month: 9\n",
      "processing month: 3\n",
      "processing month: 12\n",
      "processing month: 5\n",
      "processing month: 8\n",
      "processing month: 4\n",
      "processing month: 6\n",
      "processing month: 11\n"
     ]
    }
   ],
   "source": [
    "##get monthly portfolios and take top n\n",
    "\n",
    "mths = pd.DatetimeIndex(full_selection['issue_d']).month.unique()\n",
    "input_data_2015 = np.empty(13, dtype=object)\n",
    "for my_mth in mths:\n",
    "    print(\"processing month:\", my_mth)\n",
    "    cut_2015_my_mth = full_selection.loc[(pd.DatetimeIndex(full_selection.issue_d).month <= my_mth)].copy()\n",
    "    max_rows = min(n,cut_2015_my_mth.shape[0])\n",
    "    input_data_2015[my_mth] = cut_2015_my_mth.iloc[:max_rows,]"
   ]
  },
  {
   "cell_type": "code",
   "execution_count": 242,
   "metadata": {},
   "outputs": [
    {
     "name": "stdout",
     "output_type": "stream",
     "text": [
      "Optimization terminated successfully.    (Exit mode 0)\n",
      "            Current function value: -49966.26071470122\n",
      "            Iterations: 279\n",
      "            Function evaluations: 28265\n",
      "            Gradient evaluations: 277\n",
      "Fit time: 8.46 seconds\n",
      "Risk aversion parameter: 0.005\n",
      "Optimization terminated successfully.    (Exit mode 0)\n",
      "            Current function value: -51710.18605617419\n",
      "            Iterations: 525\n",
      "            Function evaluations: 53295\n",
      "            Gradient evaluations: 522\n",
      "Fit time: 16.56 seconds\n",
      "Risk aversion parameter: 0.005\n",
      "Optimization terminated successfully.    (Exit mode 0)\n",
      "            Current function value: -52161.17689755166\n",
      "            Iterations: 71\n",
      "            Function evaluations: 7253\n",
      "            Gradient evaluations: 71\n",
      "Fit time: 2.26 seconds\n",
      "Risk aversion parameter: 0.005\n",
      "Optimization terminated successfully.    (Exit mode 0)\n",
      "            Current function value: -52904.25177818521\n",
      "            Iterations: 478\n",
      "            Function evaluations: 48461\n",
      "            Gradient evaluations: 475\n",
      "Fit time: 15.05 seconds\n",
      "Risk aversion parameter: 0.005\n",
      "Optimization terminated successfully.    (Exit mode 0)\n",
      "            Current function value: -53122.24876904144\n",
      "            Iterations: 180\n",
      "            Function evaluations: 18279\n",
      "            Gradient evaluations: 179\n",
      "Fit time: 5.44 seconds\n",
      "Risk aversion parameter: 0.005\n",
      "Optimization terminated successfully.    (Exit mode 0)\n",
      "            Current function value: -53529.49203165812\n",
      "            Iterations: 710\n",
      "            Function evaluations: 72012\n",
      "            Gradient evaluations: 706\n",
      "Fit time: 20.83 seconds\n",
      "Risk aversion parameter: 0.005\n",
      "Optimization terminated successfully.    (Exit mode 0)\n",
      "            Current function value: -53759.732880368625\n",
      "            Iterations: 52\n",
      "            Function evaluations: 5315\n",
      "            Gradient evaluations: 52\n",
      "Fit time: 1.65 seconds\n",
      "Risk aversion parameter: 0.005\n",
      "Optimization terminated successfully.    (Exit mode 0)\n",
      "            Current function value: -54849.22294952437\n",
      "            Iterations: 672\n",
      "            Function evaluations: 68146\n",
      "            Gradient evaluations: 668\n",
      "Fit time: 19.7 seconds\n",
      "Risk aversion parameter: 0.005\n",
      "Optimization terminated successfully.    (Exit mode 0)\n",
      "            Current function value: -54531.95712507387\n",
      "            Iterations: 100\n",
      "            Function evaluations: 10099\n",
      "            Gradient evaluations: 99\n",
      "Fit time: 3.04 seconds\n",
      "Risk aversion parameter: 0.005\n",
      "Optimization terminated successfully.    (Exit mode 0)\n",
      "            Current function value: -54728.69793177735\n",
      "            Iterations: 116\n",
      "            Function evaluations: 11843\n",
      "            Gradient evaluations: 116\n",
      "Fit time: 3.53 seconds\n",
      "Risk aversion parameter: 0.005\n",
      "Optimization terminated successfully.    (Exit mode 0)\n",
      "            Current function value: -54999.65596701195\n",
      "            Iterations: 437\n",
      "            Function evaluations: 44391\n",
      "            Gradient evaluations: 435\n",
      "Fit time: 12.77 seconds\n",
      "Risk aversion parameter: 0.005\n",
      "Optimization terminated successfully.    (Exit mode 0)\n",
      "            Current function value: -54904.224307346485\n",
      "            Iterations: 117\n",
      "            Function evaluations: 11945\n",
      "            Gradient evaluations: 117\n",
      "Fit time: 3.6 seconds\n",
      "Risk aversion parameter: 0.005\n"
     ]
    }
   ],
   "source": [
    "#get optimal monthly portfolios\n",
    "\n",
    "opt_portf_arr_2015 = [get_optimized_portfolios(top_by_expected_ret.id.values, \n",
    "                                                                top_by_expected_ret.pred_ret_good.values,\n",
    "                                                                top_by_expected_ret.funded_amnt.values,\n",
    "                                                                risk_aversion, 1,\n",
    "                                                                top_by_expected_ret.risk_ES_95) \\\n",
    " for top_by_expected_ret in input_data_2015[1:]]"
   ]
  },
  {
   "cell_type": "code",
   "execution_count": 243,
   "metadata": {},
   "outputs": [],
   "source": [
    "##standardize and print csv files\n",
    "ready_for_sim = np.empty(13, dtype=object)\n",
    "mth = 1\n",
    "for portf in opt_portf_arr_2015:\n",
    "    portf['weights'] = portf.optimal_notionals/portf.optimal_notionals.sum()\n",
    "    ready_for_sim[mth] = portf.copy()\n",
    "    mth = mth + 1\n",
    "\n",
    "for mth in range(1,13):\n",
    "    ready_for_sim[mth][['id','weights']].to_csv(\"sim/2015_\"+str(mth)+\".csv\", index=False)"
   ]
  },
  {
   "cell_type": "code",
   "execution_count": null,
   "metadata": {},
   "outputs": [],
   "source": []
  },
  {
   "cell_type": "markdown",
   "metadata": {},
   "source": [
    "\n",
    "#### 2014"
   ]
  },
  {
   "cell_type": "code",
   "execution_count": 244,
   "metadata": {},
   "outputs": [],
   "source": [
    "# seed with top n loans sorted by predicted expected returns\n",
    "full_selection = (def_predictions_2014.loc[(def_predictions_2014.grade <= 5),['id','pred_expected_ret','funded_amnt','risk_std_dev','risk_ES_95']].\\\n",
    "                        sort_values('pred_expected_ret', ascending=False))\n",
    "full_selection.rename(columns={\"pred_expected_ret\": \"pred_ret_good\"},inplace=True)\n",
    "full_selection = pd.merge(full_selection, LC_subset_df[['id','issue_d']], how='left', on='id')\n",
    "\n"
   ]
  },
  {
   "cell_type": "code",
   "execution_count": 245,
   "metadata": {},
   "outputs": [
    {
     "name": "stdout",
     "output_type": "stream",
     "text": [
      "processing month: 7\n",
      "processing month: 5\n",
      "processing month: 3\n",
      "processing month: 9\n",
      "processing month: 8\n",
      "processing month: 1\n",
      "processing month: 4\n",
      "processing month: 2\n",
      "processing month: 6\n",
      "processing month: 12\n",
      "processing month: 10\n",
      "processing month: 11\n"
     ]
    }
   ],
   "source": [
    "##get monthly portfolios and take top n\n",
    "\n",
    "mths = pd.DatetimeIndex(full_selection['issue_d']).month.unique()\n",
    "input_data_2014 = np.empty(13, dtype=object)\n",
    "for my_mth in mths:\n",
    "    print(\"processing month:\", my_mth)\n",
    "    cut_2014_my_mth = full_selection.loc[(pd.DatetimeIndex(full_selection.issue_d).month <= my_mth)].copy()\n",
    "    max_rows = min(n,cut_2014_my_mth.shape[0])\n",
    "    input_data_2014[my_mth] = cut_2014_my_mth.iloc[:max_rows,]"
   ]
  },
  {
   "cell_type": "code",
   "execution_count": 246,
   "metadata": {},
   "outputs": [
    {
     "name": "stdout",
     "output_type": "stream",
     "text": [
      "Optimization terminated successfully.    (Exit mode 0)\n",
      "            Current function value: -56532.4777640682\n",
      "            Iterations: 219\n",
      "            Function evaluations: 22257\n",
      "            Gradient evaluations: 218\n",
      "Fit time: 7.11 seconds\n",
      "Risk aversion parameter: 0.005\n",
      "Optimization terminated successfully.    (Exit mode 0)\n",
      "            Current function value: -59510.46292195878\n",
      "            Iterations: 625\n",
      "            Function evaluations: 63353\n",
      "            Gradient evaluations: 621\n",
      "Fit time: 22.24 seconds\n",
      "Risk aversion parameter: 0.005\n",
      "Optimization terminated successfully.    (Exit mode 0)\n",
      "            Current function value: -60875.90613251771\n",
      "            Iterations: 690\n",
      "            Function evaluations: 70115\n",
      "            Gradient evaluations: 687\n",
      "Fit time: 22.74 seconds\n",
      "Risk aversion parameter: 0.005\n",
      "Optimization terminated successfully.    (Exit mode 0)\n",
      "            Current function value: -62745.79479383322\n",
      "            Iterations: 734\n",
      "            Function evaluations: 74460\n",
      "            Gradient evaluations: 730\n",
      "Fit time: 24.25 seconds\n",
      "Risk aversion parameter: 0.005\n",
      "Optimization terminated successfully.    (Exit mode 0)\n",
      "            Current function value: -63150.12266526273\n",
      "            Iterations: 701\n",
      "            Function evaluations: 71094\n",
      "            Gradient evaluations: 697\n",
      "Fit time: 24.08 seconds\n",
      "Risk aversion parameter: 0.005\n",
      "Optimization terminated successfully.    (Exit mode 0)\n",
      "            Current function value: -63593.60336224825\n",
      "            Iterations: 573\n",
      "            Function evaluations: 58049\n",
      "            Gradient evaluations: 569\n",
      "Fit time: 19.16 seconds\n",
      "Risk aversion parameter: 0.005\n",
      "Optimization terminated successfully.    (Exit mode 0)\n",
      "            Current function value: -58721.919607385404\n",
      "            Iterations: 114\n",
      "            Function evaluations: 11628\n",
      "            Gradient evaluations: 114\n",
      "Fit time: 3.63 seconds\n",
      "Risk aversion parameter: 0.005\n",
      "Optimization terminated successfully.    (Exit mode 0)\n",
      "            Current function value: -54948.65216183333\n",
      "            Iterations: 105\n",
      "            Function evaluations: 10608\n",
      "            Gradient evaluations: 104\n",
      "Fit time: 3.35 seconds\n",
      "Risk aversion parameter: 0.005\n",
      "Optimization terminated successfully.    (Exit mode 0)\n",
      "            Current function value: -53826.028708794016\n",
      "            Iterations: 105\n",
      "            Function evaluations: 10710\n",
      "            Gradient evaluations: 105\n",
      "Fit time: 3.37 seconds\n",
      "Risk aversion parameter: 0.005\n",
      "Optimization terminated successfully.    (Exit mode 0)\n",
      "            Current function value: -54330.82596021796\n",
      "            Iterations: 109\n",
      "            Function evaluations: 11118\n",
      "            Gradient evaluations: 109\n",
      "Fit time: 3.46 seconds\n",
      "Risk aversion parameter: 0.005\n",
      "Optimization terminated successfully.    (Exit mode 0)\n",
      "            Current function value: -55226.90135842069\n",
      "            Iterations: 114\n",
      "            Function evaluations: 11628\n",
      "            Gradient evaluations: 114\n",
      "Fit time: 3.64 seconds\n",
      "Risk aversion parameter: 0.005\n",
      "Optimization terminated successfully.    (Exit mode 0)\n",
      "            Current function value: -59341.08237853647\n",
      "            Iterations: 123\n",
      "            Function evaluations: 12546\n",
      "            Gradient evaluations: 123\n",
      "Fit time: 3.89 seconds\n",
      "Risk aversion parameter: 0.005\n"
     ]
    }
   ],
   "source": [
    "#get optimal monthly portfolios\n",
    "\n",
    "opt_portf_arr_2014 = [get_optimized_portfolios(top_by_expected_ret.id.values, \n",
    "                                                                top_by_expected_ret.pred_ret_good.values,\n",
    "                                                                top_by_expected_ret.funded_amnt.values,\n",
    "                                                                risk_aversion, 1,\n",
    "                                                                top_by_expected_ret.risk_ES_95) \\\n",
    " for top_by_expected_ret in input_data_2014[1:]]"
   ]
  },
  {
   "cell_type": "code",
   "execution_count": 247,
   "metadata": {},
   "outputs": [],
   "source": [
    "##standardize and print csv files\n",
    "ready_for_sim = np.empty(13, dtype=object)\n",
    "mth = 1\n",
    "for portf in opt_portf_arr_2014:\n",
    "    portf['weights'] = portf.optimal_notionals/portf.optimal_notionals.sum()\n",
    "    ready_for_sim[mth] = portf.copy()\n",
    "    mth = mth + 1\n",
    "\n",
    "for mth in range(1,13):\n",
    "    ready_for_sim[mth][['id','weights']].to_csv(\"sim/2014_\"+str(mth)+\".csv\", index=False)"
   ]
  },
  {
   "cell_type": "code",
   "execution_count": null,
   "metadata": {},
   "outputs": [],
   "source": []
  }
 ],
 "metadata": {
  "kernelspec": {
   "display_name": "Python 3",
   "language": "python",
   "name": "python3"
  },
  "language_info": {
   "codemirror_mode": {
    "name": "ipython",
    "version": 3
   },
   "file_extension": ".py",
   "mimetype": "text/x-python",
   "name": "python",
   "nbconvert_exporter": "python",
   "pygments_lexer": "ipython3",
   "version": "3.7.1"
  }
 },
 "nbformat": 4,
 "nbformat_minor": 2
}
