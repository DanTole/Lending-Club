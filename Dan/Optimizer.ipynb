{
 "cells": [
  {
   "cell_type": "code",
   "execution_count": 41,
   "metadata": {},
   "outputs": [],
   "source": [
    "import numpy as np\n",
    "import pandas as pd\n",
    "from scipy.optimize import minimize\n",
    "import matplotlib.pyplot as plt\n",
    "import time"
   ]
  },
  {
   "cell_type": "code",
   "execution_count": 2,
   "metadata": {},
   "outputs": [],
   "source": [
    "def portfolio_construct(returns, loan_cap, budget, size, risk_tol, prop_grad = None, method='highest'):\n",
    "    '''\n",
    "    :param returns: list of returns predicted\n",
    "    :param loan_cap: maximum investment for each loan\n",
    "    :param budget: money amount invested in the portfolio\n",
    "    :param risk_tol: risk tolerance of the investor\n",
    "    :param size: size of the portfolio\n",
    "    :param method: 'highest' for highest returns, 'random' randomly pick loans \n",
    "    :return: list of weights of the portfolio and its return\n",
    "    '''\n",
    "    \n",
    "    return_portfolios = []\n",
    "    num_sample = 100\n",
    "    \n",
    "    start=time.time()\n",
    "    \n",
    "    print(f'Construction method : {method}')\n",
    "    if method.lower() == 'random':\n",
    "        portfolio = returns.sample(size)\n",
    "        return_portfolio = portfolio.annualized_ret.mean()\n",
    "    \n",
    "        print(return_portfolio)\n",
    "        for N in range(1000, 100000, 1000):\n",
    "            tmp = []\n",
    "            for i in range(num_sample):\n",
    "                portfolio = returns.sample(N)\n",
    "                tmp.append(portfolio.annualized_ret.mean())\n",
    "                \n",
    "            return_portfolios.append(np.mean(tmp))\n",
    "            \n",
    "        plt.plot(range(1000, 100000, 1000), return_portfolios, label='random')\n",
    "        plt.xlabel('Size of portfolio')\n",
    "        plt.ylabel('Return of portfolio(%)')\n",
    "        plt.legend()\n",
    "        \n",
    "    elif method.lower() == 'highest':\n",
    "        portfolio = returns.sort_values(by='annualized_ret', ascending=False).iloc[:size,]\n",
    "        return_portfolio = portfolio.annualized_ret.mean()\n",
    "        \n",
    "        print(return_portfolio)\n",
    "        for N in range(1000, 100000, 1000):\n",
    "            portfolio = returns.sort_values(by='annualized_ret', ascending=False).iloc[:N,]\n",
    "            return_portfolios.append(portfolio.annualized_ret.mean())\n",
    "            \n",
    "        plt.plot(range(1000, 100000, 1000), return_portfolios, label='highest')\n",
    "        plt.xlabel('Size of portfolio')\n",
    "        plt.ylabel('Return of portfolio(%)')\n",
    "        plt.legend()\n",
    "        \n",
    "    else:\n",
    "        raise ValueError(f'{method} is not a portfolio valid construction method.')\n",
    "        \n",
    "    print(f'Time : {time.time() - start}')"
   ]
  },
  {
   "cell_type": "code",
   "execution_count": 4,
   "metadata": {},
   "outputs": [
    {
     "name": "stdout",
     "output_type": "stream",
     "text": [
      "Construction method : random\n",
      "0.11237893720190018\n",
      "Time : 45.333877086639404\n",
      "Construction method : highest\n",
      "0.25211681463442553\n",
      "Time : 2.8985788822174072\n"
     ]
    },
    {
     "data": {
      "image/png": "[encoded data removed]",
      "text/plain": [
       "<Figure size 432x288 with 1 Axes>"
      ]
     },
     "metadata": {
      "needs_background": "light"
     },
     "output_type": "display_data"
    }
   ],
   "source": [
    "ret_def = pd.read_csv('./rawData/predicted_returns_defaulting.csv')\n",
    "ret_notdef = pd.read_csv('./rawData/predicted_returns_non_defaulting.csv')\n",
    "\n",
    "returns_loan = pd.concat([ret_def, ret_notdef])\n",
    "loan_cap = np.repeat(10000, len(returns_loan))\n",
    "budget = 1000000\n",
    "size = 1000\n",
    "risk_tol = .4\n",
    "\n",
    "portfolio_construct(returns_loan, loan_cap, budget, size, risk_tol, method='random')\n",
    "portfolio_construct(returns_loan, loan_cap, budget, size, risk_tol, method='highest')"
   ]
  },
  {
   "cell_type": "code",
   "execution_count": 36,
   "metadata": {},
   "outputs": [],
   "source": [
    "def Portfolio_optimizer(returns, loan_cap, budget, size, risk_tol, prop_grad = None):\n",
    "    '''\n",
    "    :param returns: list of returns predicted\n",
    "    :param loan_cap: maximum investment for each loan\n",
    "    :param budget: money amount invested in the portfolio\n",
    "    :param risk_tol: risk tolerance of the investor\n",
    "    :param size: size of the portfolio\n",
    "    :return: list of weights of the portfolio and its return\n",
    "    '''\n",
    "    # x: in {0,1}, 0 if not invest in loan i, 1 if invest in loan i\n",
    "    # a: amount invested in loan i\n",
    "    x = {}\n",
    "    a = {}\n",
    "        \n",
    "    m = Model('maximizing_returns_with_constraints')\n",
    "    \n",
    "    for i in returns.shape[0]:\n",
    "        x[i] = m.addVar(vtype=GRB.BINARY)\n",
    "        \n",
    "        # The amount invested in loan i is bounded by 0 and loan_cap[i] (if invested, ie x[i] = 1)\n",
    "        a[i] = m.addVar(lb=0, ub=x[i]*loan_cap[i])\n",
    "    \n",
    "    # An investor can't invest more than his budget and wants to invest more than 90% of his capital\n",
    "    m.addConstr(Budget >= quicksum(x[i]*a[i] for i in returns.shape[0]))\n",
    "    m.addConstr(.9*Budget <= quicksum(x[i]*a[i] for i in returns.shape[0]))\n",
    "    \n",
    "    # The investor wants to invest in a certain amount of loans\n",
    "    m.addConstr(size >= quicksum(x))\n",
    "    m.addConstr(.95*size <= quicksum(x))\n",
    "    \n",
    "    # Risk tolerance constraint\n",
    "#     m.addConstr(risk_tol == )\n",
    "\n",
    "#     m.setObjective((quicksum(x[i]*(returns[i] - risk_tol*risk_loan[i])*a[i]\n",
    "#                            for i in returns.shape[0]), GRB.MINIMIZE))\n",
    "\n",
    "    m.setObjective((quicksum(x[i]*returns[i]*a[i]\n",
    "                           for i in returns.shape[0]), GRB.MINIMIZE))\n",
    "    \n",
    "    m.optimize()\n",
    "    \n",
    "    return m"
   ]
  },
  {
   "cell_type": "code",
   "execution_count": 27,
   "metadata": {},
   "outputs": [],
   "source": [
    "def Markowitz_portfolio(returns, loan_amount, inv_amount, size, risk_tol):\n",
    "    '''\n",
    "    :param returns: list of returns predicted, if default and if non default\n",
    "    :param loan_amount: maximum investment for each loan\n",
    "    :param inv_amount: money amount invested in the portfolio\n",
    "    :param size: size of the portfolio\n",
    "    :param risk_tol: risk tolerance of the investor\n",
    "    :return: list of weights of the portfolio, returns\n",
    "    '''\n",
    "\n",
    "    n = len(returns)\n",
    "\n",
    "    objective = lambda x: sum(x[0][i]*returns[i]*x[1][i] for i in returns.shape[0])\n",
    "    \n",
    "    # Can't invest more than what you have\n",
    "    cst0 = lambda x: x[0][:]*(x[0][:]-1)\n",
    "    cst1 = lambda x: size-sum(x[0][:])\n",
    "    cst2 = lambda x: sum(x[0][:])-int(.9*size)\n",
    "    cst3 = lambda x: inv_amount-sum(x[0][:]*x[1][:])\n",
    "\n",
    "    # Can't invest more than the loan amount\n",
    "    cst4 = lambda x: loan_amount-x[0][:]*x[1][:]\n",
    "\n",
    "    # Risk tolerance constraint\n",
    "    cst5 = lambda:1\n",
    "\n",
    "    constraints = (\n",
    "        {'type': 'eq', 'fun': cst0},\n",
    "        {'type': 'ineq', 'fun': cst1},\n",
    "        {'type': 'ineq', 'fun': cst2},\n",
    "        {'type': 'ineq', 'fun': cst3},\n",
    "        {'type': 'ineq', 'fun': cst4}\n",
    "    )\n",
    "\n",
    "    x0 = np.zeros(n)\n",
    "    a0 = np.zeros(n)\n",
    "\n",
    "    res = minimize(objective, x0=[x0, a0], method='SLSQP', constraints=constraints)\n",
    "\n",
    "    # exp_port = res['x'].dot(returns_loan)\n",
    "    # var_port = np.transpose(res['x']).dot(covarMat).dot(res['x'])\n",
    "\n",
    "    # print(f'Expected return of the portfolio : {exp_port}')\n",
    "    # print(f'Variance of the portfolio : {var_port}')\n",
    "\n",
    "    # print(res)"
   ]
  },
  {
   "cell_type": "code",
   "execution_count": 28,
   "metadata": {},
   "outputs": [
    {
     "ename": "IndexError",
     "evalue": "invalid index to scalar variable.",
     "output_type": "error",
     "traceback": [
      "\u001b[0;31m---------------------------------------------------------------------------\u001b[0m",
      "\u001b[0;31mIndexError\u001b[0m                                Traceback (most recent call last)",
      "\u001b[0;32m<ipython-input-28-14c641d9d3e5>\u001b[0m in \u001b[0;36m<module>\u001b[0;34m\u001b[0m\n\u001b[1;32m      8\u001b[0m \u001b[0mrisk_tol\u001b[0m \u001b[0;34m=\u001b[0m \u001b[0;36m.4\u001b[0m\u001b[0;34m\u001b[0m\u001b[0;34m\u001b[0m\u001b[0m\n\u001b[1;32m      9\u001b[0m \u001b[0;34m\u001b[0m\u001b[0m\n\u001b[0;32m---> 10\u001b[0;31m \u001b[0mMarkowitz_portfolio\u001b[0m\u001b[0;34m(\u001b[0m\u001b[0mreturns_loan\u001b[0m\u001b[0;34m[\u001b[0m\u001b[0;34m'annualized_ret'\u001b[0m\u001b[0;34m]\u001b[0m\u001b[0;34m.\u001b[0m\u001b[0miloc\u001b[0m\u001b[0;34m[\u001b[0m\u001b[0;34m:\u001b[0m\u001b[0;36m10000\u001b[0m\u001b[0;34m]\u001b[0m\u001b[0;34m,\u001b[0m \u001b[0mmaxloan\u001b[0m\u001b[0;34m,\u001b[0m \u001b[0mbudget\u001b[0m\u001b[0;34m,\u001b[0m \u001b[0msize\u001b[0m\u001b[0;34m,\u001b[0m \u001b[0mrisk_tol\u001b[0m\u001b[0;34m)\u001b[0m\u001b[0;34m\u001b[0m\u001b[0;34m\u001b[0m\u001b[0m\n\u001b[0m",
      "\u001b[0;32m<ipython-input-27-81c02f3f3687>\u001b[0m in \u001b[0;36mMarkowitz_portfolio\u001b[0;34m(returns, loan_amount, inv_amount, size, risk_tol)\u001b[0m\n\u001b[1;32m     36\u001b[0m     \u001b[0ma0\u001b[0m \u001b[0;34m=\u001b[0m \u001b[0mnp\u001b[0m\u001b[0;34m.\u001b[0m\u001b[0mzeros\u001b[0m\u001b[0;34m(\u001b[0m\u001b[0mn\u001b[0m\u001b[0;34m)\u001b[0m\u001b[0;34m\u001b[0m\u001b[0;34m\u001b[0m\u001b[0m\n\u001b[1;32m     37\u001b[0m \u001b[0;34m\u001b[0m\u001b[0m\n\u001b[0;32m---> 38\u001b[0;31m     \u001b[0mres\u001b[0m \u001b[0;34m=\u001b[0m \u001b[0mminimize\u001b[0m\u001b[0;34m(\u001b[0m\u001b[0mobjective\u001b[0m\u001b[0;34m,\u001b[0m \u001b[0mx0\u001b[0m\u001b[0;34m=\u001b[0m\u001b[0;34m[\u001b[0m\u001b[0mx0\u001b[0m\u001b[0;34m,\u001b[0m \u001b[0ma0\u001b[0m\u001b[0;34m]\u001b[0m\u001b[0;34m,\u001b[0m \u001b[0mmethod\u001b[0m\u001b[0;34m=\u001b[0m\u001b[0;34m'SLSQP'\u001b[0m\u001b[0;34m,\u001b[0m \u001b[0mconstraints\u001b[0m\u001b[0;34m=\u001b[0m\u001b[0mconstraints\u001b[0m\u001b[0;34m)\u001b[0m\u001b[0;34m\u001b[0m\u001b[0;34m\u001b[0m\u001b[0m\n\u001b[0m\u001b[1;32m     39\u001b[0m \u001b[0;34m\u001b[0m\u001b[0m\n\u001b[1;32m     40\u001b[0m     \u001b[0;31m# exp_port = res['x'].dot(returns_loan)\u001b[0m\u001b[0;34m\u001b[0m\u001b[0;34m\u001b[0m\u001b[0;34m\u001b[0m\u001b[0m\n",
      "\u001b[0;32m~/anaconda3/lib/python3.7/site-packages/scipy/optimize/_minimize.py\u001b[0m in \u001b[0;36mminimize\u001b[0;34m(fun, x0, args, method, jac, hess, hessp, bounds, constraints, tol, callback, options)\u001b[0m\n\u001b[1;32m    606\u001b[0m     \u001b[0;32melif\u001b[0m \u001b[0mmeth\u001b[0m \u001b[0;34m==\u001b[0m \u001b[0;34m'slsqp'\u001b[0m\u001b[0;34m:\u001b[0m\u001b[0;34m\u001b[0m\u001b[0;34m\u001b[0m\u001b[0m\n\u001b[1;32m    607\u001b[0m         return _minimize_slsqp(fun, x0, args, jac, bounds,\n\u001b[0;32m--> 608\u001b[0;31m                                constraints, callback=callback, **options)\n\u001b[0m\u001b[1;32m    609\u001b[0m     \u001b[0;32melif\u001b[0m \u001b[0mmeth\u001b[0m \u001b[0;34m==\u001b[0m \u001b[0;34m'trust-constr'\u001b[0m\u001b[0;34m:\u001b[0m\u001b[0;34m\u001b[0m\u001b[0;34m\u001b[0m\u001b[0m\n\u001b[1;32m    610\u001b[0m         return _minimize_trustregion_constr(fun, x0, args, jac, hess, hessp,\n",
      "\u001b[0;32m~/anaconda3/lib/python3.7/site-packages/scipy/optimize/slsqp.py\u001b[0m in \u001b[0;36m_minimize_slsqp\u001b[0;34m(func, x0, args, jac, bounds, constraints, maxiter, ftol, iprint, disp, eps, callback, **unknown_options)\u001b[0m\n\u001b[1;32m    311\u001b[0m     \u001b[0;31m# meq, mieq: number of equality and inequality constraints\u001b[0m\u001b[0;34m\u001b[0m\u001b[0;34m\u001b[0m\u001b[0;34m\u001b[0m\u001b[0m\n\u001b[1;32m    312\u001b[0m     meq = sum(map(len, [atleast_1d(c['fun'](x, *c['args']))\n\u001b[0;32m--> 313\u001b[0;31m               for c in cons['eq']]))\n\u001b[0m\u001b[1;32m    314\u001b[0m     mieq = sum(map(len, [atleast_1d(c['fun'](x, *c['args']))\n\u001b[1;32m    315\u001b[0m                for c in cons['ineq']]))\n",
      "\u001b[0;32m~/anaconda3/lib/python3.7/site-packages/scipy/optimize/slsqp.py\u001b[0m in \u001b[0;36m<listcomp>\u001b[0;34m(.0)\u001b[0m\n\u001b[1;32m    311\u001b[0m     \u001b[0;31m# meq, mieq: number of equality and inequality constraints\u001b[0m\u001b[0;34m\u001b[0m\u001b[0;34m\u001b[0m\u001b[0;34m\u001b[0m\u001b[0m\n\u001b[1;32m    312\u001b[0m     meq = sum(map(len, [atleast_1d(c['fun'](x, *c['args']))\n\u001b[0;32m--> 313\u001b[0;31m               for c in cons['eq']]))\n\u001b[0m\u001b[1;32m    314\u001b[0m     mieq = sum(map(len, [atleast_1d(c['fun'](x, *c['args']))\n\u001b[1;32m    315\u001b[0m                for c in cons['ineq']]))\n",
      "\u001b[0;32m<ipython-input-27-81c02f3f3687>\u001b[0m in \u001b[0;36m<lambda>\u001b[0;34m(x)\u001b[0m\n\u001b[1;32m     14\u001b[0m \u001b[0;34m\u001b[0m\u001b[0m\n\u001b[1;32m     15\u001b[0m     \u001b[0;31m# Can't invest more than what you have\u001b[0m\u001b[0;34m\u001b[0m\u001b[0;34m\u001b[0m\u001b[0;34m\u001b[0m\u001b[0m\n\u001b[0;32m---> 16\u001b[0;31m     \u001b[0mcst0\u001b[0m \u001b[0;34m=\u001b[0m \u001b[0;32mlambda\u001b[0m \u001b[0mx\u001b[0m\u001b[0;34m:\u001b[0m \u001b[0mx\u001b[0m\u001b[0;34m[\u001b[0m\u001b[0;36m0\u001b[0m\u001b[0;34m]\u001b[0m\u001b[0;34m[\u001b[0m\u001b[0;34m:\u001b[0m\u001b[0;34m]\u001b[0m\u001b[0;34m*\u001b[0m\u001b[0;34m(\u001b[0m\u001b[0mx\u001b[0m\u001b[0;34m[\u001b[0m\u001b[0;36m0\u001b[0m\u001b[0;34m]\u001b[0m\u001b[0;34m[\u001b[0m\u001b[0;34m:\u001b[0m\u001b[0;34m]\u001b[0m\u001b[0;34m-\u001b[0m\u001b[0;36m1\u001b[0m\u001b[0;34m)\u001b[0m\u001b[0;34m\u001b[0m\u001b[0;34m\u001b[0m\u001b[0m\n\u001b[0m\u001b[1;32m     17\u001b[0m     \u001b[0mcst1\u001b[0m \u001b[0;34m=\u001b[0m \u001b[0;32mlambda\u001b[0m \u001b[0mx\u001b[0m\u001b[0;34m:\u001b[0m \u001b[0msize\u001b[0m\u001b[0;34m-\u001b[0m\u001b[0msum\u001b[0m\u001b[0;34m(\u001b[0m\u001b[0mx\u001b[0m\u001b[0;34m[\u001b[0m\u001b[0;36m0\u001b[0m\u001b[0;34m]\u001b[0m\u001b[0;34m[\u001b[0m\u001b[0;34m:\u001b[0m\u001b[0;34m]\u001b[0m\u001b[0;34m)\u001b[0m\u001b[0;34m\u001b[0m\u001b[0;34m\u001b[0m\u001b[0m\n\u001b[1;32m     18\u001b[0m     \u001b[0mcst2\u001b[0m \u001b[0;34m=\u001b[0m \u001b[0;32mlambda\u001b[0m \u001b[0mx\u001b[0m\u001b[0;34m:\u001b[0m \u001b[0msum\u001b[0m\u001b[0;34m(\u001b[0m\u001b[0mx\u001b[0m\u001b[0;34m[\u001b[0m\u001b[0;36m0\u001b[0m\u001b[0;34m]\u001b[0m\u001b[0;34m[\u001b[0m\u001b[0;34m:\u001b[0m\u001b[0;34m]\u001b[0m\u001b[0;34m)\u001b[0m\u001b[0;34m-\u001b[0m\u001b[0mint\u001b[0m\u001b[0;34m(\u001b[0m\u001b[0;36m.9\u001b[0m\u001b[0;34m*\u001b[0m\u001b[0msize\u001b[0m\u001b[0;34m)\u001b[0m\u001b[0;34m\u001b[0m\u001b[0;34m\u001b[0m\u001b[0m\n",
      "\u001b[0;31mIndexError\u001b[0m: invalid index to scalar variable."
     ]
    }
   ],
   "source": [
    "ret_def = pd.read_csv('./rawData/predicted_returns_defaulting.csv')\n",
    "ret_notdef = pd.read_csv('./rawData/predicted_returns_non_defaulting.csv')\n",
    "\n",
    "returns_loan = pd.concat([ret_def, ret_notdef])\n",
    "maxloan = np.repeat(10000, len(returns_loan))\n",
    "budget = 1000000\n",
    "size = 1000\n",
    "risk_tol = .4\n",
    "\n",
    "Markowitz_portfolio(returns_loan['annualized_ret'].iloc[:10000], maxloan, budget, size, risk_tol)"
   ]
  },
  {
   "cell_type": "code",
   "execution_count": null,
   "metadata": {},
   "outputs": [],
   "source": []
  }
 ],
 "metadata": {
  "kernelspec": {
   "display_name": "Python 3",
   "language": "python",
   "name": "python3"
  },
  "language_info": {
   "codemirror_mode": {
    "name": "ipython",
    "version": 3
   },
   "file_extension": ".py",
   "mimetype": "text/x-python",
   "name": "python",
   "nbconvert_exporter": "python",
   "pygments_lexer": "ipython3",
   "version": "3.7.4"
  }
 },
 "nbformat": 4,
 "nbformat_minor": 4
}
