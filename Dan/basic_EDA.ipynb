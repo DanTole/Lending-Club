{
 "cells": [
  {
   "cell_type": "markdown",
   "metadata": {},
   "source": [
    "# Import libraries"
   ]
  },
  {
   "cell_type": "code",
   "execution_count": 39,
   "metadata": {},
   "outputs": [
    {
     "name": "stdin",
     "output_type": "stream",
     "text": [
      "Once deleted, variables cannot be recovered. Proceed (y/[n])?  y\n"
     ]
    }
   ],
   "source": [
    "%reset"
   ]
  },
  {
   "cell_type": "code",
   "execution_count": 40,
   "metadata": {},
   "outputs": [],
   "source": [
    "import pandas as pd\n",
    "import numpy as np\n",
    "import time\n",
    "import datetime\n",
    "import matplotlib.pyplot as plt"
   ]
  },
  {
   "cell_type": "markdown",
   "metadata": {},
   "source": [
    "# Load data"
   ]
  },
  {
   "cell_type": "code",
   "execution_count": 41,
   "metadata": {},
   "outputs": [],
   "source": [
    "# My computer has some memory issues, so the data will be saved and loaded regularly during this notebook"
   ]
  },
  {
   "cell_type": "code",
   "execution_count": 42,
   "metadata": {},
   "outputs": [
    {
     "name": "stderr",
     "output_type": "stream",
     "text": [
      "/home/dantole/anaconda3/lib/python3.7/site-packages/IPython/core/interactiveshell.py:3058: DtypeWarning: Columns (0,19,49,59,118,129,130,131,134,135,136,139,145,146,147) have mixed types. Specify dtype option on import or set low_memory=False.\n",
      "  interactivity=interactivity, compiler=compiler, result=result)\n"
     ]
    },
    {
     "name": "stdout",
     "output_type": "stream",
     "text": [
      "Load time : 21.69942331314087\n"
     ]
    }
   ],
   "source": [
    "start = time.time()\n",
    "df = pd.read_csv('./rawData/accepted_2007_to_2018Q4.csv')\n",
    "print(f'Load time : {time.time() - start}')"
   ]
  },
  {
   "cell_type": "markdown",
   "metadata": {},
   "source": [
    "# Data cleaning"
   ]
  },
  {
   "cell_type": "code",
   "execution_count": 43,
   "metadata": {},
   "outputs": [],
   "source": [
    "def is_integer(x):\n",
    "    '''\n",
    "    This function returns True if x is an integer, and False otherwise\n",
    "    '''\n",
    "    try:\n",
    "        return (int(x) == float(x))\n",
    "    except:\n",
    "        return False"
   ]
  },
  {
   "cell_type": "code",
   "execution_count": 44,
   "metadata": {},
   "outputs": [
    {
     "name": "stdout",
     "output_type": "stream",
     "text": [
      "Time : 47.096351146698\n"
     ]
    }
   ],
   "source": [
    "date_cols = ['issue_d', 'earliest_cr_line', 'last_pymnt_d']\n",
    "\n",
    "def clean_date(x):\n",
    "    if pd.isnull(x):\n",
    "        return None\n",
    "    else:\n",
    "        return datetime.datetime.strptime(x, \"%b-%Y\").date()\n",
    "\n",
    "start = time.time()\n",
    "for i in date_cols:\n",
    "    try:\n",
    "        df[i] = df[i].apply( clean_date )\n",
    "    except:\n",
    "        pass\n",
    "print(f'Time : {time.time() - start}')"
   ]
  },
  {
   "cell_type": "code",
   "execution_count": 45,
   "metadata": {},
   "outputs": [
    {
     "data": {
      "text/plain": [
       "(2260668, 151)"
      ]
     },
     "execution_count": 45,
     "metadata": {},
     "output_type": "execute_result"
    }
   ],
   "source": [
    "df = df[~df.term.isna()]\n",
    "df.shape"
   ]
  },
  {
   "cell_type": "markdown",
   "metadata": {},
   "source": [
    "# Data selection"
   ]
  },
  {
   "cell_type": "code",
   "execution_count": 47,
   "metadata": {},
   "outputs": [],
   "source": [
    "relevant_cols = [\n",
    "# ------------ loan application and LC terms                 \n",
    "#     'id',  # not a predictor\n",
    "    'desc', # not a predictor, mapped to new var _has_desc\n",
    "    'title', # not a predictor\n",
    "    'application_type',   # binary  {'Individual':0, 'Joint App':1}\n",
    "    'purpose',  # cardinal\n",
    "    'grade',    # ordinal, map to N\n",
    "    'sub_grade', # ordinal, map to N\n",
    "    'term',      # binary  {'36 months':0, '60 months':1}\n",
    "    'loan_amnt', # numeric\n",
    "    'int_rate',  # numeric\n",
    "    'installment',  # numeric\n",
    "    'issue_d',   # not a predictor\n",
    "    'initial_list_status',  # binary  {'w':0, 'f':1}\n",
    "    'disbursement_method',  # binary  {'Cash':0, 'DirectPay':1}\n",
    "\n",
    "# ------------ borrower (self-declared except for verification status)\n",
    "    'member_id', # not a predictor\n",
    "    'addr_state', # cardinal\n",
    "    'zip_code',   # not a predictor, b/c 956 zip_codes, too granular\n",
    "    'home_ownership',  # cardinal, leave 4 categories: MORTGAGE, RENT, OWN, OTHER(+ANY,+NONE)\n",
    "    'emp_length', # ordinal, map to N\n",
    "    'emp_title',  # not a predictor\n",
    "    'annual_inc', # numeric\n",
    "    'annual_inc_joint',  # not a predictor (mapped to annual_inc)\n",
    "    'verification_status',  # ordinal: {'Not Verified':0, 'Source Verified':1, 'Verified':2}\n",
    "    'verification_status_joint',  # not a predictor (mapped to verification_status)\n",
    "\n",
    "# ------------ hard credit inquiry at origination\n",
    "    'fico_range_high',  # remove. fico_high=fico_low+4 or, very rarely, fico_high=fico_low+5\n",
    "    'fico_range_low',  # numeric\n",
    "    'delinq_2yrs',# numeric\n",
    "    'dti', # numeric\n",
    "    'dti_joint',  # not a predictor (mapped to dti)\n",
    "    'earliest_cr_line', # not a predictor (mapped to new var _credit_hist)\n",
    "    'open_acc', # numeric\n",
    "    'pub_rec', # numeric\n",
    "    'revol_bal', # numeric\n",
    "    'revol_util', # numeric\n",
    "\n",
    "# ------------ targets / target components \n",
    "    'loan_status',\n",
    "    'funded_amnt',\n",
    "    'total_pymnt',  # includes recoveries\n",
    "    'last_pymnt_d',\n",
    "    'last_credit_pull_d', # proxy if last_pymnt_d is NaN\n",
    "    'recoveries',\n",
    "]"
   ]
  },
  {
   "cell_type": "code",
   "execution_count": 48,
   "metadata": {},
   "outputs": [
    {
     "name": "stdout",
     "output_type": "stream",
     "text": [
      "39 features selected\n"
     ]
    }
   ],
   "source": [
    "print(f'{len(relevant_cols)} features selected')\n",
    "\n",
    "# new dataframe of features\n",
    "df = df[relevant_cols]"
   ]
  },
  {
   "cell_type": "code",
   "execution_count": 50,
   "metadata": {},
   "outputs": [
    {
     "name": "stdout",
     "output_type": "stream",
     "text": [
      "Charged Off                                            2313\n",
      "Late (31-120 days)                                      102\n",
      "Does not meet the credit policy. Status:Charged Off      12\n",
      "Name: loan_status, dtype: int64\n"
     ]
    }
   ],
   "source": [
    "print(df[df.last_pymnt_d.isna()]['loan_status'].value_counts())\n",
    "df.last_pymnt_d = np.where(df.last_pymnt_d.isna(), df.last_credit_pull_d, df.last_pymnt_d)\n",
    "df.drop('last_credit_pull_d', inplace=True, axis=1)"
   ]
  },
  {
   "cell_type": "code",
   "execution_count": 51,
   "metadata": {},
   "outputs": [],
   "source": [
    "# Joint Applications\n",
    "# when the loan is joint (legally, a joint obligation), the joint numbers supercede the single numbers :\n",
    "#    dti_joint  --> if exists, replace dti  \n",
    "#    annual_inc_joint --> if exists, replace annual_inc\n",
    "#    verification_status_joint --> if exists AND is 'verified', replace verification_status \n",
    "\n",
    "df.dti = np.where(df.application_type=='Joint App', df.dti_joint, df.dti)\n",
    "df.annual_inc = np.where(df.application_type=='Joint App', df.annual_inc_joint, df.annual_inc)\n",
    "df.verification_status = np.where(df.verification_status_joint=='Verified', \n",
    "                                  df.verification_status_joint, df.verification_status)\n",
    "\n",
    "# drop the joint numbers, they will not be used anymore\n",
    "df.drop(['dti_joint', 'annual_inc_joint', 'verification_status_joint'], inplace=True, axis=1)"
   ]
  },
  {
   "cell_type": "code",
   "execution_count": 53,
   "metadata": {},
   "outputs": [
    {
     "data": {
      "text/plain": [
       "Fully Paid                                             1076751\n",
       "Current                                                 878317\n",
       "Charged Off                                             268559\n",
       "Late (31-120 days)                                       21467\n",
       "In Grace Period                                           8436\n",
       "Late (16-30 days)                                         4349\n",
       "Does not meet the credit policy. Status:Fully Paid        1988\n",
       "Does not meet the credit policy. Status:Charged Off        761\n",
       "Default                                                     40\n",
       "Name: loan_status, dtype: int64"
      ]
     },
     "execution_count": 53,
     "metadata": {},
     "output_type": "execute_result"
    }
   ],
   "source": [
    "df.loan_status.value_counts()"
   ]
  },
  {
   "cell_type": "code",
   "execution_count": 54,
   "metadata": {},
   "outputs": [],
   "source": [
    "remove_loans = ['Current','Late (31-120 days)','Late (16-30 days)','In Grace Period']\n",
    "df = df[~df.loan_status.isin(remove_loans)]"
   ]
  },
  {
   "cell_type": "code",
   "execution_count": 55,
   "metadata": {},
   "outputs": [
    {
     "data": {
      "text/plain": [
       "(1348099, 35)"
      ]
     },
     "execution_count": 55,
     "metadata": {},
     "output_type": "execute_result"
    }
   ],
   "source": [
    "df.shape"
   ]
  },
  {
   "cell_type": "code",
   "execution_count": 56,
   "metadata": {},
   "outputs": [
    {
     "data": {
      "text/plain": [
       "Fully Paid                                             0.798718\n",
       "Charged Off                                            0.199213\n",
       "Does not meet the credit policy. Status:Fully Paid     0.001475\n",
       "Does not meet the credit policy. Status:Charged Off    0.000564\n",
       "Default                                                0.000030\n",
       "Name: loan_status, dtype: float64"
      ]
     },
     "execution_count": 56,
     "metadata": {},
     "output_type": "execute_result"
    }
   ],
   "source": [
    "df.loan_status.value_counts(dropna=False, normalize=True)"
   ]
  },
  {
   "cell_type": "markdown",
   "metadata": {},
   "source": [
    "# Data imputation"
   ]
  },
  {
   "cell_type": "code",
   "execution_count": 57,
   "metadata": {},
   "outputs": [
    {
     "data": {
      "text/html": [
       "<div>\n",
       "<style scoped>\n",
       "    .dataframe tbody tr th:only-of-type {\n",
       "        vertical-align: middle;\n",
       "    }\n",
       "\n",
       "    .dataframe tbody tr th {\n",
       "        vertical-align: top;\n",
       "    }\n",
       "\n",
       "    .dataframe thead th {\n",
       "        text-align: right;\n",
       "    }\n",
       "</style>\n",
       "<table border=\"1\" class=\"dataframe\">\n",
       "  <thead>\n",
       "    <tr style=\"text-align: right;\">\n",
       "      <th></th>\n",
       "      <th>index</th>\n",
       "      <th>0</th>\n",
       "    </tr>\n",
       "  </thead>\n",
       "  <tbody>\n",
       "    <tr>\n",
       "      <td>0</td>\n",
       "      <td>member_id</td>\n",
       "      <td>1348099</td>\n",
       "    </tr>\n",
       "    <tr>\n",
       "      <td>1</td>\n",
       "      <td>desc</td>\n",
       "      <td>1222144</td>\n",
       "    </tr>\n",
       "    <tr>\n",
       "      <td>2</td>\n",
       "      <td>emp_title</td>\n",
       "      <td>85950</td>\n",
       "    </tr>\n",
       "    <tr>\n",
       "      <td>3</td>\n",
       "      <td>emp_length</td>\n",
       "      <td>78550</td>\n",
       "    </tr>\n",
       "    <tr>\n",
       "      <td>4</td>\n",
       "      <td>title</td>\n",
       "      <td>16661</td>\n",
       "    </tr>\n",
       "    <tr>\n",
       "      <td>5</td>\n",
       "      <td>revol_util</td>\n",
       "      <td>897</td>\n",
       "    </tr>\n",
       "    <tr>\n",
       "      <td>6</td>\n",
       "      <td>pub_rec</td>\n",
       "      <td>29</td>\n",
       "    </tr>\n",
       "    <tr>\n",
       "      <td>7</td>\n",
       "      <td>open_acc</td>\n",
       "      <td>29</td>\n",
       "    </tr>\n",
       "    <tr>\n",
       "      <td>8</td>\n",
       "      <td>earliest_cr_line</td>\n",
       "      <td>29</td>\n",
       "    </tr>\n",
       "    <tr>\n",
       "      <td>9</td>\n",
       "      <td>delinq_2yrs</td>\n",
       "      <td>29</td>\n",
       "    </tr>\n",
       "    <tr>\n",
       "      <td>10</td>\n",
       "      <td>annual_inc</td>\n",
       "      <td>4</td>\n",
       "    </tr>\n",
       "    <tr>\n",
       "      <td>11</td>\n",
       "      <td>dti</td>\n",
       "      <td>3</td>\n",
       "    </tr>\n",
       "    <tr>\n",
       "      <td>12</td>\n",
       "      <td>zip_code</td>\n",
       "      <td>1</td>\n",
       "    </tr>\n",
       "  </tbody>\n",
       "</table>\n",
       "</div>"
      ],
      "text/plain": [
       "               index        0\n",
       "0          member_id  1348099\n",
       "1               desc  1222144\n",
       "2          emp_title    85950\n",
       "3         emp_length    78550\n",
       "4              title    16661\n",
       "5         revol_util      897\n",
       "6            pub_rec       29\n",
       "7           open_acc       29\n",
       "8   earliest_cr_line       29\n",
       "9        delinq_2yrs       29\n",
       "10        annual_inc        4\n",
       "11               dti        3\n",
       "12          zip_code        1"
      ]
     },
     "execution_count": 57,
     "metadata": {},
     "output_type": "execute_result"
    }
   ],
   "source": [
    "na = df.isna().sum().sort_values(ascending=False)\n",
    "na = na[na>0].reset_index()\n",
    "na"
   ]
  },
  {
   "cell_type": "code",
   "execution_count": 68,
   "metadata": {},
   "outputs": [],
   "source": [
    "df.drop(columns=['member_id'], inplace=True)"
   ]
  },
  {
   "cell_type": "code",
   "execution_count": 58,
   "metadata": {},
   "outputs": [],
   "source": [
    "df.zip_code.fillna('355xx', inplace=True)"
   ]
  },
  {
   "cell_type": "code",
   "execution_count": 73,
   "metadata": {},
   "outputs": [],
   "source": [
    "df.revol_util.fillna(0, inplace=True)"
   ]
  },
  {
   "cell_type": "code",
   "execution_count": 74,
   "metadata": {},
   "outputs": [],
   "source": [
    "df.desc.fillna('', inplace=True)\n",
    "df.emp_title.fillna('', inplace=True)\n",
    "df.title.fillna('', inplace=True)"
   ]
  },
  {
   "cell_type": "code",
   "execution_count": 86,
   "metadata": {},
   "outputs": [],
   "source": [
    "df['earliest_cr_line'].dropna(inplace=True)"
   ]
  },
  {
   "cell_type": "code",
   "execution_count": 94,
   "metadata": {},
   "outputs": [
    {
     "data": {
      "text/html": [
       "<div>\n",
       "<style scoped>\n",
       "    .dataframe tbody tr th:only-of-type {\n",
       "        vertical-align: middle;\n",
       "    }\n",
       "\n",
       "    .dataframe tbody tr th {\n",
       "        vertical-align: top;\n",
       "    }\n",
       "\n",
       "    .dataframe thead th {\n",
       "        text-align: right;\n",
       "    }\n",
       "</style>\n",
       "<table border=\"1\" class=\"dataframe\">\n",
       "  <thead>\n",
       "    <tr style=\"text-align: right;\">\n",
       "      <th></th>\n",
       "      <th>index</th>\n",
       "      <th>0</th>\n",
       "    </tr>\n",
       "  </thead>\n",
       "  <tbody>\n",
       "    <tr>\n",
       "      <td>0</td>\n",
       "      <td>emp_length</td>\n",
       "      <td>78550</td>\n",
       "    </tr>\n",
       "    <tr>\n",
       "      <td>1</td>\n",
       "      <td>pub_rec</td>\n",
       "      <td>29</td>\n",
       "    </tr>\n",
       "    <tr>\n",
       "      <td>2</td>\n",
       "      <td>delinq_2yrs</td>\n",
       "      <td>29</td>\n",
       "    </tr>\n",
       "    <tr>\n",
       "      <td>3</td>\n",
       "      <td>earliest_cr_line</td>\n",
       "      <td>29</td>\n",
       "    </tr>\n",
       "    <tr>\n",
       "      <td>4</td>\n",
       "      <td>open_acc</td>\n",
       "      <td>29</td>\n",
       "    </tr>\n",
       "    <tr>\n",
       "      <td>5</td>\n",
       "      <td>annual_inc</td>\n",
       "      <td>4</td>\n",
       "    </tr>\n",
       "    <tr>\n",
       "      <td>6</td>\n",
       "      <td>dti</td>\n",
       "      <td>3</td>\n",
       "    </tr>\n",
       "  </tbody>\n",
       "</table>\n",
       "</div>"
      ],
      "text/plain": [
       "              index      0\n",
       "0        emp_length  78550\n",
       "1           pub_rec     29\n",
       "2       delinq_2yrs     29\n",
       "3  earliest_cr_line     29\n",
       "4          open_acc     29\n",
       "5        annual_inc      4\n",
       "6               dti      3"
      ]
     },
     "execution_count": 94,
     "metadata": {},
     "output_type": "execute_result"
    }
   ],
   "source": [
    "na = df.isna().sum().sort_values(ascending=False)\n",
    "na = na[na>0].reset_index()\n",
    "na"
   ]
  },
  {
   "cell_type": "markdown",
   "metadata": {},
   "source": [
    "# Targets"
   ]
  },
  {
   "cell_type": "markdown",
   "metadata": {},
   "source": [
    "## Classification target"
   ]
  },
  {
   "cell_type": "code",
   "execution_count": 15,
   "metadata": {},
   "outputs": [],
   "source": [
    "# do not produce numpy targets yet b/c dataframe rows will be modified\n",
    "good_loans = ['Fully Paid', 'Does not meet the credit policy. Status:Fully Paid']\n",
    "df['_good'] = df.loan_status.isin(good_loans).astype(int)"
   ]
  },
  {
   "cell_type": "code",
   "execution_count": 16,
   "metadata": {},
   "outputs": [
    {
     "data": {
      "text/plain": [
       "1    0.800193\n",
       "0    0.199807\n",
       "Name: _good, dtype: float64"
      ]
     },
     "execution_count": 16,
     "metadata": {},
     "output_type": "execute_result"
    }
   ],
   "source": [
    "df._good.value_counts(normalize=True)"
   ]
  },
  {
   "cell_type": "markdown",
   "metadata": {},
   "source": [
    "## Regression target"
   ]
  },
  {
   "cell_type": "markdown",
   "metadata": {},
   "source": [
    "## Returns"
   ]
  },
  {
   "cell_type": "markdown",
   "metadata": {},
   "source": [
    "Returns are computed with a fixed time horizon (T months), such that the cash flow is reinvested each month at the yearly rate i%, compounded monthly.\\\n",
    "\n",
    "$$\n",
    "     R = \\frac{12}{T} \\frac{1}{f} \\left( \\left( \\frac{p}{m} \\left( \\frac{1-(1+i)^m}{1-(1+i)} \\right) \\right)(1+i)^{T-m} - f \\right)\n",
    "$$\n",
    "\n",
    "- T : horizon of the investment\n",
    "- f : total amount invested in the loan\n",
    "- p : total amount repaid and recovered by the loan\n",
    "- m : actual lenght of the loan\n",
    "- i : yearly rate"
   ]
  },
  {
   "cell_type": "code",
   "execution_count": 17,
   "metadata": {},
   "outputs": [],
   "source": [
    "df['loan_length'] = (df['last_pymnt_d'] - df['issue_d']) / np.timedelta64(1, 'M')"
   ]
  },
  {
   "cell_type": "code",
   "execution_count": 18,
   "metadata": {},
   "outputs": [],
   "source": [
    "def return_reinvest_compound(T, i):\n",
    "    # Assuming that the total amount paid back was paid at equal\n",
    "    # intervals during the duration of the loan, calculate the\n",
    "    # size of each of these installment\n",
    "    actual_installment = (df.total_pymnt - df.recoveries) / df['loan_length']\n",
    "\n",
    "    # Assuming the amount is immediately re-invested at the prime\n",
    "    # rate, find the total amount of money we'll have by the end\n",
    "    # of the loan\n",
    "    cash_by_end_of_loan = actual_installment * (1 - pow(1 + i, df.loan_length)) / ( 1 - (1 + i) )\n",
    "    \n",
    "    cash_by_end_of_loan = cash_by_end_of_loan + df.recoveries\n",
    "    \n",
    "    # Assuming that cash is then re-invested at the prime rate,\n",
    "    # with monthly re-investment, until T months from the start\n",
    "    # of the loan\n",
    "    remaining_months = T - df['loan_length']\n",
    "    final_return = cash_by_end_of_loan * pow(1 + i, remaining_months)\n",
    "\n",
    "    # Find the percentage return\n",
    "    return( (12/T) * ( ( final_return - df['funded_amnt'] ) / df['funded_amnt'] ) )\n",
    "\n",
    "df['returns1'] = return_reinvest_compound(5*12, .001)\n",
    "df['returns2'] = return_reinvest_compound(5*12, .0025)\n",
    "df['returns3'] = return_reinvest_compound(5*12, .005)"
   ]
  },
  {
   "cell_type": "markdown",
   "metadata": {},
   "source": [
    "# Feature engineering"
   ]
  },
  {
   "cell_type": "code",
   "execution_count": null,
   "metadata": {},
   "outputs": [],
   "source": [
    "# create a new field 'has description' (proxy for extra transparency?)\n",
    "df['_has_desc'] = np.vectorize(len)(df.desc)>0\n",
    "df._has_desc = df._has_desc.astype(int)\n",
    "# create a new field for credit history in Years\n",
    "df['_credit_hist'] = credit_history"
   ]
  },
  {
   "cell_type": "markdown",
   "metadata": {},
   "source": [
    "# Visualize variables"
   ]
  },
  {
   "cell_type": "code",
   "execution_count": 29,
   "metadata": {},
   "outputs": [],
   "source": [
    "ordinal = [\n",
    "    'application_type',\n",
    "    'grade',\n",
    "    'sub_grade',\n",
    "    'term',\n",
    "    'initial_list_status',  # LC claims this is purely random: chi2 test!\n",
    "    'emp_length',\n",
    "    'verification_status',\n",
    "    '_has_desc',\n",
    "]\n",
    "\n",
    "df.home_ownership.replace({'ANY':'OTHER', 'NONE':'OTHER'}, inplace=True)\n",
    "\n",
    "nominal = [\n",
    "  'purpose',\n",
    "  'addr_state', # if linear models do not pick up this feature, revisit amd remomve dummies (probably too much noise)\n",
    "  'home_ownership',\n",
    "  'disbursement_method', #highly imbalanced and probably irrelevant\n",
    "]\n",
    "\n",
    "numeric = [   \n",
    "    'loan_amnt', # numeric\n",
    "    'int_rate',  # numeric\n",
    "    'installment',  # numeric\n",
    "    'annual_inc', # numeric\n",
    "    'fico_range_low', \n",
    "    'delinq_2yrs',# numeric\n",
    "    'dti', # numeric\n",
    "    'open_acc', # numeric\n",
    "    'pub_rec', # numeric\n",
    "    'revol_bal', # numeric\n",
    "    'revol_util', # numeric\n",
    "    '_credit_hist', # new numeric\n",
    "]"
   ]
  },
  {
   "cell_type": "code",
   "execution_count": null,
   "metadata": {},
   "outputs": [],
   "source": [
    "def visualize_feature:\n",
    "    "
   ]
  },
  {
   "cell_type": "code",
   "execution_count": null,
   "metadata": {},
   "outputs": [],
   "source": [
    "for col in df.columns:\n",
    "    "
   ]
  }
 ],
 "metadata": {
  "kernelspec": {
   "display_name": "Python 3",
   "language": "python",
   "name": "python3"
  },
  "language_info": {
   "codemirror_mode": {
    "name": "ipython",
    "version": 3
   },
   "file_extension": ".py",
   "mimetype": "text/x-python",
   "name": "python",
   "nbconvert_exporter": "python",
   "pygments_lexer": "ipython3",
   "version": "3.7.4"
  }
 },
 "nbformat": 4,
 "nbformat_minor": 4
}
