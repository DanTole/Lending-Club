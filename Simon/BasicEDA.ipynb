{
 "cells": [
  {
   "cell_type": "code",
   "execution_count": 1,
   "metadata": {},
   "outputs": [
    {
     "name": "stderr",
     "output_type": "stream",
     "text": [
      "/Library/Frameworks/Python.framework/Versions/3.8/lib/python3.8/site-packages/IPython/core/interactiveshell.py:3062: DtypeWarning: Columns (0,19,49,59,118,129,130,131,134,135,136,139,145,146,147) have mixed types.Specify dtype option on import or set low_memory=False.\n",
      "  has_raised = await self.run_ast_nodes(code_ast.body, cell_name,\n"
     ]
    }
   ],
   "source": [
    "import pandas as pd\n",
    "accept = pd.read_csv('../rawData/accepted_2007_to_2018Q4.csv')"
   ]
  },
  {
   "cell_type": "code",
   "execution_count": 2,
   "metadata": {},
   "outputs": [
    {
     "data": {
      "text/plain": [
       "Index(['id', 'desc', 'next_pymnt_d', 'verification_status_joint',\n",
       "       'sec_app_earliest_cr_line', 'hardship_type', 'hardship_reason',\n",
       "       'hardship_status', 'hardship_start_date', 'hardship_end_date',\n",
       "       'payment_plan_start_date', 'hardship_loan_status',\n",
       "       'debt_settlement_flag_date', 'settlement_status', 'settlement_date'],\n",
       "      dtype='object')"
      ]
     },
     "execution_count": 2,
     "metadata": {},
     "output_type": "execute_result"
    }
   ],
   "source": [
    "# These columns all have mixed datatypes\n",
    "accept.columns[[0,19,49,59,118,129,130,131,134,135,136,139,145,146,147]]"
   ]
  },
  {
   "cell_type": "code",
   "execution_count": 3,
   "metadata": {},
   "outputs": [
    {
     "data": {
      "text/plain": [
       "dtype('int64')"
      ]
     },
     "execution_count": 3,
     "metadata": {},
     "output_type": "execute_result"
    }
   ],
   "source": [
    "# id is worth fixing\n",
    "def find_weird(x):\n",
    "    try:\n",
    "        _ = int(x)\n",
    "        return(True)\n",
    "    except:\n",
    "        return(False)\n",
    "\n",
    "accept = accept[accept['id'].apply(find_weird)]\n",
    "accept['id'] = accept['id'].apply(int)\n",
    "accept['id'].dtype"
   ]
  },
  {
   "cell_type": "code",
   "execution_count": 4,
   "metadata": {},
   "outputs": [
    {
     "data": {
      "text/html": [
       "<div>\n",
       "<style scoped>\n",
       "    .dataframe tbody tr th:only-of-type {\n",
       "        vertical-align: middle;\n",
       "    }\n",
       "\n",
       "    .dataframe tbody tr th {\n",
       "        vertical-align: top;\n",
       "    }\n",
       "\n",
       "    .dataframe thead th {\n",
       "        text-align: right;\n",
       "    }\n",
       "</style>\n",
       "<table border=\"1\" class=\"dataframe\">\n",
       "  <thead>\n",
       "    <tr style=\"text-align: right;\">\n",
       "      <th></th>\n",
       "      <th>1278483</th>\n",
       "      <th>1111908</th>\n",
       "    </tr>\n",
       "  </thead>\n",
       "  <tbody>\n",
       "    <tr>\n",
       "      <th>id</th>\n",
       "      <td>14137782</td>\n",
       "      <td>68388819</td>\n",
       "    </tr>\n",
       "    <tr>\n",
       "      <th>member_id</th>\n",
       "      <td>NaN</td>\n",
       "      <td>NaN</td>\n",
       "    </tr>\n",
       "    <tr>\n",
       "      <th>loan_amnt</th>\n",
       "      <td>7200</td>\n",
       "      <td>25000</td>\n",
       "    </tr>\n",
       "    <tr>\n",
       "      <th>funded_amnt</th>\n",
       "      <td>7200</td>\n",
       "      <td>25000</td>\n",
       "    </tr>\n",
       "    <tr>\n",
       "      <th>funded_amnt_inv</th>\n",
       "      <td>7200</td>\n",
       "      <td>25000</td>\n",
       "    </tr>\n",
       "    <tr>\n",
       "      <th>term</th>\n",
       "      <td>36 months</td>\n",
       "      <td>60 months</td>\n",
       "    </tr>\n",
       "    <tr>\n",
       "      <th>int_rate</th>\n",
       "      <td>18.24</td>\n",
       "      <td>14.85</td>\n",
       "    </tr>\n",
       "    <tr>\n",
       "      <th>installment</th>\n",
       "      <td>261.17</td>\n",
       "      <td>592.79</td>\n",
       "    </tr>\n",
       "    <tr>\n",
       "      <th>grade</th>\n",
       "      <td>D</td>\n",
       "      <td>C</td>\n",
       "    </tr>\n",
       "    <tr>\n",
       "      <th>sub_grade</th>\n",
       "      <td>D5</td>\n",
       "      <td>C5</td>\n",
       "    </tr>\n",
       "    <tr>\n",
       "      <th>emp_title</th>\n",
       "      <td>Teacher</td>\n",
       "      <td>Store manager</td>\n",
       "    </tr>\n",
       "    <tr>\n",
       "      <th>emp_length</th>\n",
       "      <td>7 years</td>\n",
       "      <td>1 year</td>\n",
       "    </tr>\n",
       "    <tr>\n",
       "      <th>home_ownership</th>\n",
       "      <td>MORTGAGE</td>\n",
       "      <td>RENT</td>\n",
       "    </tr>\n",
       "    <tr>\n",
       "      <th>annual_inc</th>\n",
       "      <td>53000</td>\n",
       "      <td>95000</td>\n",
       "    </tr>\n",
       "    <tr>\n",
       "      <th>verification_status</th>\n",
       "      <td>Source Verified</td>\n",
       "      <td>Not Verified</td>\n",
       "    </tr>\n",
       "    <tr>\n",
       "      <th>issue_d</th>\n",
       "      <td>May-2014</td>\n",
       "      <td>Jan-2016</td>\n",
       "    </tr>\n",
       "    <tr>\n",
       "      <th>loan_status</th>\n",
       "      <td>Fully Paid</td>\n",
       "      <td>Current</td>\n",
       "    </tr>\n",
       "    <tr>\n",
       "      <th>pymnt_plan</th>\n",
       "      <td>n</td>\n",
       "      <td>n</td>\n",
       "    </tr>\n",
       "    <tr>\n",
       "      <th>url</th>\n",
       "      <td>https://lendingclub.com/browse/loanDetail.acti...</td>\n",
       "      <td>https://lendingclub.com/browse/loanDetail.acti...</td>\n",
       "    </tr>\n",
       "    <tr>\n",
       "      <th>desc</th>\n",
       "      <td>NaN</td>\n",
       "      <td>NaN</td>\n",
       "    </tr>\n",
       "    <tr>\n",
       "      <th>purpose</th>\n",
       "      <td>home_improvement</td>\n",
       "      <td>debt_consolidation</td>\n",
       "    </tr>\n",
       "    <tr>\n",
       "      <th>title</th>\n",
       "      <td>Home improvement</td>\n",
       "      <td>Debt consolidation</td>\n",
       "    </tr>\n",
       "    <tr>\n",
       "      <th>zip_code</th>\n",
       "      <td>750xx</td>\n",
       "      <td>945xx</td>\n",
       "    </tr>\n",
       "    <tr>\n",
       "      <th>addr_state</th>\n",
       "      <td>TX</td>\n",
       "      <td>CA</td>\n",
       "    </tr>\n",
       "    <tr>\n",
       "      <th>dti</th>\n",
       "      <td>21.2</td>\n",
       "      <td>32.79</td>\n",
       "    </tr>\n",
       "    <tr>\n",
       "      <th>delinq_2yrs</th>\n",
       "      <td>0</td>\n",
       "      <td>0</td>\n",
       "    </tr>\n",
       "    <tr>\n",
       "      <th>earliest_cr_line</th>\n",
       "      <td>Apr-2004</td>\n",
       "      <td>Apr-2000</td>\n",
       "    </tr>\n",
       "    <tr>\n",
       "      <th>fico_range_low</th>\n",
       "      <td>665</td>\n",
       "      <td>700</td>\n",
       "    </tr>\n",
       "    <tr>\n",
       "      <th>fico_range_high</th>\n",
       "      <td>669</td>\n",
       "      <td>704</td>\n",
       "    </tr>\n",
       "    <tr>\n",
       "      <th>inq_last_6mths</th>\n",
       "      <td>2</td>\n",
       "      <td>0</td>\n",
       "    </tr>\n",
       "    <tr>\n",
       "      <th>mths_since_last_delinq</th>\n",
       "      <td>31</td>\n",
       "      <td>NaN</td>\n",
       "    </tr>\n",
       "    <tr>\n",
       "      <th>mths_since_last_record</th>\n",
       "      <td>NaN</td>\n",
       "      <td>NaN</td>\n",
       "    </tr>\n",
       "    <tr>\n",
       "      <th>open_acc</th>\n",
       "      <td>8</td>\n",
       "      <td>14</td>\n",
       "    </tr>\n",
       "    <tr>\n",
       "      <th>pub_rec</th>\n",
       "      <td>0</td>\n",
       "      <td>0</td>\n",
       "    </tr>\n",
       "    <tr>\n",
       "      <th>revol_bal</th>\n",
       "      <td>6768</td>\n",
       "      <td>29915</td>\n",
       "    </tr>\n",
       "    <tr>\n",
       "      <th>revol_util</th>\n",
       "      <td>74.4</td>\n",
       "      <td>74.2</td>\n",
       "    </tr>\n",
       "    <tr>\n",
       "      <th>total_acc</th>\n",
       "      <td>9</td>\n",
       "      <td>27</td>\n",
       "    </tr>\n",
       "    <tr>\n",
       "      <th>initial_list_status</th>\n",
       "      <td>f</td>\n",
       "      <td>w</td>\n",
       "    </tr>\n",
       "    <tr>\n",
       "      <th>out_prncp</th>\n",
       "      <td>0</td>\n",
       "      <td>11359.3</td>\n",
       "    </tr>\n",
       "    <tr>\n",
       "      <th>out_prncp_inv</th>\n",
       "      <td>0</td>\n",
       "      <td>11359.3</td>\n",
       "    </tr>\n",
       "    <tr>\n",
       "      <th>total_pymnt</th>\n",
       "      <td>9097.13</td>\n",
       "      <td>22649.8</td>\n",
       "    </tr>\n",
       "    <tr>\n",
       "      <th>total_pymnt_inv</th>\n",
       "      <td>9097.13</td>\n",
       "      <td>22649.8</td>\n",
       "    </tr>\n",
       "    <tr>\n",
       "      <th>total_rec_prncp</th>\n",
       "      <td>7200</td>\n",
       "      <td>13640.7</td>\n",
       "    </tr>\n",
       "    <tr>\n",
       "      <th>total_rec_int</th>\n",
       "      <td>1882.13</td>\n",
       "      <td>9009.04</td>\n",
       "    </tr>\n",
       "    <tr>\n",
       "      <th>total_rec_late_fee</th>\n",
       "      <td>15</td>\n",
       "      <td>0</td>\n",
       "    </tr>\n",
       "    <tr>\n",
       "      <th>recoveries</th>\n",
       "      <td>0</td>\n",
       "      <td>0</td>\n",
       "    </tr>\n",
       "    <tr>\n",
       "      <th>collection_recovery_fee</th>\n",
       "      <td>0</td>\n",
       "      <td>0</td>\n",
       "    </tr>\n",
       "    <tr>\n",
       "      <th>last_pymnt_d</th>\n",
       "      <td>Apr-2016</td>\n",
       "      <td>Mar-2019</td>\n",
       "    </tr>\n",
       "    <tr>\n",
       "      <th>last_pymnt_amnt</th>\n",
       "      <td>3336.39</td>\n",
       "      <td>592.79</td>\n",
       "    </tr>\n",
       "    <tr>\n",
       "      <th>next_pymnt_d</th>\n",
       "      <td>NaN</td>\n",
       "      <td>Apr-2019</td>\n",
       "    </tr>\n",
       "    <tr>\n",
       "      <th>last_credit_pull_d</th>\n",
       "      <td>Jul-2018</td>\n",
       "      <td>Mar-2019</td>\n",
       "    </tr>\n",
       "    <tr>\n",
       "      <th>last_fico_range_high</th>\n",
       "      <td>634</td>\n",
       "      <td>649</td>\n",
       "    </tr>\n",
       "    <tr>\n",
       "      <th>last_fico_range_low</th>\n",
       "      <td>630</td>\n",
       "      <td>645</td>\n",
       "    </tr>\n",
       "    <tr>\n",
       "      <th>collections_12_mths_ex_med</th>\n",
       "      <td>0</td>\n",
       "      <td>0</td>\n",
       "    </tr>\n",
       "    <tr>\n",
       "      <th>mths_since_last_major_derog</th>\n",
       "      <td>NaN</td>\n",
       "      <td>NaN</td>\n",
       "    </tr>\n",
       "    <tr>\n",
       "      <th>policy_code</th>\n",
       "      <td>1</td>\n",
       "      <td>1</td>\n",
       "    </tr>\n",
       "    <tr>\n",
       "      <th>application_type</th>\n",
       "      <td>Individual</td>\n",
       "      <td>Individual</td>\n",
       "    </tr>\n",
       "    <tr>\n",
       "      <th>annual_inc_joint</th>\n",
       "      <td>NaN</td>\n",
       "      <td>NaN</td>\n",
       "    </tr>\n",
       "    <tr>\n",
       "      <th>dti_joint</th>\n",
       "      <td>NaN</td>\n",
       "      <td>NaN</td>\n",
       "    </tr>\n",
       "    <tr>\n",
       "      <th>verification_status_joint</th>\n",
       "      <td>NaN</td>\n",
       "      <td>NaN</td>\n",
       "    </tr>\n",
       "    <tr>\n",
       "      <th>acc_now_delinq</th>\n",
       "      <td>0</td>\n",
       "      <td>0</td>\n",
       "    </tr>\n",
       "    <tr>\n",
       "      <th>tot_coll_amt</th>\n",
       "      <td>0</td>\n",
       "      <td>0</td>\n",
       "    </tr>\n",
       "    <tr>\n",
       "      <th>tot_cur_bal</th>\n",
       "      <td>206793</td>\n",
       "      <td>90432</td>\n",
       "    </tr>\n",
       "    <tr>\n",
       "      <th>open_acc_6m</th>\n",
       "      <td>NaN</td>\n",
       "      <td>0</td>\n",
       "    </tr>\n",
       "    <tr>\n",
       "      <th>open_act_il</th>\n",
       "      <td>NaN</td>\n",
       "      <td>4</td>\n",
       "    </tr>\n",
       "    <tr>\n",
       "      <th>open_il_12m</th>\n",
       "      <td>NaN</td>\n",
       "      <td>1</td>\n",
       "    </tr>\n",
       "    <tr>\n",
       "      <th>open_il_24m</th>\n",
       "      <td>NaN</td>\n",
       "      <td>3</td>\n",
       "    </tr>\n",
       "    <tr>\n",
       "      <th>mths_since_rcnt_il</th>\n",
       "      <td>NaN</td>\n",
       "      <td>12</td>\n",
       "    </tr>\n",
       "    <tr>\n",
       "      <th>total_bal_il</th>\n",
       "      <td>NaN</td>\n",
       "      <td>60517</td>\n",
       "    </tr>\n",
       "    <tr>\n",
       "      <th>il_util</th>\n",
       "      <td>NaN</td>\n",
       "      <td>78</td>\n",
       "    </tr>\n",
       "    <tr>\n",
       "      <th>open_rv_12m</th>\n",
       "      <td>NaN</td>\n",
       "      <td>0</td>\n",
       "    </tr>\n",
       "    <tr>\n",
       "      <th>open_rv_24m</th>\n",
       "      <td>NaN</td>\n",
       "      <td>0</td>\n",
       "    </tr>\n",
       "    <tr>\n",
       "      <th>max_bal_bc</th>\n",
       "      <td>NaN</td>\n",
       "      <td>7371</td>\n",
       "    </tr>\n",
       "    <tr>\n",
       "      <th>all_util</th>\n",
       "      <td>NaN</td>\n",
       "      <td>76</td>\n",
       "    </tr>\n",
       "    <tr>\n",
       "      <th>total_rev_hi_lim</th>\n",
       "      <td>9100</td>\n",
       "      <td>40300</td>\n",
       "    </tr>\n",
       "    <tr>\n",
       "      <th>inq_fi</th>\n",
       "      <td>NaN</td>\n",
       "      <td>1</td>\n",
       "    </tr>\n",
       "    <tr>\n",
       "      <th>total_cu_tl</th>\n",
       "      <td>NaN</td>\n",
       "      <td>3</td>\n",
       "    </tr>\n",
       "    <tr>\n",
       "      <th>inq_last_12m</th>\n",
       "      <td>NaN</td>\n",
       "      <td>0</td>\n",
       "    </tr>\n",
       "    <tr>\n",
       "      <th>acc_open_past_24mths</th>\n",
       "      <td>3</td>\n",
       "      <td>3</td>\n",
       "    </tr>\n",
       "    <tr>\n",
       "      <th>avg_cur_bal</th>\n",
       "      <td>25849</td>\n",
       "      <td>6459</td>\n",
       "    </tr>\n",
       "    <tr>\n",
       "      <th>bc_open_to_buy</th>\n",
       "      <td>1832</td>\n",
       "      <td>6115</td>\n",
       "    </tr>\n",
       "    <tr>\n",
       "      <th>bc_util</th>\n",
       "      <td>78.7</td>\n",
       "      <td>81.3</td>\n",
       "    </tr>\n",
       "    <tr>\n",
       "      <th>chargeoff_within_12_mths</th>\n",
       "      <td>0</td>\n",
       "      <td>0</td>\n",
       "    </tr>\n",
       "    <tr>\n",
       "      <th>delinq_amnt</th>\n",
       "      <td>0</td>\n",
       "      <td>0</td>\n",
       "    </tr>\n",
       "    <tr>\n",
       "      <th>mo_sin_old_il_acct</th>\n",
       "      <td>121</td>\n",
       "      <td>126</td>\n",
       "    </tr>\n",
       "    <tr>\n",
       "      <th>mo_sin_old_rev_tl_op</th>\n",
       "      <td>41</td>\n",
       "      <td>189</td>\n",
       "    </tr>\n",
       "    <tr>\n",
       "      <th>mo_sin_rcnt_rev_tl_op</th>\n",
       "      <td>7</td>\n",
       "      <td>36</td>\n",
       "    </tr>\n",
       "    <tr>\n",
       "      <th>mo_sin_rcnt_tl</th>\n",
       "      <td>2</td>\n",
       "      <td>12</td>\n",
       "    </tr>\n",
       "    <tr>\n",
       "      <th>mort_acc</th>\n",
       "      <td>1</td>\n",
       "      <td>0</td>\n",
       "    </tr>\n",
       "    <tr>\n",
       "      <th>mths_since_recent_bc</th>\n",
       "      <td>32</td>\n",
       "      <td>40</td>\n",
       "    </tr>\n",
       "    <tr>\n",
       "      <th>mths_since_recent_bc_dlq</th>\n",
       "      <td>31</td>\n",
       "      <td>NaN</td>\n",
       "    </tr>\n",
       "    <tr>\n",
       "      <th>mths_since_recent_inq</th>\n",
       "      <td>1</td>\n",
       "      <td>22</td>\n",
       "    </tr>\n",
       "    <tr>\n",
       "      <th>mths_since_recent_revol_delinq</th>\n",
       "      <td>31</td>\n",
       "      <td>NaN</td>\n",
       "    </tr>\n",
       "    <tr>\n",
       "      <th>num_accts_ever_120_pd</th>\n",
       "      <td>0</td>\n",
       "      <td>0</td>\n",
       "    </tr>\n",
       "    <tr>\n",
       "      <th>num_actv_bc_tl</th>\n",
       "      <td>2</td>\n",
       "      <td>7</td>\n",
       "    </tr>\n",
       "    <tr>\n",
       "      <th>num_actv_rev_tl</th>\n",
       "      <td>2</td>\n",
       "      <td>9</td>\n",
       "    </tr>\n",
       "    <tr>\n",
       "      <th>num_bc_sats</th>\n",
       "      <td>3</td>\n",
       "      <td>7</td>\n",
       "    </tr>\n",
       "    <tr>\n",
       "      <th>num_bc_tl</th>\n",
       "      <td>3</td>\n",
       "      <td>12</td>\n",
       "    </tr>\n",
       "    <tr>\n",
       "      <th>num_il_tl</th>\n",
       "      <td>4</td>\n",
       "      <td>6</td>\n",
       "    </tr>\n",
       "    <tr>\n",
       "      <th>num_op_rev_tl</th>\n",
       "      <td>4</td>\n",
       "      <td>10</td>\n",
       "    </tr>\n",
       "    <tr>\n",
       "      <th>num_rev_accts</th>\n",
       "      <td>4</td>\n",
       "      <td>21</td>\n",
       "    </tr>\n",
       "    <tr>\n",
       "      <th>num_rev_tl_bal_gt_0</th>\n",
       "      <td>2</td>\n",
       "      <td>9</td>\n",
       "    </tr>\n",
       "    <tr>\n",
       "      <th>num_sats</th>\n",
       "      <td>8</td>\n",
       "      <td>14</td>\n",
       "    </tr>\n",
       "    <tr>\n",
       "      <th>num_tl_120dpd_2m</th>\n",
       "      <td>0</td>\n",
       "      <td>0</td>\n",
       "    </tr>\n",
       "    <tr>\n",
       "      <th>num_tl_30dpd</th>\n",
       "      <td>0</td>\n",
       "      <td>0</td>\n",
       "    </tr>\n",
       "    <tr>\n",
       "      <th>num_tl_90g_dpd_24m</th>\n",
       "      <td>0</td>\n",
       "      <td>0</td>\n",
       "    </tr>\n",
       "    <tr>\n",
       "      <th>num_tl_op_past_12m</th>\n",
       "      <td>2</td>\n",
       "      <td>1</td>\n",
       "    </tr>\n",
       "    <tr>\n",
       "      <th>pct_tl_nvr_dlq</th>\n",
       "      <td>88.9</td>\n",
       "      <td>100</td>\n",
       "    </tr>\n",
       "    <tr>\n",
       "      <th>percent_bc_gt_75</th>\n",
       "      <td>66.7</td>\n",
       "      <td>57.1</td>\n",
       "    </tr>\n",
       "    <tr>\n",
       "      <th>pub_rec_bankruptcies</th>\n",
       "      <td>0</td>\n",
       "      <td>0</td>\n",
       "    </tr>\n",
       "    <tr>\n",
       "      <th>tax_liens</th>\n",
       "      <td>0</td>\n",
       "      <td>0</td>\n",
       "    </tr>\n",
       "    <tr>\n",
       "      <th>tot_hi_cred_lim</th>\n",
       "      <td>218810</td>\n",
       "      <td>126264</td>\n",
       "    </tr>\n",
       "    <tr>\n",
       "      <th>total_bal_ex_mort</th>\n",
       "      <td>67734</td>\n",
       "      <td>90432</td>\n",
       "    </tr>\n",
       "    <tr>\n",
       "      <th>total_bc_limit</th>\n",
       "      <td>8600</td>\n",
       "      <td>32700</td>\n",
       "    </tr>\n",
       "    <tr>\n",
       "      <th>total_il_high_credit_limit</th>\n",
       "      <td>64360</td>\n",
       "      <td>85964</td>\n",
       "    </tr>\n",
       "    <tr>\n",
       "      <th>revol_bal_joint</th>\n",
       "      <td>NaN</td>\n",
       "      <td>NaN</td>\n",
       "    </tr>\n",
       "    <tr>\n",
       "      <th>sec_app_fico_range_low</th>\n",
       "      <td>NaN</td>\n",
       "      <td>NaN</td>\n",
       "    </tr>\n",
       "    <tr>\n",
       "      <th>sec_app_fico_range_high</th>\n",
       "      <td>NaN</td>\n",
       "      <td>NaN</td>\n",
       "    </tr>\n",
       "    <tr>\n",
       "      <th>sec_app_earliest_cr_line</th>\n",
       "      <td>NaN</td>\n",
       "      <td>NaN</td>\n",
       "    </tr>\n",
       "    <tr>\n",
       "      <th>sec_app_inq_last_6mths</th>\n",
       "      <td>NaN</td>\n",
       "      <td>NaN</td>\n",
       "    </tr>\n",
       "    <tr>\n",
       "      <th>sec_app_mort_acc</th>\n",
       "      <td>NaN</td>\n",
       "      <td>NaN</td>\n",
       "    </tr>\n",
       "    <tr>\n",
       "      <th>sec_app_open_acc</th>\n",
       "      <td>NaN</td>\n",
       "      <td>NaN</td>\n",
       "    </tr>\n",
       "    <tr>\n",
       "      <th>sec_app_revol_util</th>\n",
       "      <td>NaN</td>\n",
       "      <td>NaN</td>\n",
       "    </tr>\n",
       "    <tr>\n",
       "      <th>sec_app_open_act_il</th>\n",
       "      <td>NaN</td>\n",
       "      <td>NaN</td>\n",
       "    </tr>\n",
       "    <tr>\n",
       "      <th>sec_app_num_rev_accts</th>\n",
       "      <td>NaN</td>\n",
       "      <td>NaN</td>\n",
       "    </tr>\n",
       "    <tr>\n",
       "      <th>sec_app_chargeoff_within_12_mths</th>\n",
       "      <td>NaN</td>\n",
       "      <td>NaN</td>\n",
       "    </tr>\n",
       "    <tr>\n",
       "      <th>sec_app_collections_12_mths_ex_med</th>\n",
       "      <td>NaN</td>\n",
       "      <td>NaN</td>\n",
       "    </tr>\n",
       "    <tr>\n",
       "      <th>sec_app_mths_since_last_major_derog</th>\n",
       "      <td>NaN</td>\n",
       "      <td>NaN</td>\n",
       "    </tr>\n",
       "    <tr>\n",
       "      <th>hardship_flag</th>\n",
       "      <td>N</td>\n",
       "      <td>N</td>\n",
       "    </tr>\n",
       "    <tr>\n",
       "      <th>hardship_type</th>\n",
       "      <td>NaN</td>\n",
       "      <td>NaN</td>\n",
       "    </tr>\n",
       "    <tr>\n",
       "      <th>hardship_reason</th>\n",
       "      <td>NaN</td>\n",
       "      <td>NaN</td>\n",
       "    </tr>\n",
       "    <tr>\n",
       "      <th>hardship_status</th>\n",
       "      <td>NaN</td>\n",
       "      <td>NaN</td>\n",
       "    </tr>\n",
       "    <tr>\n",
       "      <th>deferral_term</th>\n",
       "      <td>NaN</td>\n",
       "      <td>NaN</td>\n",
       "    </tr>\n",
       "    <tr>\n",
       "      <th>hardship_amount</th>\n",
       "      <td>NaN</td>\n",
       "      <td>NaN</td>\n",
       "    </tr>\n",
       "    <tr>\n",
       "      <th>hardship_start_date</th>\n",
       "      <td>NaN</td>\n",
       "      <td>NaN</td>\n",
       "    </tr>\n",
       "    <tr>\n",
       "      <th>hardship_end_date</th>\n",
       "      <td>NaN</td>\n",
       "      <td>NaN</td>\n",
       "    </tr>\n",
       "    <tr>\n",
       "      <th>payment_plan_start_date</th>\n",
       "      <td>NaN</td>\n",
       "      <td>NaN</td>\n",
       "    </tr>\n",
       "    <tr>\n",
       "      <th>hardship_length</th>\n",
       "      <td>NaN</td>\n",
       "      <td>NaN</td>\n",
       "    </tr>\n",
       "    <tr>\n",
       "      <th>hardship_dpd</th>\n",
       "      <td>NaN</td>\n",
       "      <td>NaN</td>\n",
       "    </tr>\n",
       "    <tr>\n",
       "      <th>hardship_loan_status</th>\n",
       "      <td>NaN</td>\n",
       "      <td>NaN</td>\n",
       "    </tr>\n",
       "    <tr>\n",
       "      <th>orig_projected_additional_accrued_interest</th>\n",
       "      <td>NaN</td>\n",
       "      <td>NaN</td>\n",
       "    </tr>\n",
       "    <tr>\n",
       "      <th>hardship_payoff_balance_amount</th>\n",
       "      <td>NaN</td>\n",
       "      <td>NaN</td>\n",
       "    </tr>\n",
       "    <tr>\n",
       "      <th>hardship_last_payment_amount</th>\n",
       "      <td>NaN</td>\n",
       "      <td>NaN</td>\n",
       "    </tr>\n",
       "    <tr>\n",
       "      <th>disbursement_method</th>\n",
       "      <td>Cash</td>\n",
       "      <td>Cash</td>\n",
       "    </tr>\n",
       "    <tr>\n",
       "      <th>debt_settlement_flag</th>\n",
       "      <td>N</td>\n",
       "      <td>N</td>\n",
       "    </tr>\n",
       "    <tr>\n",
       "      <th>debt_settlement_flag_date</th>\n",
       "      <td>NaN</td>\n",
       "      <td>NaN</td>\n",
       "    </tr>\n",
       "    <tr>\n",
       "      <th>settlement_status</th>\n",
       "      <td>NaN</td>\n",
       "      <td>NaN</td>\n",
       "    </tr>\n",
       "    <tr>\n",
       "      <th>settlement_date</th>\n",
       "      <td>NaN</td>\n",
       "      <td>NaN</td>\n",
       "    </tr>\n",
       "    <tr>\n",
       "      <th>settlement_amount</th>\n",
       "      <td>NaN</td>\n",
       "      <td>NaN</td>\n",
       "    </tr>\n",
       "    <tr>\n",
       "      <th>settlement_percentage</th>\n",
       "      <td>NaN</td>\n",
       "      <td>NaN</td>\n",
       "    </tr>\n",
       "    <tr>\n",
       "      <th>settlement_term</th>\n",
       "      <td>NaN</td>\n",
       "      <td>NaN</td>\n",
       "    </tr>\n",
       "  </tbody>\n",
       "</table>\n",
       "</div>"
      ],
      "text/plain": [
       "                                                                                      1278483  \\\n",
       "id                                                                                   14137782   \n",
       "member_id                                                                                 NaN   \n",
       "loan_amnt                                                                                7200   \n",
       "funded_amnt                                                                              7200   \n",
       "funded_amnt_inv                                                                          7200   \n",
       "term                                                                                36 months   \n",
       "int_rate                                                                                18.24   \n",
       "installment                                                                            261.17   \n",
       "grade                                                                                       D   \n",
       "sub_grade                                                                                  D5   \n",
       "emp_title                                                                             Teacher   \n",
       "emp_length                                                                            7 years   \n",
       "home_ownership                                                                       MORTGAGE   \n",
       "annual_inc                                                                              53000   \n",
       "verification_status                                                           Source Verified   \n",
       "issue_d                                                                              May-2014   \n",
       "loan_status                                                                        Fully Paid   \n",
       "pymnt_plan                                                                                  n   \n",
       "url                                         https://lendingclub.com/browse/loanDetail.acti...   \n",
       "desc                                                                                      NaN   \n",
       "purpose                                                                      home_improvement   \n",
       "title                                                                        Home improvement   \n",
       "zip_code                                                                                750xx   \n",
       "addr_state                                                                                 TX   \n",
       "dti                                                                                      21.2   \n",
       "delinq_2yrs                                                                                 0   \n",
       "earliest_cr_line                                                                     Apr-2004   \n",
       "fico_range_low                                                                            665   \n",
       "fico_range_high                                                                           669   \n",
       "inq_last_6mths                                                                              2   \n",
       "mths_since_last_delinq                                                                     31   \n",
       "mths_since_last_record                                                                    NaN   \n",
       "open_acc                                                                                    8   \n",
       "pub_rec                                                                                     0   \n",
       "revol_bal                                                                                6768   \n",
       "revol_util                                                                               74.4   \n",
       "total_acc                                                                                   9   \n",
       "initial_list_status                                                                         f   \n",
       "out_prncp                                                                                   0   \n",
       "out_prncp_inv                                                                               0   \n",
       "total_pymnt                                                                           9097.13   \n",
       "total_pymnt_inv                                                                       9097.13   \n",
       "total_rec_prncp                                                                          7200   \n",
       "total_rec_int                                                                         1882.13   \n",
       "total_rec_late_fee                                                                         15   \n",
       "recoveries                                                                                  0   \n",
       "collection_recovery_fee                                                                     0   \n",
       "last_pymnt_d                                                                         Apr-2016   \n",
       "last_pymnt_amnt                                                                       3336.39   \n",
       "next_pymnt_d                                                                              NaN   \n",
       "last_credit_pull_d                                                                   Jul-2018   \n",
       "last_fico_range_high                                                                      634   \n",
       "last_fico_range_low                                                                       630   \n",
       "collections_12_mths_ex_med                                                                  0   \n",
       "mths_since_last_major_derog                                                               NaN   \n",
       "policy_code                                                                                 1   \n",
       "application_type                                                                   Individual   \n",
       "annual_inc_joint                                                                          NaN   \n",
       "dti_joint                                                                                 NaN   \n",
       "verification_status_joint                                                                 NaN   \n",
       "acc_now_delinq                                                                              0   \n",
       "tot_coll_amt                                                                                0   \n",
       "tot_cur_bal                                                                            206793   \n",
       "open_acc_6m                                                                               NaN   \n",
       "open_act_il                                                                               NaN   \n",
       "open_il_12m                                                                               NaN   \n",
       "open_il_24m                                                                               NaN   \n",
       "mths_since_rcnt_il                                                                        NaN   \n",
       "total_bal_il                                                                              NaN   \n",
       "il_util                                                                                   NaN   \n",
       "open_rv_12m                                                                               NaN   \n",
       "open_rv_24m                                                                               NaN   \n",
       "max_bal_bc                                                                                NaN   \n",
       "all_util                                                                                  NaN   \n",
       "total_rev_hi_lim                                                                         9100   \n",
       "inq_fi                                                                                    NaN   \n",
       "total_cu_tl                                                                               NaN   \n",
       "inq_last_12m                                                                              NaN   \n",
       "acc_open_past_24mths                                                                        3   \n",
       "avg_cur_bal                                                                             25849   \n",
       "bc_open_to_buy                                                                           1832   \n",
       "bc_util                                                                                  78.7   \n",
       "chargeoff_within_12_mths                                                                    0   \n",
       "delinq_amnt                                                                                 0   \n",
       "mo_sin_old_il_acct                                                                        121   \n",
       "mo_sin_old_rev_tl_op                                                                       41   \n",
       "mo_sin_rcnt_rev_tl_op                                                                       7   \n",
       "mo_sin_rcnt_tl                                                                              2   \n",
       "mort_acc                                                                                    1   \n",
       "mths_since_recent_bc                                                                       32   \n",
       "mths_since_recent_bc_dlq                                                                   31   \n",
       "mths_since_recent_inq                                                                       1   \n",
       "mths_since_recent_revol_delinq                                                             31   \n",
       "num_accts_ever_120_pd                                                                       0   \n",
       "num_actv_bc_tl                                                                              2   \n",
       "num_actv_rev_tl                                                                             2   \n",
       "num_bc_sats                                                                                 3   \n",
       "num_bc_tl                                                                                   3   \n",
       "num_il_tl                                                                                   4   \n",
       "num_op_rev_tl                                                                               4   \n",
       "num_rev_accts                                                                               4   \n",
       "num_rev_tl_bal_gt_0                                                                         2   \n",
       "num_sats                                                                                    8   \n",
       "num_tl_120dpd_2m                                                                            0   \n",
       "num_tl_30dpd                                                                                0   \n",
       "num_tl_90g_dpd_24m                                                                          0   \n",
       "num_tl_op_past_12m                                                                          2   \n",
       "pct_tl_nvr_dlq                                                                           88.9   \n",
       "percent_bc_gt_75                                                                         66.7   \n",
       "pub_rec_bankruptcies                                                                        0   \n",
       "tax_liens                                                                                   0   \n",
       "tot_hi_cred_lim                                                                        218810   \n",
       "total_bal_ex_mort                                                                       67734   \n",
       "total_bc_limit                                                                           8600   \n",
       "total_il_high_credit_limit                                                              64360   \n",
       "revol_bal_joint                                                                           NaN   \n",
       "sec_app_fico_range_low                                                                    NaN   \n",
       "sec_app_fico_range_high                                                                   NaN   \n",
       "sec_app_earliest_cr_line                                                                  NaN   \n",
       "sec_app_inq_last_6mths                                                                    NaN   \n",
       "sec_app_mort_acc                                                                          NaN   \n",
       "sec_app_open_acc                                                                          NaN   \n",
       "sec_app_revol_util                                                                        NaN   \n",
       "sec_app_open_act_il                                                                       NaN   \n",
       "sec_app_num_rev_accts                                                                     NaN   \n",
       "sec_app_chargeoff_within_12_mths                                                          NaN   \n",
       "sec_app_collections_12_mths_ex_med                                                        NaN   \n",
       "sec_app_mths_since_last_major_derog                                                       NaN   \n",
       "hardship_flag                                                                               N   \n",
       "hardship_type                                                                             NaN   \n",
       "hardship_reason                                                                           NaN   \n",
       "hardship_status                                                                           NaN   \n",
       "deferral_term                                                                             NaN   \n",
       "hardship_amount                                                                           NaN   \n",
       "hardship_start_date                                                                       NaN   \n",
       "hardship_end_date                                                                         NaN   \n",
       "payment_plan_start_date                                                                   NaN   \n",
       "hardship_length                                                                           NaN   \n",
       "hardship_dpd                                                                              NaN   \n",
       "hardship_loan_status                                                                      NaN   \n",
       "orig_projected_additional_accrued_interest                                                NaN   \n",
       "hardship_payoff_balance_amount                                                            NaN   \n",
       "hardship_last_payment_amount                                                              NaN   \n",
       "disbursement_method                                                                      Cash   \n",
       "debt_settlement_flag                                                                        N   \n",
       "debt_settlement_flag_date                                                                 NaN   \n",
       "settlement_status                                                                         NaN   \n",
       "settlement_date                                                                           NaN   \n",
       "settlement_amount                                                                         NaN   \n",
       "settlement_percentage                                                                     NaN   \n",
       "settlement_term                                                                           NaN   \n",
       "\n",
       "                                                                                      1111908  \n",
       "id                                                                                   68388819  \n",
       "member_id                                                                                 NaN  \n",
       "loan_amnt                                                                               25000  \n",
       "funded_amnt                                                                             25000  \n",
       "funded_amnt_inv                                                                         25000  \n",
       "term                                                                                60 months  \n",
       "int_rate                                                                                14.85  \n",
       "installment                                                                            592.79  \n",
       "grade                                                                                       C  \n",
       "sub_grade                                                                                  C5  \n",
       "emp_title                                                                       Store manager  \n",
       "emp_length                                                                             1 year  \n",
       "home_ownership                                                                           RENT  \n",
       "annual_inc                                                                              95000  \n",
       "verification_status                                                              Not Verified  \n",
       "issue_d                                                                              Jan-2016  \n",
       "loan_status                                                                           Current  \n",
       "pymnt_plan                                                                                  n  \n",
       "url                                         https://lendingclub.com/browse/loanDetail.acti...  \n",
       "desc                                                                                      NaN  \n",
       "purpose                                                                    debt_consolidation  \n",
       "title                                                                      Debt consolidation  \n",
       "zip_code                                                                                945xx  \n",
       "addr_state                                                                                 CA  \n",
       "dti                                                                                     32.79  \n",
       "delinq_2yrs                                                                                 0  \n",
       "earliest_cr_line                                                                     Apr-2000  \n",
       "fico_range_low                                                                            700  \n",
       "fico_range_high                                                                           704  \n",
       "inq_last_6mths                                                                              0  \n",
       "mths_since_last_delinq                                                                    NaN  \n",
       "mths_since_last_record                                                                    NaN  \n",
       "open_acc                                                                                   14  \n",
       "pub_rec                                                                                     0  \n",
       "revol_bal                                                                               29915  \n",
       "revol_util                                                                               74.2  \n",
       "total_acc                                                                                  27  \n",
       "initial_list_status                                                                         w  \n",
       "out_prncp                                                                             11359.3  \n",
       "out_prncp_inv                                                                         11359.3  \n",
       "total_pymnt                                                                           22649.8  \n",
       "total_pymnt_inv                                                                       22649.8  \n",
       "total_rec_prncp                                                                       13640.7  \n",
       "total_rec_int                                                                         9009.04  \n",
       "total_rec_late_fee                                                                          0  \n",
       "recoveries                                                                                  0  \n",
       "collection_recovery_fee                                                                     0  \n",
       "last_pymnt_d                                                                         Mar-2019  \n",
       "last_pymnt_amnt                                                                        592.79  \n",
       "next_pymnt_d                                                                         Apr-2019  \n",
       "last_credit_pull_d                                                                   Mar-2019  \n",
       "last_fico_range_high                                                                      649  \n",
       "last_fico_range_low                                                                       645  \n",
       "collections_12_mths_ex_med                                                                  0  \n",
       "mths_since_last_major_derog                                                               NaN  \n",
       "policy_code                                                                                 1  \n",
       "application_type                                                                   Individual  \n",
       "annual_inc_joint                                                                          NaN  \n",
       "dti_joint                                                                                 NaN  \n",
       "verification_status_joint                                                                 NaN  \n",
       "acc_now_delinq                                                                              0  \n",
       "tot_coll_amt                                                                                0  \n",
       "tot_cur_bal                                                                             90432  \n",
       "open_acc_6m                                                                                 0  \n",
       "open_act_il                                                                                 4  \n",
       "open_il_12m                                                                                 1  \n",
       "open_il_24m                                                                                 3  \n",
       "mths_since_rcnt_il                                                                         12  \n",
       "total_bal_il                                                                            60517  \n",
       "il_util                                                                                    78  \n",
       "open_rv_12m                                                                                 0  \n",
       "open_rv_24m                                                                                 0  \n",
       "max_bal_bc                                                                               7371  \n",
       "all_util                                                                                   76  \n",
       "total_rev_hi_lim                                                                        40300  \n",
       "inq_fi                                                                                      1  \n",
       "total_cu_tl                                                                                 3  \n",
       "inq_last_12m                                                                                0  \n",
       "acc_open_past_24mths                                                                        3  \n",
       "avg_cur_bal                                                                              6459  \n",
       "bc_open_to_buy                                                                           6115  \n",
       "bc_util                                                                                  81.3  \n",
       "chargeoff_within_12_mths                                                                    0  \n",
       "delinq_amnt                                                                                 0  \n",
       "mo_sin_old_il_acct                                                                        126  \n",
       "mo_sin_old_rev_tl_op                                                                      189  \n",
       "mo_sin_rcnt_rev_tl_op                                                                      36  \n",
       "mo_sin_rcnt_tl                                                                             12  \n",
       "mort_acc                                                                                    0  \n",
       "mths_since_recent_bc                                                                       40  \n",
       "mths_since_recent_bc_dlq                                                                  NaN  \n",
       "mths_since_recent_inq                                                                      22  \n",
       "mths_since_recent_revol_delinq                                                            NaN  \n",
       "num_accts_ever_120_pd                                                                       0  \n",
       "num_actv_bc_tl                                                                              7  \n",
       "num_actv_rev_tl                                                                             9  \n",
       "num_bc_sats                                                                                 7  \n",
       "num_bc_tl                                                                                  12  \n",
       "num_il_tl                                                                                   6  \n",
       "num_op_rev_tl                                                                              10  \n",
       "num_rev_accts                                                                              21  \n",
       "num_rev_tl_bal_gt_0                                                                         9  \n",
       "num_sats                                                                                   14  \n",
       "num_tl_120dpd_2m                                                                            0  \n",
       "num_tl_30dpd                                                                                0  \n",
       "num_tl_90g_dpd_24m                                                                          0  \n",
       "num_tl_op_past_12m                                                                          1  \n",
       "pct_tl_nvr_dlq                                                                            100  \n",
       "percent_bc_gt_75                                                                         57.1  \n",
       "pub_rec_bankruptcies                                                                        0  \n",
       "tax_liens                                                                                   0  \n",
       "tot_hi_cred_lim                                                                        126264  \n",
       "total_bal_ex_mort                                                                       90432  \n",
       "total_bc_limit                                                                          32700  \n",
       "total_il_high_credit_limit                                                              85964  \n",
       "revol_bal_joint                                                                           NaN  \n",
       "sec_app_fico_range_low                                                                    NaN  \n",
       "sec_app_fico_range_high                                                                   NaN  \n",
       "sec_app_earliest_cr_line                                                                  NaN  \n",
       "sec_app_inq_last_6mths                                                                    NaN  \n",
       "sec_app_mort_acc                                                                          NaN  \n",
       "sec_app_open_acc                                                                          NaN  \n",
       "sec_app_revol_util                                                                        NaN  \n",
       "sec_app_open_act_il                                                                       NaN  \n",
       "sec_app_num_rev_accts                                                                     NaN  \n",
       "sec_app_chargeoff_within_12_mths                                                          NaN  \n",
       "sec_app_collections_12_mths_ex_med                                                        NaN  \n",
       "sec_app_mths_since_last_major_derog                                                       NaN  \n",
       "hardship_flag                                                                               N  \n",
       "hardship_type                                                                             NaN  \n",
       "hardship_reason                                                                           NaN  \n",
       "hardship_status                                                                           NaN  \n",
       "deferral_term                                                                             NaN  \n",
       "hardship_amount                                                                           NaN  \n",
       "hardship_start_date                                                                       NaN  \n",
       "hardship_end_date                                                                         NaN  \n",
       "payment_plan_start_date                                                                   NaN  \n",
       "hardship_length                                                                           NaN  \n",
       "hardship_dpd                                                                              NaN  \n",
       "hardship_loan_status                                                                      NaN  \n",
       "orig_projected_additional_accrued_interest                                                NaN  \n",
       "hardship_payoff_balance_amount                                                            NaN  \n",
       "hardship_last_payment_amount                                                              NaN  \n",
       "disbursement_method                                                                      Cash  \n",
       "debt_settlement_flag                                                                        N  \n",
       "debt_settlement_flag_date                                                                 NaN  \n",
       "settlement_status                                                                         NaN  \n",
       "settlement_date                                                                           NaN  \n",
       "settlement_amount                                                                         NaN  \n",
       "settlement_percentage                                                                     NaN  \n",
       "settlement_term                                                                           NaN  "
      ]
     },
     "execution_count": 4,
     "metadata": {},
     "output_type": "execute_result"
    }
   ],
   "source": [
    "# Let's look at a couple of entries\n",
    "pd.options.display.max_rows = 155\n",
    "accept.sample(2).T"
   ]
  },
  {
   "cell_type": "code",
   "execution_count": 5,
   "metadata": {},
   "outputs": [
    {
     "name": "stdout",
     "output_type": "stream",
     "text": [
      "<class 'pandas.core.frame.DataFrame'>\n",
      "Int64Index: 2260668 entries, 0 to 2260698\n",
      "Data columns (total 151 columns):\n",
      " #   Column                                      Non-Null Count    Dtype  \n",
      "---  ------                                      --------------    -----  \n",
      " 0   id                                          2260668 non-null  int64  \n",
      " 1   member_id                                   0 non-null        float64\n",
      " 2   loan_amnt                                   2260668 non-null  float64\n",
      " 3   funded_amnt                                 2260668 non-null  float64\n",
      " 4   funded_amnt_inv                             2260668 non-null  float64\n",
      " 5   term                                        2260668 non-null  object \n",
      " 6   int_rate                                    2260668 non-null  float64\n",
      " 7   installment                                 2260668 non-null  float64\n",
      " 8   grade                                       2260668 non-null  object \n",
      " 9   sub_grade                                   2260668 non-null  object \n",
      " 10  emp_title                                   2093699 non-null  object \n",
      " 11  emp_length                                  2113761 non-null  object \n",
      " 12  home_ownership                              2260668 non-null  object \n",
      " 13  annual_inc                                  2260664 non-null  float64\n",
      " 14  verification_status                         2260668 non-null  object \n",
      " 15  issue_d                                     2260668 non-null  object \n",
      " 16  loan_status                                 2260668 non-null  object \n",
      " 17  pymnt_plan                                  2260668 non-null  object \n",
      " 18  url                                         2260668 non-null  object \n",
      " 19  desc                                        126067 non-null   object \n",
      " 20  purpose                                     2260668 non-null  object \n",
      " 21  title                                       2237343 non-null  object \n",
      " 22  zip_code                                    2260667 non-null  object \n",
      " 23  addr_state                                  2260668 non-null  object \n",
      " 24  dti                                         2258957 non-null  float64\n",
      " 25  delinq_2yrs                                 2260639 non-null  float64\n",
      " 26  earliest_cr_line                            2260639 non-null  object \n",
      " 27  fico_range_low                              2260668 non-null  float64\n",
      " 28  fico_range_high                             2260668 non-null  float64\n",
      " 29  inq_last_6mths                              2260638 non-null  float64\n",
      " 30  mths_since_last_delinq                      1102166 non-null  float64\n",
      " 31  mths_since_last_record                      359156 non-null   float64\n",
      " 32  open_acc                                    2260639 non-null  float64\n",
      " 33  pub_rec                                     2260639 non-null  float64\n",
      " 34  revol_bal                                   2260668 non-null  float64\n",
      " 35  revol_util                                  2258866 non-null  float64\n",
      " 36  total_acc                                   2260639 non-null  float64\n",
      " 37  initial_list_status                         2260668 non-null  object \n",
      " 38  out_prncp                                   2260668 non-null  float64\n",
      " 39  out_prncp_inv                               2260668 non-null  float64\n",
      " 40  total_pymnt                                 2260668 non-null  float64\n",
      " 41  total_pymnt_inv                             2260668 non-null  float64\n",
      " 42  total_rec_prncp                             2260668 non-null  float64\n",
      " 43  total_rec_int                               2260668 non-null  float64\n",
      " 44  total_rec_late_fee                          2260668 non-null  float64\n",
      " 45  recoveries                                  2260668 non-null  float64\n",
      " 46  collection_recovery_fee                     2260668 non-null  float64\n",
      " 47  last_pymnt_d                                2258241 non-null  object \n",
      " 48  last_pymnt_amnt                             2260668 non-null  float64\n",
      " 49  next_pymnt_d                                915358 non-null   object \n",
      " 50  last_credit_pull_d                          2260596 non-null  object \n",
      " 51  last_fico_range_high                        2260668 non-null  float64\n",
      " 52  last_fico_range_low                         2260668 non-null  float64\n",
      " 53  collections_12_mths_ex_med                  2260523 non-null  float64\n",
      " 54  mths_since_last_major_derog                 580775 non-null   float64\n",
      " 55  policy_code                                 2260668 non-null  float64\n",
      " 56  application_type                            2260668 non-null  object \n",
      " 57  annual_inc_joint                            120710 non-null   float64\n",
      " 58  dti_joint                                   120706 non-null   float64\n",
      " 59  verification_status_joint                   115730 non-null   object \n",
      " 60  acc_now_delinq                              2260639 non-null  float64\n",
      " 61  tot_coll_amt                                2190392 non-null  float64\n",
      " 62  tot_cur_bal                                 2190392 non-null  float64\n",
      " 63  open_acc_6m                                 1394538 non-null  float64\n",
      " 64  open_act_il                                 1394539 non-null  float64\n",
      " 65  open_il_12m                                 1394539 non-null  float64\n",
      " 66  open_il_24m                                 1394539 non-null  float64\n",
      " 67  mths_since_rcnt_il                          1350744 non-null  float64\n",
      " 68  total_bal_il                                1394539 non-null  float64\n",
      " 69  il_util                                     1191818 non-null  float64\n",
      " 70  open_rv_12m                                 1394539 non-null  float64\n",
      " 71  open_rv_24m                                 1394539 non-null  float64\n",
      " 72  max_bal_bc                                  1394539 non-null  float64\n",
      " 73  all_util                                    1394320 non-null  float64\n",
      " 74  total_rev_hi_lim                            2190392 non-null  float64\n",
      " 75  inq_fi                                      1394539 non-null  float64\n",
      " 76  total_cu_tl                                 1394538 non-null  float64\n",
      " 77  inq_last_12m                                1394538 non-null  float64\n",
      " 78  acc_open_past_24mths                        2210638 non-null  float64\n",
      " 79  avg_cur_bal                                 2190322 non-null  float64\n",
      " 80  bc_open_to_buy                              2185733 non-null  float64\n",
      " 81  bc_util                                     2184597 non-null  float64\n",
      " 82  chargeoff_within_12_mths                    2260523 non-null  float64\n",
      " 83  delinq_amnt                                 2260639 non-null  float64\n",
      " 84  mo_sin_old_il_acct                          2121597 non-null  float64\n",
      " 85  mo_sin_old_rev_tl_op                        2190391 non-null  float64\n",
      " 86  mo_sin_rcnt_rev_tl_op                       2190391 non-null  float64\n",
      " 87  mo_sin_rcnt_tl                              2190392 non-null  float64\n",
      " 88  mort_acc                                    2210638 non-null  float64\n",
      " 89  mths_since_recent_bc                        2187256 non-null  float64\n",
      " 90  mths_since_recent_bc_dlq                    519701 non-null   float64\n",
      " 91  mths_since_recent_inq                       1965233 non-null  float64\n",
      " 92  mths_since_recent_revol_delinq              740359 non-null   float64\n",
      " 93  num_accts_ever_120_pd                       2190392 non-null  float64\n",
      " 94  num_actv_bc_tl                              2190392 non-null  float64\n",
      " 95  num_actv_rev_tl                             2190392 non-null  float64\n",
      " 96  num_bc_sats                                 2202078 non-null  float64\n",
      " 97  num_bc_tl                                   2190392 non-null  float64\n",
      " 98  num_il_tl                                   2190392 non-null  float64\n",
      " 99  num_op_rev_tl                               2190392 non-null  float64\n",
      " 100 num_rev_accts                               2190391 non-null  float64\n",
      " 101 num_rev_tl_bal_gt_0                         2190392 non-null  float64\n",
      " 102 num_sats                                    2202078 non-null  float64\n",
      " 103 num_tl_120dpd_2m                            2107011 non-null  float64\n",
      " 104 num_tl_30dpd                                2190392 non-null  float64\n",
      " 105 num_tl_90g_dpd_24m                          2190392 non-null  float64\n",
      " 106 num_tl_op_past_12m                          2190392 non-null  float64\n",
      " 107 pct_tl_nvr_dlq                              2190237 non-null  float64\n",
      " 108 percent_bc_gt_75                            2185289 non-null  float64\n",
      " 109 pub_rec_bankruptcies                        2259303 non-null  float64\n",
      " 110 tax_liens                                   2260563 non-null  float64\n",
      " 111 tot_hi_cred_lim                             2190392 non-null  float64\n",
      " 112 total_bal_ex_mort                           2210638 non-null  float64\n",
      " 113 total_bc_limit                              2210638 non-null  float64\n",
      " 114 total_il_high_credit_limit                  2190392 non-null  float64\n",
      " 115 revol_bal_joint                             108020 non-null   float64\n",
      " 116 sec_app_fico_range_low                      108021 non-null   float64\n",
      " 117 sec_app_fico_range_high                     108021 non-null   float64\n",
      " 118 sec_app_earliest_cr_line                    108021 non-null   object \n",
      " 119 sec_app_inq_last_6mths                      108021 non-null   float64\n",
      " 120 sec_app_mort_acc                            108021 non-null   float64\n",
      " 121 sec_app_open_acc                            108021 non-null   float64\n",
      " 122 sec_app_revol_util                          106184 non-null   float64\n",
      " 123 sec_app_open_act_il                         108021 non-null   float64\n",
      " 124 sec_app_num_rev_accts                       108021 non-null   float64\n",
      " 125 sec_app_chargeoff_within_12_mths            108021 non-null   float64\n",
      " 126 sec_app_collections_12_mths_ex_med          108021 non-null   float64\n",
      " 127 sec_app_mths_since_last_major_derog         35942 non-null    float64\n",
      " 128 hardship_flag                               2260668 non-null  object \n",
      " 129 hardship_type                               10917 non-null    object \n",
      " 130 hardship_reason                             10917 non-null    object \n",
      " 131 hardship_status                             10917 non-null    object \n",
      " 132 deferral_term                               10917 non-null    float64\n",
      " 133 hardship_amount                             10917 non-null    float64\n",
      " 134 hardship_start_date                         10917 non-null    object \n",
      " 135 hardship_end_date                           10917 non-null    object \n",
      " 136 payment_plan_start_date                     10917 non-null    object \n",
      " 137 hardship_length                             10917 non-null    float64\n",
      " 138 hardship_dpd                                10917 non-null    float64\n",
      " 139 hardship_loan_status                        10917 non-null    object \n",
      " 140 orig_projected_additional_accrued_interest  8651 non-null     float64\n",
      " 141 hardship_payoff_balance_amount              10917 non-null    float64\n",
      " 142 hardship_last_payment_amount                10917 non-null    float64\n",
      " 143 disbursement_method                         2260668 non-null  object \n",
      " 144 debt_settlement_flag                        2260668 non-null  object \n",
      " 145 debt_settlement_flag_date                   34246 non-null    object \n",
      " 146 settlement_status                           34246 non-null    object \n",
      " 147 settlement_date                             34246 non-null    object \n",
      " 148 settlement_amount                           34246 non-null    float64\n",
      " 149 settlement_percentage                       34246 non-null    float64\n",
      " 150 settlement_term                             34246 non-null    float64\n",
      "dtypes: float64(113), int64(1), object(37)\n",
      "memory usage: 2.6+ GB\n"
     ]
    }
   ],
   "source": [
    "# What's the status with missingness?\n",
    "accept.info(verbose=True, null_counts=True)"
   ]
  },
  {
   "cell_type": "code",
   "execution_count": 19,
   "metadata": {},
   "outputs": [
    {
     "name": "stdout",
     "output_type": "stream",
     "text": [
      "Fully Paid                                             1076751\n",
      "Current                                                 878317\n",
      "Charged Off                                             268559\n",
      "Late (31-120 days)                                       21467\n",
      "In Grace Period                                           8436\n",
      "Late (16-30 days)                                         4349\n",
      "Does not meet the credit policy. Status:Fully Paid        1988\n",
      "Does not meet the credit policy. Status:Charged Off        761\n",
      "Default                                                     40\n",
      "Name: loan_status, dtype: int64\n",
      "\n",
      "Charged off and defaulted: 11.9% of all loans\n"
     ]
    }
   ],
   "source": [
    "# Let's look at the distribution of the target variable\n",
    "status = accept['loan_status'].value_counts()\n",
    "print(status)\n",
    "bad = status[2] + status[-2] + status[-1]\n",
    "print()\n",
    "print(f'Charged off and defaulted: {bad / sum(status):.1%} of all loans')"
   ]
  },
  {
   "cell_type": "code",
   "execution_count": 7,
   "metadata": {},
   "outputs": [],
   "source": [
    "# Aiko's Question 1\n",
    "# Variation in annual issuance\n",
    "# Step 1: convert issue_d to datetime\n",
    "import datetime as dt\n",
    "def make_dateval(s):\n",
    "    s = s.split('-')\n",
    "    return(dt.datetime.strptime(s[1] + s[0] + '01', '%Y%b%d'))\n",
    "    \n",
    "accept['issue_d'] = accept['issue_d'].apply(make_dateval)"
   ]
  },
  {
   "cell_type": "code",
   "execution_count": 25,
   "metadata": {},
   "outputs": [
    {
     "data": {
      "text/plain": [
       "<matplotlib.axes._subplots.AxesSubplot at 0x7fb8e52927f0>"
      ]
     },
     "execution_count": 25,
     "metadata": {},
     "output_type": "execute_result"
    },
    {
     "data": {
      "image/png": "[encoded data removed]",
      "text/plain": [
       "<Figure size 432x288 with 1 Axes>"
      ]
     },
     "metadata": {
      "needs_background": "light"
     },
     "output_type": "display_data"
    }
   ],
   "source": [
    "monthly_issue = accept.groupby('issue_d')['funded_amnt'].sum()\n",
    "import matplotlib.pyplot as plt\n",
    "monthly_issue.plot()\n",
    "# May 2016 was when the CEO was ousted\n",
    "# https://www.reuters.com/article/us-lendingclub-results/lending-club-ceo-resigns-after-internal-probe-shares-plummet-idUSKCN0Y01BK#:~:text=(Reuters%2FIFR)%20%2D%20Renaud,the%20company%20said%20on%20Monday."
   ]
  },
  {
   "cell_type": "code",
   "execution_count": 9,
   "metadata": {},
   "outputs": [
    {
     "data": {
      "text/plain": [
       "debt_consolidation    1277877\n",
       "credit_card            516971\n",
       "home_improvement       150457\n",
       "other                  139440\n",
       "major_purchase          50445\n",
       "medical                 27488\n",
       "small_business          24689\n",
       "car                     24013\n",
       "vacation                15525\n",
       "moving                  15403\n",
       "house                   14136\n",
       "wedding                  2355\n",
       "renewable_energy         1445\n",
       "educational               424\n",
       "Name: purpose, dtype: int64"
      ]
     },
     "execution_count": 9,
     "metadata": {},
     "output_type": "execute_result"
    }
   ],
   "source": [
    "accept['purpose'].value_counts()"
   ]
  },
  {
   "cell_type": "code",
   "execution_count": 44,
   "metadata": {},
   "outputs": [
    {
     "data": {
      "application/vnd.plotly.v1+json": {
       "config": {
        "plotlyServerURL": "https://plot.ly"
       },
       "data": [
        {
         "hovertemplate": "purpose=car<br>sub_grade=%{x}<br>value=%{y}<extra></extra>",
         "legendgroup": "car",
         "line": {
          "color": "#636efa",
          "dash": "solid"
         },
         "mode": "lines",
         "name": "car",
         "orientation": "v",
         "showlegend": true,
         "type": "scatter",
         "x": [
          "A1",
          "A2",
          "A3",
          "A4",
          "A5",
          "B1",
          "B2",
          "B3",
          "B4",
          "B5",
          "C1",
          "C2",
          "C3",
          "C4",
          "C5",
          "D1",
          "D2",
          "D3",
          "D4",
          "D5",
          "E1",
          "E2",
          "E3",
          "E4",
          "E5",
          "F1",
          "F2",
          "F3",
          "F4",
          "F5",
          "G1",
          "G2",
          "G3",
          "G4",
          "G5"
         ],
         "xaxis": "x",
         "y": [
          0.05376254528796902,
          0.0473493524340982,
          0.047182775996335316,
          0.051721983925373756,
          0.05676092116770083,
          0.06488152250864115,
          0.06084204389289135,
          0.06271602881772373,
          0.05821846499812602,
          0.06088368800233207,
          0.061050264440094947,
          0.055220089118394204,
          0.04993128721942281,
          0.04772414941906467,
          0.04593345271311373,
          0.030191979344521717,
          0.026818806479823428,
          0.024278515803939534,
          0.021863157456377794,
          0.01724066130845792,
          0.010577603797942781,
          0.009453212843043351,
          0.008245533669262483,
          0.006454836963311539,
          0.0063715487444301,
          0.003914546287427643,
          0.002665223004206055,
          0.0021238495814767003,
          0.0015408320493066256,
          0.0012076791737808687,
          0.0010411027360179902,
          0.000749593969932953,
          0.0003747969849664765,
          0.0003747969849664765,
          0.0003331528755257569
         ],
         "yaxis": "y"
        },
        {
         "hovertemplate": "purpose=credit_card<br>sub_grade=%{x}<br>value=%{y}<extra></extra>",
         "legendgroup": "credit_card",
         "line": {
          "color": "#EF553B",
          "dash": "solid"
         },
         "mode": "lines",
         "name": "credit_card",
         "orientation": "v",
         "showlegend": true,
         "type": "scatter",
         "x": [
          "A1",
          "A2",
          "A3",
          "A4",
          "A5",
          "B1",
          "B2",
          "B3",
          "B4",
          "B5",
          "C1",
          "C2",
          "C3",
          "C4",
          "C5",
          "D1",
          "D2",
          "D3",
          "D4",
          "D5",
          "E1",
          "E2",
          "E3",
          "E4",
          "E5",
          "F1",
          "F2",
          "F3",
          "F4",
          "F5",
          "G1",
          "G2",
          "G3",
          "G4",
          "G5"
         ],
         "xaxis": "x",
         "y": [
          0.06192997286114695,
          0.04449572606587217,
          0.045079898098732814,
          0.056902611558482,
          0.06338266556537987,
          0.07130187186515298,
          0.06887040085420652,
          0.06873112805167021,
          0.06953774969969302,
          0.0634542363111277,
          0.0631137916827056,
          0.05299523570954657,
          0.0501111280903571,
          0.0465151817026487,
          0.03979913766923096,
          0.026233579833298194,
          0.02199543107833902,
          0.018362732145516866,
          0.015478624526327395,
          0.012256006623195499,
          0.008304140851227632,
          0.0068224329797996405,
          0.00578368999421631,
          0.0049596592458764615,
          0.004644361095690087,
          0.00257461250244211,
          0.0016499958411593687,
          0.0013540411357697048,
          0.0009497631395184643,
          0.0007389195912343245,
          0.000593843755258999,
          0.0003752628290561753,
          0.0002688738826742699,
          0.00024566174891821785,
          0.00018763141452808764
         ],
         "yaxis": "y"
        },
        {
         "hovertemplate": "purpose=debt_consolidation<br>sub_grade=%{x}<br>value=%{y}<extra></extra>",
         "legendgroup": "debt_consolidation",
         "line": {
          "color": "#00cc96",
          "dash": "solid"
         },
         "mode": "lines",
         "name": "debt_consolidation",
         "orientation": "v",
         "showlegend": true,
         "type": "scatter",
         "x": [
          "A1",
          "A2",
          "A3",
          "A4",
          "A5",
          "B1",
          "B2",
          "B3",
          "B4",
          "B5",
          "C1",
          "C2",
          "C3",
          "C4",
          "C5",
          "D1",
          "D2",
          "D3",
          "D4",
          "D5",
          "E1",
          "E2",
          "E3",
          "E4",
          "E5",
          "F1",
          "F2",
          "F3",
          "F4",
          "F5",
          "G1",
          "G2",
          "G3",
          "G4",
          "G5"
         ],
         "xaxis": "x",
         "y": [
          0.029440235640832414,
          0.024396714237755277,
          0.02674592312092635,
          0.03742770235319988,
          0.043128564016724616,
          0.05057294246629371,
          0.052526182097338,
          0.05648743971446391,
          0.06123437545241052,
          0.0623620270182498,
          0.06589210072643924,
          0.06051599645349279,
          0.06050738842627264,
          0.060502693138698015,
          0.05567202477233724,
          0.039381724532173285,
          0.03505814722387209,
          0.03137704176536552,
          0.027783581674918633,
          0.0236345125548077,
          0.016741830395257132,
          0.014974054623410548,
          0.013541991913149701,
          0.011519105516415117,
          0.011509714941265865,
          0.006794863668412531,
          0.004687462095334684,
          0.003880655180428163,
          0.003089499224103728,
          0.0026708360820329345,
          0.0020620137931897983,
          0.0013029423019586392,
          0.0010267028829848257,
          0.0008232404214177108,
          0.0007277695740669877
         ],
         "yaxis": "y"
        },
        {
         "hovertemplate": "purpose=educational<br>sub_grade=%{x}<br>value=%{y}<extra></extra>",
         "legendgroup": "educational",
         "line": {
          "color": "#ab63fa",
          "dash": "solid"
         },
         "mode": "lines",
         "name": "educational",
         "orientation": "v",
         "showlegend": true,
         "type": "scatter",
         "x": [
          "A1",
          "A2",
          "A3",
          "A4",
          "A5",
          "B1",
          "B2",
          "B3",
          "B4",
          "B5",
          "C1",
          "C2",
          "C3",
          "C4",
          "C5",
          "D1",
          "D2",
          "D3",
          "D4",
          "D5",
          "E1",
          "E2",
          "E3",
          "E4",
          "E5",
          "F1",
          "F2",
          "F3",
          "F4",
          "F5",
          "G1",
          "G2",
          "G3",
          "G4",
          "G5"
         ],
         "xaxis": "x",
         "y": [
          null,
          0.01650943396226415,
          0.04009433962264151,
          0.08254716981132075,
          0.06839622641509434,
          0.04245283018867924,
          0.0589622641509434,
          0.05188679245283019,
          0.05188679245283019,
          0.0589622641509434,
          0.07547169811320754,
          0.07311320754716981,
          0.06132075471698113,
          0.02830188679245283,
          0.0330188679245283,
          0.030660377358490566,
          0.018867924528301886,
          0.025943396226415096,
          0.03537735849056604,
          0.014150943396226415,
          0.01179245283018868,
          0.02358490566037736,
          0.02122641509433962,
          0.018867924528301886,
          0.01179245283018868,
          0.007075471698113208,
          0.007075471698113208,
          0.007075471698113208,
          0.0047169811320754715,
          null,
          0.0047169811320754715,
          null,
          0.0023584905660377358,
          0.007075471698113208,
          0.0047169811320754715
         ],
         "yaxis": "y"
        },
        {
         "hovertemplate": "purpose=home_improvement<br>sub_grade=%{x}<br>value=%{y}<extra></extra>",
         "legendgroup": "home_improvement",
         "line": {
          "color": "#FFA15A",
          "dash": "solid"
         },
         "mode": "lines",
         "name": "home_improvement",
         "orientation": "v",
         "showlegend": true,
         "type": "scatter",
         "x": [
          "A1",
          "A2",
          "A3",
          "A4",
          "A5",
          "B1",
          "B2",
          "B3",
          "B4",
          "B5",
          "C1",
          "C2",
          "C3",
          "C4",
          "C5",
          "D1",
          "D2",
          "D3",
          "D4",
          "D5",
          "E1",
          "E2",
          "E3",
          "E4",
          "E5",
          "F1",
          "F2",
          "F3",
          "F4",
          "F5",
          "G1",
          "G2",
          "G3",
          "G4",
          "G5"
         ],
         "xaxis": "x",
         "y": [
          0.05356347660793449,
          0.04150022930139508,
          0.03892141940886765,
          0.04623912479977668,
          0.049263244647972514,
          0.06145942029948756,
          0.058993599500189425,
          0.0560027117382375,
          0.05869451072399423,
          0.05945220229035538,
          0.06242979721780974,
          0.05434110742604199,
          0.05432781459154443,
          0.05220096107193417,
          0.048957509454528536,
          0.03293964388496381,
          0.02913789321866048,
          0.025841270263264587,
          0.02182683424500023,
          0.01831087952039453,
          0.013571984022012934,
          0.011192566646948962,
          0.010634267598051271,
          0.009537608752002233,
          0.009032481041094798,
          0.00549658706474275,
          0.003635590235083778,
          0.003037412682693394,
          0.0024392351303030102,
          0.002100267850615126,
          0.0017347149019321135,
          0.0010235482563124348,
          0.0008906199113367939,
          0.0006978738111221146,
          0.0005715918833952558
         ],
         "yaxis": "y"
        },
        {
         "hovertemplate": "purpose=house<br>sub_grade=%{x}<br>value=%{y}<extra></extra>",
         "legendgroup": "house",
         "line": {
          "color": "#19d3f3",
          "dash": "solid"
         },
         "mode": "lines",
         "name": "house",
         "orientation": "v",
         "showlegend": true,
         "type": "scatter",
         "x": [
          "A1",
          "A2",
          "A3",
          "A4",
          "A5",
          "B1",
          "B2",
          "B3",
          "B4",
          "B5",
          "C1",
          "C2",
          "C3",
          "C4",
          "C5",
          "D1",
          "D2",
          "D3",
          "D4",
          "D5",
          "E1",
          "E2",
          "E3",
          "E4",
          "E5",
          "F1",
          "F2",
          "F3",
          "F4",
          "F5",
          "G1",
          "G2",
          "G3",
          "G4",
          "G5"
         ],
         "xaxis": "x",
         "y": [
          0.03197509903791738,
          0.031055461233729487,
          0.03749292586304471,
          0.04173740803621958,
          0.04018109790605546,
          0.0466893039049236,
          0.044779286926994906,
          0.043647425014148276,
          0.04633559705715903,
          0.05072156196943973,
          0.052985285795132994,
          0.04973118279569892,
          0.04845783814374646,
          0.0476796830786644,
          0.05164119977362762,
          0.04095925297113752,
          0.03763440860215054,
          0.03459252971137521,
          0.032823995472552346,
          0.028367289190718733,
          0.020444255800792302,
          0.02320316921335597,
          0.018887945670628185,
          0.01598754951895869,
          0.01839275608375778,
          0.011177136389360498,
          0.009267119411431806,
          0.008488964346349746,
          0.007286361063950198,
          0.006013016411997737,
          0.00544708545557442,
          0.004881154499151104,
          0.003961516694963215,
          0.0038907753254103,
          0.0031833616298811546
         ],
         "yaxis": "y"
        },
        {
         "hovertemplate": "purpose=major_purchase<br>sub_grade=%{x}<br>value=%{y}<extra></extra>",
         "legendgroup": "major_purchase",
         "line": {
          "color": "#FF6692",
          "dash": "solid"
         },
         "mode": "lines",
         "name": "major_purchase",
         "orientation": "v",
         "showlegend": true,
         "type": "scatter",
         "x": [
          "A1",
          "A2",
          "A3",
          "A4",
          "A5",
          "B1",
          "B2",
          "B3",
          "B4",
          "B5",
          "C1",
          "C2",
          "C3",
          "C4",
          "C5",
          "D1",
          "D2",
          "D3",
          "D4",
          "D5",
          "E1",
          "E2",
          "E3",
          "E4",
          "E5",
          "F1",
          "F2",
          "F3",
          "F4",
          "F5",
          "G1",
          "G2",
          "G3",
          "G4",
          "G5"
         ],
         "xaxis": "x",
         "y": [
          0.04646644860739419,
          0.04258102884329468,
          0.04071761324214491,
          0.04787392209336901,
          0.04945980771136882,
          0.05832094360194271,
          0.05729011795024284,
          0.05689364654574289,
          0.05816235504014273,
          0.05951035781544256,
          0.06248389334919219,
          0.05431658241649321,
          0.05312716820299336,
          0.05166022400634354,
          0.046843096441669146,
          0.03387848151452077,
          0.03183665378134602,
          0.02686093765487164,
          0.023649519278422043,
          0.020061453067697493,
          0.013182674199623353,
          0.011795024283873525,
          0.011418376449598573,
          0.00872237089899891,
          0.01007037367429874,
          0.005729011795024284,
          0.004361185449499455,
          0.003231241946674596,
          0.002537416988799683,
          0.0018634156011497671,
          0.0018832391713747645,
          0.0011299435028248588,
          0.0006740013876499158,
          0.0008325899494498959,
          0.0005748835365249281
         ],
         "yaxis": "y"
        },
        {
         "hovertemplate": "purpose=medical<br>sub_grade=%{x}<br>value=%{y}<extra></extra>",
         "legendgroup": "medical",
         "line": {
          "color": "#B6E880",
          "dash": "solid"
         },
         "mode": "lines",
         "name": "medical",
         "orientation": "v",
         "showlegend": true,
         "type": "scatter",
         "x": [
          "A1",
          "A2",
          "A3",
          "A4",
          "A5",
          "B1",
          "B2",
          "B3",
          "B4",
          "B5",
          "C1",
          "C2",
          "C3",
          "C4",
          "C5",
          "D1",
          "D2",
          "D3",
          "D4",
          "D5",
          "E1",
          "E2",
          "E3",
          "E4",
          "E5",
          "F1",
          "F2",
          "F3",
          "F4",
          "F5",
          "G1",
          "G2",
          "G3",
          "G4",
          "G5"
         ],
         "xaxis": "x",
         "y": [
          0.026884458672875436,
          0.028739813736903375,
          0.031359138533178114,
          0.036343131548311994,
          0.038889697322467984,
          0.04805733410942957,
          0.049548894062863794,
          0.048894062863795114,
          0.056461001164144355,
          0.06282741559953434,
          0.06682916181606519,
          0.059516880093131545,
          0.060244470314318975,
          0.05827997671711292,
          0.05780704307334109,
          0.04099970896391152,
          0.03856228172293364,
          0.03601571594877765,
          0.03245052386495925,
          0.025756693830034923,
          0.016916472642607684,
          0.016661816065192084,
          0.014115250291036089,
          0.010768335273573923,
          0.011350407450523865,
          0.006330034924330617,
          0.004947613504074505,
          0.004365541327124563,
          0.003128637951105937,
          0.0021463911525029106,
          0.0014551804423748546,
          0.001018626309662398,
          0.0008367287543655413,
          0.0006184516880093132,
          0.0008731082654249127
         ],
         "yaxis": "y"
        },
        {
         "hovertemplate": "purpose=moving<br>sub_grade=%{x}<br>value=%{y}<extra></extra>",
         "legendgroup": "moving",
         "line": {
          "color": "#FF97FF",
          "dash": "solid"
         },
         "mode": "lines",
         "name": "moving",
         "orientation": "v",
         "showlegend": true,
         "type": "scatter",
         "x": [
          "A1",
          "A2",
          "A3",
          "A4",
          "A5",
          "B1",
          "B2",
          "B3",
          "B4",
          "B5",
          "C1",
          "C2",
          "C3",
          "C4",
          "C5",
          "D1",
          "D2",
          "D3",
          "D4",
          "D5",
          "E1",
          "E2",
          "E3",
          "E4",
          "E5",
          "F1",
          "F2",
          "F3",
          "F4",
          "F5",
          "G1",
          "G2",
          "G3",
          "G4",
          "G5"
         ],
         "xaxis": "x",
         "y": [
          0.018437966629877296,
          0.020385639161202364,
          0.022138544439394923,
          0.02493020840096085,
          0.027462182691683438,
          0.03434395896903201,
          0.03960267480360968,
          0.040966045575537235,
          0.04590014932156074,
          0.060053236382522884,
          0.06329935726806467,
          0.058624943192884506,
          0.05894955528143868,
          0.06239044342011296,
          0.0673894695838473,
          0.04590014932156074,
          0.04479646822047653,
          0.04349801986625982,
          0.04161526975264559,
          0.03687593325975459,
          0.021099785756021554,
          0.023956372135298318,
          0.018892423553853146,
          0.016360449263130558,
          0.018178276959033953,
          0.010712198922287867,
          0.007336233201324417,
          0.007206388365902746,
          0.005388560669999351,
          0.003765500227228462,
          0.0028565863792767644,
          0.0028565863792767644,
          0.00116860351879504,
          0.001298448354216711,
          0.0013633707719275467
         ],
         "yaxis": "y"
        },
        {
         "hovertemplate": "purpose=other<br>sub_grade=%{x}<br>value=%{y}<extra></extra>",
         "legendgroup": "other",
         "line": {
          "color": "#FECB52",
          "dash": "solid"
         },
         "mode": "lines",
         "name": "other",
         "orientation": "v",
         "showlegend": true,
         "type": "scatter",
         "x": [
          "A1",
          "A2",
          "A3",
          "A4",
          "A5",
          "B1",
          "B2",
          "B3",
          "B4",
          "B5",
          "C1",
          "C2",
          "C3",
          "C4",
          "C5",
          "D1",
          "D2",
          "D3",
          "D4",
          "D5",
          "E1",
          "E2",
          "E3",
          "E4",
          "E5",
          "F1",
          "F2",
          "F3",
          "F4",
          "F5",
          "G1",
          "G2",
          "G3",
          "G4",
          "G5"
         ],
         "xaxis": "x",
         "y": [
          0.02155765920826162,
          0.023580034423407916,
          0.027094090648307517,
          0.033046471600688465,
          0.03507601835915089,
          0.041831612162937466,
          0.0449584050487665,
          0.04592656339644292,
          0.0532487091222031,
          0.06110154905335628,
          0.06326735513482501,
          0.06016207687894435,
          0.058677567412507174,
          0.06055651176133104,
          0.05939472174411933,
          0.044162363740676995,
          0.04242685025817556,
          0.038711990820424556,
          0.03419391853126793,
          0.030077452667814114,
          0.02019506597819851,
          0.018732071141709696,
          0.016186173264486518,
          0.013812392426850258,
          0.013948651749856569,
          0.008483935742971887,
          0.006253585771658061,
          0.005586632243258749,
          0.004231210556511761,
          0.0037292025243832474,
          0.0030694205393000575,
          0.002144291451520367,
          0.0017498565691336776,
          0.0012406769936890419,
          0.00158491107286288
         ],
         "yaxis": "y"
        },
        {
         "hovertemplate": "purpose=renewable_energy<br>sub_grade=%{x}<br>value=%{y}<extra></extra>",
         "legendgroup": "renewable_energy",
         "line": {
          "color": "#636efa",
          "dash": "solid"
         },
         "mode": "lines",
         "name": "renewable_energy",
         "orientation": "v",
         "showlegend": true,
         "type": "scatter",
         "x": [
          "A1",
          "A2",
          "A3",
          "A4",
          "A5",
          "B1",
          "B2",
          "B3",
          "B4",
          "B5",
          "C1",
          "C2",
          "C3",
          "C4",
          "C5",
          "D1",
          "D2",
          "D3",
          "D4",
          "D5",
          "E1",
          "E2",
          "E3",
          "E4",
          "E5",
          "F1",
          "F2",
          "F3",
          "F4",
          "F5",
          "G1",
          "G2",
          "G3",
          "G4",
          "G5"
         ],
         "xaxis": "x",
         "y": [
          0.021453287197231833,
          0.023529411764705882,
          0.020761245674740483,
          0.03183391003460208,
          0.02629757785467128,
          0.03667820069204152,
          0.033910034602076124,
          0.03875432525951557,
          0.05121107266435986,
          0.061591695501730104,
          0.05951557093425606,
          0.06228373702422145,
          0.04913494809688582,
          0.05674740484429066,
          0.06228373702422145,
          0.04982698961937716,
          0.045674740484429065,
          0.04498269896193772,
          0.02629757785467128,
          0.03944636678200692,
          0.023529411764705882,
          0.02422145328719723,
          0.017993079584775088,
          0.01660899653979239,
          0.022145328719723183,
          0.01591695501730104,
          0.01384083044982699,
          0.006228373702422145,
          0.0034602076124567475,
          0.001384083044982699,
          0.002768166089965398,
          0.0020761245674740486,
          0.001384083044982699,
          0.0034602076124567475,
          0.002768166089965398
         ],
         "yaxis": "y"
        },
        {
         "hovertemplate": "purpose=small_business<br>sub_grade=%{x}<br>value=%{y}<extra></extra>",
         "legendgroup": "small_business",
         "line": {
          "color": "#EF553B",
          "dash": "solid"
         },
         "mode": "lines",
         "name": "small_business",
         "orientation": "v",
         "showlegend": true,
         "type": "scatter",
         "x": [
          "A1",
          "A2",
          "A3",
          "A4",
          "A5",
          "B1",
          "B2",
          "B3",
          "B4",
          "B5",
          "C1",
          "C2",
          "C3",
          "C4",
          "C5",
          "D1",
          "D2",
          "D3",
          "D4",
          "D5",
          "E1",
          "E2",
          "E3",
          "E4",
          "E5",
          "F1",
          "F2",
          "F3",
          "F4",
          "F5",
          "G1",
          "G2",
          "G3",
          "G4",
          "G5"
         ],
         "xaxis": "x",
         "y": [
          0.020413949532180325,
          0.0202519340597027,
          0.022520150674389405,
          0.02908177730973308,
          0.0277451496617927,
          0.0345092956377334,
          0.03487383045080805,
          0.03957227915265908,
          0.04119243387743529,
          0.04779456438089837,
          0.0524930130827494,
          0.050872858357973186,
          0.05391064846692859,
          0.054923245169913724,
          0.05800153914698854,
          0.04471627040382357,
          0.044027704645793676,
          0.044959293612539995,
          0.040949410668718864,
          0.036777512252420104,
          0.02790716513427032,
          0.02713759164000162,
          0.023087204828061078,
          0.022479646806269998,
          0.021264530762687837,
          0.01514844667665762,
          0.011462594677791729,
          0.010449997974806594,
          0.009842439953015513,
          0.007250192393373567,
          0.006683138239701892,
          0.005792053141074973,
          0.004212402284418162,
          0.0038478674713435133,
          0.0038478674713435133
         ],
         "yaxis": "y"
        },
        {
         "hovertemplate": "purpose=vacation<br>sub_grade=%{x}<br>value=%{y}<extra></extra>",
         "legendgroup": "vacation",
         "line": {
          "color": "#00cc96",
          "dash": "solid"
         },
         "mode": "lines",
         "name": "vacation",
         "orientation": "v",
         "showlegend": true,
         "type": "scatter",
         "x": [
          "A1",
          "A2",
          "A3",
          "A4",
          "A5",
          "B1",
          "B2",
          "B3",
          "B4",
          "B5",
          "C1",
          "C2",
          "C3",
          "C4",
          "C5",
          "D1",
          "D2",
          "D3",
          "D4",
          "D5",
          "E1",
          "E2",
          "E3",
          "E4",
          "E5",
          "F1",
          "F2",
          "F3",
          "F4",
          "F5",
          "G1",
          "G2",
          "G3",
          "G4",
          "G5"
         ],
         "xaxis": "x",
         "y": [
          0.025442834138486314,
          0.026280193236714974,
          0.02995169082125604,
          0.03246376811594203,
          0.04167471819645733,
          0.04830917874396135,
          0.049726247987117556,
          0.05152979066022544,
          0.05520128824476651,
          0.07033816425120773,
          0.07323671497584541,
          0.0655072463768116,
          0.06183574879227053,
          0.06035426731078905,
          0.059710144927536235,
          0.0421256038647343,
          0.04,
          0.03561996779388084,
          0.029887278582930756,
          0.024412238325281804,
          0.016618357487922706,
          0.013719806763285025,
          0.01217391304347826,
          0.008180354267310789,
          0.00927536231884058,
          0.005281803542673108,
          0.00322061191626409,
          0.002640901771336554,
          0.0011594202898550724,
          0.0012882447665056361,
          0.000966183574879227,
          0.0006441223832528181,
          0.0007729468599033816,
          0.00032206119162640903,
          0.0001288244766505636
         ],
         "yaxis": "y"
        },
        {
         "hovertemplate": "purpose=wedding<br>sub_grade=%{x}<br>value=%{y}<extra></extra>",
         "legendgroup": "wedding",
         "line": {
          "color": "#ab63fa",
          "dash": "solid"
         },
         "mode": "lines",
         "name": "wedding",
         "orientation": "v",
         "showlegend": true,
         "type": "scatter",
         "x": [
          "A1",
          "A2",
          "A3",
          "A4",
          "A5",
          "B1",
          "B2",
          "B3",
          "B4",
          "B5",
          "C1",
          "C2",
          "C3",
          "C4",
          "C5",
          "D1",
          "D2",
          "D3",
          "D4",
          "D5",
          "E1",
          "E2",
          "E3",
          "E4",
          "E5",
          "F1",
          "F2",
          "F3",
          "F4",
          "F5",
          "G1",
          "G2",
          "G3",
          "G4",
          "G5"
         ],
         "xaxis": "x",
         "y": [
          0.02038216560509554,
          0.031422505307855626,
          0.03354564755838641,
          0.05562632696390658,
          0.049681528662420385,
          0.038641188959660296,
          0.03694267515923567,
          0.06157112526539278,
          0.05180467091295117,
          0.04628450106157112,
          0.05435244161358811,
          0.050955414012738856,
          0.03991507430997877,
          0.03354564755838641,
          0.03184713375796178,
          0.04076433121019108,
          0.048407643312101914,
          0.05010615711252654,
          0.040339702760084924,
          0.03524416135881104,
          0.018683651804670912,
          0.025902335456475585,
          0.017834394904458598,
          0.014861995753715499,
          0.016560509554140127,
          0.011464968152866241,
          0.009766454352441613,
          0.008492569002123142,
          0.009766454352441613,
          0.004246284501061571,
          0.003397027600849257,
          0.0016985138004246285,
          0.0025477707006369425,
          0.0016985138004246285,
          0.0016985138004246285
         ],
         "yaxis": "y"
        }
       ],
       "layout": {
        "legend": {
         "title": {
          "text": "purpose"
         },
         "tracegroupgap": 0
        },
        "margin": {
         "t": 60
        },
        "template": {
         "data": {
          "bar": [
           {
            "error_x": {
             "color": "#2a3f5f"
            },
            "error_y": {
             "color": "#2a3f5f"
            },
            "marker": {
             "line": {
              "color": "#E5ECF6",
              "width": 0.5
             }
            },
            "type": "bar"
           }
          ],
          "barpolar": [
           {
            "marker": {
             "line": {
              "color": "#E5ECF6",
              "width": 0.5
             }
            },
            "type": "barpolar"
           }
          ],
          "carpet": [
           {
            "aaxis": {
             "endlinecolor": "#2a3f5f",
             "gridcolor": "white",
             "linecolor": "white",
             "minorgridcolor": "white",
             "startlinecolor": "#2a3f5f"
            },
            "baxis": {
             "endlinecolor": "#2a3f5f",
             "gridcolor": "white",
             "linecolor": "white",
             "minorgridcolor": "white",
             "startlinecolor": "#2a3f5f"
            },
            "type": "carpet"
           }
          ],
          "choropleth": [
           {
            "colorbar": {
             "outlinewidth": 0,
             "ticks": ""
            },
            "type": "choropleth"
           }
          ],
          "contour": [
           {
            "colorbar": {
             "outlinewidth": 0,
             "ticks": ""
            },
            "colorscale": [
             [
              0,
              "#0d0887"
             ],
             [
              0.1111111111111111,
              "#46039f"
             ],
             [
              0.2222222222222222,
              "#7201a8"
             ],
             [
              0.3333333333333333,
              "#9c179e"
             ],
             [
              0.4444444444444444,
              "#bd3786"
             ],
             [
              0.5555555555555556,
              "#d8576b"
             ],
             [
              0.6666666666666666,
              "#ed7953"
             ],
             [
              0.7777777777777778,
              "#fb9f3a"
             ],
             [
              0.8888888888888888,
              "#fdca26"
             ],
             [
              1,
              "#f0f921"
             ]
            ],
            "type": "contour"
           }
          ],
          "contourcarpet": [
           {
            "colorbar": {
             "outlinewidth": 0,
             "ticks": ""
            },
            "type": "contourcarpet"
           }
          ],
          "heatmap": [
           {
            "colorbar": {
             "outlinewidth": 0,
             "ticks": ""
            },
            "colorscale": [
             [
              0,
              "#0d0887"
             ],
             [
              0.1111111111111111,
              "#46039f"
             ],
             [
              0.2222222222222222,
              "#7201a8"
             ],
             [
              0.3333333333333333,
              "#9c179e"
             ],
             [
              0.4444444444444444,
              "#bd3786"
             ],
             [
              0.5555555555555556,
              "#d8576b"
             ],
             [
              0.6666666666666666,
              "#ed7953"
             ],
             [
              0.7777777777777778,
              "#fb9f3a"
             ],
             [
              0.8888888888888888,
              "#fdca26"
             ],
             [
              1,
              "#f0f921"
             ]
            ],
            "type": "heatmap"
           }
          ],
          "heatmapgl": [
           {
            "colorbar": {
             "outlinewidth": 0,
             "ticks": ""
            },
            "colorscale": [
             [
              0,
              "#0d0887"
             ],
             [
              0.1111111111111111,
              "#46039f"
             ],
             [
              0.2222222222222222,
              "#7201a8"
             ],
             [
              0.3333333333333333,
              "#9c179e"
             ],
             [
              0.4444444444444444,
              "#bd3786"
             ],
             [
              0.5555555555555556,
              "#d8576b"
             ],
             [
              0.6666666666666666,
              "#ed7953"
             ],
             [
              0.7777777777777778,
              "#fb9f3a"
             ],
             [
              0.8888888888888888,
              "#fdca26"
             ],
             [
              1,
              "#f0f921"
             ]
            ],
            "type": "heatmapgl"
           }
          ],
          "histogram": [
           {
            "marker": {
             "colorbar": {
              "outlinewidth": 0,
              "ticks": ""
             }
            },
            "type": "histogram"
           }
          ],
          "histogram2d": [
           {
            "colorbar": {
             "outlinewidth": 0,
             "ticks": ""
            },
            "colorscale": [
             [
              0,
              "#0d0887"
             ],
             [
              0.1111111111111111,
              "#46039f"
             ],
             [
              0.2222222222222222,
              "#7201a8"
             ],
             [
              0.3333333333333333,
              "#9c179e"
             ],
             [
              0.4444444444444444,
              "#bd3786"
             ],
             [
              0.5555555555555556,
              "#d8576b"
             ],
             [
              0.6666666666666666,
              "#ed7953"
             ],
             [
              0.7777777777777778,
              "#fb9f3a"
             ],
             [
              0.8888888888888888,
              "#fdca26"
             ],
             [
              1,
              "#f0f921"
             ]
            ],
            "type": "histogram2d"
           }
          ],
          "histogram2dcontour": [
           {
            "colorbar": {
             "outlinewidth": 0,
             "ticks": ""
            },
            "colorscale": [
             [
              0,
              "#0d0887"
             ],
             [
              0.1111111111111111,
              "#46039f"
             ],
             [
              0.2222222222222222,
              "#7201a8"
             ],
             [
              0.3333333333333333,
              "#9c179e"
             ],
             [
              0.4444444444444444,
              "#bd3786"
             ],
             [
              0.5555555555555556,
              "#d8576b"
             ],
             [
              0.6666666666666666,
              "#ed7953"
             ],
             [
              0.7777777777777778,
              "#fb9f3a"
             ],
             [
              0.8888888888888888,
              "#fdca26"
             ],
             [
              1,
              "#f0f921"
             ]
            ],
            "type": "histogram2dcontour"
           }
          ],
          "mesh3d": [
           {
            "colorbar": {
             "outlinewidth": 0,
             "ticks": ""
            },
            "type": "mesh3d"
           }
          ],
          "parcoords": [
           {
            "line": {
             "colorbar": {
              "outlinewidth": 0,
              "ticks": ""
             }
            },
            "type": "parcoords"
           }
          ],
          "pie": [
           {
            "automargin": true,
            "type": "pie"
           }
          ],
          "scatter": [
           {
            "marker": {
             "colorbar": {
              "outlinewidth": 0,
              "ticks": ""
             }
            },
            "type": "scatter"
           }
          ],
          "scatter3d": [
           {
            "line": {
             "colorbar": {
              "outlinewidth": 0,
              "ticks": ""
             }
            },
            "marker": {
             "colorbar": {
              "outlinewidth": 0,
              "ticks": ""
             }
            },
            "type": "scatter3d"
           }
          ],
          "scattercarpet": [
           {
            "marker": {
             "colorbar": {
              "outlinewidth": 0,
              "ticks": ""
             }
            },
            "type": "scattercarpet"
           }
          ],
          "scattergeo": [
           {
            "marker": {
             "colorbar": {
              "outlinewidth": 0,
              "ticks": ""
             }
            },
            "type": "scattergeo"
           }
          ],
          "scattergl": [
           {
            "marker": {
             "colorbar": {
              "outlinewidth": 0,
              "ticks": ""
             }
            },
            "type": "scattergl"
           }
          ],
          "scattermapbox": [
           {
            "marker": {
             "colorbar": {
              "outlinewidth": 0,
              "ticks": ""
             }
            },
            "type": "scattermapbox"
           }
          ],
          "scatterpolar": [
           {
            "marker": {
             "colorbar": {
              "outlinewidth": 0,
              "ticks": ""
             }
            },
            "type": "scatterpolar"
           }
          ],
          "scatterpolargl": [
           {
            "marker": {
             "colorbar": {
              "outlinewidth": 0,
              "ticks": ""
             }
            },
            "type": "scatterpolargl"
           }
          ],
          "scatterternary": [
           {
            "marker": {
             "colorbar": {
              "outlinewidth": 0,
              "ticks": ""
             }
            },
            "type": "scatterternary"
           }
          ],
          "surface": [
           {
            "colorbar": {
             "outlinewidth": 0,
             "ticks": ""
            },
            "colorscale": [
             [
              0,
              "#0d0887"
             ],
             [
              0.1111111111111111,
              "#46039f"
             ],
             [
              0.2222222222222222,
              "#7201a8"
             ],
             [
              0.3333333333333333,
              "#9c179e"
             ],
             [
              0.4444444444444444,
              "#bd3786"
             ],
             [
              0.5555555555555556,
              "#d8576b"
             ],
             [
              0.6666666666666666,
              "#ed7953"
             ],
             [
              0.7777777777777778,
              "#fb9f3a"
             ],
             [
              0.8888888888888888,
              "#fdca26"
             ],
             [
              1,
              "#f0f921"
             ]
            ],
            "type": "surface"
           }
          ],
          "table": [
           {
            "cells": {
             "fill": {
              "color": "#EBF0F8"
             },
             "line": {
              "color": "white"
             }
            },
            "header": {
             "fill": {
              "color": "#C8D4E3"
             },
             "line": {
              "color": "white"
             }
            },
            "type": "table"
           }
          ]
         },
         "layout": {
          "annotationdefaults": {
           "arrowcolor": "#2a3f5f",
           "arrowhead": 0,
           "arrowwidth": 1
          },
          "coloraxis": {
           "colorbar": {
            "outlinewidth": 0,
            "ticks": ""
           }
          },
          "colorscale": {
           "diverging": [
            [
             0,
             "#8e0152"
            ],
            [
             0.1,
             "#c51b7d"
            ],
            [
             0.2,
             "#de77ae"
            ],
            [
             0.3,
             "#f1b6da"
            ],
            [
             0.4,
             "#fde0ef"
            ],
            [
             0.5,
             "#f7f7f7"
            ],
            [
             0.6,
             "#e6f5d0"
            ],
            [
             0.7,
             "#b8e186"
            ],
            [
             0.8,
             "#7fbc41"
            ],
            [
             0.9,
             "#4d9221"
            ],
            [
             1,
             "#276419"
            ]
           ],
           "sequential": [
            [
             0,
             "#0d0887"
            ],
            [
             0.1111111111111111,
             "#46039f"
            ],
            [
             0.2222222222222222,
             "#7201a8"
            ],
            [
             0.3333333333333333,
             "#9c179e"
            ],
            [
             0.4444444444444444,
             "#bd3786"
            ],
            [
             0.5555555555555556,
             "#d8576b"
            ],
            [
             0.6666666666666666,
             "#ed7953"
            ],
            [
             0.7777777777777778,
             "#fb9f3a"
            ],
            [
             0.8888888888888888,
             "#fdca26"
            ],
            [
             1,
             "#f0f921"
            ]
           ],
           "sequentialminus": [
            [
             0,
             "#0d0887"
            ],
            [
             0.1111111111111111,
             "#46039f"
            ],
            [
             0.2222222222222222,
             "#7201a8"
            ],
            [
             0.3333333333333333,
             "#9c179e"
            ],
            [
             0.4444444444444444,
             "#bd3786"
            ],
            [
             0.5555555555555556,
             "#d8576b"
            ],
            [
             0.6666666666666666,
             "#ed7953"
            ],
            [
             0.7777777777777778,
             "#fb9f3a"
            ],
            [
             0.8888888888888888,
             "#fdca26"
            ],
            [
             1,
             "#f0f921"
            ]
           ]
          },
          "colorway": [
           "#636efa",
           "#EF553B",
           "#00cc96",
           "#ab63fa",
           "#FFA15A",
           "#19d3f3",
           "#FF6692",
           "#B6E880",
           "#FF97FF",
           "#FECB52"
          ],
          "font": {
           "color": "#2a3f5f"
          },
          "geo": {
           "bgcolor": "white",
           "lakecolor": "white",
           "landcolor": "#E5ECF6",
           "showlakes": true,
           "showland": true,
           "subunitcolor": "white"
          },
          "hoverlabel": {
           "align": "left"
          },
          "hovermode": "closest",
          "mapbox": {
           "style": "light"
          },
          "paper_bgcolor": "white",
          "plot_bgcolor": "#E5ECF6",
          "polar": {
           "angularaxis": {
            "gridcolor": "white",
            "linecolor": "white",
            "ticks": ""
           },
           "bgcolor": "#E5ECF6",
           "radialaxis": {
            "gridcolor": "white",
            "linecolor": "white",
            "ticks": ""
           }
          },
          "scene": {
           "xaxis": {
            "backgroundcolor": "#E5ECF6",
            "gridcolor": "white",
            "gridwidth": 2,
            "linecolor": "white",
            "showbackground": true,
            "ticks": "",
            "zerolinecolor": "white"
           },
           "yaxis": {
            "backgroundcolor": "#E5ECF6",
            "gridcolor": "white",
            "gridwidth": 2,
            "linecolor": "white",
            "showbackground": true,
            "ticks": "",
            "zerolinecolor": "white"
           },
           "zaxis": {
            "backgroundcolor": "#E5ECF6",
            "gridcolor": "white",
            "gridwidth": 2,
            "linecolor": "white",
            "showbackground": true,
            "ticks": "",
            "zerolinecolor": "white"
           }
          },
          "shapedefaults": {
           "line": {
            "color": "#2a3f5f"
           }
          },
          "ternary": {
           "aaxis": {
            "gridcolor": "white",
            "linecolor": "white",
            "ticks": ""
           },
           "baxis": {
            "gridcolor": "white",
            "linecolor": "white",
            "ticks": ""
           },
           "bgcolor": "#E5ECF6",
           "caxis": {
            "gridcolor": "white",
            "linecolor": "white",
            "ticks": ""
           }
          },
          "title": {
           "x": 0.05
          },
          "xaxis": {
           "automargin": true,
           "gridcolor": "white",
           "linecolor": "white",
           "ticks": "",
           "title": {
            "standoff": 15
           },
           "zerolinecolor": "white",
           "zerolinewidth": 2
          },
          "yaxis": {
           "automargin": true,
           "gridcolor": "white",
           "linecolor": "white",
           "ticks": "",
           "title": {
            "standoff": 15
           },
           "zerolinecolor": "white",
           "zerolinewidth": 2
          }
         }
        },
        "title": {
         "text": "Distribution of LC Rating by Purpose"
        },
        "xaxis": {
         "anchor": "y",
         "domain": [
          0,
          1
         ],
         "title": {
          "text": "Rating"
         }
        },
        "yaxis": {
         "anchor": "x",
         "domain": [
          0,
          1
         ],
         "tickformat": ",.0%",
         "title": {
          "text": "Frequency"
         }
        }
       }
      },
      "text/html": [
       "<div>\n",
       "        \n",
       "        \n",
       "            <div id=\"ee024160-9d88-4edf-9ce5-b454615268be\" class=\"plotly-graph-div\" style=\"height:525px; width:100%;\"></div>\n",
       "            <script type=\"text/javascript\">\n",
       "                require([\"plotly\"], function(Plotly) {\n",
       "                    window.PLOTLYENV=window.PLOTLYENV || {};\n",
       "                    \n",
       "                if (document.getElementById(\"ee024160-9d88-4edf-9ce5-b454615268be\")) {\n",
       "                    Plotly.newPlot(\n",
       "                        'ee024160-9d88-4edf-9ce5-b454615268be',\n",
       "                        [{\"hovertemplate\": \"purpose=car<br>sub_grade=%{x}<br>value=%{y}<extra></extra>\", \"legendgroup\": \"car\", \"line\": {\"color\": \"#636efa\", \"dash\": \"solid\"}, \"mode\": \"lines\", \"name\": \"car\", \"orientation\": \"v\", \"showlegend\": true, \"type\": \"scatter\", \"x\": [\"A1\", \"A2\", \"A3\", \"A4\", \"A5\", \"B1\", \"B2\", \"B3\", \"B4\", \"B5\", \"C1\", \"C2\", \"C3\", \"C4\", \"C5\", \"D1\", \"D2\", \"D3\", \"D4\", \"D5\", \"E1\", \"E2\", \"E3\", \"E4\", \"E5\", \"F1\", \"F2\", \"F3\", \"F4\", \"F5\", \"G1\", \"G2\", \"G3\", \"G4\", \"G5\"], \"xaxis\": \"x\", \"y\": [0.05376254528796902, 0.0473493524340982, 0.047182775996335316, 0.051721983925373756, 0.05676092116770083, 0.06488152250864115, 0.06084204389289135, 0.06271602881772373, 0.05821846499812602, 0.06088368800233207, 0.061050264440094947, 0.055220089118394204, 0.04993128721942281, 0.04772414941906467, 0.04593345271311373, 0.030191979344521717, 0.026818806479823428, 0.024278515803939534, 0.021863157456377794, 0.01724066130845792, 0.010577603797942781, 0.009453212843043351, 0.008245533669262483, 0.006454836963311539, 0.0063715487444301, 0.003914546287427643, 0.002665223004206055, 0.0021238495814767003, 0.0015408320493066256, 0.0012076791737808687, 0.0010411027360179902, 0.000749593969932953, 0.0003747969849664765, 0.0003747969849664765, 0.0003331528755257569], \"yaxis\": \"y\"}, {\"hovertemplate\": \"purpose=credit_card<br>sub_grade=%{x}<br>value=%{y}<extra></extra>\", \"legendgroup\": \"credit_card\", \"line\": {\"color\": \"#EF553B\", \"dash\": \"solid\"}, \"mode\": \"lines\", \"name\": \"credit_card\", \"orientation\": \"v\", \"showlegend\": true, \"type\": \"scatter\", \"x\": [\"A1\", \"A2\", \"A3\", \"A4\", \"A5\", \"B1\", \"B2\", \"B3\", \"B4\", \"B5\", \"C1\", \"C2\", \"C3\", \"C4\", \"C5\", \"D1\", \"D2\", \"D3\", \"D4\", \"D5\", \"E1\", \"E2\", \"E3\", \"E4\", \"E5\", \"F1\", \"F2\", \"F3\", \"F4\", \"F5\", \"G1\", \"G2\", \"G3\", \"G4\", \"G5\"], \"xaxis\": \"x\", \"y\": [0.06192997286114695, 0.04449572606587217, 0.045079898098732814, 0.056902611558482, 0.06338266556537987, 0.07130187186515298, 0.06887040085420652, 0.06873112805167021, 0.06953774969969302, 0.0634542363111277, 0.0631137916827056, 0.05299523570954657, 0.0501111280903571, 0.0465151817026487, 0.03979913766923096, 0.026233579833298194, 0.02199543107833902, 0.018362732145516866, 0.015478624526327395, 0.012256006623195499, 0.008304140851227632, 0.0068224329797996405, 0.00578368999421631, 0.0049596592458764615, 0.004644361095690087, 0.00257461250244211, 0.0016499958411593687, 0.0013540411357697048, 0.0009497631395184643, 0.0007389195912343245, 0.000593843755258999, 0.0003752628290561753, 0.0002688738826742699, 0.00024566174891821785, 0.00018763141452808764], \"yaxis\": \"y\"}, {\"hovertemplate\": \"purpose=debt_consolidation<br>sub_grade=%{x}<br>value=%{y}<extra></extra>\", \"legendgroup\": \"debt_consolidation\", \"line\": {\"color\": \"#00cc96\", \"dash\": \"solid\"}, \"mode\": \"lines\", \"name\": \"debt_consolidation\", \"orientation\": \"v\", \"showlegend\": true, \"type\": \"scatter\", \"x\": [\"A1\", \"A2\", \"A3\", \"A4\", \"A5\", \"B1\", \"B2\", \"B3\", \"B4\", \"B5\", \"C1\", \"C2\", \"C3\", \"C4\", \"C5\", \"D1\", \"D2\", \"D3\", \"D4\", \"D5\", \"E1\", \"E2\", \"E3\", \"E4\", \"E5\", \"F1\", \"F2\", \"F3\", \"F4\", \"F5\", \"G1\", \"G2\", \"G3\", \"G4\", \"G5\"], \"xaxis\": \"x\", \"y\": [0.029440235640832414, 0.024396714237755277, 0.02674592312092635, 0.03742770235319988, 0.043128564016724616, 0.05057294246629371, 0.052526182097338, 0.05648743971446391, 0.06123437545241052, 0.0623620270182498, 0.06589210072643924, 0.06051599645349279, 0.06050738842627264, 0.060502693138698015, 0.05567202477233724, 0.039381724532173285, 0.03505814722387209, 0.03137704176536552, 0.027783581674918633, 0.0236345125548077, 0.016741830395257132, 0.014974054623410548, 0.013541991913149701, 0.011519105516415117, 0.011509714941265865, 0.006794863668412531, 0.004687462095334684, 0.003880655180428163, 0.003089499224103728, 0.0026708360820329345, 0.0020620137931897983, 0.0013029423019586392, 0.0010267028829848257, 0.0008232404214177108, 0.0007277695740669877], \"yaxis\": \"y\"}, {\"hovertemplate\": \"purpose=educational<br>sub_grade=%{x}<br>value=%{y}<extra></extra>\", \"legendgroup\": \"educational\", \"line\": {\"color\": \"#ab63fa\", \"dash\": \"solid\"}, \"mode\": \"lines\", \"name\": \"educational\", \"orientation\": \"v\", \"showlegend\": true, \"type\": \"scatter\", \"x\": [\"A1\", \"A2\", \"A3\", \"A4\", \"A5\", \"B1\", \"B2\", \"B3\", \"B4\", \"B5\", \"C1\", \"C2\", \"C3\", \"C4\", \"C5\", \"D1\", \"D2\", \"D3\", \"D4\", \"D5\", \"E1\", \"E2\", \"E3\", \"E4\", \"E5\", \"F1\", \"F2\", \"F3\", \"F4\", \"F5\", \"G1\", \"G2\", \"G3\", \"G4\", \"G5\"], \"xaxis\": \"x\", \"y\": [null, 0.01650943396226415, 0.04009433962264151, 0.08254716981132075, 0.06839622641509434, 0.04245283018867924, 0.0589622641509434, 0.05188679245283019, 0.05188679245283019, 0.0589622641509434, 0.07547169811320754, 0.07311320754716981, 0.06132075471698113, 0.02830188679245283, 0.0330188679245283, 0.030660377358490566, 0.018867924528301886, 0.025943396226415096, 0.03537735849056604, 0.014150943396226415, 0.01179245283018868, 0.02358490566037736, 0.02122641509433962, 0.018867924528301886, 0.01179245283018868, 0.007075471698113208, 0.007075471698113208, 0.007075471698113208, 0.0047169811320754715, null, 0.0047169811320754715, null, 0.0023584905660377358, 0.007075471698113208, 0.0047169811320754715], \"yaxis\": \"y\"}, {\"hovertemplate\": \"purpose=home_improvement<br>sub_grade=%{x}<br>value=%{y}<extra></extra>\", \"legendgroup\": \"home_improvement\", \"line\": {\"color\": \"#FFA15A\", \"dash\": \"solid\"}, \"mode\": \"lines\", \"name\": \"home_improvement\", \"orientation\": \"v\", \"showlegend\": true, \"type\": \"scatter\", \"x\": [\"A1\", \"A2\", \"A3\", \"A4\", \"A5\", \"B1\", \"B2\", \"B3\", \"B4\", \"B5\", \"C1\", \"C2\", \"C3\", \"C4\", \"C5\", \"D1\", \"D2\", \"D3\", \"D4\", \"D5\", \"E1\", \"E2\", \"E3\", \"E4\", \"E5\", \"F1\", \"F2\", \"F3\", \"F4\", \"F5\", \"G1\", \"G2\", \"G3\", \"G4\", \"G5\"], \"xaxis\": \"x\", \"y\": [0.05356347660793449, 0.04150022930139508, 0.03892141940886765, 0.04623912479977668, 0.049263244647972514, 0.06145942029948756, 0.058993599500189425, 0.0560027117382375, 0.05869451072399423, 0.05945220229035538, 0.06242979721780974, 0.05434110742604199, 0.05432781459154443, 0.05220096107193417, 0.048957509454528536, 0.03293964388496381, 0.02913789321866048, 0.025841270263264587, 0.02182683424500023, 0.01831087952039453, 0.013571984022012934, 0.011192566646948962, 0.010634267598051271, 0.009537608752002233, 0.009032481041094798, 0.00549658706474275, 0.003635590235083778, 0.003037412682693394, 0.0024392351303030102, 0.002100267850615126, 0.0017347149019321135, 0.0010235482563124348, 0.0008906199113367939, 0.0006978738111221146, 0.0005715918833952558], \"yaxis\": \"y\"}, {\"hovertemplate\": \"purpose=house<br>sub_grade=%{x}<br>value=%{y}<extra></extra>\", \"legendgroup\": \"house\", \"line\": {\"color\": \"#19d3f3\", \"dash\": \"solid\"}, \"mode\": \"lines\", \"name\": \"house\", \"orientation\": \"v\", \"showlegend\": true, \"type\": \"scatter\", \"x\": [\"A1\", \"A2\", \"A3\", \"A4\", \"A5\", \"B1\", \"B2\", \"B3\", \"B4\", \"B5\", \"C1\", \"C2\", \"C3\", \"C4\", \"C5\", \"D1\", \"D2\", \"D3\", \"D4\", \"D5\", \"E1\", \"E2\", \"E3\", \"E4\", \"E5\", \"F1\", \"F2\", \"F3\", \"F4\", \"F5\", \"G1\", \"G2\", \"G3\", \"G4\", \"G5\"], \"xaxis\": \"x\", \"y\": [0.03197509903791738, 0.031055461233729487, 0.03749292586304471, 0.04173740803621958, 0.04018109790605546, 0.0466893039049236, 0.044779286926994906, 0.043647425014148276, 0.04633559705715903, 0.05072156196943973, 0.052985285795132994, 0.04973118279569892, 0.04845783814374646, 0.0476796830786644, 0.05164119977362762, 0.04095925297113752, 0.03763440860215054, 0.03459252971137521, 0.032823995472552346, 0.028367289190718733, 0.020444255800792302, 0.02320316921335597, 0.018887945670628185, 0.01598754951895869, 0.01839275608375778, 0.011177136389360498, 0.009267119411431806, 0.008488964346349746, 0.007286361063950198, 0.006013016411997737, 0.00544708545557442, 0.004881154499151104, 0.003961516694963215, 0.0038907753254103, 0.0031833616298811546], \"yaxis\": \"y\"}, {\"hovertemplate\": \"purpose=major_purchase<br>sub_grade=%{x}<br>value=%{y}<extra></extra>\", \"legendgroup\": \"major_purchase\", \"line\": {\"color\": \"#FF6692\", \"dash\": \"solid\"}, \"mode\": \"lines\", \"name\": \"major_purchase\", \"orientation\": \"v\", \"showlegend\": true, \"type\": \"scatter\", \"x\": [\"A1\", \"A2\", \"A3\", \"A4\", \"A5\", \"B1\", \"B2\", \"B3\", \"B4\", \"B5\", \"C1\", \"C2\", \"C3\", \"C4\", \"C5\", \"D1\", \"D2\", \"D3\", \"D4\", \"D5\", \"E1\", \"E2\", \"E3\", \"E4\", \"E5\", \"F1\", \"F2\", \"F3\", \"F4\", \"F5\", \"G1\", \"G2\", \"G3\", \"G4\", \"G5\"], \"xaxis\": \"x\", \"y\": [0.04646644860739419, 0.04258102884329468, 0.04071761324214491, 0.04787392209336901, 0.04945980771136882, 0.05832094360194271, 0.05729011795024284, 0.05689364654574289, 0.05816235504014273, 0.05951035781544256, 0.06248389334919219, 0.05431658241649321, 0.05312716820299336, 0.05166022400634354, 0.046843096441669146, 0.03387848151452077, 0.03183665378134602, 0.02686093765487164, 0.023649519278422043, 0.020061453067697493, 0.013182674199623353, 0.011795024283873525, 0.011418376449598573, 0.00872237089899891, 0.01007037367429874, 0.005729011795024284, 0.004361185449499455, 0.003231241946674596, 0.002537416988799683, 0.0018634156011497671, 0.0018832391713747645, 0.0011299435028248588, 0.0006740013876499158, 0.0008325899494498959, 0.0005748835365249281], \"yaxis\": \"y\"}, {\"hovertemplate\": \"purpose=medical<br>sub_grade=%{x}<br>value=%{y}<extra></extra>\", \"legendgroup\": \"medical\", \"line\": {\"color\": \"#B6E880\", \"dash\": \"solid\"}, \"mode\": \"lines\", \"name\": \"medical\", \"orientation\": \"v\", \"showlegend\": true, \"type\": \"scatter\", \"x\": [\"A1\", \"A2\", \"A3\", \"A4\", \"A5\", \"B1\", \"B2\", \"B3\", \"B4\", \"B5\", \"C1\", \"C2\", \"C3\", \"C4\", \"C5\", \"D1\", \"D2\", \"D3\", \"D4\", \"D5\", \"E1\", \"E2\", \"E3\", \"E4\", \"E5\", \"F1\", \"F2\", \"F3\", \"F4\", \"F5\", \"G1\", \"G2\", \"G3\", \"G4\", \"G5\"], \"xaxis\": \"x\", \"y\": [0.026884458672875436, 0.028739813736903375, 0.031359138533178114, 0.036343131548311994, 0.038889697322467984, 0.04805733410942957, 0.049548894062863794, 0.048894062863795114, 0.056461001164144355, 0.06282741559953434, 0.06682916181606519, 0.059516880093131545, 0.060244470314318975, 0.05827997671711292, 0.05780704307334109, 0.04099970896391152, 0.03856228172293364, 0.03601571594877765, 0.03245052386495925, 0.025756693830034923, 0.016916472642607684, 0.016661816065192084, 0.014115250291036089, 0.010768335273573923, 0.011350407450523865, 0.006330034924330617, 0.004947613504074505, 0.004365541327124563, 0.003128637951105937, 0.0021463911525029106, 0.0014551804423748546, 0.001018626309662398, 0.0008367287543655413, 0.0006184516880093132, 0.0008731082654249127], \"yaxis\": \"y\"}, {\"hovertemplate\": \"purpose=moving<br>sub_grade=%{x}<br>value=%{y}<extra></extra>\", \"legendgroup\": \"moving\", \"line\": {\"color\": \"#FF97FF\", \"dash\": \"solid\"}, \"mode\": \"lines\", \"name\": \"moving\", \"orientation\": \"v\", \"showlegend\": true, \"type\": \"scatter\", \"x\": [\"A1\", \"A2\", \"A3\", \"A4\", \"A5\", \"B1\", \"B2\", \"B3\", \"B4\", \"B5\", \"C1\", \"C2\", \"C3\", \"C4\", \"C5\", \"D1\", \"D2\", \"D3\", \"D4\", \"D5\", \"E1\", \"E2\", \"E3\", \"E4\", \"E5\", \"F1\", \"F2\", \"F3\", \"F4\", \"F5\", \"G1\", \"G2\", \"G3\", \"G4\", \"G5\"], \"xaxis\": \"x\", \"y\": [0.018437966629877296, 0.020385639161202364, 0.022138544439394923, 0.02493020840096085, 0.027462182691683438, 0.03434395896903201, 0.03960267480360968, 0.040966045575537235, 0.04590014932156074, 0.060053236382522884, 0.06329935726806467, 0.058624943192884506, 0.05894955528143868, 0.06239044342011296, 0.0673894695838473, 0.04590014932156074, 0.04479646822047653, 0.04349801986625982, 0.04161526975264559, 0.03687593325975459, 0.021099785756021554, 0.023956372135298318, 0.018892423553853146, 0.016360449263130558, 0.018178276959033953, 0.010712198922287867, 0.007336233201324417, 0.007206388365902746, 0.005388560669999351, 0.003765500227228462, 0.0028565863792767644, 0.0028565863792767644, 0.00116860351879504, 0.001298448354216711, 0.0013633707719275467], \"yaxis\": \"y\"}, {\"hovertemplate\": \"purpose=other<br>sub_grade=%{x}<br>value=%{y}<extra></extra>\", \"legendgroup\": \"other\", \"line\": {\"color\": \"#FECB52\", \"dash\": \"solid\"}, \"mode\": \"lines\", \"name\": \"other\", \"orientation\": \"v\", \"showlegend\": true, \"type\": \"scatter\", \"x\": [\"A1\", \"A2\", \"A3\", \"A4\", \"A5\", \"B1\", \"B2\", \"B3\", \"B4\", \"B5\", \"C1\", \"C2\", \"C3\", \"C4\", \"C5\", \"D1\", \"D2\", \"D3\", \"D4\", \"D5\", \"E1\", \"E2\", \"E3\", \"E4\", \"E5\", \"F1\", \"F2\", \"F3\", \"F4\", \"F5\", \"G1\", \"G2\", \"G3\", \"G4\", \"G5\"], \"xaxis\": \"x\", \"y\": [0.02155765920826162, 0.023580034423407916, 0.027094090648307517, 0.033046471600688465, 0.03507601835915089, 0.041831612162937466, 0.0449584050487665, 0.04592656339644292, 0.0532487091222031, 0.06110154905335628, 0.06326735513482501, 0.06016207687894435, 0.058677567412507174, 0.06055651176133104, 0.05939472174411933, 0.044162363740676995, 0.04242685025817556, 0.038711990820424556, 0.03419391853126793, 0.030077452667814114, 0.02019506597819851, 0.018732071141709696, 0.016186173264486518, 0.013812392426850258, 0.013948651749856569, 0.008483935742971887, 0.006253585771658061, 0.005586632243258749, 0.004231210556511761, 0.0037292025243832474, 0.0030694205393000575, 0.002144291451520367, 0.0017498565691336776, 0.0012406769936890419, 0.00158491107286288], \"yaxis\": \"y\"}, {\"hovertemplate\": \"purpose=renewable_energy<br>sub_grade=%{x}<br>value=%{y}<extra></extra>\", \"legendgroup\": \"renewable_energy\", \"line\": {\"color\": \"#636efa\", \"dash\": \"solid\"}, \"mode\": \"lines\", \"name\": \"renewable_energy\", \"orientation\": \"v\", \"showlegend\": true, \"type\": \"scatter\", \"x\": [\"A1\", \"A2\", \"A3\", \"A4\", \"A5\", \"B1\", \"B2\", \"B3\", \"B4\", \"B5\", \"C1\", \"C2\", \"C3\", \"C4\", \"C5\", \"D1\", \"D2\", \"D3\", \"D4\", \"D5\", \"E1\", \"E2\", \"E3\", \"E4\", \"E5\", \"F1\", \"F2\", \"F3\", \"F4\", \"F5\", \"G1\", \"G2\", \"G3\", \"G4\", \"G5\"], \"xaxis\": \"x\", \"y\": [0.021453287197231833, 0.023529411764705882, 0.020761245674740483, 0.03183391003460208, 0.02629757785467128, 0.03667820069204152, 0.033910034602076124, 0.03875432525951557, 0.05121107266435986, 0.061591695501730104, 0.05951557093425606, 0.06228373702422145, 0.04913494809688582, 0.05674740484429066, 0.06228373702422145, 0.04982698961937716, 0.045674740484429065, 0.04498269896193772, 0.02629757785467128, 0.03944636678200692, 0.023529411764705882, 0.02422145328719723, 0.017993079584775088, 0.01660899653979239, 0.022145328719723183, 0.01591695501730104, 0.01384083044982699, 0.006228373702422145, 0.0034602076124567475, 0.001384083044982699, 0.002768166089965398, 0.0020761245674740486, 0.001384083044982699, 0.0034602076124567475, 0.002768166089965398], \"yaxis\": \"y\"}, {\"hovertemplate\": \"purpose=small_business<br>sub_grade=%{x}<br>value=%{y}<extra></extra>\", \"legendgroup\": \"small_business\", \"line\": {\"color\": \"#EF553B\", \"dash\": \"solid\"}, \"mode\": \"lines\", \"name\": \"small_business\", \"orientation\": \"v\", \"showlegend\": true, \"type\": \"scatter\", \"x\": [\"A1\", \"A2\", \"A3\", \"A4\", \"A5\", \"B1\", \"B2\", \"B3\", \"B4\", \"B5\", \"C1\", \"C2\", \"C3\", \"C4\", \"C5\", \"D1\", \"D2\", \"D3\", \"D4\", \"D5\", \"E1\", \"E2\", \"E3\", \"E4\", \"E5\", \"F1\", \"F2\", \"F3\", \"F4\", \"F5\", \"G1\", \"G2\", \"G3\", \"G4\", \"G5\"], \"xaxis\": \"x\", \"y\": [0.020413949532180325, 0.0202519340597027, 0.022520150674389405, 0.02908177730973308, 0.0277451496617927, 0.0345092956377334, 0.03487383045080805, 0.03957227915265908, 0.04119243387743529, 0.04779456438089837, 0.0524930130827494, 0.050872858357973186, 0.05391064846692859, 0.054923245169913724, 0.05800153914698854, 0.04471627040382357, 0.044027704645793676, 0.044959293612539995, 0.040949410668718864, 0.036777512252420104, 0.02790716513427032, 0.02713759164000162, 0.023087204828061078, 0.022479646806269998, 0.021264530762687837, 0.01514844667665762, 0.011462594677791729, 0.010449997974806594, 0.009842439953015513, 0.007250192393373567, 0.006683138239701892, 0.005792053141074973, 0.004212402284418162, 0.0038478674713435133, 0.0038478674713435133], \"yaxis\": \"y\"}, {\"hovertemplate\": \"purpose=vacation<br>sub_grade=%{x}<br>value=%{y}<extra></extra>\", \"legendgroup\": \"vacation\", \"line\": {\"color\": \"#00cc96\", \"dash\": \"solid\"}, \"mode\": \"lines\", \"name\": \"vacation\", \"orientation\": \"v\", \"showlegend\": true, \"type\": \"scatter\", \"x\": [\"A1\", \"A2\", \"A3\", \"A4\", \"A5\", \"B1\", \"B2\", \"B3\", \"B4\", \"B5\", \"C1\", \"C2\", \"C3\", \"C4\", \"C5\", \"D1\", \"D2\", \"D3\", \"D4\", \"D5\", \"E1\", \"E2\", \"E3\", \"E4\", \"E5\", \"F1\", \"F2\", \"F3\", \"F4\", \"F5\", \"G1\", \"G2\", \"G3\", \"G4\", \"G5\"], \"xaxis\": \"x\", \"y\": [0.025442834138486314, 0.026280193236714974, 0.02995169082125604, 0.03246376811594203, 0.04167471819645733, 0.04830917874396135, 0.049726247987117556, 0.05152979066022544, 0.05520128824476651, 0.07033816425120773, 0.07323671497584541, 0.0655072463768116, 0.06183574879227053, 0.06035426731078905, 0.059710144927536235, 0.0421256038647343, 0.04, 0.03561996779388084, 0.029887278582930756, 0.024412238325281804, 0.016618357487922706, 0.013719806763285025, 0.01217391304347826, 0.008180354267310789, 0.00927536231884058, 0.005281803542673108, 0.00322061191626409, 0.002640901771336554, 0.0011594202898550724, 0.0012882447665056361, 0.000966183574879227, 0.0006441223832528181, 0.0007729468599033816, 0.00032206119162640903, 0.0001288244766505636], \"yaxis\": \"y\"}, {\"hovertemplate\": \"purpose=wedding<br>sub_grade=%{x}<br>value=%{y}<extra></extra>\", \"legendgroup\": \"wedding\", \"line\": {\"color\": \"#ab63fa\", \"dash\": \"solid\"}, \"mode\": \"lines\", \"name\": \"wedding\", \"orientation\": \"v\", \"showlegend\": true, \"type\": \"scatter\", \"x\": [\"A1\", \"A2\", \"A3\", \"A4\", \"A5\", \"B1\", \"B2\", \"B3\", \"B4\", \"B5\", \"C1\", \"C2\", \"C3\", \"C4\", \"C5\", \"D1\", \"D2\", \"D3\", \"D4\", \"D5\", \"E1\", \"E2\", \"E3\", \"E4\", \"E5\", \"F1\", \"F2\", \"F3\", \"F4\", \"F5\", \"G1\", \"G2\", \"G3\", \"G4\", \"G5\"], \"xaxis\": \"x\", \"y\": [0.02038216560509554, 0.031422505307855626, 0.03354564755838641, 0.05562632696390658, 0.049681528662420385, 0.038641188959660296, 0.03694267515923567, 0.06157112526539278, 0.05180467091295117, 0.04628450106157112, 0.05435244161358811, 0.050955414012738856, 0.03991507430997877, 0.03354564755838641, 0.03184713375796178, 0.04076433121019108, 0.048407643312101914, 0.05010615711252654, 0.040339702760084924, 0.03524416135881104, 0.018683651804670912, 0.025902335456475585, 0.017834394904458598, 0.014861995753715499, 0.016560509554140127, 0.011464968152866241, 0.009766454352441613, 0.008492569002123142, 0.009766454352441613, 0.004246284501061571, 0.003397027600849257, 0.0016985138004246285, 0.0025477707006369425, 0.0016985138004246285, 0.0016985138004246285], \"yaxis\": \"y\"}],\n",
       "                        {\"legend\": {\"title\": {\"text\": \"purpose\"}, \"tracegroupgap\": 0}, \"margin\": {\"t\": 60}, \"template\": {\"data\": {\"bar\": [{\"error_x\": {\"color\": \"#2a3f5f\"}, \"error_y\": {\"color\": \"#2a3f5f\"}, \"marker\": {\"line\": {\"color\": \"#E5ECF6\", \"width\": 0.5}}, \"type\": \"bar\"}], \"barpolar\": [{\"marker\": {\"line\": {\"color\": \"#E5ECF6\", \"width\": 0.5}}, \"type\": \"barpolar\"}], \"carpet\": [{\"aaxis\": {\"endlinecolor\": \"#2a3f5f\", \"gridcolor\": \"white\", \"linecolor\": \"white\", \"minorgridcolor\": \"white\", \"startlinecolor\": \"#2a3f5f\"}, \"baxis\": {\"endlinecolor\": \"#2a3f5f\", \"gridcolor\": \"white\", \"linecolor\": \"white\", \"minorgridcolor\": \"white\", \"startlinecolor\": \"#2a3f5f\"}, \"type\": \"carpet\"}], \"choropleth\": [{\"colorbar\": {\"outlinewidth\": 0, \"ticks\": \"\"}, \"type\": \"choropleth\"}], \"contour\": [{\"colorbar\": {\"outlinewidth\": 0, \"ticks\": \"\"}, \"colorscale\": [[0.0, \"#0d0887\"], [0.1111111111111111, \"#46039f\"], [0.2222222222222222, \"#7201a8\"], [0.3333333333333333, \"#9c179e\"], [0.4444444444444444, \"#bd3786\"], [0.5555555555555556, \"#d8576b\"], [0.6666666666666666, \"#ed7953\"], [0.7777777777777778, \"#fb9f3a\"], [0.8888888888888888, \"#fdca26\"], [1.0, \"#f0f921\"]], \"type\": \"contour\"}], \"contourcarpet\": [{\"colorbar\": {\"outlinewidth\": 0, \"ticks\": \"\"}, \"type\": \"contourcarpet\"}], \"heatmap\": [{\"colorbar\": {\"outlinewidth\": 0, \"ticks\": \"\"}, \"colorscale\": [[0.0, \"#0d0887\"], [0.1111111111111111, \"#46039f\"], [0.2222222222222222, \"#7201a8\"], [0.3333333333333333, \"#9c179e\"], [0.4444444444444444, \"#bd3786\"], [0.5555555555555556, \"#d8576b\"], [0.6666666666666666, \"#ed7953\"], [0.7777777777777778, \"#fb9f3a\"], [0.8888888888888888, \"#fdca26\"], [1.0, \"#f0f921\"]], \"type\": \"heatmap\"}], \"heatmapgl\": [{\"colorbar\": {\"outlinewidth\": 0, \"ticks\": \"\"}, \"colorscale\": [[0.0, \"#0d0887\"], [0.1111111111111111, \"#46039f\"], [0.2222222222222222, \"#7201a8\"], [0.3333333333333333, \"#9c179e\"], [0.4444444444444444, \"#bd3786\"], [0.5555555555555556, \"#d8576b\"], [0.6666666666666666, \"#ed7953\"], [0.7777777777777778, \"#fb9f3a\"], [0.8888888888888888, \"#fdca26\"], [1.0, \"#f0f921\"]], \"type\": \"heatmapgl\"}], \"histogram\": [{\"marker\": {\"colorbar\": {\"outlinewidth\": 0, \"ticks\": \"\"}}, \"type\": \"histogram\"}], \"histogram2d\": [{\"colorbar\": {\"outlinewidth\": 0, \"ticks\": \"\"}, \"colorscale\": [[0.0, \"#0d0887\"], [0.1111111111111111, \"#46039f\"], [0.2222222222222222, \"#7201a8\"], [0.3333333333333333, \"#9c179e\"], [0.4444444444444444, \"#bd3786\"], [0.5555555555555556, \"#d8576b\"], [0.6666666666666666, \"#ed7953\"], [0.7777777777777778, \"#fb9f3a\"], [0.8888888888888888, \"#fdca26\"], [1.0, \"#f0f921\"]], \"type\": \"histogram2d\"}], \"histogram2dcontour\": [{\"colorbar\": {\"outlinewidth\": 0, \"ticks\": \"\"}, \"colorscale\": [[0.0, \"#0d0887\"], [0.1111111111111111, \"#46039f\"], [0.2222222222222222, \"#7201a8\"], [0.3333333333333333, \"#9c179e\"], [0.4444444444444444, \"#bd3786\"], [0.5555555555555556, \"#d8576b\"], [0.6666666666666666, \"#ed7953\"], [0.7777777777777778, \"#fb9f3a\"], [0.8888888888888888, \"#fdca26\"], [1.0, \"#f0f921\"]], \"type\": \"histogram2dcontour\"}], \"mesh3d\": [{\"colorbar\": {\"outlinewidth\": 0, \"ticks\": \"\"}, \"type\": \"mesh3d\"}], \"parcoords\": [{\"line\": {\"colorbar\": {\"outlinewidth\": 0, \"ticks\": \"\"}}, \"type\": \"parcoords\"}], \"pie\": [{\"automargin\": true, \"type\": \"pie\"}], \"scatter\": [{\"marker\": {\"colorbar\": {\"outlinewidth\": 0, \"ticks\": \"\"}}, \"type\": \"scatter\"}], \"scatter3d\": [{\"line\": {\"colorbar\": {\"outlinewidth\": 0, \"ticks\": \"\"}}, \"marker\": {\"colorbar\": {\"outlinewidth\": 0, \"ticks\": \"\"}}, \"type\": \"scatter3d\"}], \"scattercarpet\": [{\"marker\": {\"colorbar\": {\"outlinewidth\": 0, \"ticks\": \"\"}}, \"type\": \"scattercarpet\"}], \"scattergeo\": [{\"marker\": {\"colorbar\": {\"outlinewidth\": 0, \"ticks\": \"\"}}, \"type\": \"scattergeo\"}], \"scattergl\": [{\"marker\": {\"colorbar\": {\"outlinewidth\": 0, \"ticks\": \"\"}}, \"type\": \"scattergl\"}], \"scattermapbox\": [{\"marker\": {\"colorbar\": {\"outlinewidth\": 0, \"ticks\": \"\"}}, \"type\": \"scattermapbox\"}], \"scatterpolar\": [{\"marker\": {\"colorbar\": {\"outlinewidth\": 0, \"ticks\": \"\"}}, \"type\": \"scatterpolar\"}], \"scatterpolargl\": [{\"marker\": {\"colorbar\": {\"outlinewidth\": 0, \"ticks\": \"\"}}, \"type\": \"scatterpolargl\"}], \"scatterternary\": [{\"marker\": {\"colorbar\": {\"outlinewidth\": 0, \"ticks\": \"\"}}, \"type\": \"scatterternary\"}], \"surface\": [{\"colorbar\": {\"outlinewidth\": 0, \"ticks\": \"\"}, \"colorscale\": [[0.0, \"#0d0887\"], [0.1111111111111111, \"#46039f\"], [0.2222222222222222, \"#7201a8\"], [0.3333333333333333, \"#9c179e\"], [0.4444444444444444, \"#bd3786\"], [0.5555555555555556, \"#d8576b\"], [0.6666666666666666, \"#ed7953\"], [0.7777777777777778, \"#fb9f3a\"], [0.8888888888888888, \"#fdca26\"], [1.0, \"#f0f921\"]], \"type\": \"surface\"}], \"table\": [{\"cells\": {\"fill\": {\"color\": \"#EBF0F8\"}, \"line\": {\"color\": \"white\"}}, \"header\": {\"fill\": {\"color\": \"#C8D4E3\"}, \"line\": {\"color\": \"white\"}}, \"type\": \"table\"}]}, \"layout\": {\"annotationdefaults\": {\"arrowcolor\": \"#2a3f5f\", \"arrowhead\": 0, \"arrowwidth\": 1}, \"coloraxis\": {\"colorbar\": {\"outlinewidth\": 0, \"ticks\": \"\"}}, \"colorscale\": {\"diverging\": [[0, \"#8e0152\"], [0.1, \"#c51b7d\"], [0.2, \"#de77ae\"], [0.3, \"#f1b6da\"], [0.4, \"#fde0ef\"], [0.5, \"#f7f7f7\"], [0.6, \"#e6f5d0\"], [0.7, \"#b8e186\"], [0.8, \"#7fbc41\"], [0.9, \"#4d9221\"], [1, \"#276419\"]], \"sequential\": [[0.0, \"#0d0887\"], [0.1111111111111111, \"#46039f\"], [0.2222222222222222, \"#7201a8\"], [0.3333333333333333, \"#9c179e\"], [0.4444444444444444, \"#bd3786\"], [0.5555555555555556, \"#d8576b\"], [0.6666666666666666, \"#ed7953\"], [0.7777777777777778, \"#fb9f3a\"], [0.8888888888888888, \"#fdca26\"], [1.0, \"#f0f921\"]], \"sequentialminus\": [[0.0, \"#0d0887\"], [0.1111111111111111, \"#46039f\"], [0.2222222222222222, \"#7201a8\"], [0.3333333333333333, \"#9c179e\"], [0.4444444444444444, \"#bd3786\"], [0.5555555555555556, \"#d8576b\"], [0.6666666666666666, \"#ed7953\"], [0.7777777777777778, \"#fb9f3a\"], [0.8888888888888888, \"#fdca26\"], [1.0, \"#f0f921\"]]}, \"colorway\": [\"#636efa\", \"#EF553B\", \"#00cc96\", \"#ab63fa\", \"#FFA15A\", \"#19d3f3\", \"#FF6692\", \"#B6E880\", \"#FF97FF\", \"#FECB52\"], \"font\": {\"color\": \"#2a3f5f\"}, \"geo\": {\"bgcolor\": \"white\", \"lakecolor\": \"white\", \"landcolor\": \"#E5ECF6\", \"showlakes\": true, \"showland\": true, \"subunitcolor\": \"white\"}, \"hoverlabel\": {\"align\": \"left\"}, \"hovermode\": \"closest\", \"mapbox\": {\"style\": \"light\"}, \"paper_bgcolor\": \"white\", \"plot_bgcolor\": \"#E5ECF6\", \"polar\": {\"angularaxis\": {\"gridcolor\": \"white\", \"linecolor\": \"white\", \"ticks\": \"\"}, \"bgcolor\": \"#E5ECF6\", \"radialaxis\": {\"gridcolor\": \"white\", \"linecolor\": \"white\", \"ticks\": \"\"}}, \"scene\": {\"xaxis\": {\"backgroundcolor\": \"#E5ECF6\", \"gridcolor\": \"white\", \"gridwidth\": 2, \"linecolor\": \"white\", \"showbackground\": true, \"ticks\": \"\", \"zerolinecolor\": \"white\"}, \"yaxis\": {\"backgroundcolor\": \"#E5ECF6\", \"gridcolor\": \"white\", \"gridwidth\": 2, \"linecolor\": \"white\", \"showbackground\": true, \"ticks\": \"\", \"zerolinecolor\": \"white\"}, \"zaxis\": {\"backgroundcolor\": \"#E5ECF6\", \"gridcolor\": \"white\", \"gridwidth\": 2, \"linecolor\": \"white\", \"showbackground\": true, \"ticks\": \"\", \"zerolinecolor\": \"white\"}}, \"shapedefaults\": {\"line\": {\"color\": \"#2a3f5f\"}}, \"ternary\": {\"aaxis\": {\"gridcolor\": \"white\", \"linecolor\": \"white\", \"ticks\": \"\"}, \"baxis\": {\"gridcolor\": \"white\", \"linecolor\": \"white\", \"ticks\": \"\"}, \"bgcolor\": \"#E5ECF6\", \"caxis\": {\"gridcolor\": \"white\", \"linecolor\": \"white\", \"ticks\": \"\"}}, \"title\": {\"x\": 0.05}, \"xaxis\": {\"automargin\": true, \"gridcolor\": \"white\", \"linecolor\": \"white\", \"ticks\": \"\", \"title\": {\"standoff\": 15}, \"zerolinecolor\": \"white\", \"zerolinewidth\": 2}, \"yaxis\": {\"automargin\": true, \"gridcolor\": \"white\", \"linecolor\": \"white\", \"ticks\": \"\", \"title\": {\"standoff\": 15}, \"zerolinecolor\": \"white\", \"zerolinewidth\": 2}}}, \"title\": {\"text\": \"Distribution of LC Rating by Purpose\"}, \"xaxis\": {\"anchor\": \"y\", \"domain\": [0.0, 1.0], \"title\": {\"text\": \"Rating\"}}, \"yaxis\": {\"anchor\": \"x\", \"domain\": [0.0, 1.0], \"tickformat\": \",.0%\", \"title\": {\"text\": \"Frequency\"}}},\n",
       "                        {\"responsive\": true}\n",
       "                    ).then(function(){\n",
       "                            \n",
       "var gd = document.getElementById('ee024160-9d88-4edf-9ce5-b454615268be');\n",
       "var x = new MutationObserver(function (mutations, observer) {{\n",
       "        var display = window.getComputedStyle(gd).display;\n",
       "        if (!display || display === 'none') {{\n",
       "            console.log([gd, 'removed!']);\n",
       "            Plotly.purge(gd);\n",
       "            observer.disconnect();\n",
       "        }}\n",
       "}});\n",
       "\n",
       "// Listen for the removal of the full notebook cells\n",
       "var notebookContainer = gd.closest('#notebook-container');\n",
       "if (notebookContainer) {{\n",
       "    x.observe(notebookContainer, {childList: true});\n",
       "}}\n",
       "\n",
       "// Listen for the clearing of the current output cell\n",
       "var outputEl = gd.closest('.output');\n",
       "if (outputEl) {{\n",
       "    x.observe(outputEl, {childList: true});\n",
       "}}\n",
       "\n",
       "                        })\n",
       "                };\n",
       "                });\n",
       "            </script>\n",
       "        </div>"
      ]
     },
     "metadata": {},
     "output_type": "display_data"
    }
   ],
   "source": [
    "# Show distribution of ratings for different purposes\n",
    "rating_by_purpose = accept.groupby(['purpose', 'sub_grade'])['id'].count()  # or use grade for less graularity\n",
    "rating_by_purpose = rating_by_purpose.unstack().T\n",
    "rating_by_purpose = rating_by_purpose / rating_by_purpose.sum()\n",
    "import plotly.express as px\n",
    "fig1 = px.line(rating_by_purpose)\n",
    "fig1.update_layout(title='Distribution of LC Rating by Purpose',\n",
    "                   xaxis_title='Rating',\n",
    "                   yaxis_title='Frequency',\n",
    "                   yaxis_tickformat = ',.0%')\n",
    "fig1.show()\n",
    "# educational and credit cards (the biggest segment) are higher rated; \n",
    "# small business, moving and vacation are at the lower end"
   ]
  },
  {
   "cell_type": "code",
   "execution_count": 50,
   "metadata": {},
   "outputs": [],
   "source": [
    "accept['year'] = accept['issue_d'].apply(lambda x: x.year)"
   ]
  },
  {
   "cell_type": "code",
   "execution_count": 51,
   "metadata": {},
   "outputs": [
    {
     "data": {
      "application/vnd.plotly.v1+json": {
       "config": {
        "plotlyServerURL": "https://plot.ly"
       },
       "data": [
        {
         "hovertemplate": "year=2007<br>sub_grade=%{x}<br>value=%{y}<extra></extra>",
         "legendgroup": "2007",
         "line": {
          "color": "#636efa",
          "dash": "solid"
         },
         "mode": "lines",
         "name": "2007",
         "orientation": "v",
         "showlegend": true,
         "type": "scatter",
         "x": [
          "A1",
          "A2",
          "A3",
          "A4",
          "A5",
          "B1",
          "B2",
          "B3",
          "B4",
          "B5",
          "C1",
          "C2",
          "C3",
          "C4",
          "C5",
          "D1",
          "D2",
          "D3",
          "D4",
          "D5",
          "E1",
          "E2",
          "E3",
          "E4",
          "E5",
          "F1",
          "F2",
          "F3",
          "F4",
          "F5",
          "G1",
          "G2",
          "G3",
          "G4",
          "G5"
         ],
         "xaxis": "x",
         "y": [
          0.009950248756218905,
          0.04311774461028192,
          0.028192371475953566,
          0.029850746268656716,
          0.01824212271973466,
          0.026533996683250415,
          0.02155887230514096,
          0.03482587064676617,
          0.03814262023217247,
          0.04145936981757877,
          0.05306799336650083,
          0.04975124378109453,
          0.05140961857379768,
          0.04809286898839138,
          0.03150912106135987,
          0.026533996683250415,
          0.026533996683250415,
          0.03482587064676617,
          0.03980099502487562,
          0.03648424543946932,
          0.01990049751243781,
          0.03648424543946932,
          0.028192371475953566,
          0.05472636815920398,
          0.026533996683250415,
          0.02321724709784411,
          0.01990049751243781,
          0.009950248756218905,
          0.01824212271973466,
          0.014925373134328358,
          0.008291873963515755,
          0.006633499170812604,
          0.011608623548922056,
          0.01658374792703151,
          0.014925373134328358
         ],
         "yaxis": "y"
        },
        {
         "hovertemplate": "year=2008<br>sub_grade=%{x}<br>value=%{y}<extra></extra>",
         "legendgroup": "2008",
         "line": {
          "color": "#EF553B",
          "dash": "solid"
         },
         "mode": "lines",
         "name": "2008",
         "orientation": "v",
         "showlegend": true,
         "type": "scatter",
         "x": [
          "A1",
          "A2",
          "A3",
          "A4",
          "A5",
          "B1",
          "B2",
          "B3",
          "B4",
          "B5",
          "C1",
          "C2",
          "C3",
          "C4",
          "C5",
          "D1",
          "D2",
          "D3",
          "D4",
          "D5",
          "E1",
          "E2",
          "E3",
          "E4",
          "E5",
          "F1",
          "F2",
          "F3",
          "F4",
          "F5",
          "G1",
          "G2",
          "G3",
          "G4",
          "G5"
         ],
         "xaxis": "x",
         "y": [
          0.006686167989970748,
          0.015461763476807356,
          0.03384872544922691,
          0.038027580442958626,
          0.038863351441704976,
          0.040952778938570834,
          0.05516088591725867,
          0.04972837442540744,
          0.04471374843292938,
          0.057668198913497705,
          0.060593397409109906,
          0.04471374843292938,
          0.046803175929795236,
          0.045967404931048894,
          0.0442958629335562,
          0.03677392394483912,
          0.03677392394483912,
          0.035102381947346425,
          0.03928123694107814,
          0.027162557459256165,
          0.027998328458002507,
          0.030505641454241537,
          0.025073129962390306,
          0.017969076473046384,
          0.017551190973673213,
          0.012536564981195153,
          0.010447137484329294,
          0.011700793982448809,
          0.006686167989970748,
          0.005014625992478061,
          0.006686167989970748,
          0.005014625992478061,
          0.004178854993731718,
          0.00919348098620978,
          0.010865022983702465
         ],
         "yaxis": "y"
        },
        {
         "hovertemplate": "year=2009<br>sub_grade=%{x}<br>value=%{y}<extra></extra>",
         "legendgroup": "2009",
         "line": {
          "color": "#00cc96",
          "dash": "solid"
         },
         "mode": "lines",
         "name": "2009",
         "orientation": "v",
         "showlegend": true,
         "type": "scatter",
         "x": [
          "A1",
          "A2",
          "A3",
          "A4",
          "A5",
          "B1",
          "B2",
          "B3",
          "B4",
          "B5",
          "C1",
          "C2",
          "C3",
          "C4",
          "C5",
          "D1",
          "D2",
          "D3",
          "D4",
          "D5",
          "E1",
          "E2",
          "E3",
          "E4",
          "E5",
          "F1",
          "F2",
          "F3",
          "F4",
          "F5",
          "G1",
          "G2",
          "G3",
          "G4",
          "G5"
         ],
         "xaxis": "x",
         "y": [
          0.006438174588146184,
          0.024048475667487218,
          0.047718235182730544,
          0.06267752319636433,
          0.08691535693997349,
          0.04412043173641356,
          0.04696080287824276,
          0.0556712743798523,
          0.06362431357697405,
          0.06324559742473017,
          0.05794357129331566,
          0.05320961939026699,
          0.050369248248437797,
          0.04923309979170612,
          0.04449914788865745,
          0.03787161522438932,
          0.03654610869153569,
          0.03275894716909676,
          0.02669948873319447,
          0.020829388373414127,
          0.015906078394243513,
          0.015527362241999621,
          0.01174020071956069,
          0.0073849649687559174,
          0.007763681120999811,
          0.004733951903048665,
          0.005870100359780345,
          0.0022722969134633592,
          0.0037871615224389322,
          0.003219087294073092,
          0.0026510130657072524,
          0.0018935807612194661,
          0.0009467903806097331,
          0.0018935807612194661,
          0.0030297292179511455
         ],
         "yaxis": "y"
        },
        {
         "hovertemplate": "year=2010<br>sub_grade=%{x}<br>value=%{y}<extra></extra>",
         "legendgroup": "2010",
         "line": {
          "color": "#ab63fa",
          "dash": "solid"
         },
         "mode": "lines",
         "name": "2010",
         "orientation": "v",
         "showlegend": true,
         "type": "scatter",
         "x": [
          "A1",
          "A2",
          "A3",
          "A4",
          "A5",
          "B1",
          "B2",
          "B3",
          "B4",
          "B5",
          "C1",
          "C2",
          "C3",
          "C4",
          "C5",
          "D1",
          "D2",
          "D3",
          "D4",
          "D5",
          "E1",
          "E2",
          "E3",
          "E4",
          "E5",
          "F1",
          "F2",
          "F3",
          "F4",
          "F5",
          "G1",
          "G2",
          "G3",
          "G4",
          "G5"
         ],
         "xaxis": "x",
         "y": [
          0.01060859854829704,
          0.027518545106484806,
          0.04490707505782883,
          0.05934434075137593,
          0.08335327430804818,
          0.0463428252372976,
          0.05080960357342267,
          0.057669298875329025,
          0.06700167504187604,
          0.07226609236659488,
          0.05033102018026641,
          0.0543989790220946,
          0.048496450506500755,
          0.03366036531865678,
          0.03078886495971923,
          0.027359017308766054,
          0.03820690755364122,
          0.034298476509531786,
          0.02680067001675042,
          0.023689877961234746,
          0.021775544388609715,
          0.01738852995134402,
          0.014596793491265853,
          0.012602696019781447,
          0.010369306851718912,
          0.007338278695062614,
          0.006540639706468852,
          0.004945361729281327,
          0.003908431044109436,
          0.0020738613703437823,
          0.0023929169657812875,
          0.0024726808646406634,
          0.00191433357262503,
          0.0023131530669219112,
          0.0015155140783281486
         ],
         "yaxis": "y"
        },
        {
         "hovertemplate": "year=2011<br>sub_grade=%{x}<br>value=%{y}<extra></extra>",
         "legendgroup": "2011",
         "line": {
          "color": "#FFA15A",
          "dash": "solid"
         },
         "mode": "lines",
         "name": "2011",
         "orientation": "v",
         "showlegend": true,
         "type": "scatter",
         "x": [
          "A1",
          "A2",
          "A3",
          "A4",
          "A5",
          "B1",
          "B2",
          "B3",
          "B4",
          "B5",
          "C1",
          "C2",
          "C3",
          "C4",
          "C5",
          "D1",
          "D2",
          "D3",
          "D4",
          "D5",
          "E1",
          "E2",
          "E3",
          "E4",
          "E5",
          "F1",
          "F2",
          "F3",
          "F4",
          "F5",
          "G1",
          "G2",
          "G3",
          "G4",
          "G5"
         ],
         "xaxis": "x",
         "y": [
          0.0438745914092353,
          0.04534782008194835,
          0.04189494038027715,
          0.07923207955434833,
          0.05455549928640486,
          0.043920629805257586,
          0.04985958289213204,
          0.08471064868099995,
          0.059113300492610835,
          0.06463790801528475,
          0.05294415542562497,
          0.04866258459555269,
          0.029510611850283135,
          0.025275079416233137,
          0.025090925832144007,
          0.018691588785046728,
          0.03264122277979835,
          0.028267575157681506,
          0.025090925832144007,
          0.02403204272363151,
          0.0206252014179826,
          0.018231204824823904,
          0.015929285023709775,
          0.01284471249021684,
          0.012430366926016298,
          0.010634869481147276,
          0.0072740665715206486,
          0.005892914690852171,
          0.005294415542562497,
          0.004143455642005432,
          0.0034989180976934763,
          0.0023019198011141294,
          0.0015192670687353253,
          0.0012890750886239124,
          0.0007366143363565213
         ],
         "yaxis": "y"
        },
        {
         "hovertemplate": "year=2012<br>sub_grade=%{x}<br>value=%{y}<extra></extra>",
         "legendgroup": "2012",
         "line": {
          "color": "#19d3f3",
          "dash": "solid"
         },
         "mode": "lines",
         "name": "2012",
         "orientation": "v",
         "showlegend": true,
         "type": "scatter",
         "x": [
          "A1",
          "A2",
          "A3",
          "A4",
          "A5",
          "B1",
          "B2",
          "B3",
          "B4",
          "B5",
          "C1",
          "C2",
          "C3",
          "C4",
          "C5",
          "D1",
          "D2",
          "D3",
          "D4",
          "D5",
          "E1",
          "E2",
          "E3",
          "E4",
          "E5",
          "F1",
          "F2",
          "F3",
          "F4",
          "F5",
          "G1",
          "G2",
          "G3",
          "G4",
          "G5"
         ],
         "xaxis": "x",
         "y": [
          0.03155508085521015,
          0.03112410291003804,
          0.03277306200460959,
          0.059362527404575864,
          0.04945003466561733,
          0.04755747934116589,
          0.061217606385968855,
          0.09985571607922498,
          0.07255420016114827,
          0.06560233852380684,
          0.06652050892873873,
          0.06202334776172541,
          0.03181741525661926,
          0.033335207150486254,
          0.02881930781194371,
          0.03181741525661926,
          0.03256694211778815,
          0.02728277774654749,
          0.02527779339292072,
          0.0202747015946184,
          0.014765679165027077,
          0.01367886521633219,
          0.011111735716828752,
          0.011242902917533307,
          0.008881893304851313,
          0.00757022129780576,
          0.00610864391852643,
          0.004590852024659434,
          0.003260441846084659,
          0.003110536473850882,
          0.0022673187550358836,
          0.0012741956639871082,
          0.0005808833174058875,
          0.00044971611670133226,
          0.00031854891599677706
         ],
         "yaxis": "y"
        },
        {
         "hovertemplate": "year=2013<br>sub_grade=%{x}<br>value=%{y}<extra></extra>",
         "legendgroup": "2013",
         "line": {
          "color": "#FF6692",
          "dash": "solid"
         },
         "mode": "lines",
         "name": "2013",
         "orientation": "v",
         "showlegend": true,
         "type": "scatter",
         "x": [
          "A1",
          "A2",
          "A3",
          "A4",
          "A5",
          "B1",
          "B2",
          "B3",
          "B4",
          "B5",
          "C1",
          "C2",
          "C3",
          "C4",
          "C5",
          "D1",
          "D2",
          "D3",
          "D4",
          "D5",
          "E1",
          "E2",
          "E3",
          "E4",
          "E5",
          "F1",
          "F2",
          "F3",
          "F4",
          "F5",
          "G1",
          "G2",
          "G3",
          "G4",
          "G5"
         ],
         "xaxis": "x",
         "y": [
          0.019055884403696946,
          0.01884819084071387,
          0.023402613971842685,
          0.028543029655673742,
          0.04128651327013515,
          0.058020680344771314,
          0.07264082365332977,
          0.07631996676902993,
          0.07841173765335945,
          0.04184283531383981,
          0.056722595576127105,
          0.054245108074829025,
          0.060624267509309125,
          0.058347055943744716,
          0.052924770424436635,
          0.04176865904134586,
          0.03174744462741258,
          0.02712626285103921,
          0.027675167267494475,
          0.024255641105523165,
          0.013151453113178157,
          0.01718664233684929,
          0.01345557583040337,
          0.01289925378669871,
          0.010503360185143976,
          0.00897532897176851,
          0.007514056403637604,
          0.006720370287952289,
          0.005333273992315338,
          0.004042606850920527,
          0.0023736407198065483,
          0.0016392956221163975,
          0.0012461613778984378,
          0.0006304983161986143,
          0.0005192339074576825
         ],
         "yaxis": "y"
        },
        {
         "hovertemplate": "year=2014<br>sub_grade=%{x}<br>value=%{y}<extra></extra>",
         "legendgroup": "2014",
         "line": {
          "color": "#B6E880",
          "dash": "solid"
         },
         "mode": "lines",
         "name": "2014",
         "orientation": "v",
         "showlegend": true,
         "type": "scatter",
         "x": [
          "A1",
          "A2",
          "A3",
          "A4",
          "A5",
          "B1",
          "B2",
          "B3",
          "B4",
          "B5",
          "C1",
          "C2",
          "C3",
          "C4",
          "C5",
          "D1",
          "D2",
          "D3",
          "D4",
          "D5",
          "E1",
          "E2",
          "E3",
          "E4",
          "E5",
          "F1",
          "F2",
          "F3",
          "F4",
          "F5",
          "G1",
          "G2",
          "G3",
          "G4",
          "G5"
         ],
         "xaxis": "x",
         "y": [
          0.021843661009468274,
          0.0222128855106969,
          0.02479321305951305,
          0.03872188907137916,
          0.045669251238175265,
          0.04514300022492987,
          0.04854665597188801,
          0.05548977417889988,
          0.05718735809259472,
          0.05648286076841136,
          0.05728496916763217,
          0.05926689838687089,
          0.05854118126376635,
          0.05556616545501615,
          0.051839968764455985,
          0.04617428245249948,
          0.040504352180758735,
          0.036018486688820135,
          0.03344664705957246,
          0.026312550662269923,
          0.023719491234101067,
          0.020502569717649355,
          0.016559931078093105,
          0.0131605192909192,
          0.011450203497871654,
          0.008212062182498758,
          0.005750565507641249,
          0.005606270874977189,
          0.00409117723200455,
          0.002750085940185631,
          0.0022365668062929436,
          0.001812170827869235,
          0.0012944077341923107,
          0.000908207393826736,
          0.0008997194742582619
         ],
         "yaxis": "y"
        },
        {
         "hovertemplate": "year=2015<br>sub_grade=%{x}<br>value=%{y}<extra></extra>",
         "legendgroup": "2015",
         "line": {
          "color": "#FF97FF",
          "dash": "solid"
         },
         "mode": "lines",
         "name": "2015",
         "orientation": "v",
         "showlegend": true,
         "type": "scatter",
         "x": [
          "A1",
          "A2",
          "A3",
          "A4",
          "A5",
          "B1",
          "B2",
          "B3",
          "B4",
          "B5",
          "C1",
          "C2",
          "C3",
          "C4",
          "C5",
          "D1",
          "D2",
          "D3",
          "D4",
          "D5",
          "E1",
          "E2",
          "E3",
          "E4",
          "E5",
          "F1",
          "F2",
          "F3",
          "F4",
          "F5",
          "G1",
          "G2",
          "G3",
          "G4",
          "G5"
         ],
         "xaxis": "x",
         "y": [
          0.02938291834384165,
          0.027378620026359848,
          0.0258587729609708,
          0.03677554946033555,
          0.054759614813759364,
          0.05247271993255679,
          0.052650827010532066,
          0.05850698773435923,
          0.059656372077559694,
          0.0559992400764673,
          0.06277443332264691,
          0.06054690746743609,
          0.058998563269571,
          0.058780085253921324,
          0.04521782495636376,
          0.040316318170484096,
          0.030294826583075078,
          0.02763746897968392,
          0.02721238675358292,
          0.023327277692682172,
          0.021930918201355988,
          0.019793633265652644,
          0.016998539521960603,
          0.013612130279390636,
          0.010657927546040679,
          0.007784466688039516,
          0.0056780536458518865,
          0.004096462793431411,
          0.0031869293152376544,
          0.0025671166838836844,
          0.001809567912228832,
          0.0013654875978104703,
          0.0009451548937888125,
          0.0005723174105605624,
          0.0004535793585770432
         ],
         "yaxis": "y"
        },
        {
         "hovertemplate": "year=2016<br>sub_grade=%{x}<br>value=%{y}<extra></extra>",
         "legendgroup": "2016",
         "line": {
          "color": "#FECB52",
          "dash": "solid"
         },
         "mode": "lines",
         "name": "2016",
         "orientation": "v",
         "showlegend": true,
         "type": "scatter",
         "x": [
          "A1",
          "A2",
          "A3",
          "A4",
          "A5",
          "B1",
          "B2",
          "B3",
          "B4",
          "B5",
          "C1",
          "C2",
          "C3",
          "C4",
          "C5",
          "D1",
          "D2",
          "D3",
          "D4",
          "D5",
          "E1",
          "E2",
          "E3",
          "E4",
          "E5",
          "F1",
          "F2",
          "F3",
          "F4",
          "F5",
          "G1",
          "G2",
          "G3",
          "G4",
          "G5"
         ],
         "xaxis": "x",
         "y": [
          0.04309783221725248,
          0.024741774418920507,
          0.023054416710596284,
          0.033910595363334385,
          0.0382843738705868,
          0.05632045524128294,
          0.054686043272783355,
          0.05961690304253845,
          0.06687967735326548,
          0.07214202349409655,
          0.07268759481315909,
          0.0612236911467817,
          0.058217293920217676,
          0.0595708632687779,
          0.05257281765717403,
          0.034911960442626386,
          0.033058859548764176,
          0.024925933513962713,
          0.02390615252516649,
          0.01942418054957678,
          0.01720045947694213,
          0.011562889179962569,
          0.012067024702640611,
          0.010015952781608032,
          0.008561095930774596,
          0.006579083670382843,
          0.005039053238092388,
          0.0038926628714546496,
          0.003204368253734401,
          0.0027715943803852147,
          0.0017863432219094074,
          0.0014318369639531592,
          0.0011049545702532418,
          0.0008448298485061245,
          0.0007044085385364416
         ],
         "yaxis": "y"
        },
        {
         "hovertemplate": "year=2017<br>sub_grade=%{x}<br>value=%{y}<extra></extra>",
         "legendgroup": "2017",
         "line": {
          "color": "#636efa",
          "dash": "solid"
         },
         "mode": "lines",
         "name": "2017",
         "orientation": "v",
         "showlegend": true,
         "type": "scatter",
         "x": [
          "A1",
          "A2",
          "A3",
          "A4",
          "A5",
          "B1",
          "B2",
          "B3",
          "B4",
          "B5",
          "C1",
          "C2",
          "C3",
          "C4",
          "C5",
          "D1",
          "D2",
          "D3",
          "D4",
          "D5",
          "E1",
          "E2",
          "E3",
          "E4",
          "E5",
          "F1",
          "F2",
          "F3",
          "F4",
          "F5",
          "G1",
          "G2",
          "G3",
          "G4",
          "G5"
         ],
         "xaxis": "x",
         "y": [
          0.03666990547343314,
          0.03033957874471064,
          0.032569170316899584,
          0.033734689874858816,
          0.04432355905036082,
          0.06281406468746266,
          0.055349779858830106,
          0.05886888243131438,
          0.05271439811172305,
          0.07037303389024277,
          0.07336235484547285,
          0.061062403765732826,
          0.06189201923445429,
          0.06370003990270054,
          0.06719434418671759,
          0.03159527389709612,
          0.02999240270616959,
          0.030089341470177805,
          0.01943960376843809,
          0.01658554620484739,
          0.008650093895337696,
          0.010606904294387246,
          0.007951233038534285,
          0.0076739430856735775,
          0.010582106005920027,
          0.004098480766672904,
          0.002585785170172619,
          0.002775153918467736,
          0.002270170589680756,
          0.002342311065221753,
          0.0021912669445577904,
          0.0013075461191805744,
          0.0013278356279264798,
          0.001481134138451099,
          0.0014856429181724113
         ],
         "yaxis": "y"
        },
        {
         "hovertemplate": "year=2018<br>sub_grade=%{x}<br>value=%{y}<extra></extra>",
         "legendgroup": "2018",
         "line": {
          "color": "#EF553B",
          "dash": "solid"
         },
         "mode": "lines",
         "name": "2018",
         "orientation": "v",
         "showlegend": true,
         "type": "scatter",
         "x": [
          "A1",
          "A2",
          "A3",
          "A4",
          "A5",
          "B1",
          "B2",
          "B3",
          "B4",
          "B5",
          "C1",
          "C2",
          "C3",
          "C4",
          "C5",
          "D1",
          "D2",
          "D3",
          "D4",
          "D5",
          "E1",
          "E2",
          "E3",
          "E4",
          "E5",
          "F1",
          "F2",
          "F3",
          "F4",
          "F5",
          "G1",
          "G2",
          "G3",
          "G4",
          "G5"
         ],
         "xaxis": "x",
         "y": [
          0.05832905932857068,
          0.04618146280000485,
          0.0510134439324613,
          0.06390411152527452,
          0.0535233279891447,
          0.056612726707347114,
          0.05962741447615509,
          0.04679732332879683,
          0.06406564871315437,
          0.058343193832510166,
          0.057329547978564016,
          0.050870079678217925,
          0.05306900464823258,
          0.04870548136062773,
          0.04616328986636836,
          0.033048489425371835,
          0.03115648511232892,
          0.028438621926250195,
          0.024892880652287164,
          0.021882231313176185,
          0.008066763319750748,
          0.006445333796406605,
          0.007681093283687571,
          0.00663110156246845,
          0.009455983135517586,
          0.0030651681400204345,
          0.0011630677527350265,
          0.0008803776739452631,
          0.0006360526772769676,
          0.0006663409000044422,
          0.000983357631218677,
          0.00017769090666785127,
          8.884545333392564e-05,
          5.048037121245775e-05,
          5.4518800909454367e-05
         ],
         "yaxis": "y"
        }
       ],
       "layout": {
        "legend": {
         "title": {
          "text": "year"
         },
         "tracegroupgap": 0
        },
        "margin": {
         "t": 60
        },
        "template": {
         "data": {
          "bar": [
           {
            "error_x": {
             "color": "#2a3f5f"
            },
            "error_y": {
             "color": "#2a3f5f"
            },
            "marker": {
             "line": {
              "color": "#E5ECF6",
              "width": 0.5
             }
            },
            "type": "bar"
           }
          ],
          "barpolar": [
           {
            "marker": {
             "line": {
              "color": "#E5ECF6",
              "width": 0.5
             }
            },
            "type": "barpolar"
           }
          ],
          "carpet": [
           {
            "aaxis": {
             "endlinecolor": "#2a3f5f",
             "gridcolor": "white",
             "linecolor": "white",
             "minorgridcolor": "white",
             "startlinecolor": "#2a3f5f"
            },
            "baxis": {
             "endlinecolor": "#2a3f5f",
             "gridcolor": "white",
             "linecolor": "white",
             "minorgridcolor": "white",
             "startlinecolor": "#2a3f5f"
            },
            "type": "carpet"
           }
          ],
          "choropleth": [
           {
            "colorbar": {
             "outlinewidth": 0,
             "ticks": ""
            },
            "type": "choropleth"
           }
          ],
          "contour": [
           {
            "colorbar": {
             "outlinewidth": 0,
             "ticks": ""
            },
            "colorscale": [
             [
              0,
              "#0d0887"
             ],
             [
              0.1111111111111111,
              "#46039f"
             ],
             [
              0.2222222222222222,
              "#7201a8"
             ],
             [
              0.3333333333333333,
              "#9c179e"
             ],
             [
              0.4444444444444444,
              "#bd3786"
             ],
             [
              0.5555555555555556,
              "#d8576b"
             ],
             [
              0.6666666666666666,
              "#ed7953"
             ],
             [
              0.7777777777777778,
              "#fb9f3a"
             ],
             [
              0.8888888888888888,
              "#fdca26"
             ],
             [
              1,
              "#f0f921"
             ]
            ],
            "type": "contour"
           }
          ],
          "contourcarpet": [
           {
            "colorbar": {
             "outlinewidth": 0,
             "ticks": ""
            },
            "type": "contourcarpet"
           }
          ],
          "heatmap": [
           {
            "colorbar": {
             "outlinewidth": 0,
             "ticks": ""
            },
            "colorscale": [
             [
              0,
              "#0d0887"
             ],
             [
              0.1111111111111111,
              "#46039f"
             ],
             [
              0.2222222222222222,
              "#7201a8"
             ],
             [
              0.3333333333333333,
              "#9c179e"
             ],
             [
              0.4444444444444444,
              "#bd3786"
             ],
             [
              0.5555555555555556,
              "#d8576b"
             ],
             [
              0.6666666666666666,
              "#ed7953"
             ],
             [
              0.7777777777777778,
              "#fb9f3a"
             ],
             [
              0.8888888888888888,
              "#fdca26"
             ],
             [
              1,
              "#f0f921"
             ]
            ],
            "type": "heatmap"
           }
          ],
          "heatmapgl": [
           {
            "colorbar": {
             "outlinewidth": 0,
             "ticks": ""
            },
            "colorscale": [
             [
              0,
              "#0d0887"
             ],
             [
              0.1111111111111111,
              "#46039f"
             ],
             [
              0.2222222222222222,
              "#7201a8"
             ],
             [
              0.3333333333333333,
              "#9c179e"
             ],
             [
              0.4444444444444444,
              "#bd3786"
             ],
             [
              0.5555555555555556,
              "#d8576b"
             ],
             [
              0.6666666666666666,
              "#ed7953"
             ],
             [
              0.7777777777777778,
              "#fb9f3a"
             ],
             [
              0.8888888888888888,
              "#fdca26"
             ],
             [
              1,
              "#f0f921"
             ]
            ],
            "type": "heatmapgl"
           }
          ],
          "histogram": [
           {
            "marker": {
             "colorbar": {
              "outlinewidth": 0,
              "ticks": ""
             }
            },
            "type": "histogram"
           }
          ],
          "histogram2d": [
           {
            "colorbar": {
             "outlinewidth": 0,
             "ticks": ""
            },
            "colorscale": [
             [
              0,
              "#0d0887"
             ],
             [
              0.1111111111111111,
              "#46039f"
             ],
             [
              0.2222222222222222,
              "#7201a8"
             ],
             [
              0.3333333333333333,
              "#9c179e"
             ],
             [
              0.4444444444444444,
              "#bd3786"
             ],
             [
              0.5555555555555556,
              "#d8576b"
             ],
             [
              0.6666666666666666,
              "#ed7953"
             ],
             [
              0.7777777777777778,
              "#fb9f3a"
             ],
             [
              0.8888888888888888,
              "#fdca26"
             ],
             [
              1,
              "#f0f921"
             ]
            ],
            "type": "histogram2d"
           }
          ],
          "histogram2dcontour": [
           {
            "colorbar": {
             "outlinewidth": 0,
             "ticks": ""
            },
            "colorscale": [
             [
              0,
              "#0d0887"
             ],
             [
              0.1111111111111111,
              "#46039f"
             ],
             [
              0.2222222222222222,
              "#7201a8"
             ],
             [
              0.3333333333333333,
              "#9c179e"
             ],
             [
              0.4444444444444444,
              "#bd3786"
             ],
             [
              0.5555555555555556,
              "#d8576b"
             ],
             [
              0.6666666666666666,
              "#ed7953"
             ],
             [
              0.7777777777777778,
              "#fb9f3a"
             ],
             [
              0.8888888888888888,
              "#fdca26"
             ],
             [
              1,
              "#f0f921"
             ]
            ],
            "type": "histogram2dcontour"
           }
          ],
          "mesh3d": [
           {
            "colorbar": {
             "outlinewidth": 0,
             "ticks": ""
            },
            "type": "mesh3d"
           }
          ],
          "parcoords": [
           {
            "line": {
             "colorbar": {
              "outlinewidth": 0,
              "ticks": ""
             }
            },
            "type": "parcoords"
           }
          ],
          "pie": [
           {
            "automargin": true,
            "type": "pie"
           }
          ],
          "scatter": [
           {
            "marker": {
             "colorbar": {
              "outlinewidth": 0,
              "ticks": ""
             }
            },
            "type": "scatter"
           }
          ],
          "scatter3d": [
           {
            "line": {
             "colorbar": {
              "outlinewidth": 0,
              "ticks": ""
             }
            },
            "marker": {
             "colorbar": {
              "outlinewidth": 0,
              "ticks": ""
             }
            },
            "type": "scatter3d"
           }
          ],
          "scattercarpet": [
           {
            "marker": {
             "colorbar": {
              "outlinewidth": 0,
              "ticks": ""
             }
            },
            "type": "scattercarpet"
           }
          ],
          "scattergeo": [
           {
            "marker": {
             "colorbar": {
              "outlinewidth": 0,
              "ticks": ""
             }
            },
            "type": "scattergeo"
           }
          ],
          "scattergl": [
           {
            "marker": {
             "colorbar": {
              "outlinewidth": 0,
              "ticks": ""
             }
            },
            "type": "scattergl"
           }
          ],
          "scattermapbox": [
           {
            "marker": {
             "colorbar": {
              "outlinewidth": 0,
              "ticks": ""
             }
            },
            "type": "scattermapbox"
           }
          ],
          "scatterpolar": [
           {
            "marker": {
             "colorbar": {
              "outlinewidth": 0,
              "ticks": ""
             }
            },
            "type": "scatterpolar"
           }
          ],
          "scatterpolargl": [
           {
            "marker": {
             "colorbar": {
              "outlinewidth": 0,
              "ticks": ""
             }
            },
            "type": "scatterpolargl"
           }
          ],
          "scatterternary": [
           {
            "marker": {
             "colorbar": {
              "outlinewidth": 0,
              "ticks": ""
             }
            },
            "type": "scatterternary"
           }
          ],
          "surface": [
           {
            "colorbar": {
             "outlinewidth": 0,
             "ticks": ""
            },
            "colorscale": [
             [
              0,
              "#0d0887"
             ],
             [
              0.1111111111111111,
              "#46039f"
             ],
             [
              0.2222222222222222,
              "#7201a8"
             ],
             [
              0.3333333333333333,
              "#9c179e"
             ],
             [
              0.4444444444444444,
              "#bd3786"
             ],
             [
              0.5555555555555556,
              "#d8576b"
             ],
             [
              0.6666666666666666,
              "#ed7953"
             ],
             [
              0.7777777777777778,
              "#fb9f3a"
             ],
             [
              0.8888888888888888,
              "#fdca26"
             ],
             [
              1,
              "#f0f921"
             ]
            ],
            "type": "surface"
           }
          ],
          "table": [
           {
            "cells": {
             "fill": {
              "color": "#EBF0F8"
             },
             "line": {
              "color": "white"
             }
            },
            "header": {
             "fill": {
              "color": "#C8D4E3"
             },
             "line": {
              "color": "white"
             }
            },
            "type": "table"
           }
          ]
         },
         "layout": {
          "annotationdefaults": {
           "arrowcolor": "#2a3f5f",
           "arrowhead": 0,
           "arrowwidth": 1
          },
          "coloraxis": {
           "colorbar": {
            "outlinewidth": 0,
            "ticks": ""
           }
          },
          "colorscale": {
           "diverging": [
            [
             0,
             "#8e0152"
            ],
            [
             0.1,
             "#c51b7d"
            ],
            [
             0.2,
             "#de77ae"
            ],
            [
             0.3,
             "#f1b6da"
            ],
            [
             0.4,
             "#fde0ef"
            ],
            [
             0.5,
             "#f7f7f7"
            ],
            [
             0.6,
             "#e6f5d0"
            ],
            [
             0.7,
             "#b8e186"
            ],
            [
             0.8,
             "#7fbc41"
            ],
            [
             0.9,
             "#4d9221"
            ],
            [
             1,
             "#276419"
            ]
           ],
           "sequential": [
            [
             0,
             "#0d0887"
            ],
            [
             0.1111111111111111,
             "#46039f"
            ],
            [
             0.2222222222222222,
             "#7201a8"
            ],
            [
             0.3333333333333333,
             "#9c179e"
            ],
            [
             0.4444444444444444,
             "#bd3786"
            ],
            [
             0.5555555555555556,
             "#d8576b"
            ],
            [
             0.6666666666666666,
             "#ed7953"
            ],
            [
             0.7777777777777778,
             "#fb9f3a"
            ],
            [
             0.8888888888888888,
             "#fdca26"
            ],
            [
             1,
             "#f0f921"
            ]
           ],
           "sequentialminus": [
            [
             0,
             "#0d0887"
            ],
            [
             0.1111111111111111,
             "#46039f"
            ],
            [
             0.2222222222222222,
             "#7201a8"
            ],
            [
             0.3333333333333333,
             "#9c179e"
            ],
            [
             0.4444444444444444,
             "#bd3786"
            ],
            [
             0.5555555555555556,
             "#d8576b"
            ],
            [
             0.6666666666666666,
             "#ed7953"
            ],
            [
             0.7777777777777778,
             "#fb9f3a"
            ],
            [
             0.8888888888888888,
             "#fdca26"
            ],
            [
             1,
             "#f0f921"
            ]
           ]
          },
          "colorway": [
           "#636efa",
           "#EF553B",
           "#00cc96",
           "#ab63fa",
           "#FFA15A",
           "#19d3f3",
           "#FF6692",
           "#B6E880",
           "#FF97FF",
           "#FECB52"
          ],
          "font": {
           "color": "#2a3f5f"
          },
          "geo": {
           "bgcolor": "white",
           "lakecolor": "white",
           "landcolor": "#E5ECF6",
           "showlakes": true,
           "showland": true,
           "subunitcolor": "white"
          },
          "hoverlabel": {
           "align": "left"
          },
          "hovermode": "closest",
          "mapbox": {
           "style": "light"
          },
          "paper_bgcolor": "white",
          "plot_bgcolor": "#E5ECF6",
          "polar": {
           "angularaxis": {
            "gridcolor": "white",
            "linecolor": "white",
            "ticks": ""
           },
           "bgcolor": "#E5ECF6",
           "radialaxis": {
            "gridcolor": "white",
            "linecolor": "white",
            "ticks": ""
           }
          },
          "scene": {
           "xaxis": {
            "backgroundcolor": "#E5ECF6",
            "gridcolor": "white",
            "gridwidth": 2,
            "linecolor": "white",
            "showbackground": true,
            "ticks": "",
            "zerolinecolor": "white"
           },
           "yaxis": {
            "backgroundcolor": "#E5ECF6",
            "gridcolor": "white",
            "gridwidth": 2,
            "linecolor": "white",
            "showbackground": true,
            "ticks": "",
            "zerolinecolor": "white"
           },
           "zaxis": {
            "backgroundcolor": "#E5ECF6",
            "gridcolor": "white",
            "gridwidth": 2,
            "linecolor": "white",
            "showbackground": true,
            "ticks": "",
            "zerolinecolor": "white"
           }
          },
          "shapedefaults": {
           "line": {
            "color": "#2a3f5f"
           }
          },
          "ternary": {
           "aaxis": {
            "gridcolor": "white",
            "linecolor": "white",
            "ticks": ""
           },
           "baxis": {
            "gridcolor": "white",
            "linecolor": "white",
            "ticks": ""
           },
           "bgcolor": "#E5ECF6",
           "caxis": {
            "gridcolor": "white",
            "linecolor": "white",
            "ticks": ""
           }
          },
          "title": {
           "x": 0.05
          },
          "xaxis": {
           "automargin": true,
           "gridcolor": "white",
           "linecolor": "white",
           "ticks": "",
           "title": {
            "standoff": 15
           },
           "zerolinecolor": "white",
           "zerolinewidth": 2
          },
          "yaxis": {
           "automargin": true,
           "gridcolor": "white",
           "linecolor": "white",
           "ticks": "",
           "title": {
            "standoff": 15
           },
           "zerolinecolor": "white",
           "zerolinewidth": 2
          }
         }
        },
        "title": {
         "text": "Distribution of LC Rating by year"
        },
        "xaxis": {
         "anchor": "y",
         "domain": [
          0,
          1
         ],
         "title": {
          "text": "Rating"
         }
        },
        "yaxis": {
         "anchor": "x",
         "domain": [
          0,
          1
         ],
         "tickformat": ",.0%",
         "title": {
          "text": "Frequency"
         }
        }
       }
      },
      "text/html": [
       "<div>\n",
       "        \n",
       "        \n",
       "            <div id=\"42c65f00-59a4-406f-8a03-bff905e086e2\" class=\"plotly-graph-div\" style=\"height:525px; width:100%;\"></div>\n",
       "            <script type=\"text/javascript\">\n",
       "                require([\"plotly\"], function(Plotly) {\n",
       "                    window.PLOTLYENV=window.PLOTLYENV || {};\n",
       "                    \n",
       "                if (document.getElementById(\"42c65f00-59a4-406f-8a03-bff905e086e2\")) {\n",
       "                    Plotly.newPlot(\n",
       "                        '42c65f00-59a4-406f-8a03-bff905e086e2',\n",
       "                        [{\"hovertemplate\": \"year=2007<br>sub_grade=%{x}<br>value=%{y}<extra></extra>\", \"legendgroup\": \"2007\", \"line\": {\"color\": \"#636efa\", \"dash\": \"solid\"}, \"mode\": \"lines\", \"name\": \"2007\", \"orientation\": \"v\", \"showlegend\": true, \"type\": \"scatter\", \"x\": [\"A1\", \"A2\", \"A3\", \"A4\", \"A5\", \"B1\", \"B2\", \"B3\", \"B4\", \"B5\", \"C1\", \"C2\", \"C3\", \"C4\", \"C5\", \"D1\", \"D2\", \"D3\", \"D4\", \"D5\", \"E1\", \"E2\", \"E3\", \"E4\", \"E5\", \"F1\", \"F2\", \"F3\", \"F4\", \"F5\", \"G1\", \"G2\", \"G3\", \"G4\", \"G5\"], \"xaxis\": \"x\", \"y\": [0.009950248756218905, 0.04311774461028192, 0.028192371475953566, 0.029850746268656716, 0.01824212271973466, 0.026533996683250415, 0.02155887230514096, 0.03482587064676617, 0.03814262023217247, 0.04145936981757877, 0.05306799336650083, 0.04975124378109453, 0.05140961857379768, 0.04809286898839138, 0.03150912106135987, 0.026533996683250415, 0.026533996683250415, 0.03482587064676617, 0.03980099502487562, 0.03648424543946932, 0.01990049751243781, 0.03648424543946932, 0.028192371475953566, 0.05472636815920398, 0.026533996683250415, 0.02321724709784411, 0.01990049751243781, 0.009950248756218905, 0.01824212271973466, 0.014925373134328358, 0.008291873963515755, 0.006633499170812604, 0.011608623548922056, 0.01658374792703151, 0.014925373134328358], \"yaxis\": \"y\"}, {\"hovertemplate\": \"year=2008<br>sub_grade=%{x}<br>value=%{y}<extra></extra>\", \"legendgroup\": \"2008\", \"line\": {\"color\": \"#EF553B\", \"dash\": \"solid\"}, \"mode\": \"lines\", \"name\": \"2008\", \"orientation\": \"v\", \"showlegend\": true, \"type\": \"scatter\", \"x\": [\"A1\", \"A2\", \"A3\", \"A4\", \"A5\", \"B1\", \"B2\", \"B3\", \"B4\", \"B5\", \"C1\", \"C2\", \"C3\", \"C4\", \"C5\", \"D1\", \"D2\", \"D3\", \"D4\", \"D5\", \"E1\", \"E2\", \"E3\", \"E4\", \"E5\", \"F1\", \"F2\", \"F3\", \"F4\", \"F5\", \"G1\", \"G2\", \"G3\", \"G4\", \"G5\"], \"xaxis\": \"x\", \"y\": [0.006686167989970748, 0.015461763476807356, 0.03384872544922691, 0.038027580442958626, 0.038863351441704976, 0.040952778938570834, 0.05516088591725867, 0.04972837442540744, 0.04471374843292938, 0.057668198913497705, 0.060593397409109906, 0.04471374843292938, 0.046803175929795236, 0.045967404931048894, 0.0442958629335562, 0.03677392394483912, 0.03677392394483912, 0.035102381947346425, 0.03928123694107814, 0.027162557459256165, 0.027998328458002507, 0.030505641454241537, 0.025073129962390306, 0.017969076473046384, 0.017551190973673213, 0.012536564981195153, 0.010447137484329294, 0.011700793982448809, 0.006686167989970748, 0.005014625992478061, 0.006686167989970748, 0.005014625992478061, 0.004178854993731718, 0.00919348098620978, 0.010865022983702465], \"yaxis\": \"y\"}, {\"hovertemplate\": \"year=2009<br>sub_grade=%{x}<br>value=%{y}<extra></extra>\", \"legendgroup\": \"2009\", \"line\": {\"color\": \"#00cc96\", \"dash\": \"solid\"}, \"mode\": \"lines\", \"name\": \"2009\", \"orientation\": \"v\", \"showlegend\": true, \"type\": \"scatter\", \"x\": [\"A1\", \"A2\", \"A3\", \"A4\", \"A5\", \"B1\", \"B2\", \"B3\", \"B4\", \"B5\", \"C1\", \"C2\", \"C3\", \"C4\", \"C5\", \"D1\", \"D2\", \"D3\", \"D4\", \"D5\", \"E1\", \"E2\", \"E3\", \"E4\", \"E5\", \"F1\", \"F2\", \"F3\", \"F4\", \"F5\", \"G1\", \"G2\", \"G3\", \"G4\", \"G5\"], \"xaxis\": \"x\", \"y\": [0.006438174588146184, 0.024048475667487218, 0.047718235182730544, 0.06267752319636433, 0.08691535693997349, 0.04412043173641356, 0.04696080287824276, 0.0556712743798523, 0.06362431357697405, 0.06324559742473017, 0.05794357129331566, 0.05320961939026699, 0.050369248248437797, 0.04923309979170612, 0.04449914788865745, 0.03787161522438932, 0.03654610869153569, 0.03275894716909676, 0.02669948873319447, 0.020829388373414127, 0.015906078394243513, 0.015527362241999621, 0.01174020071956069, 0.0073849649687559174, 0.007763681120999811, 0.004733951903048665, 0.005870100359780345, 0.0022722969134633592, 0.0037871615224389322, 0.003219087294073092, 0.0026510130657072524, 0.0018935807612194661, 0.0009467903806097331, 0.0018935807612194661, 0.0030297292179511455], \"yaxis\": \"y\"}, {\"hovertemplate\": \"year=2010<br>sub_grade=%{x}<br>value=%{y}<extra></extra>\", \"legendgroup\": \"2010\", \"line\": {\"color\": \"#ab63fa\", \"dash\": \"solid\"}, \"mode\": \"lines\", \"name\": \"2010\", \"orientation\": \"v\", \"showlegend\": true, \"type\": \"scatter\", \"x\": [\"A1\", \"A2\", \"A3\", \"A4\", \"A5\", \"B1\", \"B2\", \"B3\", \"B4\", \"B5\", \"C1\", \"C2\", \"C3\", \"C4\", \"C5\", \"D1\", \"D2\", \"D3\", \"D4\", \"D5\", \"E1\", \"E2\", \"E3\", \"E4\", \"E5\", \"F1\", \"F2\", \"F3\", \"F4\", \"F5\", \"G1\", \"G2\", \"G3\", \"G4\", \"G5\"], \"xaxis\": \"x\", \"y\": [0.01060859854829704, 0.027518545106484806, 0.04490707505782883, 0.05934434075137593, 0.08335327430804818, 0.0463428252372976, 0.05080960357342267, 0.057669298875329025, 0.06700167504187604, 0.07226609236659488, 0.05033102018026641, 0.0543989790220946, 0.048496450506500755, 0.03366036531865678, 0.03078886495971923, 0.027359017308766054, 0.03820690755364122, 0.034298476509531786, 0.02680067001675042, 0.023689877961234746, 0.021775544388609715, 0.01738852995134402, 0.014596793491265853, 0.012602696019781447, 0.010369306851718912, 0.007338278695062614, 0.006540639706468852, 0.004945361729281327, 0.003908431044109436, 0.0020738613703437823, 0.0023929169657812875, 0.0024726808646406634, 0.00191433357262503, 0.0023131530669219112, 0.0015155140783281486], \"yaxis\": \"y\"}, {\"hovertemplate\": \"year=2011<br>sub_grade=%{x}<br>value=%{y}<extra></extra>\", \"legendgroup\": \"2011\", \"line\": {\"color\": \"#FFA15A\", \"dash\": \"solid\"}, \"mode\": \"lines\", \"name\": \"2011\", \"orientation\": \"v\", \"showlegend\": true, \"type\": \"scatter\", \"x\": [\"A1\", \"A2\", \"A3\", \"A4\", \"A5\", \"B1\", \"B2\", \"B3\", \"B4\", \"B5\", \"C1\", \"C2\", \"C3\", \"C4\", \"C5\", \"D1\", \"D2\", \"D3\", \"D4\", \"D5\", \"E1\", \"E2\", \"E3\", \"E4\", \"E5\", \"F1\", \"F2\", \"F3\", \"F4\", \"F5\", \"G1\", \"G2\", \"G3\", \"G4\", \"G5\"], \"xaxis\": \"x\", \"y\": [0.0438745914092353, 0.04534782008194835, 0.04189494038027715, 0.07923207955434833, 0.05455549928640486, 0.043920629805257586, 0.04985958289213204, 0.08471064868099995, 0.059113300492610835, 0.06463790801528475, 0.05294415542562497, 0.04866258459555269, 0.029510611850283135, 0.025275079416233137, 0.025090925832144007, 0.018691588785046728, 0.03264122277979835, 0.028267575157681506, 0.025090925832144007, 0.02403204272363151, 0.0206252014179826, 0.018231204824823904, 0.015929285023709775, 0.01284471249021684, 0.012430366926016298, 0.010634869481147276, 0.0072740665715206486, 0.005892914690852171, 0.005294415542562497, 0.004143455642005432, 0.0034989180976934763, 0.0023019198011141294, 0.0015192670687353253, 0.0012890750886239124, 0.0007366143363565213], \"yaxis\": \"y\"}, {\"hovertemplate\": \"year=2012<br>sub_grade=%{x}<br>value=%{y}<extra></extra>\", \"legendgroup\": \"2012\", \"line\": {\"color\": \"#19d3f3\", \"dash\": \"solid\"}, \"mode\": \"lines\", \"name\": \"2012\", \"orientation\": \"v\", \"showlegend\": true, \"type\": \"scatter\", \"x\": [\"A1\", \"A2\", \"A3\", \"A4\", \"A5\", \"B1\", \"B2\", \"B3\", \"B4\", \"B5\", \"C1\", \"C2\", \"C3\", \"C4\", \"C5\", \"D1\", \"D2\", \"D3\", \"D4\", \"D5\", \"E1\", \"E2\", \"E3\", \"E4\", \"E5\", \"F1\", \"F2\", \"F3\", \"F4\", \"F5\", \"G1\", \"G2\", \"G3\", \"G4\", \"G5\"], \"xaxis\": \"x\", \"y\": [0.03155508085521015, 0.03112410291003804, 0.03277306200460959, 0.059362527404575864, 0.04945003466561733, 0.04755747934116589, 0.061217606385968855, 0.09985571607922498, 0.07255420016114827, 0.06560233852380684, 0.06652050892873873, 0.06202334776172541, 0.03181741525661926, 0.033335207150486254, 0.02881930781194371, 0.03181741525661926, 0.03256694211778815, 0.02728277774654749, 0.02527779339292072, 0.0202747015946184, 0.014765679165027077, 0.01367886521633219, 0.011111735716828752, 0.011242902917533307, 0.008881893304851313, 0.00757022129780576, 0.00610864391852643, 0.004590852024659434, 0.003260441846084659, 0.003110536473850882, 0.0022673187550358836, 0.0012741956639871082, 0.0005808833174058875, 0.00044971611670133226, 0.00031854891599677706], \"yaxis\": \"y\"}, {\"hovertemplate\": \"year=2013<br>sub_grade=%{x}<br>value=%{y}<extra></extra>\", \"legendgroup\": \"2013\", \"line\": {\"color\": \"#FF6692\", \"dash\": \"solid\"}, \"mode\": \"lines\", \"name\": \"2013\", \"orientation\": \"v\", \"showlegend\": true, \"type\": \"scatter\", \"x\": [\"A1\", \"A2\", \"A3\", \"A4\", \"A5\", \"B1\", \"B2\", \"B3\", \"B4\", \"B5\", \"C1\", \"C2\", \"C3\", \"C4\", \"C5\", \"D1\", \"D2\", \"D3\", \"D4\", \"D5\", \"E1\", \"E2\", \"E3\", \"E4\", \"E5\", \"F1\", \"F2\", \"F3\", \"F4\", \"F5\", \"G1\", \"G2\", \"G3\", \"G4\", \"G5\"], \"xaxis\": \"x\", \"y\": [0.019055884403696946, 0.01884819084071387, 0.023402613971842685, 0.028543029655673742, 0.04128651327013515, 0.058020680344771314, 0.07264082365332977, 0.07631996676902993, 0.07841173765335945, 0.04184283531383981, 0.056722595576127105, 0.054245108074829025, 0.060624267509309125, 0.058347055943744716, 0.052924770424436635, 0.04176865904134586, 0.03174744462741258, 0.02712626285103921, 0.027675167267494475, 0.024255641105523165, 0.013151453113178157, 0.01718664233684929, 0.01345557583040337, 0.01289925378669871, 0.010503360185143976, 0.00897532897176851, 0.007514056403637604, 0.006720370287952289, 0.005333273992315338, 0.004042606850920527, 0.0023736407198065483, 0.0016392956221163975, 0.0012461613778984378, 0.0006304983161986143, 0.0005192339074576825], \"yaxis\": \"y\"}, {\"hovertemplate\": \"year=2014<br>sub_grade=%{x}<br>value=%{y}<extra></extra>\", \"legendgroup\": \"2014\", \"line\": {\"color\": \"#B6E880\", \"dash\": \"solid\"}, \"mode\": \"lines\", \"name\": \"2014\", \"orientation\": \"v\", \"showlegend\": true, \"type\": \"scatter\", \"x\": [\"A1\", \"A2\", \"A3\", \"A4\", \"A5\", \"B1\", \"B2\", \"B3\", \"B4\", \"B5\", \"C1\", \"C2\", \"C3\", \"C4\", \"C5\", \"D1\", \"D2\", \"D3\", \"D4\", \"D5\", \"E1\", \"E2\", \"E3\", \"E4\", \"E5\", \"F1\", \"F2\", \"F3\", \"F4\", \"F5\", \"G1\", \"G2\", \"G3\", \"G4\", \"G5\"], \"xaxis\": \"x\", \"y\": [0.021843661009468274, 0.0222128855106969, 0.02479321305951305, 0.03872188907137916, 0.045669251238175265, 0.04514300022492987, 0.04854665597188801, 0.05548977417889988, 0.05718735809259472, 0.05648286076841136, 0.05728496916763217, 0.05926689838687089, 0.05854118126376635, 0.05556616545501615, 0.051839968764455985, 0.04617428245249948, 0.040504352180758735, 0.036018486688820135, 0.03344664705957246, 0.026312550662269923, 0.023719491234101067, 0.020502569717649355, 0.016559931078093105, 0.0131605192909192, 0.011450203497871654, 0.008212062182498758, 0.005750565507641249, 0.005606270874977189, 0.00409117723200455, 0.002750085940185631, 0.0022365668062929436, 0.001812170827869235, 0.0012944077341923107, 0.000908207393826736, 0.0008997194742582619], \"yaxis\": \"y\"}, {\"hovertemplate\": \"year=2015<br>sub_grade=%{x}<br>value=%{y}<extra></extra>\", \"legendgroup\": \"2015\", \"line\": {\"color\": \"#FF97FF\", \"dash\": \"solid\"}, \"mode\": \"lines\", \"name\": \"2015\", \"orientation\": \"v\", \"showlegend\": true, \"type\": \"scatter\", \"x\": [\"A1\", \"A2\", \"A3\", \"A4\", \"A5\", \"B1\", \"B2\", \"B3\", \"B4\", \"B5\", \"C1\", \"C2\", \"C3\", \"C4\", \"C5\", \"D1\", \"D2\", \"D3\", \"D4\", \"D5\", \"E1\", \"E2\", \"E3\", \"E4\", \"E5\", \"F1\", \"F2\", \"F3\", \"F4\", \"F5\", \"G1\", \"G2\", \"G3\", \"G4\", \"G5\"], \"xaxis\": \"x\", \"y\": [0.02938291834384165, 0.027378620026359848, 0.0258587729609708, 0.03677554946033555, 0.054759614813759364, 0.05247271993255679, 0.052650827010532066, 0.05850698773435923, 0.059656372077559694, 0.0559992400764673, 0.06277443332264691, 0.06054690746743609, 0.058998563269571, 0.058780085253921324, 0.04521782495636376, 0.040316318170484096, 0.030294826583075078, 0.02763746897968392, 0.02721238675358292, 0.023327277692682172, 0.021930918201355988, 0.019793633265652644, 0.016998539521960603, 0.013612130279390636, 0.010657927546040679, 0.007784466688039516, 0.0056780536458518865, 0.004096462793431411, 0.0031869293152376544, 0.0025671166838836844, 0.001809567912228832, 0.0013654875978104703, 0.0009451548937888125, 0.0005723174105605624, 0.0004535793585770432], \"yaxis\": \"y\"}, {\"hovertemplate\": \"year=2016<br>sub_grade=%{x}<br>value=%{y}<extra></extra>\", \"legendgroup\": \"2016\", \"line\": {\"color\": \"#FECB52\", \"dash\": \"solid\"}, \"mode\": \"lines\", \"name\": \"2016\", \"orientation\": \"v\", \"showlegend\": true, \"type\": \"scatter\", \"x\": [\"A1\", \"A2\", \"A3\", \"A4\", \"A5\", \"B1\", \"B2\", \"B3\", \"B4\", \"B5\", \"C1\", \"C2\", \"C3\", \"C4\", \"C5\", \"D1\", \"D2\", \"D3\", \"D4\", \"D5\", \"E1\", \"E2\", \"E3\", \"E4\", \"E5\", \"F1\", \"F2\", \"F3\", \"F4\", \"F5\", \"G1\", \"G2\", \"G3\", \"G4\", \"G5\"], \"xaxis\": \"x\", \"y\": [0.04309783221725248, 0.024741774418920507, 0.023054416710596284, 0.033910595363334385, 0.0382843738705868, 0.05632045524128294, 0.054686043272783355, 0.05961690304253845, 0.06687967735326548, 0.07214202349409655, 0.07268759481315909, 0.0612236911467817, 0.058217293920217676, 0.0595708632687779, 0.05257281765717403, 0.034911960442626386, 0.033058859548764176, 0.024925933513962713, 0.02390615252516649, 0.01942418054957678, 0.01720045947694213, 0.011562889179962569, 0.012067024702640611, 0.010015952781608032, 0.008561095930774596, 0.006579083670382843, 0.005039053238092388, 0.0038926628714546496, 0.003204368253734401, 0.0027715943803852147, 0.0017863432219094074, 0.0014318369639531592, 0.0011049545702532418, 0.0008448298485061245, 0.0007044085385364416], \"yaxis\": \"y\"}, {\"hovertemplate\": \"year=2017<br>sub_grade=%{x}<br>value=%{y}<extra></extra>\", \"legendgroup\": \"2017\", \"line\": {\"color\": \"#636efa\", \"dash\": \"solid\"}, \"mode\": \"lines\", \"name\": \"2017\", \"orientation\": \"v\", \"showlegend\": true, \"type\": \"scatter\", \"x\": [\"A1\", \"A2\", \"A3\", \"A4\", \"A5\", \"B1\", \"B2\", \"B3\", \"B4\", \"B5\", \"C1\", \"C2\", \"C3\", \"C4\", \"C5\", \"D1\", \"D2\", \"D3\", \"D4\", \"D5\", \"E1\", \"E2\", \"E3\", \"E4\", \"E5\", \"F1\", \"F2\", \"F3\", \"F4\", \"F5\", \"G1\", \"G2\", \"G3\", \"G4\", \"G5\"], \"xaxis\": \"x\", \"y\": [0.03666990547343314, 0.03033957874471064, 0.032569170316899584, 0.033734689874858816, 0.04432355905036082, 0.06281406468746266, 0.055349779858830106, 0.05886888243131438, 0.05271439811172305, 0.07037303389024277, 0.07336235484547285, 0.061062403765732826, 0.06189201923445429, 0.06370003990270054, 0.06719434418671759, 0.03159527389709612, 0.02999240270616959, 0.030089341470177805, 0.01943960376843809, 0.01658554620484739, 0.008650093895337696, 0.010606904294387246, 0.007951233038534285, 0.0076739430856735775, 0.010582106005920027, 0.004098480766672904, 0.002585785170172619, 0.002775153918467736, 0.002270170589680756, 0.002342311065221753, 0.0021912669445577904, 0.0013075461191805744, 0.0013278356279264798, 0.001481134138451099, 0.0014856429181724113], \"yaxis\": \"y\"}, {\"hovertemplate\": \"year=2018<br>sub_grade=%{x}<br>value=%{y}<extra></extra>\", \"legendgroup\": \"2018\", \"line\": {\"color\": \"#EF553B\", \"dash\": \"solid\"}, \"mode\": \"lines\", \"name\": \"2018\", \"orientation\": \"v\", \"showlegend\": true, \"type\": \"scatter\", \"x\": [\"A1\", \"A2\", \"A3\", \"A4\", \"A5\", \"B1\", \"B2\", \"B3\", \"B4\", \"B5\", \"C1\", \"C2\", \"C3\", \"C4\", \"C5\", \"D1\", \"D2\", \"D3\", \"D4\", \"D5\", \"E1\", \"E2\", \"E3\", \"E4\", \"E5\", \"F1\", \"F2\", \"F3\", \"F4\", \"F5\", \"G1\", \"G2\", \"G3\", \"G4\", \"G5\"], \"xaxis\": \"x\", \"y\": [0.05832905932857068, 0.04618146280000485, 0.0510134439324613, 0.06390411152527452, 0.0535233279891447, 0.056612726707347114, 0.05962741447615509, 0.04679732332879683, 0.06406564871315437, 0.058343193832510166, 0.057329547978564016, 0.050870079678217925, 0.05306900464823258, 0.04870548136062773, 0.04616328986636836, 0.033048489425371835, 0.03115648511232892, 0.028438621926250195, 0.024892880652287164, 0.021882231313176185, 0.008066763319750748, 0.006445333796406605, 0.007681093283687571, 0.00663110156246845, 0.009455983135517586, 0.0030651681400204345, 0.0011630677527350265, 0.0008803776739452631, 0.0006360526772769676, 0.0006663409000044422, 0.000983357631218677, 0.00017769090666785127, 8.884545333392564e-05, 5.048037121245775e-05, 5.4518800909454367e-05], \"yaxis\": \"y\"}],\n",
       "                        {\"legend\": {\"title\": {\"text\": \"year\"}, \"tracegroupgap\": 0}, \"margin\": {\"t\": 60}, \"template\": {\"data\": {\"bar\": [{\"error_x\": {\"color\": \"#2a3f5f\"}, \"error_y\": {\"color\": \"#2a3f5f\"}, \"marker\": {\"line\": {\"color\": \"#E5ECF6\", \"width\": 0.5}}, \"type\": \"bar\"}], \"barpolar\": [{\"marker\": {\"line\": {\"color\": \"#E5ECF6\", \"width\": 0.5}}, \"type\": \"barpolar\"}], \"carpet\": [{\"aaxis\": {\"endlinecolor\": \"#2a3f5f\", \"gridcolor\": \"white\", \"linecolor\": \"white\", \"minorgridcolor\": \"white\", \"startlinecolor\": \"#2a3f5f\"}, \"baxis\": {\"endlinecolor\": \"#2a3f5f\", \"gridcolor\": \"white\", \"linecolor\": \"white\", \"minorgridcolor\": \"white\", \"startlinecolor\": \"#2a3f5f\"}, \"type\": \"carpet\"}], \"choropleth\": [{\"colorbar\": {\"outlinewidth\": 0, \"ticks\": \"\"}, \"type\": \"choropleth\"}], \"contour\": [{\"colorbar\": {\"outlinewidth\": 0, \"ticks\": \"\"}, \"colorscale\": [[0.0, \"#0d0887\"], [0.1111111111111111, \"#46039f\"], [0.2222222222222222, \"#7201a8\"], [0.3333333333333333, \"#9c179e\"], [0.4444444444444444, \"#bd3786\"], [0.5555555555555556, \"#d8576b\"], [0.6666666666666666, \"#ed7953\"], [0.7777777777777778, \"#fb9f3a\"], [0.8888888888888888, \"#fdca26\"], [1.0, \"#f0f921\"]], \"type\": \"contour\"}], \"contourcarpet\": [{\"colorbar\": {\"outlinewidth\": 0, \"ticks\": \"\"}, \"type\": \"contourcarpet\"}], \"heatmap\": [{\"colorbar\": {\"outlinewidth\": 0, \"ticks\": \"\"}, \"colorscale\": [[0.0, \"#0d0887\"], [0.1111111111111111, \"#46039f\"], [0.2222222222222222, \"#7201a8\"], [0.3333333333333333, \"#9c179e\"], [0.4444444444444444, \"#bd3786\"], [0.5555555555555556, \"#d8576b\"], [0.6666666666666666, \"#ed7953\"], [0.7777777777777778, \"#fb9f3a\"], [0.8888888888888888, \"#fdca26\"], [1.0, \"#f0f921\"]], \"type\": \"heatmap\"}], \"heatmapgl\": [{\"colorbar\": {\"outlinewidth\": 0, \"ticks\": \"\"}, \"colorscale\": [[0.0, \"#0d0887\"], [0.1111111111111111, \"#46039f\"], [0.2222222222222222, \"#7201a8\"], [0.3333333333333333, \"#9c179e\"], [0.4444444444444444, \"#bd3786\"], [0.5555555555555556, \"#d8576b\"], [0.6666666666666666, \"#ed7953\"], [0.7777777777777778, \"#fb9f3a\"], [0.8888888888888888, \"#fdca26\"], [1.0, \"#f0f921\"]], \"type\": \"heatmapgl\"}], \"histogram\": [{\"marker\": {\"colorbar\": {\"outlinewidth\": 0, \"ticks\": \"\"}}, \"type\": \"histogram\"}], \"histogram2d\": [{\"colorbar\": {\"outlinewidth\": 0, \"ticks\": \"\"}, \"colorscale\": [[0.0, \"#0d0887\"], [0.1111111111111111, \"#46039f\"], [0.2222222222222222, \"#7201a8\"], [0.3333333333333333, \"#9c179e\"], [0.4444444444444444, \"#bd3786\"], [0.5555555555555556, \"#d8576b\"], [0.6666666666666666, \"#ed7953\"], [0.7777777777777778, \"#fb9f3a\"], [0.8888888888888888, \"#fdca26\"], [1.0, \"#f0f921\"]], \"type\": \"histogram2d\"}], \"histogram2dcontour\": [{\"colorbar\": {\"outlinewidth\": 0, \"ticks\": \"\"}, \"colorscale\": [[0.0, \"#0d0887\"], [0.1111111111111111, \"#46039f\"], [0.2222222222222222, \"#7201a8\"], [0.3333333333333333, \"#9c179e\"], [0.4444444444444444, \"#bd3786\"], [0.5555555555555556, \"#d8576b\"], [0.6666666666666666, \"#ed7953\"], [0.7777777777777778, \"#fb9f3a\"], [0.8888888888888888, \"#fdca26\"], [1.0, \"#f0f921\"]], \"type\": \"histogram2dcontour\"}], \"mesh3d\": [{\"colorbar\": {\"outlinewidth\": 0, \"ticks\": \"\"}, \"type\": \"mesh3d\"}], \"parcoords\": [{\"line\": {\"colorbar\": {\"outlinewidth\": 0, \"ticks\": \"\"}}, \"type\": \"parcoords\"}], \"pie\": [{\"automargin\": true, \"type\": \"pie\"}], \"scatter\": [{\"marker\": {\"colorbar\": {\"outlinewidth\": 0, \"ticks\": \"\"}}, \"type\": \"scatter\"}], \"scatter3d\": [{\"line\": {\"colorbar\": {\"outlinewidth\": 0, \"ticks\": \"\"}}, \"marker\": {\"colorbar\": {\"outlinewidth\": 0, \"ticks\": \"\"}}, \"type\": \"scatter3d\"}], \"scattercarpet\": [{\"marker\": {\"colorbar\": {\"outlinewidth\": 0, \"ticks\": \"\"}}, \"type\": \"scattercarpet\"}], \"scattergeo\": [{\"marker\": {\"colorbar\": {\"outlinewidth\": 0, \"ticks\": \"\"}}, \"type\": \"scattergeo\"}], \"scattergl\": [{\"marker\": {\"colorbar\": {\"outlinewidth\": 0, \"ticks\": \"\"}}, \"type\": \"scattergl\"}], \"scattermapbox\": [{\"marker\": {\"colorbar\": {\"outlinewidth\": 0, \"ticks\": \"\"}}, \"type\": \"scattermapbox\"}], \"scatterpolar\": [{\"marker\": {\"colorbar\": {\"outlinewidth\": 0, \"ticks\": \"\"}}, \"type\": \"scatterpolar\"}], \"scatterpolargl\": [{\"marker\": {\"colorbar\": {\"outlinewidth\": 0, \"ticks\": \"\"}}, \"type\": \"scatterpolargl\"}], \"scatterternary\": [{\"marker\": {\"colorbar\": {\"outlinewidth\": 0, \"ticks\": \"\"}}, \"type\": \"scatterternary\"}], \"surface\": [{\"colorbar\": {\"outlinewidth\": 0, \"ticks\": \"\"}, \"colorscale\": [[0.0, \"#0d0887\"], [0.1111111111111111, \"#46039f\"], [0.2222222222222222, \"#7201a8\"], [0.3333333333333333, \"#9c179e\"], [0.4444444444444444, \"#bd3786\"], [0.5555555555555556, \"#d8576b\"], [0.6666666666666666, \"#ed7953\"], [0.7777777777777778, \"#fb9f3a\"], [0.8888888888888888, \"#fdca26\"], [1.0, \"#f0f921\"]], \"type\": \"surface\"}], \"table\": [{\"cells\": {\"fill\": {\"color\": \"#EBF0F8\"}, \"line\": {\"color\": \"white\"}}, \"header\": {\"fill\": {\"color\": \"#C8D4E3\"}, \"line\": {\"color\": \"white\"}}, \"type\": \"table\"}]}, \"layout\": {\"annotationdefaults\": {\"arrowcolor\": \"#2a3f5f\", \"arrowhead\": 0, \"arrowwidth\": 1}, \"coloraxis\": {\"colorbar\": {\"outlinewidth\": 0, \"ticks\": \"\"}}, \"colorscale\": {\"diverging\": [[0, \"#8e0152\"], [0.1, \"#c51b7d\"], [0.2, \"#de77ae\"], [0.3, \"#f1b6da\"], [0.4, \"#fde0ef\"], [0.5, \"#f7f7f7\"], [0.6, \"#e6f5d0\"], [0.7, \"#b8e186\"], [0.8, \"#7fbc41\"], [0.9, \"#4d9221\"], [1, \"#276419\"]], \"sequential\": [[0.0, \"#0d0887\"], [0.1111111111111111, \"#46039f\"], [0.2222222222222222, \"#7201a8\"], [0.3333333333333333, \"#9c179e\"], [0.4444444444444444, \"#bd3786\"], [0.5555555555555556, \"#d8576b\"], [0.6666666666666666, \"#ed7953\"], [0.7777777777777778, \"#fb9f3a\"], [0.8888888888888888, \"#fdca26\"], [1.0, \"#f0f921\"]], \"sequentialminus\": [[0.0, \"#0d0887\"], [0.1111111111111111, \"#46039f\"], [0.2222222222222222, \"#7201a8\"], [0.3333333333333333, \"#9c179e\"], [0.4444444444444444, \"#bd3786\"], [0.5555555555555556, \"#d8576b\"], [0.6666666666666666, \"#ed7953\"], [0.7777777777777778, \"#fb9f3a\"], [0.8888888888888888, \"#fdca26\"], [1.0, \"#f0f921\"]]}, \"colorway\": [\"#636efa\", \"#EF553B\", \"#00cc96\", \"#ab63fa\", \"#FFA15A\", \"#19d3f3\", \"#FF6692\", \"#B6E880\", \"#FF97FF\", \"#FECB52\"], \"font\": {\"color\": \"#2a3f5f\"}, \"geo\": {\"bgcolor\": \"white\", \"lakecolor\": \"white\", \"landcolor\": \"#E5ECF6\", \"showlakes\": true, \"showland\": true, \"subunitcolor\": \"white\"}, \"hoverlabel\": {\"align\": \"left\"}, \"hovermode\": \"closest\", \"mapbox\": {\"style\": \"light\"}, \"paper_bgcolor\": \"white\", \"plot_bgcolor\": \"#E5ECF6\", \"polar\": {\"angularaxis\": {\"gridcolor\": \"white\", \"linecolor\": \"white\", \"ticks\": \"\"}, \"bgcolor\": \"#E5ECF6\", \"radialaxis\": {\"gridcolor\": \"white\", \"linecolor\": \"white\", \"ticks\": \"\"}}, \"scene\": {\"xaxis\": {\"backgroundcolor\": \"#E5ECF6\", \"gridcolor\": \"white\", \"gridwidth\": 2, \"linecolor\": \"white\", \"showbackground\": true, \"ticks\": \"\", \"zerolinecolor\": \"white\"}, \"yaxis\": {\"backgroundcolor\": \"#E5ECF6\", \"gridcolor\": \"white\", \"gridwidth\": 2, \"linecolor\": \"white\", \"showbackground\": true, \"ticks\": \"\", \"zerolinecolor\": \"white\"}, \"zaxis\": {\"backgroundcolor\": \"#E5ECF6\", \"gridcolor\": \"white\", \"gridwidth\": 2, \"linecolor\": \"white\", \"showbackground\": true, \"ticks\": \"\", \"zerolinecolor\": \"white\"}}, \"shapedefaults\": {\"line\": {\"color\": \"#2a3f5f\"}}, \"ternary\": {\"aaxis\": {\"gridcolor\": \"white\", \"linecolor\": \"white\", \"ticks\": \"\"}, \"baxis\": {\"gridcolor\": \"white\", \"linecolor\": \"white\", \"ticks\": \"\"}, \"bgcolor\": \"#E5ECF6\", \"caxis\": {\"gridcolor\": \"white\", \"linecolor\": \"white\", \"ticks\": \"\"}}, \"title\": {\"x\": 0.05}, \"xaxis\": {\"automargin\": true, \"gridcolor\": \"white\", \"linecolor\": \"white\", \"ticks\": \"\", \"title\": {\"standoff\": 15}, \"zerolinecolor\": \"white\", \"zerolinewidth\": 2}, \"yaxis\": {\"automargin\": true, \"gridcolor\": \"white\", \"linecolor\": \"white\", \"ticks\": \"\", \"title\": {\"standoff\": 15}, \"zerolinecolor\": \"white\", \"zerolinewidth\": 2}}}, \"title\": {\"text\": \"Distribution of LC Rating by year\"}, \"xaxis\": {\"anchor\": \"y\", \"domain\": [0.0, 1.0], \"title\": {\"text\": \"Rating\"}}, \"yaxis\": {\"anchor\": \"x\", \"domain\": [0.0, 1.0], \"tickformat\": \",.0%\", \"title\": {\"text\": \"Frequency\"}}},\n",
       "                        {\"responsive\": true}\n",
       "                    ).then(function(){\n",
       "                            \n",
       "var gd = document.getElementById('42c65f00-59a4-406f-8a03-bff905e086e2');\n",
       "var x = new MutationObserver(function (mutations, observer) {{\n",
       "        var display = window.getComputedStyle(gd).display;\n",
       "        if (!display || display === 'none') {{\n",
       "            console.log([gd, 'removed!']);\n",
       "            Plotly.purge(gd);\n",
       "            observer.disconnect();\n",
       "        }}\n",
       "}});\n",
       "\n",
       "// Listen for the removal of the full notebook cells\n",
       "var notebookContainer = gd.closest('#notebook-container');\n",
       "if (notebookContainer) {{\n",
       "    x.observe(notebookContainer, {childList: true});\n",
       "}}\n",
       "\n",
       "// Listen for the clearing of the current output cell\n",
       "var outputEl = gd.closest('.output');\n",
       "if (outputEl) {{\n",
       "    x.observe(outputEl, {childList: true});\n",
       "}}\n",
       "\n",
       "                        })\n",
       "                };\n",
       "                });\n",
       "            </script>\n",
       "        </div>"
      ]
     },
     "metadata": {},
     "output_type": "display_data"
    }
   ],
   "source": [
    "# Show distribution of ratings for different years\n",
    "rating_by_year = accept.groupby(['year', 'sub_grade'])['id'].count()  # or use sub_grade for less graularity\n",
    "rating_by_year = rating_by_year.unstack().T\n",
    "rating_by_year = rating_by_year / rating_by_year.sum()\n",
    "import plotly.express as px\n",
    "fig2 = px.line(rating_by_year)\n",
    "fig2.update_layout(title='Distribution of LC Rating by year',\n",
    "                   xaxis_title='Rating',\n",
    "                   yaxis_title='Frequency',\n",
    "                   yaxis_tickformat = ',.0%')\n",
    "fig2.show()\n",
    "# 2007 is a bit of an outlier"
   ]
  }
 ],
 "metadata": {
  "kernelspec": {
   "display_name": "Python 3",
   "language": "python",
   "name": "python3"
  },
  "language_info": {
   "codemirror_mode": {
    "name": "ipython",
    "version": 3
   },
   "file_extension": ".py",
   "mimetype": "text/x-python",
   "name": "python",
   "nbconvert_exporter": "python",
   "pygments_lexer": "ipython3",
   "version": "3.8.3"
  }
 },
 "nbformat": 4,
 "nbformat_minor": 4
}
