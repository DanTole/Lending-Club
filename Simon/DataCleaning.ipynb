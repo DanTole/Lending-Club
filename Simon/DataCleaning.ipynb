{
 "cells": [
  {
   "cell_type": "code",
   "execution_count": 84,
   "metadata": {},
   "outputs": [],
   "source": [
    "import pandas as pd\n",
    "import datetime as dt\n",
    "\n",
    "accept = pd.read_csv('../rawData/accepted_2007_to_2018Q4.csv')"
   ]
  },
  {
   "cell_type": "code",
   "execution_count": 85,
   "metadata": {},
   "outputs": [],
   "source": [
    "# Use columns from Guetta paper, plus fields mentioned by Aiko\n",
    "cols = ['id', 'loan_amnt', 'funded_amnt', 'term',\n",
    "        'int_rate', 'grade', 'sub_grade', 'emp_length', \n",
    "        'home_ownership', 'annual_inc', 'verification_status', \n",
    "        'issue_d', 'loan_status', 'purpose', 'dti', 'delinq_2yrs', \n",
    "        'earliest_cr_line', 'open_acc', 'pub_rec', 'fico_range_high', \n",
    "        'fico_range_low', 'revol_bal', 'revol_util', 'total_pymnt', \n",
    "        'recoveries', 'last_pymnt_d', 'loan_amnt']\n",
    "accept = accept[cols]"
   ]
  },
  {
   "cell_type": "code",
   "execution_count": 86,
   "metadata": {},
   "outputs": [],
   "source": [
    "# Remove subtotal rows\n",
    "def find_weird(x):\n",
    "    try:\n",
    "        _ = int(x)\n",
    "        return(True)\n",
    "    except:\n",
    "        return(False)\n",
    "\n",
    "accept = accept[accept['id'].apply(find_weird)]\n",
    "accept['id'] = accept['id'].apply(int)"
   ]
  },
  {
   "cell_type": "code",
   "execution_count": 87,
   "metadata": {},
   "outputs": [],
   "source": [
    "# Turn dates into datetime\n",
    "def make_dateval(s):\n",
    "    s = s.split('-')\n",
    "    return(dt.datetime.strptime(s[1] + s[0] + '01', '%Y%b%d'))\n",
    "\n",
    "accept['issue_d'] = accept['issue_d'].apply(make_dateval)\n",
    "accept.loc[accept['last_pymnt_d'].notna(), 'last_pymnt_d'] = \\\n",
    "    accept.loc[accept['last_pymnt_d'].notna(), 'last_pymnt_d'].apply(make_dateval)"
   ]
  },
  {
   "cell_type": "code",
   "execution_count": 88,
   "metadata": {},
   "outputs": [],
   "source": [
    "accept = accept[accept['issue_d'] >= pd.Timestamp('20090101')]"
   ]
  },
  {
   "cell_type": "code",
   "execution_count": 89,
   "metadata": {},
   "outputs": [],
   "source": [
    "# Remove loans that have not terminated yet\n",
    "accept.loc[accept['loan_status']=='Does not meet the credit policy. Status:Fully Paid', 'loan_status'] = 'Fully Paid'\n",
    "accept.loc[accept['loan_status']=='Does not meet the credit policy. Status:Charged Off', 'loan_status'] = 'Charged Off'\n",
    "accept = accept[(accept['loan_status'] == 'Fully Paid') | (accept['loan_status'] == 'Charged Off')]"
   ]
  },
  {
   "cell_type": "code",
   "execution_count": 90,
   "metadata": {},
   "outputs": [],
   "source": [
    "# Split into train and test\n",
    "accept = accept.sort_values('issue_d')\n",
    "N = accept.shape[0]\n",
    "train = accept.iloc[:int(N * .8), :]\n",
    "test = accept.iloc[int(N * .8):, :]"
   ]
  },
  {
   "cell_type": "code",
   "execution_count": 91,
   "metadata": {},
   "outputs": [],
   "source": [
    "train.to_csv('../derivedData/train.csv')"
   ]
  },
  {
   "cell_type": "code",
   "execution_count": 92,
   "metadata": {},
   "outputs": [],
   "source": [
    "test.to_csv('../derivedData/test.csv')"
   ]
  }
 ],
 "metadata": {
  "kernelspec": {
   "display_name": "Python 3",
   "language": "python",
   "name": "python3"
  },
  "language_info": {
   "codemirror_mode": {
    "name": "ipython",
    "version": 3
   },
   "file_extension": ".py",
   "mimetype": "text/x-python",
   "name": "python",
   "nbconvert_exporter": "python",
   "pygments_lexer": "ipython3",
   "version": "3.8.3"
  }
 },
 "nbformat": 4,
 "nbformat_minor": 4
}
