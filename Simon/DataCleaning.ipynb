{
 "cells": [
  {
   "cell_type": "code",
   "execution_count": 15,
   "metadata": {},
   "outputs": [],
   "source": [
    "# This notebook handles filtering, encoding and standardisation for the Lending Club dataset\n",
    "import pandas as pd\n",
    "import datetime as dt\n",
    "from numpy.random import random\n",
    "\n",
    "p = 1  \n",
    "if p < 1:\n",
    "    accept = pd.read_csv('../rawData/accepted_2007_to_2018Q4.csv', skiprows=lambda i: i>0 and random() > p)\n",
    "else:\n",
    "    accept = pd.read_csv('../rawData/accepted_2007_to_2018Q4.csv')"
   ]
  },
  {
   "cell_type": "code",
   "execution_count": 16,
   "metadata": {},
   "outputs": [],
   "source": [
    "# Use columns from Guetta paper, plus fields mentioned by Aiko\n",
    "cols = ['id', 'loan_amnt', 'funded_amnt', 'term',\n",
    "        'int_rate', 'grade', 'sub_grade', 'emp_length', \n",
    "        'home_ownership', 'annual_inc', 'verification_status', \n",
    "        'issue_d', 'loan_status', 'purpose', 'dti', 'delinq_2yrs', \n",
    "        'earliest_cr_line', 'open_acc', 'pub_rec', 'fico_range_high', \n",
    "        'fico_range_low', 'revol_bal', 'revol_util', 'total_pymnt', \n",
    "        'recoveries', 'last_pymnt_d']\n",
    "accept = accept[cols]"
   ]
  },
  {
   "cell_type": "code",
   "execution_count": 17,
   "metadata": {},
   "outputs": [],
   "source": [
    "# Remove subtotal rows\n",
    "def is_int(x):\n",
    "    try:\n",
    "        _ = int(x)\n",
    "        return(True)\n",
    "    except:\n",
    "        return(False)\n",
    "\n",
    "accept = accept[accept['id'].apply(is_int)]\n",
    "accept['id'] = accept['id'].apply(int)"
   ]
  },
  {
   "cell_type": "code",
   "execution_count": 18,
   "metadata": {},
   "outputs": [],
   "source": [
    "# Reject loans with missing last_pymnt_d\n",
    "accept = accept[accept['last_pymnt_d'].notna()]"
   ]
  },
  {
   "cell_type": "code",
   "execution_count": 19,
   "metadata": {},
   "outputs": [],
   "source": [
    "# Reject loans pre 2009\n",
    "def make_dateval(s):\n",
    "    try:\n",
    "        s = s.split('-')\n",
    "        d = dt.datetime.strptime(s[1] + s[0] + '01', '%Y%b%d')\n",
    "        return(int(d.day + d.month*100 + d.year*10000))\n",
    "    except:\n",
    "        return(20070101)\n",
    "\n",
    "accept['issue_d'] = accept['issue_d'].apply(make_dateval)\n",
    "accept = accept[accept['issue_d'] >= 20090101]\n",
    "accept['issue_d'] = accept['issue_d'].astype('uint32')"
   ]
  },
  {
   "cell_type": "code",
   "execution_count": 20,
   "metadata": {},
   "outputs": [],
   "source": [
    "# Remove loans that have not terminated yet\n",
    "accept.loc[accept['loan_status']=='Does not meet the credit policy. Status:Fully Paid', 'loan_status'] = 'Fully Paid'\n",
    "accept.loc[accept['loan_status']=='Does not meet the credit policy. Status:Charged Off', 'loan_status'] = 'Charged Off'\n",
    "accept = accept[(accept['loan_status'] == 'Fully Paid') | (accept['loan_status'] == 'Charged Off')]"
   ]
  },
  {
   "cell_type": "code",
   "execution_count": 21,
   "metadata": {},
   "outputs": [
    {
     "data": {
      "text/plain": [
       "1073721"
      ]
     },
     "execution_count": 21,
     "metadata": {},
     "output_type": "execute_result"
    }
   ],
   "source": [
    "accept.shape[0] - 269020"
   ]
  },
  {
   "cell_type": "code",
   "execution_count": 22,
   "metadata": {},
   "outputs": [],
   "source": [
    "# Turn dates into datetime\n",
    "accept['earliest_cr_line'] = accept['earliest_cr_line'].apply(make_dateval)\n",
    "accept['earliest_cr_line'] = accept['earliest_cr_line'].astype('uint32')\n",
    "\n",
    "accept['last_pymnt_d'] = accept['last_pymnt_d'].apply(make_dateval)\n",
    "accept['last_pymnt_d'] = accept['last_pymnt_d'].astype('uint32')"
   ]
  },
  {
   "cell_type": "code",
   "execution_count": 24,
   "metadata": {},
   "outputs": [],
   "source": [
    "# Encode all non numeric columns to numeric, and compress data size\n",
    "accept['id'] = accept['id'].astype('uint32')"
   ]
  },
  {
   "cell_type": "code",
   "execution_count": 25,
   "metadata": {},
   "outputs": [],
   "source": [
    "import re\n",
    "accept['term'] = accept['term'].apply(lambda x: int(re.search('\\d\\d', x).group(0)))\n",
    "accept['term'] = accept['term'].astype('uint8')"
   ]
  },
  {
   "cell_type": "code",
   "execution_count": 26,
   "metadata": {},
   "outputs": [],
   "source": [
    "# Encode grades as the median of the sub_grade range they summarize\n",
    "grades = pd.Series([i*5 + 2 for i in range(7)], index=['A', 'B', 'C', 'D', 'E', 'F', 'G'])\n",
    "accept['grade'] = accept['grade'].apply(lambda s: grades[s])\n",
    "accept['grade'] = accept['grade'].astype('uint8')"
   ]
  },
  {
   "cell_type": "code",
   "execution_count": 27,
   "metadata": {},
   "outputs": [],
   "source": [
    "sub_grades = pd.Series(range(35), index=[i+j for i in ['A', 'B', 'C', 'D', 'E', 'F', 'G'] for j in ['1', '2', '3', '4', '5']])\n",
    "accept['sub_grade'] = accept['sub_grade'].apply(lambda s: sub_grades[s])\n",
    "accept['sub_grade'] = accept['sub_grade'].astype('uint8')"
   ]
  },
  {
   "cell_type": "code",
   "execution_count": 28,
   "metadata": {},
   "outputs": [],
   "source": [
    "def emp_to_int(s):\n",
    "    try:\n",
    "        if s[0]=='<':\n",
    "            return(0)\n",
    "        else:\n",
    "            return(int(re.search('\\d+', s).group(0)))\n",
    "    except:\n",
    "        return(-1)\n",
    "\n",
    "accept['emp_length'] = accept['emp_length'].apply(emp_to_int)\n",
    "accept['emp_length'] = accept['emp_length'].astype('int8')"
   ]
  },
  {
   "cell_type": "code",
   "execution_count": 29,
   "metadata": {},
   "outputs": [],
   "source": [
    "home_dict = {'RENT': 0, 'MORTGAGE': 1, 'OWN': 2, 'ANY': 0, 'OTHER': 0, 'NONE': 0}\n",
    "accept['home_ownership'] = accept['home_ownership'].apply(lambda x: home_dict[x])\n",
    "accept['home_ownership'] = accept['home_ownership'].astype('uint8')\n",
    "# arguably this should be dummified"
   ]
  },
  {
   "cell_type": "code",
   "execution_count": 30,
   "metadata": {},
   "outputs": [],
   "source": [
    "verify_dict = {'Source Verified': 1, 'Verified': 1,'Not Verified': 0}\n",
    "accept['verification_status'] = accept['verification_status'].apply(lambda x: verify_dict[x])\n",
    "accept['verification_status'] = accept['verification_status'].astype('uint8')"
   ]
  },
  {
   "cell_type": "code",
   "execution_count": 31,
   "metadata": {},
   "outputs": [],
   "source": [
    "accept['loan_status'] = accept['loan_status'].apply(lambda x: 1 if x=='Fully Paid' else 0)\n",
    "accept['loan_status'] = accept['loan_status'].astype('uint8')"
   ]
  },
  {
   "cell_type": "code",
   "execution_count": 32,
   "metadata": {},
   "outputs": [],
   "source": [
    "# dummify 'purpose'\n",
    "dummies = pd.get_dummies(accept['purpose'], drop_first=True, prefix='purp', dtype='uint8')\n",
    "accept = accept.drop('purpose', axis=1)\n",
    "accept = pd.concat([accept, dummies], axis=1)"
   ]
  },
  {
   "cell_type": "code",
   "execution_count": 33,
   "metadata": {},
   "outputs": [],
   "source": [
    "# handle NAs in dti and revol_util\n",
    "for col in ['dti', 'revol_util']:\n",
    "    accept.loc[accept[col].isna(), col] = -1"
   ]
  },
  {
   "cell_type": "code",
   "execution_count": 34,
   "metadata": {},
   "outputs": [
    {
     "data": {
      "text/plain": [
       "id                          uint32\n",
       "loan_amnt                  float64\n",
       "funded_amnt                float64\n",
       "term                         uint8\n",
       "int_rate                   float64\n",
       "grade                        uint8\n",
       "sub_grade                    uint8\n",
       "emp_length                    int8\n",
       "home_ownership               uint8\n",
       "annual_inc                 float64\n",
       "verification_status          uint8\n",
       "issue_d                     uint32\n",
       "loan_status                  uint8\n",
       "dti                        float64\n",
       "delinq_2yrs                float64\n",
       "earliest_cr_line            uint32\n",
       "open_acc                   float64\n",
       "pub_rec                    float64\n",
       "fico_range_high            float64\n",
       "fico_range_low             float64\n",
       "revol_bal                  float64\n",
       "revol_util                 float64\n",
       "total_pymnt                float64\n",
       "recoveries                 float64\n",
       "last_pymnt_d                uint32\n",
       "purp_credit_card             uint8\n",
       "purp_debt_consolidation      uint8\n",
       "purp_educational             uint8\n",
       "purp_home_improvement        uint8\n",
       "purp_house                   uint8\n",
       "purp_major_purchase          uint8\n",
       "purp_medical                 uint8\n",
       "purp_moving                  uint8\n",
       "purp_other                   uint8\n",
       "purp_renewable_energy        uint8\n",
       "purp_small_business          uint8\n",
       "purp_vacation                uint8\n",
       "purp_wedding                 uint8\n",
       "dtype: object"
      ]
     },
     "execution_count": 34,
     "metadata": {},
     "output_type": "execute_result"
    }
   ],
   "source": [
    "accept.dtypes"
   ]
  },
  {
   "cell_type": "code",
   "execution_count": 35,
   "metadata": {},
   "outputs": [
    {
     "data": {
      "text/plain": [
       "id                         False\n",
       "loan_amnt                  False\n",
       "funded_amnt                False\n",
       "term                       False\n",
       "int_rate                   False\n",
       "grade                      False\n",
       "sub_grade                  False\n",
       "emp_length                 False\n",
       "home_ownership             False\n",
       "annual_inc                 False\n",
       "verification_status        False\n",
       "issue_d                    False\n",
       "loan_status                False\n",
       "dti                        False\n",
       "delinq_2yrs                False\n",
       "earliest_cr_line           False\n",
       "open_acc                   False\n",
       "pub_rec                    False\n",
       "fico_range_high            False\n",
       "fico_range_low             False\n",
       "revol_bal                  False\n",
       "revol_util                 False\n",
       "total_pymnt                False\n",
       "recoveries                 False\n",
       "last_pymnt_d               False\n",
       "purp_credit_card           False\n",
       "purp_debt_consolidation    False\n",
       "purp_educational           False\n",
       "purp_home_improvement      False\n",
       "purp_house                 False\n",
       "purp_major_purchase        False\n",
       "purp_medical               False\n",
       "purp_moving                False\n",
       "purp_other                 False\n",
       "purp_renewable_energy      False\n",
       "purp_small_business        False\n",
       "purp_vacation              False\n",
       "purp_wedding               False\n",
       "dtype: bool"
      ]
     },
     "execution_count": 35,
     "metadata": {},
     "output_type": "execute_result"
    }
   ],
   "source": [
    "accept.isna().any()"
   ]
  },
  {
   "cell_type": "code",
   "execution_count": 36,
   "metadata": {},
   "outputs": [],
   "source": [
    "# Split into train and test\n",
    "accept = accept.sort_values('issue_d')\n",
    "N = accept.shape[0]\n",
    "train = accept.iloc[:int(N * .8), :]\n",
    "test = accept.iloc[int(N * .8):, :]"
   ]
  },
  {
   "cell_type": "code",
   "execution_count": 37,
   "metadata": {},
   "outputs": [],
   "source": [
    "train.to_pickle('../derivedData/train.pkl')"
   ]
  },
  {
   "cell_type": "code",
   "execution_count": 38,
   "metadata": {},
   "outputs": [],
   "source": [
    "test.to_pickle('../derivedData/test.pkl')"
   ]
  }
 ],
 "metadata": {
  "kernelspec": {
   "display_name": "Python 3",
   "language": "python",
   "name": "python3"
  },
  "language_info": {
   "codemirror_mode": {
    "name": "ipython",
    "version": 3
   },
   "file_extension": ".py",
   "mimetype": "text/x-python",
   "name": "python",
   "nbconvert_exporter": "python",
   "pygments_lexer": "ipython3",
   "version": "3.8.3"
  }
 },
 "nbformat": 4,
 "nbformat_minor": 4
}
