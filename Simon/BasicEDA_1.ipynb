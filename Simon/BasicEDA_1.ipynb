{
 "cells": [
  {
   "cell_type": "code",
   "execution_count": null,
   "metadata": {},
   "outputs": [],
   "source": [
    "# This notebook handles Aiko's 'Warm Up' and first two questions.  \n",
    "# In order to keep notebook sizes manageable, subsequent questions can be found in BasicEDA_2 and 3\n",
    "import pandas as pd\n",
    "accept = pd.read_csv('../rawData/accepted_2007_to_2018Q4.csv')"
   ]
  },
  {
   "cell_type": "code",
   "execution_count": null,
   "metadata": {},
   "outputs": [],
   "source": [
    "# These columns all have mixed datatypes\n",
    "accept.columns[[0,19,49,59,118,129,130,131,134,135,136,139,145,146,147]]"
   ]
  },
  {
   "cell_type": "code",
   "execution_count": null,
   "metadata": {},
   "outputs": [],
   "source": [
    "# id is worth fixing\n",
    "def find_weird(x):\n",
    "    try:\n",
    "        _ = int(x)\n",
    "        return(True)\n",
    "    except:\n",
    "        return(False)\n",
    "\n",
    "accept = accept[accept['id'].apply(find_weird)]\n",
    "accept['id'] = accept['id'].apply(int)\n",
    "accept['id'].dtype"
   ]
  },
  {
   "cell_type": "code",
   "execution_count": null,
   "metadata": {},
   "outputs": [],
   "source": [
    "# Let's look at a couple of entries\n",
    "pd.options.display.max_rows = 155\n",
    "accept.sample(2).T"
   ]
  },
  {
   "cell_type": "code",
   "execution_count": null,
   "metadata": {},
   "outputs": [],
   "source": [
    "# What's the status with missingness?\n",
    "accept.info(verbose=True, null_counts=True)"
   ]
  },
  {
   "cell_type": "code",
   "execution_count": null,
   "metadata": {},
   "outputs": [],
   "source": [
    "# Let's look at the distribution of the target variable\n",
    "status = accept['loan_status'].value_counts()\n",
    "print(status)\n",
    "bad = status[2] + status[-2] + status[-1]\n",
    "print()\n",
    "print(f'Charged off and defaulted: {bad / sum(status):.1%} of all loans')"
   ]
  },
  {
   "cell_type": "code",
   "execution_count": null,
   "metadata": {},
   "outputs": [],
   "source": [
    "# Aiko's Question 1\n",
    "# Variation in annual issuance\n",
    "# Step 1: convert issue_d to datetime\n",
    "import datetime as dt\n",
    "def make_dateval(s):\n",
    "    s = s.split('-')\n",
    "    return(dt.datetime.strptime(s[1] + s[0] + '01', '%Y%b%d'))\n",
    "    \n",
    "accept['issue_d'] = accept['issue_d'].apply(make_dateval)"
   ]
  },
  {
   "cell_type": "code",
   "execution_count": null,
   "metadata": {},
   "outputs": [],
   "source": [
    "monthly_issue = accept.groupby('issue_d')['funded_amnt'].sum()\n",
    "import matplotlib.pyplot as plt\n",
    "monthly_issue.plot()\n",
    "# May 2016 was when the CEO was ousted\n",
    "# https://www.reuters.com/article/us-lendingclub-results/lending-club-ceo-resigns-after-internal-probe-shares-plummet-idUSKCN0Y01BK#:~:text=(Reuters%2FIFR)%20%2D%20Renaud,the%20company%20said%20on%20Monday."
   ]
  },
  {
   "cell_type": "code",
   "execution_count": null,
   "metadata": {},
   "outputs": [],
   "source": [
    "accept['purpose'].value_counts()"
   ]
  },
  {
   "cell_type": "code",
   "execution_count": null,
   "metadata": {},
   "outputs": [],
   "source": [
    "# Show distribution of ratings for different purposes\n",
    "rating_by_purpose = accept.groupby(['purpose', 'sub_grade'])['id'].count()  # or use grade for less graularity\n",
    "rating_by_purpose = rating_by_purpose.unstack().T\n",
    "rating_by_purpose = rating_by_purpose / rating_by_purpose.sum()\n",
    "import plotly.express as px\n",
    "fig1 = px.line(rating_by_purpose)\n",
    "fig1.update_layout(title='Distribution of LC Rating by Purpose',\n",
    "                   xaxis_title='Rating',\n",
    "                   yaxis_title='Frequency',\n",
    "                   yaxis_tickformat = ',.0%')\n",
    "fig1.show()\n",
    "# educational and credit cards (the biggest segment) are higher rated; \n",
    "# small business, moving and vacation are at the lower end"
   ]
  },
  {
   "cell_type": "code",
   "execution_count": null,
   "metadata": {},
   "outputs": [],
   "source": [
    "accept['year'] = accept['issue_d'].apply(lambda x: x.year)"
   ]
  },
  {
   "cell_type": "code",
   "execution_count": null,
   "metadata": {},
   "outputs": [],
   "source": [
    "# Show distribution of ratings for different years\n",
    "rating_by_year = accept.groupby(['year', 'sub_grade'])['id'].count()  # or use grade for less graularity\n",
    "rating_by_year = rating_by_year.unstack().T\n",
    "rating_by_year = rating_by_year / rating_by_year.sum()\n",
    "fig2 = px.line(rating_by_year)\n",
    "fig2.update_layout(title='Distribution of LC Rating by Year',\n",
    "                   xaxis_title='Rating',\n",
    "                   yaxis_title='Frequency',\n",
    "                   yaxis_tickformat = ',.0%')\n",
    "fig2.show()\n",
    "# 2007 is a bit of an outlier"
   ]
  },
  {
   "cell_type": "code",
   "execution_count": null,
   "metadata": {},
   "outputs": [],
   "source": [
    "# Show stacked bar with x = Year and y = counts by purpose\n",
    "year_by_purpose = accept.groupby(['year', 'purpose'])['id'].count()\n",
    "year_by_purpose = year_by_purpose.unstack()\n",
    "fig3 = px.bar(year_by_purpose)\n",
    "fig3.update_layout(title='Count of Loans by Purpose',\n",
    "                   xaxis_title='',\n",
    "                   yaxis_title='Number of loans')\n",
    "fig3.show()"
   ]
  },
  {
   "cell_type": "code",
   "execution_count": null,
   "metadata": {},
   "outputs": [],
   "source": [
    "# Show stacked bar with x = Year and y = counts by grade\n",
    "year_by_grade = accept.groupby(['year', 'grade'])['id'].count()\n",
    "year_by_grade = year_by_grade.unstack()\n",
    "fig4 = px.bar(year_by_grade)\n",
    "fig4.update_layout(title='Count of Loans by Rating',\n",
    "                   xaxis_title='',\n",
    "                   yaxis_title='Number of loans')\n",
    "fig4.show()"
   ]
  },
  {
   "cell_type": "code",
   "execution_count": null,
   "metadata": {},
   "outputs": [],
   "source": [
    "# How are loan sizes distributed?\n",
    "fig5 = px.histogram(accept['loan_amnt'], nbins=40)\n",
    "fig5.update_layout(title='Histogram of Loan Amounts',\n",
    "                   xaxis_title='Loan Amount',\n",
    "                   yaxis_title='Number of loans')\n",
    "fig5.show()"
   ]
  },
  {
   "cell_type": "code",
   "execution_count": null,
   "metadata": {},
   "outputs": [],
   "source": [
    "# Do sizes vary by purpose?\n",
    "df6 = accept.loc[:, ['purpose', 'loan_amnt']]\n",
    "df6g = df6.groupby('purpose').median()\n",
    "df6['med_loan'] = df6['purpose'].apply(lambda x:df6g.loc[x, 'loan_amnt'])\n",
    "df6 = df6.sort_values('med_loan', ascending = False)\n",
    "fig6 = px.box(df6, x='purpose', y='loan_amnt')\n",
    "fig6.update_layout(title='Distribution of Loan Amount by Purpose',\n",
    "                   xaxis_title='',\n",
    "                   yaxis_title='Loan Amount')\n",
    "fig6.show()"
   ]
  },
  {
   "cell_type": "code",
   "execution_count": null,
   "metadata": {},
   "outputs": [],
   "source": [
    "# Do sizes vary by loan grade?\n",
    "df7 = accept[['grade', 'loan_amnt']].sort_values('grade')\n",
    "fig7 = px.box(df7, x='grade', y='loan_amnt')\n",
    "fig7.update_layout(title='Distribution of Loan Amount by Rating',\n",
    "                   xaxis_title='',\n",
    "                   yaxis_title='Loan Amount')\n",
    "fig7.show()\n",
    "# Medians definitely increase as ratings get worse"
   ]
  },
  {
   "cell_type": "code",
   "execution_count": null,
   "metadata": {},
   "outputs": [],
   "source": [
    "# Are loans with higher amounts harder to pay in full?\n",
    "df8 = accept.loc[:, ['loan_amnt', 'loan_status']]\n",
    "# split loan sizes into ten bins ($0 - $4,000, $4001 - $8000 etc.)\n",
    "df8['loan_bin'] = df8['loan_amnt'].apply(lambda x: int((x-1)/4000))\n",
    "df8['fully_paid'] = 0\n",
    "df8.loc[df8['loan_status']=='Fully Paid', 'fully_paid'] = 1\n",
    "df8 = df8.groupby('loan_bin')['fully_paid'].mean()\n",
    "df8.plot()\n",
    "# It looks significant - but maybe that's due to timing?"
   ]
  },
  {
   "cell_type": "code",
   "execution_count": null,
   "metadata": {},
   "outputs": [],
   "source": [
    "# Same analysis but now also including loans that are 'Current'\n",
    "df9 = accept.loc[:, ['loan_amnt', 'loan_status']]\n",
    "# split loan sizes into ten bins ($0 - $4,000, $4001 - $8000 etc.)\n",
    "df9['loan_bin'] = df9['loan_amnt'].apply(lambda x: int((x-1)/4000))\n",
    "df9['fully_paid'] = 0\n",
    "df9.loc[df9['loan_status']=='Fully Paid', 'fully_paid'] = 1\n",
    "# Although this wasn't in the question, let's include 'Current' in the 'good' totals\n",
    "df9.loc[df9['loan_status']=='Current', 'fully_paid'] = 1\n",
    "df9 = df9.groupby('loan_bin')['fully_paid'].mean()\n",
    "df9.plot()"
   ]
  }
 ],
 "metadata": {
  "kernelspec": {
   "display_name": "Python 3",
   "language": "python",
   "name": "python3"
  },
  "language_info": {
   "codemirror_mode": {
    "name": "ipython",
    "version": 3
   },
   "file_extension": ".py",
   "mimetype": "text/x-python",
   "name": "python",
   "nbconvert_exporter": "python",
   "pygments_lexer": "ipython3",
   "version": "3.8.3"
  }
 },
 "nbformat": 4,
 "nbformat_minor": 4
}
