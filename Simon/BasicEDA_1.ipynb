{
 "cells": [
  {
   "cell_type": "code",
   "execution_count": null,
   "metadata": {},
   "outputs": [],
   "source": [
    "# This notebook handles Aiko's 3rd through 5th questions\n",
    "import pandas as pd\n",
    "accept = pd.read_csv('../rawData/accepted_2007_to_2018Q4.csv')\n",
    "\n",
    "# Remove subtotal rows\n",
    "def find_weird(x):\n",
    "    try:\n",
    "        _ = int(x)\n",
    "        return(True)\n",
    "    except:\n",
    "        return(False)\n",
    "\n",
    "accept = accept[accept['id'].apply(find_weird)]\n",
    "accept['id'] = accept['id'].apply(int)\n",
    "accept['id'].dtype"
   ]
  },
  {
   "cell_type": "code",
   "execution_count": null,
   "metadata": {},
   "outputs": [],
   "source": [
    "# Question 3\n",
    "df1 = accept.loc[:, ['int_rate', 'sub_grade', 'term']]\n",
    "df1.groupby(['sub_grade', 'term'])['int_rate'].mean().unstack()\n",
    "# This analysis uses abs rates, not spreads to trasuries.  \n",
    "# With a very flat/inverted yield curve this can be misleading\n",
    "# It appears to show little/no premium for longer lending, but spreads might\n",
    "# tell a different story"
   ]
  },
  {
   "cell_type": "code",
   "execution_count": null,
   "metadata": {},
   "outputs": [],
   "source": [
    "# Look at rates as a function of month\n",
    "import datetime as dt\n",
    "def make_dateval(s):\n",
    "    s = s.split('-')\n",
    "    return(dt.datetime.strptime(s[1] + s[0] + '01', '%Y%b%d'))\n",
    "accept['issue_d'] = accept['issue_d'].apply(make_dateval)\n",
    "accept['month'] = accept['issue_d'].apply(lambda x: x.month)"
   ]
  },
  {
   "cell_type": "code",
   "execution_count": null,
   "metadata": {},
   "outputs": [],
   "source": [
    "df2 = accept.loc[:, ['int_rate', 'grade', 'month']]\n",
    "df2 = df2.groupby(['grade', 'month'])['int_rate'].mean().unstack()\n",
    "df2.loc['Mean', :] = df2.mean()\n",
    "df2\n",
    "# September looks expensive"
   ]
  },
  {
   "cell_type": "code",
   "execution_count": null,
   "metadata": {},
   "outputs": [],
   "source": [
    "# Why loan interest rate should depend on rating\n",
    "import matplotlib as mpl\n",
    "import matplotlib.pyplot as plt\n",
    "df3 = accept.loc[:, ['sub_grade', 'loan_status']]\n",
    "df3['fully_paid'] = 0\n",
    "df3.loc[df3['loan_status']=='Fully Paid', 'fully_paid'] = 1\n",
    "df3.loc[df3['loan_status']=='Current', 'fully_paid'] = 1\n",
    "df3 = df3.groupby('sub_grade')['fully_paid'].mean()\n",
    "df3 = 1 - df3\n",
    "ax3 = df3.plot()\n",
    "ax3.set_xlabel('Sub Grade')\n",
    "ax3.set_ylabel('Non-Perf Rate')\n",
    "ax3.yaxis.set_major_formatter(mpl.ticker.StrMethodFormatter('{x:,.0%}'))\n",
    "ax3.set_title('Default Rate by Rating Grade')\n",
    "plt.show()\n",
    "# Default rates increase strikingly linearly with rating, so of course you need to charge for that\n",
    "# Re time series dependence, this is because the base ref changes (e.g. 3 or 5 year treasury yields)\n",
    "# Re loan term: yes of course.  The borrower can prepay any time but the investor can't call early\n",
    "# Thus the investor is taking credit risk for a longer period (which means it has more chance to deteriorate)\n",
    "# and the investor is also giving the borrower a longer option on prepayment"
   ]
  },
  {
   "cell_type": "code",
   "execution_count": null,
   "metadata": {},
   "outputs": [],
   "source": [
    "# Question 4\n",
    "# Most of the first section is covered by what I wrote above\n",
    "# What happens to percentage rates of loans involving settlement?\n",
    "s4 = accept['settlement_status'].value_counts()\n",
    "s4 = s4 / sum(s4)\n",
    "print(s4)"
   ]
  },
  {
   "cell_type": "code",
   "execution_count": null,
   "metadata": {},
   "outputs": [],
   "source": [
    "df5 = accept[['settlement_percentage']].loc[accept['settlement_percentage'].notna(), :]\n",
    "df5['sett_bin'] = df5['settlement_percentage'].apply(lambda x: 5 * int((x-.01)/5))\n",
    "df5 = df5.groupby('sett_bin')['settlement_percentage'].count()\n",
    "df5 = df5[:-3]\n",
    "ax5 = df5.plot(kind='bar')\n",
    "ax5.set_xlabel('Settle Percent')\n",
    "ax5.set_ylabel('Count')\n",
    "ax5.set_title('Distribution of Settlement Percentages')\n",
    "ax5.yaxis.set_major_formatter(mpl.ticker.StrMethodFormatter('{x:,.0f}'))"
   ]
  },
  {
   "cell_type": "code",
   "execution_count": null,
   "metadata": {},
   "outputs": [],
   "source": [
    "# How does loan term impact default rates?\n",
    "df6 = accept.loc[:, ['loan_status', 'sub_grade', 'term']]\n",
    "df6['fully_paid'] = 0\n",
    "df6.loc[df6['loan_status']=='Fully Paid', 'fully_paid'] = 1\n",
    "df6.loc[df6['loan_status']=='Current', 'fully_paid'] = 1\n",
    "df6 = df6.groupby(['sub_grade', 'term'])['fully_paid'].mean().unstack()\n",
    "df6 = 1 - df6\n",
    "ax6 = df6.plot()\n",
    "ax6.set_xlabel('')\n",
    "ax6.set_ylabel('Default Rate')\n",
    "ax6.set_title('Default by Grade and Term')\n",
    "ax6.yaxis.set_major_formatter(mpl.ticker.StrMethodFormatter('{x:.0%}'))\n",
    "# Not too much difference really"
   ]
  },
  {
   "cell_type": "code",
   "execution_count": null,
   "metadata": {},
   "outputs": [],
   "source": [
    "# last_payment_date - issuance_date\n",
    "df7 = accept.loc[(accept['loan_status']!='Current') & accept['last_pymnt_d'].notna(),\n",
    "                 ['last_pymnt_d', 'issue_d', 'loan_status', 'grade', 'sub_grade', 'term', \n",
    "                 'total_pymnt', 'loan_amnt']].copy() # These last two are needed for a later question\n",
    "# issue_d\n",
    "df7['last_pymnt_d'] = df7['last_pymnt_d'].apply(make_dateval)"
   ]
  },
  {
   "cell_type": "code",
   "execution_count": null,
   "metadata": {},
   "outputs": [],
   "source": [
    "df7['mths_to_term'] = (df7['last_pymnt_d'] - df7['issue_d']).apply(lambda t:t.days * 12/365)\n",
    "df7['fully_paid'] = 0\n",
    "df7.loc[df7['loan_status']=='Fully Paid', 'fully_paid'] = 1\n",
    "df7_3 = df7.loc[df7['term']==' 36 months']\n",
    "df7_5 = df7.loc[df7['term']==' 60 months']"
   ]
  },
  {
   "cell_type": "code",
   "execution_count": null,
   "metadata": {},
   "outputs": [],
   "source": [
    "df7_3 = df7_3.groupby(['sub_grade', 'fully_paid'])['mths_to_term'].mean().unstack()\n",
    "df7_5 = df7_5.groupby(['sub_grade', 'fully_paid'])['mths_to_term'].mean().unstack()"
   ]
  },
  {
   "cell_type": "code",
   "execution_count": null,
   "metadata": {},
   "outputs": [],
   "source": [
    "df7_3.columns = ['Default', 'Prepay']\n",
    "ax7 = df7_3.plot()\n",
    "ax7.set_xlabel('')\n",
    "ax7.set_ylabel('Months')\n",
    "ax7.set_title('Average Loan Life for 3 Year Loans')\n",
    "ax7.yaxis.set_major_formatter(mpl.ticker.StrMethodFormatter('{x:.1f}'))"
   ]
  },
  {
   "cell_type": "code",
   "execution_count": null,
   "metadata": {},
   "outputs": [],
   "source": [
    "df7_5.columns = ['Default', 'Prepay']\n",
    "ax8 = df7_5.plot()\n",
    "ax8.set_xlabel('')\n",
    "ax8.set_ylabel('Months')\n",
    "ax8.set_title('Average Loan Life for 5 Year Loans')\n",
    "ax8.yaxis.set_major_formatter(mpl.ticker.StrMethodFormatter('{x:.1f}'))\n",
    "# 3 year loans default faster than 5 year.  This is because the monthly payments are larger"
   ]
  },
  {
   "cell_type": "code",
   "execution_count": null,
   "metadata": {},
   "outputs": [],
   "source": [
    "df8 = df7.loc[(df7['term']==' 60 months') & (df7['mths_to_term']<=60) ].copy()\n",
    "df8['life_bin'] = df8['mths_to_term'].apply(lambda x: 3 * int((x - 0.1)/3))\n",
    "df8 = df8.groupby(['life_bin', 'fully_paid'])['mths_to_term'].count().unstack()\n",
    "df8.columns = ['Default', 'Prepay']\n",
    "ax9 = df8.plot(kind='bar')\n",
    "ax9.set_xlabel('Bin Start (Months)')\n",
    "ax9.set_ylabel('Count')\n",
    "ax9.set_title('Distribution of Life for 5-year Loans')\n",
    "ax9.yaxis.set_major_formatter(mpl.ticker.StrMethodFormatter('{x:,.0f}'))\n",
    "# Very few make it to full term.  The interest rates are high so prepayment\n",
    "# (or default!) makes sense early."
   ]
  },
  {
   "cell_type": "code",
   "execution_count": null,
   "metadata": {},
   "outputs": [],
   "source": [
    "accept['loan_status'].value_counts()"
   ]
  },
  {
   "cell_type": "code",
   "execution_count": null,
   "metadata": {},
   "outputs": [],
   "source": [
    "df9 = accept.loc[accept['loan_status']=='Fully Paid', ['total_pymnt', 'loan_amnt', 'sub_grade']].copy()\n",
    "df9['prof_ret'] = (df9['total_pymnt'] - df9['loan_amnt']) / df9['loan_amnt']\n",
    "print('Return on all fully paid loans: {0:.1%}'.format(df9['prof_ret'].mean()))\n",
    "df9 = df9.groupby('sub_grade')['prof_ret'].mean()\n",
    "ax10 = df9.plot()\n",
    "ax10.set_xlabel('')\n",
    "ax10.set_ylabel('Lendor Return')\n",
    "ax10.set_title('Returns on Fully Paid Loans by Rating')\n",
    "ax10.yaxis.set_major_formatter(mpl.ticker.StrMethodFormatter('{x:.0%}'))"
   ]
  },
  {
   "cell_type": "code",
   "execution_count": null,
   "metadata": {},
   "outputs": [],
   "source": [
    "df10 = accept.loc[accept['loan_status']=='Charged Off', ['total_pymnt', 'loan_amnt', 'sub_grade']].copy()\n",
    "df10['prof_ret'] = (df10['total_pymnt'] - df10['loan_amnt']) / df10['loan_amnt']\n",
    "print('Return on all charged off loans: {0:.1%}'.format(df10['prof_ret'].mean()))\n",
    "df10 = df10.groupby('sub_grade')['prof_ret'].mean()\n",
    "ax11 = df10.plot()\n",
    "ax11.set_xlabel('')\n",
    "ax11.set_ylabel('Lendor Return')\n",
    "ax11.set_title('Returns on Defaulted Loans by Rating')\n",
    "ax11.yaxis.set_major_formatter(mpl.ticker.StrMethodFormatter('{x:.0%}'))\n",
    "# Interesting - the higher interest rate on the junk loans gets offset by the earlier default"
   ]
  },
  {
   "cell_type": "code",
   "execution_count": null,
   "metadata": {},
   "outputs": [],
   "source": [
    "df11 = accept.loc[accept['debt_settlement_flag']=='Y', ['total_pymnt', 'loan_amnt', 'sub_grade']].copy()\n",
    "df11['prof_ret'] = (df11['total_pymnt'] - df11['loan_amnt']) / df11['loan_amnt']\n",
    "print('Return on all settled loans: {0:.1%}'.format(df11['prof_ret'].mean()))"
   ]
  },
  {
   "cell_type": "code",
   "execution_count": null,
   "metadata": {},
   "outputs": [],
   "source": [
    "df7['prof_ret'] = (df7['total_pymnt'] - df7['loan_amnt']) / df7['loan_amnt']\n",
    "df12 = df7[df7['loan_status']=='Fully Paid'].groupby('mths_to_term')['prof_ret'].mean()\n",
    "ax12 = df12.plot()\n",
    "ax12.set_xlabel('Months Survived')\n",
    "ax12.set_ylabel('Lendor Return')\n",
    "ax12.set_title('Returns on Fully-Paid Loans by Survival Time')\n",
    "ax12.yaxis.set_major_formatter(mpl.ticker.StrMethodFormatter('{x:.0%}'))"
   ]
  },
  {
   "cell_type": "code",
   "execution_count": null,
   "metadata": {},
   "outputs": [],
   "source": [
    "df13 = df7[df7['loan_status']=='Charged Off'].groupby('mths_to_term')['prof_ret'].mean()\n",
    "ax13 = df13.plot()\n",
    "ax13.axhline(y=0, linestyle='--')\n",
    "ax13.set_xlabel('Months Survived')\n",
    "ax13.set_ylabel('Lendor Return')\n",
    "ax13.set_title('Returns on Charged-Off Loans by Survival Time')\n",
    "ax13.yaxis.set_major_formatter(mpl.ticker.StrMethodFormatter('{x:.0%}'))\n",
    "# So you need to make it to 32 months to break even"
   ]
  },
  {
   "cell_type": "code",
   "execution_count": null,
   "metadata": {},
   "outputs": [],
   "source": [
    "# Question 5: Survival Analysis\n",
    "df14 = df7.loc[(df7['term']==' 36 months') & (df7['fully_paid']==1)].copy()\n",
    "df14['life_bin'] = df14['mths_to_term'].apply(lambda x: 3 * int((x - 0.1)/3))\n",
    "df14 = df14.groupby(['life_bin', 'grade'])['mths_to_term'].count().unstack()\n",
    "df14 = (df14.sum() - df14.cumsum()) / df14.sum()\n",
    "ax14 = df14.loc[:36].plot()\n",
    "ax14.set_xlabel('Months Survived')\n",
    "ax14.set_ylabel('Survival Probability')\n",
    "ax14.set_title('Survival Plot for Non-Defaulting 3-year Loans')\n",
    "ax14.yaxis.set_major_formatter(mpl.ticker.StrMethodFormatter('{x:.0%}'))"
   ]
  },
  {
   "cell_type": "code",
   "execution_count": null,
   "metadata": {},
   "outputs": [],
   "source": [
    "df15 = df7.loc[(df7['term']==' 36 months') & (df7['fully_paid']==0)].copy()\n",
    "df15['life_bin'] = df15['mths_to_term'].apply(lambda x: 3 * int((x - 0.1)/3))\n",
    "df15 = df15.groupby(['life_bin', 'grade'])['mths_to_term'].count().unstack()\n",
    "df15 = (df15.sum() - df15.cumsum()) / df15.sum()\n",
    "ax15 = df15.loc[:36].plot()\n",
    "ax15.set_xlabel('Months Survived')\n",
    "ax15.set_ylabel('Survival Probability')\n",
    "ax15.set_title('Survival Plot for Defaulting 3-year Loans')\n",
    "ax15.yaxis.set_major_formatter(mpl.ticker.StrMethodFormatter('{x:.0%}'))\n",
    "# Defaults happen faster than repayments"
   ]
  },
  {
   "cell_type": "code",
   "execution_count": null,
   "metadata": {},
   "outputs": [],
   "source": [
    "df16 = df7.loc[df7['term']==' 36 months'].copy()\n",
    "df16['life_bin'] = df16['mths_to_term'].apply(lambda x: 3 * int((x - 0.1)/3))\n",
    "df16 = df16.groupby(['life_bin', 'grade'])['mths_to_term'].count().unstack()\n",
    "df16 = (df16.sum() - df16.cumsum()) / df16.sum()\n",
    "ax16 = df16.loc[:36].plot()\n",
    "ax16.set_xlabel('Months Survived')\n",
    "ax16.set_ylabel('Survival Probability')\n",
    "ax16.set_title('Survival Plot for All 3-year Loans')\n",
    "ax16.yaxis.set_major_formatter(mpl.ticker.StrMethodFormatter('{x:.0%}'))\n",
    "# A is linear (driven by prepayment), G is convex due to defaults"
   ]
  }
 ],
 "metadata": {
  "kernelspec": {
   "display_name": "Python 3",
   "language": "python",
   "name": "python3"
  },
  "language_info": {
   "codemirror_mode": {
    "name": "ipython",
    "version": 3
   },
   "file_extension": ".py",
   "mimetype": "text/x-python",
   "name": "python",
   "nbconvert_exporter": "python",
   "pygments_lexer": "ipython3",
   "version": "3.8.3"
  }
 },
 "nbformat": 4,
 "nbformat_minor": 4
}
